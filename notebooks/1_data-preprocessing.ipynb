{
 "cells": [
  {
   "cell_type": "markdown",
   "metadata": {},
   "source": [
    "# data-preprocessing\n",
    "\n",
    "Preprocessing procedures for raw data. Can be ran as is, with no supervision.\n",
    "\n",
    "Requires:\n",
    "1. `data/raw/spb_osm.json.zip`\n",
    "2. `data/raw/spb_routes.csv`\n",
    "\n",
    "Produces:\n",
    "1. `data/infrastructure.json`\n",
    "2. `data/stops.json`\n",
    "3. `data/routes.json`"
   ]
  },
  {
   "cell_type": "code",
   "execution_count": 1,
   "metadata": {},
   "outputs": [],
   "source": [
    "import sys\n",
    "sys.path.append('..')"
   ]
  },
  {
   "cell_type": "code",
   "execution_count": 2,
   "metadata": {},
   "outputs": [],
   "source": [
    "import json\n",
    "from itertools import chain\n",
    "from typing import Tuple, List, Optional, Set\n",
    "from zipfile import ZipFile\n",
    "\n",
    "import numpy as np\n",
    "import pandas as pd\n",
    "import networkx as nx\n",
    "from tqdm.notebook import tqdm\n",
    "from matplotlib import pyplot as plt\n",
    "from matplotlib_venn import venn2\n",
    "\n",
    "from myutils.spatial import get_earth_distances\n",
    "from myutils.json import save_json\n",
    "\n",
    "from config import raw_osm_data_fpath, raw_routes_data_fpath, \\\n",
    "    infrastructure_fpath, stops_fpath, routes_fpath\n",
    "from ptn.preprocessing.osm import assign_infrastructure_types"
   ]
  },
  {
   "cell_type": "markdown",
   "metadata": {},
   "source": [
    "## OSM"
   ]
  },
  {
   "cell_type": "code",
   "execution_count": 3,
   "metadata": {},
   "outputs": [
    {
     "data": {
      "text/html": [
       "<div>\n",
       "<style scoped>\n",
       "    .dataframe tbody tr th:only-of-type {\n",
       "        vertical-align: middle;\n",
       "    }\n",
       "\n",
       "    .dataframe tbody tr th {\n",
       "        vertical-align: top;\n",
       "    }\n",
       "\n",
       "    .dataframe thead th {\n",
       "        text-align: right;\n",
       "    }\n",
       "</style>\n",
       "<table border=\"1\" class=\"dataframe\">\n",
       "  <thead>\n",
       "    <tr style=\"text-align: right;\">\n",
       "      <th></th>\n",
       "      <th>type</th>\n",
       "      <th>id</th>\n",
       "      <th>lat</th>\n",
       "      <th>lon</th>\n",
       "      <th>tags</th>\n",
       "      <th>nodes</th>\n",
       "      <th>members</th>\n",
       "    </tr>\n",
       "  </thead>\n",
       "  <tbody>\n",
       "    <tr>\n",
       "      <th>0</th>\n",
       "      <td>node</td>\n",
       "      <td>2</td>\n",
       "      <td>59.771793</td>\n",
       "      <td>30.326111</td>\n",
       "      <td>{'historic': 'memorial', 'image': 'https://upl...</td>\n",
       "      <td>NaN</td>\n",
       "      <td>NaN</td>\n",
       "    </tr>\n",
       "    <tr>\n",
       "      <th>1</th>\n",
       "      <td>node</td>\n",
       "      <td>219779</td>\n",
       "      <td>59.842673</td>\n",
       "      <td>30.320486</td>\n",
       "      <td>NaN</td>\n",
       "      <td>NaN</td>\n",
       "      <td>NaN</td>\n",
       "    </tr>\n",
       "  </tbody>\n",
       "</table>\n",
       "</div>"
      ],
      "text/plain": [
       "   type      id        lat        lon  \\\n",
       "0  node       2  59.771793  30.326111   \n",
       "1  node  219779  59.842673  30.320486   \n",
       "\n",
       "                                                tags nodes members  \n",
       "0  {'historic': 'memorial', 'image': 'https://upl...   NaN     NaN  \n",
       "1                                                NaN   NaN     NaN  "
      ]
     },
     "execution_count": 3,
     "metadata": {},
     "output_type": "execute_result"
    }
   ],
   "source": [
    "with ZipFile(raw_osm_data_fpath) as zipfile:\n",
    "    namelist = zipfile.namelist()\n",
    "    assert len(namelist) == 1\n",
    "    \n",
    "    with zipfile.open(namelist[0]) as file:\n",
    "        spb_osm = pd.DataFrame(json.load(file)['elements'])\n",
    "        \n",
    "spb_osm.head(2)"
   ]
  },
  {
   "cell_type": "code",
   "execution_count": 4,
   "metadata": {},
   "outputs": [
    {
     "data": {
      "text/plain": [
       "node        3156034\n",
       "way          558869\n",
       "relation      26820\n",
       "Name: type, dtype: int64"
      ]
     },
     "execution_count": 4,
     "metadata": {},
     "output_type": "execute_result"
    }
   ],
   "source": [
    "spb_osm['type'].value_counts()"
   ]
  },
  {
   "cell_type": "code",
   "execution_count": 5,
   "metadata": {},
   "outputs": [
    {
     "data": {
      "text/html": [
       "<div>\n",
       "<style scoped>\n",
       "    .dataframe tbody tr th:only-of-type {\n",
       "        vertical-align: middle;\n",
       "    }\n",
       "\n",
       "    .dataframe tbody tr th {\n",
       "        vertical-align: top;\n",
       "    }\n",
       "\n",
       "    .dataframe thead th {\n",
       "        text-align: right;\n",
       "    }\n",
       "</style>\n",
       "<table border=\"1\" class=\"dataframe\">\n",
       "  <thead>\n",
       "    <tr style=\"text-align: right;\">\n",
       "      <th></th>\n",
       "      <th>lat</th>\n",
       "      <th>lon</th>\n",
       "    </tr>\n",
       "    <tr>\n",
       "      <th>id</th>\n",
       "      <th></th>\n",
       "      <th></th>\n",
       "    </tr>\n",
       "  </thead>\n",
       "  <tbody>\n",
       "    <tr>\n",
       "      <th>2</th>\n",
       "      <td>59.771793</td>\n",
       "      <td>30.326111</td>\n",
       "    </tr>\n",
       "    <tr>\n",
       "      <th>219779</th>\n",
       "      <td>59.842673</td>\n",
       "      <td>30.320486</td>\n",
       "    </tr>\n",
       "  </tbody>\n",
       "</table>\n",
       "</div>"
      ],
      "text/plain": [
       "              lat        lon\n",
       "id                          \n",
       "2       59.771793  30.326111\n",
       "219779  59.842673  30.320486"
      ]
     },
     "execution_count": 5,
     "metadata": {},
     "output_type": "execute_result"
    }
   ],
   "source": [
    "node_coords = spb_osm.loc[spb_osm['type'] == 'node', ['id', 'lat', 'lon']].set_index('id')\n",
    "\n",
    "assert node_coords.notna().all().all()\n",
    "\n",
    "node_coords.head(2)"
   ]
  },
  {
   "cell_type": "code",
   "execution_count": 6,
   "metadata": {},
   "outputs": [],
   "source": [
    "def get_name(tags: dict) -> str:\n",
    "    if not isinstance(tags, dict):\n",
    "        return\n",
    "    \n",
    "    name = tags.get('official_name', tags.get('name:ru', tags.get('name')))\n",
    "    \n",
    "    return name"
   ]
  },
  {
   "cell_type": "markdown",
   "metadata": {},
   "source": [
    "### Infrastructure objects"
   ]
  },
  {
   "cell_type": "code",
   "execution_count": 7,
   "metadata": {},
   "outputs": [
    {
     "data": {
      "text/plain": [
       "0    3686308\n",
       "1      53839\n",
       "2       1564\n",
       "3         11\n",
       "4          1\n",
       "Name: n_infrastructure_types, dtype: int64"
      ]
     },
     "execution_count": 7,
     "metadata": {},
     "output_type": "execute_result"
    }
   ],
   "source": [
    "mask = spb_osm['tags'].notna()\n",
    "\n",
    "spb_osm.loc[mask, 'infrastructure_types'] = spb_osm.loc[mask, 'tags'].apply(\n",
    "    assign_infrastructure_types)\n",
    "\n",
    "spb_osm['n_infrastructure_types'] = spb_osm['infrastructure_types'].apply(\n",
    "    lambda l: len(l) if isinstance(l, list) else 0)\n",
    "\n",
    "spb_osm['n_infrastructure_types'].value_counts()"
   ]
  },
  {
   "cell_type": "code",
   "execution_count": 8,
   "metadata": {},
   "outputs": [
    {
     "data": {
      "text/html": [
       "<div>\n",
       "<style scoped>\n",
       "    .dataframe tbody tr th:only-of-type {\n",
       "        vertical-align: middle;\n",
       "    }\n",
       "\n",
       "    .dataframe tbody tr th {\n",
       "        vertical-align: top;\n",
       "    }\n",
       "\n",
       "    .dataframe thead th {\n",
       "        text-align: right;\n",
       "    }\n",
       "</style>\n",
       "<table border=\"1\" class=\"dataframe\">\n",
       "  <thead>\n",
       "    <tr style=\"text-align: right;\">\n",
       "      <th></th>\n",
       "      <th>type</th>\n",
       "      <th>id</th>\n",
       "      <th>lat</th>\n",
       "      <th>lon</th>\n",
       "      <th>tags</th>\n",
       "      <th>nodes</th>\n",
       "      <th>members</th>\n",
       "      <th>infrastructure_types</th>\n",
       "      <th>n_infrastructure_types</th>\n",
       "    </tr>\n",
       "  </thead>\n",
       "  <tbody>\n",
       "    <tr>\n",
       "      <th>0</th>\n",
       "      <td>node</td>\n",
       "      <td>2</td>\n",
       "      <td>59.771793</td>\n",
       "      <td>30.326111</td>\n",
       "      <td>{'historic': 'memorial', 'image': 'https://upl...</td>\n",
       "      <td>NaN</td>\n",
       "      <td>NaN</td>\n",
       "      <td>[sight_place_tourism]</td>\n",
       "      <td>1</td>\n",
       "    </tr>\n",
       "    <tr>\n",
       "      <th>492</th>\n",
       "      <td>node</td>\n",
       "      <td>238809</td>\n",
       "      <td>60.189495</td>\n",
       "      <td>29.700196</td>\n",
       "      <td>{'int_name': 'Shoes unknown summer resident (2...</td>\n",
       "      <td>NaN</td>\n",
       "      <td>NaN</td>\n",
       "      <td>[sight_place_tourism]</td>\n",
       "      <td>1</td>\n",
       "    </tr>\n",
       "  </tbody>\n",
       "</table>\n",
       "</div>"
      ],
      "text/plain": [
       "     type      id        lat        lon  \\\n",
       "0    node       2  59.771793  30.326111   \n",
       "492  node  238809  60.189495  29.700196   \n",
       "\n",
       "                                                  tags nodes members  \\\n",
       "0    {'historic': 'memorial', 'image': 'https://upl...   NaN     NaN   \n",
       "492  {'int_name': 'Shoes unknown summer resident (2...   NaN     NaN   \n",
       "\n",
       "      infrastructure_types  n_infrastructure_types  \n",
       "0    [sight_place_tourism]                       1  \n",
       "492  [sight_place_tourism]                       1  "
      ]
     },
     "execution_count": 8,
     "metadata": {},
     "output_type": "execute_result"
    }
   ],
   "source": [
    "mask = (spb_osm['n_infrastructure_types'] > 0)\\\n",
    "    & (spb_osm['type'] != 'relation')\n",
    "\n",
    "infrastructure = spb_osm[mask].copy()\n",
    "\n",
    "infrastructure.head(2)"
   ]
  },
  {
   "cell_type": "code",
   "execution_count": 9,
   "metadata": {},
   "outputs": [
    {
     "data": {
      "text/html": [
       "<div>\n",
       "<style scoped>\n",
       "    .dataframe tbody tr th:only-of-type {\n",
       "        vertical-align: middle;\n",
       "    }\n",
       "\n",
       "    .dataframe tbody tr th {\n",
       "        vertical-align: top;\n",
       "    }\n",
       "\n",
       "    .dataframe thead th {\n",
       "        text-align: right;\n",
       "    }\n",
       "</style>\n",
       "<table border=\"1\" class=\"dataframe\">\n",
       "  <thead>\n",
       "    <tr style=\"text-align: right;\">\n",
       "      <th></th>\n",
       "      <th>type</th>\n",
       "      <th>id</th>\n",
       "      <th>lat</th>\n",
       "      <th>lon</th>\n",
       "      <th>tags</th>\n",
       "      <th>nodes</th>\n",
       "      <th>members</th>\n",
       "      <th>infrastructure_types</th>\n",
       "      <th>n_infrastructure_types</th>\n",
       "      <th>name</th>\n",
       "    </tr>\n",
       "  </thead>\n",
       "  <tbody>\n",
       "    <tr>\n",
       "      <th>0</th>\n",
       "      <td>node</td>\n",
       "      <td>2</td>\n",
       "      <td>59.771793</td>\n",
       "      <td>30.326111</td>\n",
       "      <td>{'historic': 'memorial', 'image': 'https://upl...</td>\n",
       "      <td>NaN</td>\n",
       "      <td>NaN</td>\n",
       "      <td>[sight_place_tourism]</td>\n",
       "      <td>1</td>\n",
       "      <td>Центр Круглого Зала (ЦКЗ)</td>\n",
       "    </tr>\n",
       "    <tr>\n",
       "      <th>492</th>\n",
       "      <td>node</td>\n",
       "      <td>238809</td>\n",
       "      <td>60.189495</td>\n",
       "      <td>29.700196</td>\n",
       "      <td>{'int_name': 'Shoes unknown summer resident (2...</td>\n",
       "      <td>NaN</td>\n",
       "      <td>NaN</td>\n",
       "      <td>[sight_place_tourism]</td>\n",
       "      <td>1</td>\n",
       "      <td>Башмаки неизвестного дачника (2009)</td>\n",
       "    </tr>\n",
       "  </tbody>\n",
       "</table>\n",
       "</div>"
      ],
      "text/plain": [
       "     type      id        lat        lon  \\\n",
       "0    node       2  59.771793  30.326111   \n",
       "492  node  238809  60.189495  29.700196   \n",
       "\n",
       "                                                  tags nodes members  \\\n",
       "0    {'historic': 'memorial', 'image': 'https://upl...   NaN     NaN   \n",
       "492  {'int_name': 'Shoes unknown summer resident (2...   NaN     NaN   \n",
       "\n",
       "      infrastructure_types  n_infrastructure_types  \\\n",
       "0    [sight_place_tourism]                       1   \n",
       "492  [sight_place_tourism]                       1   \n",
       "\n",
       "                                    name  \n",
       "0              Центр Круглого Зала (ЦКЗ)  \n",
       "492  Башмаки неизвестного дачника (2009)  "
      ]
     },
     "execution_count": 9,
     "metadata": {},
     "output_type": "execute_result"
    }
   ],
   "source": [
    "infrastructure['name'] = infrastructure['tags'].apply(get_name)\n",
    "\n",
    "infrastructure.head(2)"
   ]
  },
  {
   "cell_type": "code",
   "execution_count": 10,
   "metadata": {},
   "outputs": [
    {
     "data": {
      "application/vnd.jupyter.widget-view+json": {
       "model_id": "16b0984dac3c47cb8850e6cbed4bf409",
       "version_major": 2,
       "version_minor": 0
      },
      "text/plain": [
       "HBox(children=(HTML(value=''), FloatProgress(value=0.0, max=12612.0), HTML(value='')))"
      ]
     },
     "metadata": {},
     "output_type": "display_data"
    },
    {
     "name": "stdout",
     "output_type": "stream",
     "text": [
      "\n"
     ]
    }
   ],
   "source": [
    "node_ids = set(node_coords.index.tolist())\n",
    "\n",
    "mask = infrastructure['nodes'].notna()\n",
    "n_items = mask.sum()\n",
    "\n",
    "for i, row in tqdm(infrastructure[mask].iterrows(), total=n_items):\n",
    "    nodes = list(set(row['nodes']).intersection(node_ids))\n",
    "    coords = node_coords.loc[nodes].values\n",
    "    \n",
    "    distances = get_earth_distances(coords, coords)\n",
    "    diameter = distances.max()\n",
    "    \n",
    "    lat, lon = coords.mean(axis=0)\n",
    "    \n",
    "    infrastructure.loc[i, 'lat'] = lat\n",
    "    infrastructure.loc[i, 'lon'] = lon\n",
    "    infrastructure.loc[i, 'diameter'] = diameter"
   ]
  },
  {
   "cell_type": "code",
   "execution_count": 11,
   "metadata": {},
   "outputs": [
    {
     "data": {
      "image/png": "[encoded data removed]",
      "text/plain": [
       "<Figure size 432x288 with 1 Axes>"
      ]
     },
     "metadata": {
      "needs_background": "light"
     },
     "output_type": "display_data"
    }
   ],
   "source": [
    "plt.hist(infrastructure['diameter'], bins=100)\n",
    "\n",
    "plt.yscale('log');"
   ]
  },
  {
   "cell_type": "code",
   "execution_count": 12,
   "metadata": {},
   "outputs": [
    {
     "data": {
      "text/plain": [
       "0.016843888209278252"
      ]
     },
     "execution_count": 12,
     "metadata": {},
     "output_type": "execute_result"
    }
   ],
   "source": [
    "(infrastructure['diameter'] > 0.25).mean()"
   ]
  },
  {
   "cell_type": "code",
   "execution_count": 13,
   "metadata": {},
   "outputs": [
    {
     "data": {
      "text/plain": [
       "{'contact:website': 'http://www.seaport.spb.ru/about/structure/13/',\n",
       " 'industrial': 'port',\n",
       " 'landuse': 'industrial',\n",
       " 'name': 'Первая стивидорная компания',\n",
       " 'official_name': 'ОАО \"Морской порт Санкт-Петербург\"',\n",
       " 'port': 'cargo'}"
      ]
     },
     "execution_count": 13,
     "metadata": {},
     "output_type": "execute_result"
    }
   ],
   "source": [
    "infrastructure.sort_values(by='diameter', ascending=False).iloc[0]['tags']"
   ]
  },
  {
   "cell_type": "code",
   "execution_count": 14,
   "metadata": {},
   "outputs": [],
   "source": [
    "assert infrastructure[['lat', 'lon']].notna().all().all()\n",
    "assert infrastructure['id'].nunique() == infrastructure.shape[0]"
   ]
  },
  {
   "cell_type": "code",
   "execution_count": 15,
   "metadata": {},
   "outputs": [
    {
     "data": {
      "image/png": "[encoded data removed]",
      "text/plain": [
       "<Figure size 360x360 with 1 Axes>"
      ]
     },
     "metadata": {
      "needs_background": "light"
     },
     "output_type": "display_data"
    }
   ],
   "source": [
    "infrastructure_types = pd.Series(chain.from_iterable(infrastructure['infrastructure_types']))\n",
    "infrastructure_type_counts = infrastructure_types.value_counts().sort_values()\n",
    "\n",
    "plt.figure(figsize=(5, 5))\n",
    "\n",
    "plt.barh(\n",
    "    infrastructure_type_counts.index,\n",
    "    infrastructure_type_counts.values,\n",
    "    zorder=5,\n",
    ")\n",
    "\n",
    "plt.grid(axis='x', ls='dotted')"
   ]
  },
  {
   "cell_type": "code",
   "execution_count": 16,
   "metadata": {},
   "outputs": [
    {
     "data": {
      "text/plain": [
       "53135"
      ]
     },
     "execution_count": 16,
     "metadata": {},
     "output_type": "execute_result"
    }
   ],
   "source": [
    "infrastructure_json = infrastructure\\\n",
    "    .drop(columns=['type', 'tags', 'nodes', 'members', 'n_infrastructure_types', 'diameter'])\\\n",
    "    .rename(columns={'infrastructure_types': 'types'})\n",
    "\n",
    "infrastructure_json = [row.to_dict() for _, row in infrastructure_json.iterrows()]\n",
    "\n",
    "len(infrastructure_json)"
   ]
  },
  {
   "cell_type": "code",
   "execution_count": 17,
   "metadata": {},
   "outputs": [],
   "source": [
    "save_json(infrastructure_json, infrastructure_fpath)"
   ]
  },
  {
   "cell_type": "markdown",
   "metadata": {},
   "source": [
    "### Subway stations"
   ]
  },
  {
   "cell_type": "code",
   "execution_count": 18,
   "metadata": {},
   "outputs": [
    {
     "data": {
      "text/html": [
       "<div>\n",
       "<style scoped>\n",
       "    .dataframe tbody tr th:only-of-type {\n",
       "        vertical-align: middle;\n",
       "    }\n",
       "\n",
       "    .dataframe tbody tr th {\n",
       "        vertical-align: top;\n",
       "    }\n",
       "\n",
       "    .dataframe thead th {\n",
       "        text-align: right;\n",
       "    }\n",
       "</style>\n",
       "<table border=\"1\" class=\"dataframe\">\n",
       "  <thead>\n",
       "    <tr style=\"text-align: right;\">\n",
       "      <th></th>\n",
       "      <th>type</th>\n",
       "      <th>id</th>\n",
       "      <th>lat</th>\n",
       "      <th>lon</th>\n",
       "      <th>tags</th>\n",
       "      <th>nodes</th>\n",
       "      <th>members</th>\n",
       "      <th>infrastructure_types</th>\n",
       "      <th>n_infrastructure_types</th>\n",
       "      <th>is_subway_entrance</th>\n",
       "      <th>name</th>\n",
       "      <th>line_color</th>\n",
       "    </tr>\n",
       "  </thead>\n",
       "  <tbody>\n",
       "    <tr>\n",
       "      <th>60006</th>\n",
       "      <td>node</td>\n",
       "      <td>268479754</td>\n",
       "      <td>59.966269</td>\n",
       "      <td>30.311449</td>\n",
       "      <td>{'check_date:opening_hours': '2021-04-04', 'co...</td>\n",
       "      <td>NaN</td>\n",
       "      <td>NaN</td>\n",
       "      <td>[]</td>\n",
       "      <td>0</td>\n",
       "      <td>True</td>\n",
       "      <td>Петроградская</td>\n",
       "      <td>blue</td>\n",
       "    </tr>\n",
       "    <tr>\n",
       "      <th>74616</th>\n",
       "      <td>node</td>\n",
       "      <td>309943041</td>\n",
       "      <td>59.907268</td>\n",
       "      <td>30.483216</td>\n",
       "      <td>{'colour': 'orange', 'name': 'Улица Дыбенко', ...</td>\n",
       "      <td>NaN</td>\n",
       "      <td>NaN</td>\n",
       "      <td>[]</td>\n",
       "      <td>0</td>\n",
       "      <td>True</td>\n",
       "      <td>Улица Дыбенко</td>\n",
       "      <td>orange</td>\n",
       "    </tr>\n",
       "  </tbody>\n",
       "</table>\n",
       "</div>"
      ],
      "text/plain": [
       "       type         id        lat        lon  \\\n",
       "60006  node  268479754  59.966269  30.311449   \n",
       "74616  node  309943041  59.907268  30.483216   \n",
       "\n",
       "                                                    tags nodes members  \\\n",
       "60006  {'check_date:opening_hours': '2021-04-04', 'co...   NaN     NaN   \n",
       "74616  {'colour': 'orange', 'name': 'Улица Дыбенко', ...   NaN     NaN   \n",
       "\n",
       "      infrastructure_types  n_infrastructure_types  is_subway_entrance  \\\n",
       "60006                   []                       0                True   \n",
       "74616                   []                       0                True   \n",
       "\n",
       "                name line_color  \n",
       "60006  Петроградская       blue  \n",
       "74616  Улица Дыбенко     orange  "
      ]
     },
     "execution_count": 18,
     "metadata": {},
     "output_type": "execute_result"
    }
   ],
   "source": [
    "def is_subway_entrance(tags: dict) -> bool:\n",
    "    return isinstance(tags, dict) and tags.get('railway') == 'subway_entrance'\n",
    "\n",
    "\n",
    "def get_subway_line_color(tags: dict) -> str:\n",
    "    return tags.get('colour')\n",
    "\n",
    "\n",
    "spb_osm['is_subway_entrance'] = spb_osm['tags'].apply(is_subway_entrance)\n",
    "\n",
    "mask = spb_osm['is_subway_entrance'] & (spb_osm['type'] == 'node')\n",
    "subway_entrances = spb_osm[mask].copy()\n",
    "\n",
    "subway_entrances['name'] = subway_entrances['tags'].apply(get_name)\n",
    "subway_entrances['line_color'] = subway_entrances['tags'].apply(get_subway_line_color)\n",
    "\n",
    "subway_entrances.head(2)"
   ]
  },
  {
   "cell_type": "code",
   "execution_count": 19,
   "metadata": {},
   "outputs": [
    {
     "data": {
      "text/html": [
       "<div>\n",
       "<style scoped>\n",
       "    .dataframe tbody tr th:only-of-type {\n",
       "        vertical-align: middle;\n",
       "    }\n",
       "\n",
       "    .dataframe tbody tr th {\n",
       "        vertical-align: top;\n",
       "    }\n",
       "\n",
       "    .dataframe thead th {\n",
       "        text-align: right;\n",
       "    }\n",
       "</style>\n",
       "<table border=\"1\" class=\"dataframe\">\n",
       "  <thead>\n",
       "    <tr style=\"text-align: right;\">\n",
       "      <th></th>\n",
       "      <th>type</th>\n",
       "      <th>id</th>\n",
       "      <th>lat</th>\n",
       "      <th>lon</th>\n",
       "      <th>tags</th>\n",
       "      <th>nodes</th>\n",
       "      <th>members</th>\n",
       "      <th>infrastructure_types</th>\n",
       "      <th>n_infrastructure_types</th>\n",
       "      <th>is_subway_entrance</th>\n",
       "      <th>name</th>\n",
       "      <th>line_color</th>\n",
       "      <th>station_name</th>\n",
       "    </tr>\n",
       "  </thead>\n",
       "  <tbody>\n",
       "    <tr>\n",
       "      <th>60006</th>\n",
       "      <td>node</td>\n",
       "      <td>268479754</td>\n",
       "      <td>59.966269</td>\n",
       "      <td>30.311449</td>\n",
       "      <td>{'check_date:opening_hours': '2021-04-04', 'co...</td>\n",
       "      <td>NaN</td>\n",
       "      <td>NaN</td>\n",
       "      <td>[]</td>\n",
       "      <td>0</td>\n",
       "      <td>True</td>\n",
       "      <td>Петроградская</td>\n",
       "      <td>blue</td>\n",
       "      <td>Петроградская</td>\n",
       "    </tr>\n",
       "    <tr>\n",
       "      <th>74616</th>\n",
       "      <td>node</td>\n",
       "      <td>309943041</td>\n",
       "      <td>59.907268</td>\n",
       "      <td>30.483216</td>\n",
       "      <td>{'colour': 'orange', 'name': 'Улица Дыбенко', ...</td>\n",
       "      <td>NaN</td>\n",
       "      <td>NaN</td>\n",
       "      <td>[]</td>\n",
       "      <td>0</td>\n",
       "      <td>True</td>\n",
       "      <td>Улица Дыбенко</td>\n",
       "      <td>orange</td>\n",
       "      <td>Улица Дыбенко</td>\n",
       "    </tr>\n",
       "  </tbody>\n",
       "</table>\n",
       "</div>"
      ],
      "text/plain": [
       "       type         id        lat        lon  \\\n",
       "60006  node  268479754  59.966269  30.311449   \n",
       "74616  node  309943041  59.907268  30.483216   \n",
       "\n",
       "                                                    tags nodes members  \\\n",
       "60006  {'check_date:opening_hours': '2021-04-04', 'co...   NaN     NaN   \n",
       "74616  {'colour': 'orange', 'name': 'Улица Дыбенко', ...   NaN     NaN   \n",
       "\n",
       "      infrastructure_types  n_infrastructure_types  is_subway_entrance  \\\n",
       "60006                   []                       0                True   \n",
       "74616                   []                       0                True   \n",
       "\n",
       "                name line_color   station_name  \n",
       "60006  Петроградская       blue  Петроградская  \n",
       "74616  Улица Дыбенко     orange  Улица Дыбенко  "
      ]
     },
     "execution_count": 19,
     "metadata": {},
     "output_type": "execute_result"
    }
   ],
   "source": [
    "station_names = ['Автово', 'Адмиралтейская', 'Академическая', 'Балтийская',\n",
    "                 'Беговая', 'Бухарестская', 'Василеостровская', 'Владимирская',\n",
    "                 'Волковская', 'Выборгская', 'Горьковская', 'Гостиный двор',\n",
    "                 'Гражданский проспект', 'Достоевская', 'Дунайская', 'Елизаровская',\n",
    "                 'Звенигородская', 'Звёздная', 'Зенит', 'Кировский завод',\n",
    "                 'Комендантский проспект', 'Крестовский остров', 'Купчино',\n",
    "                 'Ладожская', 'Ленинский проспект', 'Лесная', 'Лиговский проспект',\n",
    "                 'Ломоносовская', 'Маяковская', 'Международная', 'Московская',\n",
    "                 'Московские ворота', 'Нарвская', 'Невский проспект',\n",
    "                 'Новочеркасская', 'Обводный канал', 'Обухово', 'Озерки',\n",
    "                 'Парк Победы', 'Парнас', 'Петроградская', 'Пионерская',\n",
    "                 'Площадь Александра Невского', 'Площадь Восстания', 'Площадь Ленина',\n",
    "                 'Площадь Мужества', 'Политехническая', 'Приморская', 'Пролетарская',\n",
    "                 'Проспект Большевиков', 'Проспект Ветеранов', 'Проспект Просвещения',\n",
    "                 'Проспект Славы', 'Пушкинская', 'Рыбацкое', 'Садовая',\n",
    "                 'Сенная площадь', 'Спасская', 'Спортивная', 'Старая Деревня',\n",
    "                 'Технологический институт', 'Удельная', 'Улица Дыбенко',\n",
    "                 'Фрунзенская', 'Чернышевская', 'Чкаловская', 'Чёрная речка',\n",
    "                 'Шушары', 'Электросила']\n",
    "\n",
    "\n",
    "def get_station_name(entrance_name: str) -> str:\n",
    "    suitable_station_names = [name for name in station_names if entrance_name.startswith(name)]\n",
    "    \n",
    "    if len(suitable_station_names) != 1:\n",
    "        raise ValueError('multiple or no station names for entrance ' + entrance_name)\n",
    "        \n",
    "    return suitable_station_names[0]\n",
    "\n",
    "\n",
    "subway_entrances['station_name'] = subway_entrances['name'].apply(get_station_name)\n",
    "\n",
    "subway_entrances.head(2)"
   ]
  },
  {
   "cell_type": "code",
   "execution_count": 20,
   "metadata": {},
   "outputs": [],
   "source": [
    "assert subway_entrances['line_color'].notna().all()\n",
    "assert subway_entrances['station_name'].notna().all()"
   ]
  },
  {
   "cell_type": "code",
   "execution_count": 21,
   "metadata": {},
   "outputs": [
    {
     "data": {
      "text/html": [
       "<div>\n",
       "<style scoped>\n",
       "    .dataframe tbody tr th:only-of-type {\n",
       "        vertical-align: middle;\n",
       "    }\n",
       "\n",
       "    .dataframe tbody tr th {\n",
       "        vertical-align: top;\n",
       "    }\n",
       "\n",
       "    .dataframe thead th {\n",
       "        text-align: right;\n",
       "    }\n",
       "</style>\n",
       "<table border=\"1\" class=\"dataframe\">\n",
       "  <thead>\n",
       "    <tr style=\"text-align: right;\">\n",
       "      <th></th>\n",
       "      <th>line_color</th>\n",
       "      <th>name</th>\n",
       "      <th>lat</th>\n",
       "      <th>lon</th>\n",
       "      <th>id</th>\n",
       "      <th>type</th>\n",
       "    </tr>\n",
       "  </thead>\n",
       "  <tbody>\n",
       "    <tr>\n",
       "      <th>0</th>\n",
       "      <td>blue</td>\n",
       "      <td>Горьковская (blue)</td>\n",
       "      <td>59.956335</td>\n",
       "      <td>30.318579</td>\n",
       "      <td>0</td>\n",
       "      <td>subway</td>\n",
       "    </tr>\n",
       "    <tr>\n",
       "      <th>1</th>\n",
       "      <td>blue</td>\n",
       "      <td>Звёздная (blue)</td>\n",
       "      <td>59.833261</td>\n",
       "      <td>30.349021</td>\n",
       "      <td>1</td>\n",
       "      <td>subway</td>\n",
       "    </tr>\n",
       "  </tbody>\n",
       "</table>\n",
       "</div>"
      ],
      "text/plain": [
       "  line_color                name        lat        lon  id    type\n",
       "0       blue  Горьковская (blue)  59.956335  30.318579   0  subway\n",
       "1       blue     Звёздная (blue)  59.833261  30.349021   1  subway"
      ]
     },
     "execution_count": 21,
     "metadata": {},
     "output_type": "execute_result"
    }
   ],
   "source": [
    "subway_stations = subway_entrances\\\n",
    "    .groupby(['line_color', 'station_name'])[['lat', 'lon']].mean()\\\n",
    "    .reset_index()\\\n",
    "    .rename(columns={'station_name': 'name'})\n",
    "\n",
    "subway_stations['name'] = subway_stations['name'] + ' (' + subway_stations['line_color'] + ')'\n",
    "subway_stations['id'] = subway_stations.index.tolist()\n",
    "subway_stations['type'] = 'subway'\n",
    "\n",
    "subway_stations.head(2)"
   ]
  },
  {
   "cell_type": "code",
   "execution_count": 22,
   "metadata": {},
   "outputs": [
    {
     "data": {
      "image/png": "[encoded data removed]",
      "text/plain": [
       "<Figure size 288x288 with 1 Axes>"
      ]
     },
     "metadata": {
      "needs_background": "light"
     },
     "output_type": "display_data"
    }
   ],
   "source": [
    "plt.figure(figsize=(4, 4))\n",
    "\n",
    "for color in subway_stations['line_color'].unique():\n",
    "    values = subway_stations\\\n",
    "        .loc[subway_stations['line_color'] == color, ['lon', 'lat']]\\\n",
    "        .values\n",
    "    \n",
    "    plt.scatter(*values.T, color=color)"
   ]
  },
  {
   "cell_type": "markdown",
   "metadata": {},
   "source": [
    "### Subway routes"
   ]
  },
  {
   "cell_type": "code",
   "execution_count": 23,
   "metadata": {},
   "outputs": [
    {
     "data": {
      "text/html": [
       "<div>\n",
       "<style scoped>\n",
       "    .dataframe tbody tr th:only-of-type {\n",
       "        vertical-align: middle;\n",
       "    }\n",
       "\n",
       "    .dataframe tbody tr th {\n",
       "        vertical-align: top;\n",
       "    }\n",
       "\n",
       "    .dataframe thead th {\n",
       "        text-align: right;\n",
       "    }\n",
       "</style>\n",
       "<table border=\"1\" class=\"dataframe\">\n",
       "  <thead>\n",
       "    <tr style=\"text-align: right;\">\n",
       "      <th></th>\n",
       "      <th>name</th>\n",
       "      <th>type</th>\n",
       "      <th>direction</th>\n",
       "      <th>stops</th>\n",
       "      <th>id</th>\n",
       "    </tr>\n",
       "  </thead>\n",
       "  <tbody>\n",
       "    <tr>\n",
       "      <th>0</th>\n",
       "      <td>Blue line</td>\n",
       "      <td>subway</td>\n",
       "      <td>1</td>\n",
       "      <td>[2, 1, 3, 7, 16, 4, 14, 12, 5, 0, 9, 15, 10, 1...</td>\n",
       "      <td>0</td>\n",
       "    </tr>\n",
       "    <tr>\n",
       "      <th>1</th>\n",
       "      <td>Blue line</td>\n",
       "      <td>subway</td>\n",
       "      <td>2</td>\n",
       "      <td>[8, 11, 6, 13, 10, 15, 9, 0, 5, 12, 14, 4, 16,...</td>\n",
       "      <td>1</td>\n",
       "    </tr>\n",
       "  </tbody>\n",
       "</table>\n",
       "</div>"
      ],
      "text/plain": [
       "        name    type  direction  \\\n",
       "0  Blue line  subway          1   \n",
       "1  Blue line  subway          2   \n",
       "\n",
       "                                               stops  id  \n",
       "0  [2, 1, 3, 7, 16, 4, 14, 12, 5, 0, 9, 15, 10, 1...   0  \n",
       "1  [8, 11, 6, 13, 10, 15, 9, 0, 5, 12, 14, 4, 16,...   1  "
      ]
     },
     "execution_count": 23,
     "metadata": {},
     "output_type": "execute_result"
    }
   ],
   "source": [
    "line_starts = {\n",
    "    'blue': 2,\n",
    "    'green': 17,\n",
    "    'orange': 35,\n",
    "    'purple': 42,\n",
    "    'red': 57,\n",
    "}\n",
    "\n",
    "subway_routes = []\n",
    "\n",
    "for color in subway_stations['line_color'].unique():\n",
    "    line_stations = subway_stations[subway_stations['line_color'] == color]\n",
    "    n_stations = line_stations.shape[0]\n",
    "    \n",
    "    coords = line_stations[['lat', 'lon']].values\n",
    "    distances = get_earth_distances(coords, coords)\n",
    "    distances[np.arange(n_stations), np.arange(n_stations)] = np.infty\n",
    "    distances = pd.DataFrame(distances, index=line_stations['id'], columns=line_stations['id'])\n",
    "    \n",
    "    start = line_starts[color]\n",
    "    route = [start]\n",
    "        \n",
    "    while True:\n",
    "        closest_unvisited = distances\\\n",
    "            .loc[route[-1], ~distances.index.isin(route)]\\\n",
    "            .sort_values()\n",
    "        \n",
    "        if closest_unvisited.empty:\n",
    "            break\n",
    "        \n",
    "        next_ = closest_unvisited.index[0]\n",
    "        route.append(next_)\n",
    "        \n",
    "    name = color.capitalize() + ' line'\n",
    "        \n",
    "    subway_routes.append({\n",
    "        'name': name,\n",
    "        'type': 'subway',\n",
    "        'direction': 1,\n",
    "        'stops': route,\n",
    "    })\n",
    "    subway_routes.append({\n",
    "        'name': name,\n",
    "        'type': 'subway',\n",
    "        'direction': 2,\n",
    "        'stops': route[::-1],\n",
    "    })\n",
    "    \n",
    "subway_routes = pd.DataFrame(subway_routes)\n",
    "\n",
    "subway_routes['id'] = subway_routes.index.tolist()\n",
    "\n",
    "subway_routes.head(2)"
   ]
  },
  {
   "cell_type": "markdown",
   "metadata": {},
   "source": [
    "## data.gov.spb.ru"
   ]
  },
  {
   "cell_type": "code",
   "execution_count": 24,
   "metadata": {},
   "outputs": [
    {
     "data": {
      "text/html": [
       "<div>\n",
       "<style scoped>\n",
       "    .dataframe tbody tr th:only-of-type {\n",
       "        vertical-align: middle;\n",
       "    }\n",
       "\n",
       "    .dataframe tbody tr th {\n",
       "        vertical-align: top;\n",
       "    }\n",
       "\n",
       "    .dataframe thead th {\n",
       "        text-align: right;\n",
       "    }\n",
       "</style>\n",
       "<table border=\"1\" class=\"dataframe\">\n",
       "  <thead>\n",
       "    <tr style=\"text-align: right;\">\n",
       "      <th></th>\n",
       "      <th>number</th>\n",
       "      <th>id</th>\n",
       "      <th>name</th>\n",
       "      <th>route_long_name</th>\n",
       "      <th>type</th>\n",
       "      <th>direction</th>\n",
       "      <th>stop_id</th>\n",
       "      <th>next_stop</th>\n",
       "      <th>stop_distance</th>\n",
       "      <th>stop_name</th>\n",
       "      <th>coordinates</th>\n",
       "      <th>lat</th>\n",
       "      <th>lon</th>\n",
       "    </tr>\n",
       "  </thead>\n",
       "  <tbody>\n",
       "    <tr>\n",
       "      <th>0</th>\n",
       "      <td>1</td>\n",
       "      <td>1125</td>\n",
       "      <td>А</td>\n",
       "      <td>Р. Оккервиль - Ул. Коллонтай</td>\n",
       "      <td>tram</td>\n",
       "      <td>1</td>\n",
       "      <td>16396</td>\n",
       "      <td>16367</td>\n",
       "      <td>0.85</td>\n",
       "      <td>Конечная станция \"Река Оккервиль\"</td>\n",
       "      <td>59.9088808952478,30.4946709</td>\n",
       "      <td>59.908881</td>\n",
       "      <td>30.494671</td>\n",
       "    </tr>\n",
       "    <tr>\n",
       "      <th>1</th>\n",
       "      <td>2</td>\n",
       "      <td>1125</td>\n",
       "      <td>А</td>\n",
       "      <td>Р. Оккервиль - Ул. Коллонтай</td>\n",
       "      <td>tram</td>\n",
       "      <td>1</td>\n",
       "      <td>16367</td>\n",
       "      <td>16371</td>\n",
       "      <td>0.40</td>\n",
       "      <td>Пр. Солидарности</td>\n",
       "      <td>59.9118566503083,30.4998817</td>\n",
       "      <td>59.911857</td>\n",
       "      <td>30.499882</td>\n",
       "    </tr>\n",
       "  </tbody>\n",
       "</table>\n",
       "</div>"
      ],
      "text/plain": [
       "   number    id name               route_long_name  type  direction  stop_id  \\\n",
       "0       1  1125    А  Р. Оккервиль - Ул. Коллонтай  tram          1    16396   \n",
       "1       2  1125    А  Р. Оккервиль - Ул. Коллонтай  tram          1    16367   \n",
       "\n",
       "   next_stop  stop_distance                           stop_name  \\\n",
       "0      16367           0.85  Конечная станция \"Река Оккервиль\"    \n",
       "1      16371           0.40                   Пр. Солидарности    \n",
       "\n",
       "                   coordinates        lat        lon  \n",
       "0  59.9088808952478,30.4946709  59.908881  30.494671  \n",
       "1  59.9118566503083,30.4998817  59.911857  30.499882  "
      ]
     },
     "execution_count": 24,
     "metadata": {},
     "output_type": "execute_result"
    }
   ],
   "source": [
    "raw_routes = pd.read_csv(raw_routes_data_fpath)\n",
    "\n",
    "raw_routes = raw_routes.rename(columns={'route_id': 'id', 'route_short_name': 'name',\n",
    "                                        'transport_type': 'type'})\n",
    "\n",
    "raw_routes['type'] = raw_routes['type'].map(\n",
    "    {'Автобус': 'bus', 'Трамвай': 'tram', 'Троллейбус': 'trolley'})\n",
    "\n",
    "raw_routes['lat'] = raw_routes['coordinates'].apply(lambda x: float(x.split(',')[0]))\n",
    "raw_routes['lon'] = raw_routes['coordinates'].apply(lambda x: float(x.split(',')[1]))\n",
    "\n",
    "raw_routes.head(2)"
   ]
  },
  {
   "cell_type": "code",
   "execution_count": 25,
   "metadata": {},
   "outputs": [
    {
     "data": {
      "text/html": [
       "<div>\n",
       "<style scoped>\n",
       "    .dataframe tbody tr th:only-of-type {\n",
       "        vertical-align: middle;\n",
       "    }\n",
       "\n",
       "    .dataframe tbody tr th {\n",
       "        vertical-align: top;\n",
       "    }\n",
       "\n",
       "    .dataframe thead th {\n",
       "        text-align: right;\n",
       "    }\n",
       "</style>\n",
       "<table border=\"1\" class=\"dataframe\">\n",
       "  <thead>\n",
       "    <tr style=\"text-align: right;\">\n",
       "      <th></th>\n",
       "      <th>number</th>\n",
       "      <th>route_long_name</th>\n",
       "      <th>type</th>\n",
       "      <th>direction</th>\n",
       "      <th>id</th>\n",
       "      <th>next_stop</th>\n",
       "      <th>stop_distance</th>\n",
       "      <th>name</th>\n",
       "      <th>coordinates</th>\n",
       "      <th>lat</th>\n",
       "      <th>lon</th>\n",
       "    </tr>\n",
       "  </thead>\n",
       "  <tbody>\n",
       "    <tr>\n",
       "      <th>0</th>\n",
       "      <td>1</td>\n",
       "      <td>Р. Оккервиль - Ул. Коллонтай</td>\n",
       "      <td>tram</td>\n",
       "      <td>1</td>\n",
       "      <td>16396</td>\n",
       "      <td>16367</td>\n",
       "      <td>0.85</td>\n",
       "      <td>Конечная станция \"Река Оккервиль\"</td>\n",
       "      <td>59.9088808952478,30.4946709</td>\n",
       "      <td>59.908881</td>\n",
       "      <td>30.494671</td>\n",
       "    </tr>\n",
       "    <tr>\n",
       "      <th>1</th>\n",
       "      <td>2</td>\n",
       "      <td>Р. Оккервиль - Ул. Коллонтай</td>\n",
       "      <td>tram</td>\n",
       "      <td>1</td>\n",
       "      <td>16367</td>\n",
       "      <td>16371</td>\n",
       "      <td>0.40</td>\n",
       "      <td>Пр. Солидарности</td>\n",
       "      <td>59.9118566503083,30.4998817</td>\n",
       "      <td>59.911857</td>\n",
       "      <td>30.499882</td>\n",
       "    </tr>\n",
       "  </tbody>\n",
       "</table>\n",
       "</div>"
      ],
      "text/plain": [
       "   number               route_long_name  type  direction     id  next_stop  \\\n",
       "0       1  Р. Оккервиль - Ул. Коллонтай  tram          1  16396      16367   \n",
       "1       2  Р. Оккервиль - Ул. Коллонтай  tram          1  16367      16371   \n",
       "\n",
       "   stop_distance                                name  \\\n",
       "0           0.85  Конечная станция \"Река Оккервиль\"    \n",
       "1           0.40                   Пр. Солидарности    \n",
       "\n",
       "                   coordinates        lat        lon  \n",
       "0  59.9088808952478,30.4946709  59.908881  30.494671  \n",
       "1  59.9118566503083,30.4998817  59.911857  30.499882  "
      ]
     },
     "execution_count": 25,
     "metadata": {},
     "output_type": "execute_result"
    }
   ],
   "source": [
    "stops = raw_routes.drop_duplicates('stop_id')\\\n",
    "    .drop(columns=['id', 'name'])\\\n",
    "    .rename(columns={'stop_id': 'id', 'stop_name': 'name'})\\\n",
    "    .reset_index(drop=True)\n",
    "\n",
    "stops.head(2)"
   ]
  },
  {
   "cell_type": "code",
   "execution_count": 26,
   "metadata": {},
   "outputs": [
    {
     "data": {
      "text/html": [
       "<div>\n",
       "<style scoped>\n",
       "    .dataframe tbody tr th:only-of-type {\n",
       "        vertical-align: middle;\n",
       "    }\n",
       "\n",
       "    .dataframe tbody tr th {\n",
       "        vertical-align: top;\n",
       "    }\n",
       "\n",
       "    .dataframe thead th {\n",
       "        text-align: right;\n",
       "    }\n",
       "</style>\n",
       "<table border=\"1\" class=\"dataframe\">\n",
       "  <thead>\n",
       "    <tr style=\"text-align: right;\">\n",
       "      <th></th>\n",
       "      <th>name</th>\n",
       "      <th>type</th>\n",
       "      <th>direction</th>\n",
       "      <th>stops</th>\n",
       "      <th>id</th>\n",
       "    </tr>\n",
       "  </thead>\n",
       "  <tbody>\n",
       "    <tr>\n",
       "      <th>0</th>\n",
       "      <td>А</td>\n",
       "      <td>tram</td>\n",
       "      <td>1</td>\n",
       "      <td>[16396, 16367, 16371, 16398, 16400, 16401, 164...</td>\n",
       "      <td>1125</td>\n",
       "    </tr>\n",
       "    <tr>\n",
       "      <th>1</th>\n",
       "      <td>А</td>\n",
       "      <td>tram</td>\n",
       "      <td>2</td>\n",
       "      <td>[33093, 16348, 16350, 16354, 16357, 16346, 163...</td>\n",
       "      <td>1125</td>\n",
       "    </tr>\n",
       "  </tbody>\n",
       "</table>\n",
       "</div>"
      ],
      "text/plain": [
       "  name  type  direction                                              stops  \\\n",
       "0    А  tram          1  [16396, 16367, 16371, 16398, 16400, 16401, 164...   \n",
       "1    А  tram          2  [33093, 16348, 16350, 16354, 16357, 16346, 163...   \n",
       "\n",
       "     id  \n",
       "0  1125  \n",
       "1  1125  "
      ]
     },
     "execution_count": 26,
     "metadata": {},
     "output_type": "execute_result"
    }
   ],
   "source": [
    "routes = []\n",
    "\n",
    "for route_id in raw_routes['id'].unique():\n",
    "    for direction in raw_routes.loc[raw_routes['id'] == route_id, 'direction'].unique():\n",
    "        mask = (raw_routes['id'] == route_id) & (raw_routes['direction'] == direction)\n",
    "        raw_route = raw_routes[mask]\n",
    "        \n",
    "        assert raw_route['type'].nunique() == 1\n",
    "        route_type = raw_route.iloc[0]['type']\n",
    "\n",
    "        assert raw_route['name'].nunique() == 1\n",
    "        name = raw_route.iloc[0]['name']\n",
    "        \n",
    "        assert raw_route['stop_id'].nunique() == raw_route.shape[0]\n",
    "\n",
    "        next_stops = raw_route.set_index('stop_id')['next_stop']\n",
    "\n",
    "        start = set(next_stops.index) - set(next_stops.values)\n",
    "        \n",
    "        if (len(start) == 0):\n",
    "            assert set(next_stops.index) == set(next_stops.values)  # circular route\n",
    "            \n",
    "            start = next_stops.index[0]\n",
    "            route = [start]\n",
    "            \n",
    "            while True:\n",
    "                next_ = next_stops[route[-1]]\n",
    "                \n",
    "                if next_ in route:\n",
    "                    break\n",
    "                    \n",
    "                route.append(next_)\n",
    "        \n",
    "        else:\n",
    "            assert len(start) == 1\n",
    "            start = start.pop()\n",
    "\n",
    "            route = [start]\n",
    "\n",
    "            while route[-1] in next_stops.index:\n",
    "                route.append(next_stops[route[-1]])\n",
    "\n",
    "        routes.append({\n",
    "            'name': name,\n",
    "            'type': route_type,\n",
    "            'direction': direction,\n",
    "            'stops': route,\n",
    "            'id': route_id,\n",
    "        })\n",
    "        \n",
    "routes = pd.DataFrame(routes)\n",
    "\n",
    "routes.head(2)"
   ]
  },
  {
   "cell_type": "code",
   "execution_count": 27,
   "metadata": {},
   "outputs": [
    {
     "data": {
      "text/plain": [
       "45"
      ]
     },
     "execution_count": 27,
     "metadata": {},
     "output_type": "execute_result"
    }
   ],
   "source": [
    "route_stops = set(chain.from_iterable(routes['stops']))\n",
    "stops_ = set(stops['id'].unique())\n",
    "\n",
    "missing_stops = route_stops - stops_\n",
    "\n",
    "len(missing_stops)"
   ]
  },
  {
   "cell_type": "code",
   "execution_count": 28,
   "metadata": {},
   "outputs": [
    {
     "data": {
      "text/html": [
       "<div>\n",
       "<style scoped>\n",
       "    .dataframe tbody tr th:only-of-type {\n",
       "        vertical-align: middle;\n",
       "    }\n",
       "\n",
       "    .dataframe tbody tr th {\n",
       "        vertical-align: top;\n",
       "    }\n",
       "\n",
       "    .dataframe thead th {\n",
       "        text-align: right;\n",
       "    }\n",
       "</style>\n",
       "<table border=\"1\" class=\"dataframe\">\n",
       "  <thead>\n",
       "    <tr style=\"text-align: right;\">\n",
       "      <th></th>\n",
       "      <th>name</th>\n",
       "      <th>type</th>\n",
       "      <th>direction</th>\n",
       "      <th>stops</th>\n",
       "      <th>id</th>\n",
       "    </tr>\n",
       "  </thead>\n",
       "  <tbody>\n",
       "    <tr>\n",
       "      <th>0</th>\n",
       "      <td>А</td>\n",
       "      <td>tram</td>\n",
       "      <td>1</td>\n",
       "      <td>[16396, 16367, 16371, 16398, 16400, 16401, 164...</td>\n",
       "      <td>1125</td>\n",
       "    </tr>\n",
       "    <tr>\n",
       "      <th>1</th>\n",
       "      <td>А</td>\n",
       "      <td>tram</td>\n",
       "      <td>2</td>\n",
       "      <td>[33093, 16348, 16350, 16354, 16357, 16346, 163...</td>\n",
       "      <td>1125</td>\n",
       "    </tr>\n",
       "  </tbody>\n",
       "</table>\n",
       "</div>"
      ],
      "text/plain": [
       "  name  type  direction                                              stops  \\\n",
       "0    А  tram          1  [16396, 16367, 16371, 16398, 16400, 16401, 164...   \n",
       "1    А  tram          2  [33093, 16348, 16350, 16354, 16357, 16346, 163...   \n",
       "\n",
       "     id  \n",
       "0  1125  \n",
       "1  1125  "
      ]
     },
     "execution_count": 28,
     "metadata": {},
     "output_type": "execute_result"
    }
   ],
   "source": [
    "def remove_missing_stops(route: List[int]) -> List[int]:\n",
    "    missing = set(route).intersection(missing_stops)\n",
    "    \n",
    "    if len(missing) == 0:\n",
    "        return route\n",
    "    \n",
    "    assert len(missing) == 1\n",
    "    missing = missing.pop()\n",
    "    assert route.index(missing) == len(route) - 1\n",
    "    \n",
    "    return route[:-1]\n",
    "\n",
    "\n",
    "routes['stops'] = routes['stops'].apply(remove_missing_stops)\n",
    "\n",
    "routes.head(2)"
   ]
  },
  {
   "cell_type": "markdown",
   "metadata": {},
   "source": [
    "## All stops and routes together"
   ]
  },
  {
   "cell_type": "code",
   "execution_count": 29,
   "metadata": {},
   "outputs": [
    {
     "data": {
      "text/html": [
       "<div>\n",
       "<style scoped>\n",
       "    .dataframe tbody tr th:only-of-type {\n",
       "        vertical-align: middle;\n",
       "    }\n",
       "\n",
       "    .dataframe tbody tr th {\n",
       "        vertical-align: top;\n",
       "    }\n",
       "\n",
       "    .dataframe thead th {\n",
       "        text-align: right;\n",
       "    }\n",
       "</style>\n",
       "<table border=\"1\" class=\"dataframe\">\n",
       "  <thead>\n",
       "    <tr style=\"text-align: right;\">\n",
       "      <th></th>\n",
       "      <th>type</th>\n",
       "      <th>id</th>\n",
       "      <th>name</th>\n",
       "      <th>lat</th>\n",
       "      <th>lon</th>\n",
       "    </tr>\n",
       "  </thead>\n",
       "  <tbody>\n",
       "    <tr>\n",
       "      <th>0</th>\n",
       "      <td>tram</td>\n",
       "      <td>16396</td>\n",
       "      <td>Конечная станция \"Река Оккервиль\"</td>\n",
       "      <td>59.908881</td>\n",
       "      <td>30.494671</td>\n",
       "    </tr>\n",
       "    <tr>\n",
       "      <th>1</th>\n",
       "      <td>tram</td>\n",
       "      <td>16367</td>\n",
       "      <td>Пр. Солидарности</td>\n",
       "      <td>59.911857</td>\n",
       "      <td>30.499882</td>\n",
       "    </tr>\n",
       "  </tbody>\n",
       "</table>\n",
       "</div>"
      ],
      "text/plain": [
       "   type     id                                name        lat        lon\n",
       "0  tram  16396  Конечная станция \"Река Оккервиль\"   59.908881  30.494671\n",
       "1  tram  16367                   Пр. Солидарности   59.911857  30.499882"
      ]
     },
     "execution_count": 29,
     "metadata": {},
     "output_type": "execute_result"
    }
   ],
   "source": [
    "all_stops = stops.append(subway_stations, ignore_index=True)\\\n",
    "    .drop(columns=['number', 'route_long_name', 'next_stop', 'direction',\n",
    "                   'stop_distance', 'coordinates', 'line_color'])\n",
    "\n",
    "all_stops.head(2)"
   ]
  },
  {
   "cell_type": "code",
   "execution_count": 30,
   "metadata": {},
   "outputs": [],
   "source": [
    "assert all_stops.notna().all().all()\n",
    "assert all_stops['id'].nunique() == all_stops.shape[0]"
   ]
  },
  {
   "cell_type": "code",
   "execution_count": 31,
   "metadata": {},
   "outputs": [
    {
     "data": {
      "text/html": [
       "<div>\n",
       "<style scoped>\n",
       "    .dataframe tbody tr th:only-of-type {\n",
       "        vertical-align: middle;\n",
       "    }\n",
       "\n",
       "    .dataframe tbody tr th {\n",
       "        vertical-align: top;\n",
       "    }\n",
       "\n",
       "    .dataframe thead th {\n",
       "        text-align: right;\n",
       "    }\n",
       "</style>\n",
       "<table border=\"1\" class=\"dataframe\">\n",
       "  <thead>\n",
       "    <tr style=\"text-align: right;\">\n",
       "      <th></th>\n",
       "      <th>name</th>\n",
       "      <th>type</th>\n",
       "      <th>direction</th>\n",
       "      <th>stops</th>\n",
       "      <th>id</th>\n",
       "    </tr>\n",
       "  </thead>\n",
       "  <tbody>\n",
       "    <tr>\n",
       "      <th>0</th>\n",
       "      <td>А</td>\n",
       "      <td>tram</td>\n",
       "      <td>1</td>\n",
       "      <td>[16396, 16367, 16371, 16398, 16400, 16401, 164...</td>\n",
       "      <td>1125</td>\n",
       "    </tr>\n",
       "    <tr>\n",
       "      <th>1</th>\n",
       "      <td>А</td>\n",
       "      <td>tram</td>\n",
       "      <td>2</td>\n",
       "      <td>[33093, 16348, 16350, 16354, 16357, 16346, 163...</td>\n",
       "      <td>1125</td>\n",
       "    </tr>\n",
       "  </tbody>\n",
       "</table>\n",
       "</div>"
      ],
      "text/plain": [
       "  name  type  direction                                              stops  \\\n",
       "0    А  tram          1  [16396, 16367, 16371, 16398, 16400, 16401, 164...   \n",
       "1    А  tram          2  [33093, 16348, 16350, 16354, 16357, 16346, 163...   \n",
       "\n",
       "     id  \n",
       "0  1125  \n",
       "1  1125  "
      ]
     },
     "execution_count": 31,
     "metadata": {},
     "output_type": "execute_result"
    }
   ],
   "source": [
    "all_routes = routes.append(subway_routes, ignore_index=True)\n",
    "\n",
    "all_routes.head(2)"
   ]
  },
  {
   "cell_type": "code",
   "execution_count": 32,
   "metadata": {},
   "outputs": [],
   "source": [
    "all_routes['stops'] = all_routes['stops'].apply(lambda l: [int(i) for i in l])"
   ]
  },
  {
   "cell_type": "code",
   "execution_count": 33,
   "metadata": {},
   "outputs": [],
   "source": [
    "assert all_routes.notna().all().all()\n",
    "assert not all_routes.duplicated(['id', 'direction']).any()"
   ]
  },
  {
   "cell_type": "code",
   "execution_count": 34,
   "metadata": {},
   "outputs": [],
   "source": [
    "route_stops = set(chain.from_iterable(all_routes['stops']))\n",
    "stops_ = set(all_stops['id'].unique())\n",
    "\n",
    "missing_stops = route_stops - stops_\n",
    "\n",
    "assert len(missing_stops) == 0"
   ]
  },
  {
   "cell_type": "code",
   "execution_count": 35,
   "metadata": {},
   "outputs": [
    {
     "data": {
      "text/plain": [
       "7660"
      ]
     },
     "execution_count": 35,
     "metadata": {},
     "output_type": "execute_result"
    }
   ],
   "source": [
    "all_stops_json = [row.to_dict() for _, row in all_stops.iterrows()]\n",
    "\n",
    "len(all_stops_json)"
   ]
  },
  {
   "cell_type": "code",
   "execution_count": 36,
   "metadata": {},
   "outputs": [],
   "source": [
    "save_json(all_stops_json, stops_fpath)"
   ]
  },
  {
   "cell_type": "code",
   "execution_count": 37,
   "metadata": {},
   "outputs": [
    {
     "data": {
      "text/plain": [
       "1253"
      ]
     },
     "execution_count": 37,
     "metadata": {},
     "output_type": "execute_result"
    }
   ],
   "source": [
    "all_routes_json = [row.to_dict() for _, row in all_routes.iterrows()]\n",
    "\n",
    "len(all_routes_json)"
   ]
  },
  {
   "cell_type": "code",
   "execution_count": 38,
   "metadata": {},
   "outputs": [],
   "source": [
    "save_json(all_routes_json, routes_fpath)"
   ]
  },
  {
   "cell_type": "code",
   "execution_count": null,
   "metadata": {},
   "outputs": [],
   "source": []
  }
 ],
 "metadata": {
  "kernelspec": {
   "display_name": "Python 3",
   "language": "python",
   "name": "python3"
  },
  "language_info": {
   "codemirror_mode": {
    "name": "ipython",
    "version": 3
   },
   "file_extension": ".py",
   "mimetype": "text/x-python",
   "name": "python",
   "nbconvert_exporter": "python",
   "pygments_lexer": "ipython3",
   "version": "3.8.5"
  }
 },
 "nbformat": 4,
 "nbformat_minor": 4
}
