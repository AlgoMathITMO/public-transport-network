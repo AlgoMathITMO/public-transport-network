{
 "cells": [
  {
   "cell_type": "code",
   "execution_count": 1,
   "metadata": {},
   "outputs": [],
   "source": [
    "import sys\n",
    "sys.path.append('..')"
   ]
  },
  {
   "cell_type": "code",
   "execution_count": 2,
   "metadata": {},
   "outputs": [],
   "source": [
    "import json\n",
    "from itertools import chain\n",
    "from typing import Tuple, List, Optional, Set\n",
    "from zipfile import ZipFile\n",
    "\n",
    "import numpy as np\n",
    "import pandas as pd\n",
    "from tqdm.notebook import tqdm\n",
    "from matplotlib import pyplot as plt\n",
    "\n",
    "from myutils.spatial import get_earth_distances\n",
    "from myutils.json import save_json\n",
    "\n",
    "from ptn.preprocessing.osm import assign_infrastructure_types"
   ]
  },
  {
   "cell_type": "markdown",
   "metadata": {},
   "source": [
    "## OSM"
   ]
  },
  {
   "cell_type": "code",
   "execution_count": 3,
   "metadata": {},
   "outputs": [
    {
     "data": {
      "text/html": [
       "<div>\n",
       "<style scoped>\n",
       "    .dataframe tbody tr th:only-of-type {\n",
       "        vertical-align: middle;\n",
       "    }\n",
       "\n",
       "    .dataframe tbody tr th {\n",
       "        vertical-align: top;\n",
       "    }\n",
       "\n",
       "    .dataframe thead th {\n",
       "        text-align: right;\n",
       "    }\n",
       "</style>\n",
       "<table border=\"1\" class=\"dataframe\">\n",
       "  <thead>\n",
       "    <tr style=\"text-align: right;\">\n",
       "      <th></th>\n",
       "      <th>type</th>\n",
       "      <th>id</th>\n",
       "      <th>lat</th>\n",
       "      <th>lon</th>\n",
       "      <th>tags</th>\n",
       "      <th>nodes</th>\n",
       "      <th>members</th>\n",
       "    </tr>\n",
       "  </thead>\n",
       "  <tbody>\n",
       "    <tr>\n",
       "      <th>0</th>\n",
       "      <td>node</td>\n",
       "      <td>2</td>\n",
       "      <td>59.771793</td>\n",
       "      <td>30.326111</td>\n",
       "      <td>{'historic': 'memorial', 'image': 'https://upl...</td>\n",
       "      <td>NaN</td>\n",
       "      <td>NaN</td>\n",
       "    </tr>\n",
       "    <tr>\n",
       "      <th>1</th>\n",
       "      <td>node</td>\n",
       "      <td>219779</td>\n",
       "      <td>59.842673</td>\n",
       "      <td>30.320486</td>\n",
       "      <td>NaN</td>\n",
       "      <td>NaN</td>\n",
       "      <td>NaN</td>\n",
       "    </tr>\n",
       "  </tbody>\n",
       "</table>\n",
       "</div>"
      ],
      "text/plain": [
       "   type      id        lat        lon  \\\n",
       "0  node       2  59.771793  30.326111   \n",
       "1  node  219779  59.842673  30.320486   \n",
       "\n",
       "                                                tags nodes members  \n",
       "0  {'historic': 'memorial', 'image': 'https://upl...   NaN     NaN  \n",
       "1                                                NaN   NaN     NaN  "
      ]
     },
     "execution_count": 3,
     "metadata": {},
     "output_type": "execute_result"
    }
   ],
   "source": [
    "with ZipFile('../data/raw/spb_osm.json.zip') as zipfile:\n",
    "    with zipfile.open('spb_osm.json') as file:\n",
    "        spb_osm = pd.DataFrame(json.load(file)['elements'])\n",
    "        \n",
    "spb_osm.head(2)"
   ]
  },
  {
   "cell_type": "code",
   "execution_count": 4,
   "metadata": {},
   "outputs": [
    {
     "data": {
      "text/plain": [
       "node        3156034\n",
       "way          558869\n",
       "relation      26820\n",
       "Name: type, dtype: int64"
      ]
     },
     "execution_count": 4,
     "metadata": {},
     "output_type": "execute_result"
    }
   ],
   "source": [
    "spb_osm['type'].value_counts()"
   ]
  },
  {
   "cell_type": "code",
   "execution_count": 5,
   "metadata": {},
   "outputs": [
    {
     "data": {
      "text/html": [
       "<div>\n",
       "<style scoped>\n",
       "    .dataframe tbody tr th:only-of-type {\n",
       "        vertical-align: middle;\n",
       "    }\n",
       "\n",
       "    .dataframe tbody tr th {\n",
       "        vertical-align: top;\n",
       "    }\n",
       "\n",
       "    .dataframe thead th {\n",
       "        text-align: right;\n",
       "    }\n",
       "</style>\n",
       "<table border=\"1\" class=\"dataframe\">\n",
       "  <thead>\n",
       "    <tr style=\"text-align: right;\">\n",
       "      <th></th>\n",
       "      <th>lat</th>\n",
       "      <th>lon</th>\n",
       "    </tr>\n",
       "    <tr>\n",
       "      <th>id</th>\n",
       "      <th></th>\n",
       "      <th></th>\n",
       "    </tr>\n",
       "  </thead>\n",
       "  <tbody>\n",
       "    <tr>\n",
       "      <th>2</th>\n",
       "      <td>59.771793</td>\n",
       "      <td>30.326111</td>\n",
       "    </tr>\n",
       "    <tr>\n",
       "      <th>219779</th>\n",
       "      <td>59.842673</td>\n",
       "      <td>30.320486</td>\n",
       "    </tr>\n",
       "  </tbody>\n",
       "</table>\n",
       "</div>"
      ],
      "text/plain": [
       "              lat        lon\n",
       "id                          \n",
       "2       59.771793  30.326111\n",
       "219779  59.842673  30.320486"
      ]
     },
     "execution_count": 5,
     "metadata": {},
     "output_type": "execute_result"
    }
   ],
   "source": [
    "node_coords = spb_osm.loc[spb_osm['type'] == 'node', ['id', 'lat', 'lon']].set_index('id')\n",
    "\n",
    "assert node_coords.notna().all().all()\n",
    "\n",
    "node_coords.head(2)"
   ]
  },
  {
   "cell_type": "markdown",
   "metadata": {},
   "source": [
    "### Infrastructure objects"
   ]
  },
  {
   "cell_type": "code",
   "execution_count": 6,
   "metadata": {},
   "outputs": [
    {
     "data": {
      "text/plain": [
       "0    3686308\n",
       "1      53839\n",
       "2       1564\n",
       "3         11\n",
       "4          1\n",
       "Name: n_infrastructure_types, dtype: int64"
      ]
     },
     "execution_count": 6,
     "metadata": {},
     "output_type": "execute_result"
    }
   ],
   "source": [
    "mask = spb_osm['tags'].notna()\n",
    "\n",
    "spb_osm.loc[mask, 'infrastructure_types'] = spb_osm.loc[mask, 'tags'].apply(\n",
    "    assign_infrastructure_types)\n",
    "\n",
    "spb_osm['n_infrastructure_types'] = spb_osm['infrastructure_types'].apply(\n",
    "    lambda l: len(l) if isinstance(l, list) else 0)\n",
    "\n",
    "spb_osm['n_infrastructure_types'].value_counts()"
   ]
  },
  {
   "cell_type": "code",
   "execution_count": 7,
   "metadata": {},
   "outputs": [
    {
     "data": {
      "text/html": [
       "<div>\n",
       "<style scoped>\n",
       "    .dataframe tbody tr th:only-of-type {\n",
       "        vertical-align: middle;\n",
       "    }\n",
       "\n",
       "    .dataframe tbody tr th {\n",
       "        vertical-align: top;\n",
       "    }\n",
       "\n",
       "    .dataframe thead th {\n",
       "        text-align: right;\n",
       "    }\n",
       "</style>\n",
       "<table border=\"1\" class=\"dataframe\">\n",
       "  <thead>\n",
       "    <tr style=\"text-align: right;\">\n",
       "      <th></th>\n",
       "      <th>type</th>\n",
       "      <th>id</th>\n",
       "      <th>lat</th>\n",
       "      <th>lon</th>\n",
       "      <th>tags</th>\n",
       "      <th>nodes</th>\n",
       "      <th>members</th>\n",
       "      <th>infrastructure_types</th>\n",
       "      <th>n_infrastructure_types</th>\n",
       "    </tr>\n",
       "  </thead>\n",
       "  <tbody>\n",
       "    <tr>\n",
       "      <th>0</th>\n",
       "      <td>node</td>\n",
       "      <td>2</td>\n",
       "      <td>59.771793</td>\n",
       "      <td>30.326111</td>\n",
       "      <td>{'historic': 'memorial', 'image': 'https://upl...</td>\n",
       "      <td>NaN</td>\n",
       "      <td>NaN</td>\n",
       "      <td>[sight_place_tourism]</td>\n",
       "      <td>1</td>\n",
       "    </tr>\n",
       "    <tr>\n",
       "      <th>492</th>\n",
       "      <td>node</td>\n",
       "      <td>238809</td>\n",
       "      <td>60.189495</td>\n",
       "      <td>29.700196</td>\n",
       "      <td>{'int_name': 'Shoes unknown summer resident (2...</td>\n",
       "      <td>NaN</td>\n",
       "      <td>NaN</td>\n",
       "      <td>[sight_place_tourism]</td>\n",
       "      <td>1</td>\n",
       "    </tr>\n",
       "  </tbody>\n",
       "</table>\n",
       "</div>"
      ],
      "text/plain": [
       "     type      id        lat        lon  \\\n",
       "0    node       2  59.771793  30.326111   \n",
       "492  node  238809  60.189495  29.700196   \n",
       "\n",
       "                                                  tags nodes members  \\\n",
       "0    {'historic': 'memorial', 'image': 'https://upl...   NaN     NaN   \n",
       "492  {'int_name': 'Shoes unknown summer resident (2...   NaN     NaN   \n",
       "\n",
       "      infrastructure_types  n_infrastructure_types  \n",
       "0    [sight_place_tourism]                       1  \n",
       "492  [sight_place_tourism]                       1  "
      ]
     },
     "execution_count": 7,
     "metadata": {},
     "output_type": "execute_result"
    }
   ],
   "source": [
    "mask = (spb_osm['n_infrastructure_types'] > 0)\\\n",
    "    & (spb_osm['type'] != 'relation')\n",
    "\n",
    "infrastructure = spb_osm[mask].copy()\n",
    "\n",
    "infrastructure.head(2)"
   ]
  },
  {
   "cell_type": "code",
   "execution_count": 8,
   "metadata": {},
   "outputs": [
    {
     "data": {
      "text/html": [
       "<div>\n",
       "<style scoped>\n",
       "    .dataframe tbody tr th:only-of-type {\n",
       "        vertical-align: middle;\n",
       "    }\n",
       "\n",
       "    .dataframe tbody tr th {\n",
       "        vertical-align: top;\n",
       "    }\n",
       "\n",
       "    .dataframe thead th {\n",
       "        text-align: right;\n",
       "    }\n",
       "</style>\n",
       "<table border=\"1\" class=\"dataframe\">\n",
       "  <thead>\n",
       "    <tr style=\"text-align: right;\">\n",
       "      <th></th>\n",
       "      <th>type</th>\n",
       "      <th>id</th>\n",
       "      <th>lat</th>\n",
       "      <th>lon</th>\n",
       "      <th>tags</th>\n",
       "      <th>nodes</th>\n",
       "      <th>members</th>\n",
       "      <th>infrastructure_types</th>\n",
       "      <th>n_infrastructure_types</th>\n",
       "      <th>name</th>\n",
       "    </tr>\n",
       "  </thead>\n",
       "  <tbody>\n",
       "    <tr>\n",
       "      <th>0</th>\n",
       "      <td>node</td>\n",
       "      <td>2</td>\n",
       "      <td>59.771793</td>\n",
       "      <td>30.326111</td>\n",
       "      <td>{'historic': 'memorial', 'image': 'https://upl...</td>\n",
       "      <td>NaN</td>\n",
       "      <td>NaN</td>\n",
       "      <td>[sight_place_tourism]</td>\n",
       "      <td>1</td>\n",
       "      <td>Центр Круглого Зала (ЦКЗ)</td>\n",
       "    </tr>\n",
       "    <tr>\n",
       "      <th>492</th>\n",
       "      <td>node</td>\n",
       "      <td>238809</td>\n",
       "      <td>60.189495</td>\n",
       "      <td>29.700196</td>\n",
       "      <td>{'int_name': 'Shoes unknown summer resident (2...</td>\n",
       "      <td>NaN</td>\n",
       "      <td>NaN</td>\n",
       "      <td>[sight_place_tourism]</td>\n",
       "      <td>1</td>\n",
       "      <td>Башмаки неизвестного дачника (2009)</td>\n",
       "    </tr>\n",
       "  </tbody>\n",
       "</table>\n",
       "</div>"
      ],
      "text/plain": [
       "     type      id        lat        lon  \\\n",
       "0    node       2  59.771793  30.326111   \n",
       "492  node  238809  60.189495  29.700196   \n",
       "\n",
       "                                                  tags nodes members  \\\n",
       "0    {'historic': 'memorial', 'image': 'https://upl...   NaN     NaN   \n",
       "492  {'int_name': 'Shoes unknown summer resident (2...   NaN     NaN   \n",
       "\n",
       "      infrastructure_types  n_infrastructure_types  \\\n",
       "0    [sight_place_tourism]                       1   \n",
       "492  [sight_place_tourism]                       1   \n",
       "\n",
       "                                    name  \n",
       "0              Центр Круглого Зала (ЦКЗ)  \n",
       "492  Башмаки неизвестного дачника (2009)  "
      ]
     },
     "execution_count": 8,
     "metadata": {},
     "output_type": "execute_result"
    }
   ],
   "source": [
    "def get_name(tags: dict) -> str:\n",
    "    if not isinstance(tags, dict):\n",
    "        return\n",
    "    \n",
    "    name = tags.get('official_name', tags.get('name:ru', tags.get('name')))\n",
    "    \n",
    "    return name\n",
    "\n",
    "\n",
    "infrastructure['name'] = infrastructure['tags'].apply(get_name)\n",
    "\n",
    "infrastructure.head(2)"
   ]
  },
  {
   "cell_type": "code",
   "execution_count": 9,
   "metadata": {},
   "outputs": [
    {
     "data": {
      "application/vnd.jupyter.widget-view+json": {
       "model_id": "d519448ba4644077ac45907fec89e9d0",
       "version_major": 2,
       "version_minor": 0
      },
      "text/plain": [
       "HBox(children=(HTML(value=''), FloatProgress(value=0.0, max=12612.0), HTML(value='')))"
      ]
     },
     "metadata": {},
     "output_type": "display_data"
    },
    {
     "name": "stdout",
     "output_type": "stream",
     "text": [
      "\n"
     ]
    }
   ],
   "source": [
    "node_ids = set(node_coords.index.tolist())\n",
    "\n",
    "mask = infrastructure['nodes'].notna()\n",
    "n_items = mask.sum()\n",
    "\n",
    "for i, row in tqdm(infrastructure[mask].iterrows(), total=n_items):\n",
    "    nodes = list(set(row['nodes']).intersection(node_ids))\n",
    "    coords = node_coords.loc[nodes].values\n",
    "    \n",
    "    distances = get_earth_distances(coords, coords)\n",
    "    diameter = distances.max()\n",
    "    \n",
    "    lat, lon = coords.mean(axis=0)\n",
    "    \n",
    "    infrastructure.loc[i, 'lat'] = lat\n",
    "    infrastructure.loc[i, 'lon'] = lon\n",
    "    infrastructure.loc[i, 'diameter'] = diameter"
   ]
  },
  {
   "cell_type": "code",
   "execution_count": 10,
   "metadata": {},
   "outputs": [
    {
     "data": {
      "image/png": "[encoded data removed]",
      "text/plain": [
       "<Figure size 432x288 with 1 Axes>"
      ]
     },
     "metadata": {
      "needs_background": "light"
     },
     "output_type": "display_data"
    }
   ],
   "source": [
    "plt.hist(infrastructure['diameter'], bins=100)\n",
    "\n",
    "plt.yscale('log');"
   ]
  },
  {
   "cell_type": "code",
   "execution_count": 15,
   "metadata": {},
   "outputs": [
    {
     "data": {
      "text/plain": [
       "0.016843888209278252"
      ]
     },
     "execution_count": 15,
     "metadata": {},
     "output_type": "execute_result"
    }
   ],
   "source": [
    "(infrastructure['diameter'] > 0.25).mean()"
   ]
  },
  {
   "cell_type": "code",
   "execution_count": 16,
   "metadata": {},
   "outputs": [
    {
     "data": {
      "text/plain": [
       "{'contact:website': 'http://www.seaport.spb.ru/about/structure/13/',\n",
       " 'industrial': 'port',\n",
       " 'landuse': 'industrial',\n",
       " 'name': 'Первая стивидорная компания',\n",
       " 'official_name': 'ОАО \"Морской порт Санкт-Петербург\"',\n",
       " 'port': 'cargo'}"
      ]
     },
     "execution_count": 16,
     "metadata": {},
     "output_type": "execute_result"
    }
   ],
   "source": [
    "infrastructure.sort_values(by='diameter', ascending=False).iloc[0]['tags']"
   ]
  },
  {
   "cell_type": "code",
   "execution_count": 17,
   "metadata": {},
   "outputs": [],
   "source": [
    "assert infrastructure[['lat', 'lon']].notna().all().all()"
   ]
  },
  {
   "cell_type": "code",
   "execution_count": 18,
   "metadata": {},
   "outputs": [],
   "source": [
    "assert infrastructure['id'].nunique() == infrastructure.shape[0]"
   ]
  },
  {
   "cell_type": "code",
   "execution_count": 20,
   "metadata": {},
   "outputs": [],
   "source": [
    "infrastructure_json = infrastructure\\\n",
    "    .drop(columns=['type', 'tags', 'nodes', 'members', 'n_infrastructure_types', 'diameter'])\\\n",
    "    .rename(columns={'infrastructure_types': 'types'})\n",
    "\n",
    "infrastructure_json = [row.to_dict() for _, row in infrastructure_json.iterrows()]"
   ]
  },
  {
   "cell_type": "code",
   "execution_count": 21,
   "metadata": {},
   "outputs": [
    {
     "data": {
      "text/plain": [
       "53135"
      ]
     },
     "execution_count": 21,
     "metadata": {},
     "output_type": "execute_result"
    }
   ],
   "source": [
    "len(infrastructure_json)"
   ]
  },
  {
   "cell_type": "code",
   "execution_count": 22,
   "metadata": {},
   "outputs": [],
   "source": [
    "save_json(infrastructure_json, '../data/infrastructure.json')"
   ]
  },
  {
   "cell_type": "code",
   "execution_count": 26,
   "metadata": {},
   "outputs": [
    {
     "data": {
      "text/plain": [
       "<AxesSubplot:>"
      ]
     },
     "execution_count": 26,
     "metadata": {},
     "output_type": "execute_result"
    },
    {
     "data": {
      "image/png": "[encoded data removed]",
      "text/plain": [
       "<Figure size 432x288 with 1 Axes>"
      ]
     },
     "metadata": {
      "needs_background": "light"
     },
     "output_type": "display_data"
    }
   ],
   "source": [
    "infrastructure_types = pd.Series(chain.from_iterable(infrastructure['infrastructure_types']))\n",
    "\n",
    "infrastructure_types.value_counts().plot(kind='bar')"
   ]
  },
  {
   "cell_type": "markdown",
   "metadata": {},
   "source": [
    "### Subway stations"
   ]
  },
  {
   "cell_type": "code",
   "execution_count": null,
   "metadata": {},
   "outputs": [],
   "source": []
  },
  {
   "cell_type": "code",
   "execution_count": null,
   "metadata": {},
   "outputs": [],
   "source": []
  },
  {
   "cell_type": "code",
   "execution_count": null,
   "metadata": {},
   "outputs": [],
   "source": []
  },
  {
   "cell_type": "code",
   "execution_count": null,
   "metadata": {},
   "outputs": [],
   "source": []
  },
  {
   "cell_type": "code",
   "execution_count": null,
   "metadata": {},
   "outputs": [],
   "source": []
  },
  {
   "cell_type": "code",
   "execution_count": null,
   "metadata": {},
   "outputs": [],
   "source": []
  },
  {
   "cell_type": "code",
   "execution_count": null,
   "metadata": {},
   "outputs": [],
   "source": [
    "def is_subway_route(tags: dict) -> bool:\n",
    "    return isinstance(tags, dict) and tags.get('type') == 'route' and tags.get('route') == 'subway'\n",
    "\n",
    "\n",
    "df['is_subway_route'] = df['tags'].apply(is_subway_route)"
   ]
  },
  {
   "cell_type": "code",
   "execution_count": null,
   "metadata": {},
   "outputs": [],
   "source": [
    "subway_routes = df[df['is_subway_route']].copy()\n",
    "\n",
    "subway_routes['name'] = subway_routes['tags'].apply(lambda x: x.get('name'))\n",
    "\n",
    "subway_routes.head()"
   ]
  },
  {
   "cell_type": "code",
   "execution_count": null,
   "metadata": {},
   "outputs": [],
   "source": [
    "subway_station_ids = {elem['ref'] for _, route in subway_routes.iterrows() for elem in route['members'] if elem['type'] == 'node'}\n",
    "\n",
    "subway_stations = df[df['id'].isin(subway_station_ids)].copy()\n",
    "\n",
    "subway_stations"
   ]
  },
  {
   "cell_type": "code",
   "execution_count": null,
   "metadata": {},
   "outputs": [],
   "source": []
  },
  {
   "cell_type": "code",
   "execution_count": null,
   "metadata": {},
   "outputs": [],
   "source": [
    "members = pd.DataFrame(list(chain.from_iterable(subway_routes['members'])))\n",
    "\n",
    "members[members['ref'].isin(subway_station_ids - set(subway_stations['id']))]"
   ]
  },
  {
   "cell_type": "code",
   "execution_count": null,
   "metadata": {},
   "outputs": [],
   "source": []
  },
  {
   "cell_type": "code",
   "execution_count": null,
   "metadata": {},
   "outputs": [],
   "source": []
  },
  {
   "cell_type": "code",
   "execution_count": null,
   "metadata": {},
   "outputs": [],
   "source": [
    "def is_subway_entrance(tags: dict) -> bool:\n",
    "    return isinstance(tags, dict) and tags.get('railway') == 'subway_entrance'\n",
    "\n",
    "\n",
    "df['is_subway_entrance'] = df['tags'].apply(is_subway_entrance)"
   ]
  },
  {
   "cell_type": "code",
   "execution_count": null,
   "metadata": {},
   "outputs": [],
   "source": [
    "def is_subway_station"
   ]
  },
  {
   "cell_type": "code",
   "execution_count": null,
   "metadata": {},
   "outputs": [],
   "source": []
  },
  {
   "cell_type": "code",
   "execution_count": null,
   "metadata": {},
   "outputs": [],
   "source": [
    "mask = (df['type'] == 'node') & (df['is_subway_entrance'])\n",
    "subway_entrances = df.loc[mask].copy()\n",
    "\n",
    "subway_entrances['color'] = subway_entrances['tags'].apply(lambda x: x.get('colour'))\n",
    "subway_entrances['name'] = subway_entrances['tags'].apply(lambda x: x.get('name:ru', x.get('name')))\n",
    "\n",
    "subway_entrances"
   ]
  },
  {
   "cell_type": "code",
   "execution_count": null,
   "metadata": {},
   "outputs": [],
   "source": [
    "subway_entrances = df.loc[mask].copy()\n",
    "\n",
    "subway_entrances"
   ]
  },
  {
   "cell_type": "code",
   "execution_count": null,
   "metadata": {},
   "outputs": [],
   "source": [
    "coords = subway_entrances[['lat', 'lon']].values\n",
    "\n",
    "entrance_distances = get_earth_distances(coords, coords)\n",
    "entrance_distances[np.arange(entrance_distances.shape[0]), np.arange(entrance_distances.shape[0])] = np.inf\n",
    "\n",
    "entrance_distances"
   ]
  },
  {
   "cell_type": "raw",
   "metadata": {},
   "source": [
    "i, j = np.where(entrance_distances <= 0.5)\n",
    "\n",
    "edges = list(zip(subway_entrances['id'].iloc[i], subway_entrances['id'].iloc[j]))"
   ]
  },
  {
   "cell_type": "code",
   "execution_count": null,
   "metadata": {},
   "outputs": [],
   "source": [
    "argmin = np.argmin(entrance_distances, axis=0)\n",
    "\n",
    "edges = [\n",
    "    (subway_entrances['id'].iloc[i], subway_entrances['id'].iloc[j])\n",
    "    for i, j in enumerate(argmin)\n",
    "    if entrance_distances[i, j] <= 1\n",
    "]"
   ]
  },
  {
   "cell_type": "code",
   "execution_count": null,
   "metadata": {},
   "outputs": [],
   "source": [
    "pos = dict(zip(subway_entrances['id'], coords[:, ::-1]))"
   ]
  },
  {
   "cell_type": "code",
   "execution_count": null,
   "metadata": {},
   "outputs": [],
   "source": [
    "g = nx.Graph()\n",
    "g.add_nodes_from(subway_entrances['id'])\n",
    "g.add_edges_from(edges)\n",
    "\n",
    "plt.figure(figsize=(10, 10))\n",
    "nx.draw(g, pos, node_size=10)"
   ]
  },
  {
   "cell_type": "code",
   "execution_count": null,
   "metadata": {},
   "outputs": [],
   "source": [
    "for c in nx.connected_components(g):\n",
    "    print(subway_entrances.loc[subway_entrances['id'].isin(c), 'name'], '\\n')"
   ]
  },
  {
   "cell_type": "code",
   "execution_count": null,
   "metadata": {},
   "outputs": [],
   "source": []
  },
  {
   "cell_type": "code",
   "execution_count": null,
   "metadata": {},
   "outputs": [],
   "source": []
  },
  {
   "cell_type": "code",
   "execution_count": null,
   "metadata": {},
   "outputs": [],
   "source": []
  },
  {
   "cell_type": "code",
   "execution_count": null,
   "metadata": {},
   "outputs": [],
   "source": []
  },
  {
   "cell_type": "code",
   "execution_count": null,
   "metadata": {},
   "outputs": [],
   "source": [
    "lonlat = df.loc[mask, ['lon', 'lat']].values\n",
    "\n",
    "plt.figure(figsize=(10, 10))\n",
    "\n",
    "plt.scatter(*lonlat.T)"
   ]
  },
  {
   "cell_type": "code",
   "execution_count": null,
   "metadata": {},
   "outputs": [],
   "source": [
    "df.loc[mask, 'tags'].tolist()"
   ]
  },
  {
   "cell_type": "code",
   "execution_count": null,
   "metadata": {},
   "outputs": [],
   "source": []
  },
  {
   "cell_type": "code",
   "execution_count": null,
   "metadata": {},
   "outputs": [],
   "source": [
    "df['type'].value_counts()"
   ]
  },
  {
   "cell_type": "code",
   "execution_count": null,
   "metadata": {},
   "outputs": [],
   "source": []
  }
 ],
 "metadata": {
  "kernelspec": {
   "display_name": "Python 3",
   "language": "python",
   "name": "python3"
  },
  "language_info": {
   "codemirror_mode": {
    "name": "ipython",
    "version": 3
   },
   "file_extension": ".py",
   "mimetype": "text/x-python",
   "name": "python",
   "nbconvert_exporter": "python",
   "pygments_lexer": "ipython3",
   "version": "3.8.5"
  }
 },
 "nbformat": 4,
 "nbformat_minor": 4
}
