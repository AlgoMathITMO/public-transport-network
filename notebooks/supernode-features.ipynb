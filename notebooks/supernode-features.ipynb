{
 "cells": [
  {
   "cell_type": "markdown",
   "metadata": {},
   "source": [
    "# supernode-features\n",
    "\n",
    "The procedure of collecting and engineering topology-based supernode features for subsequent clustering.\n",
    "\n",
    "__This is an older implementation containing attempts on the Multi-scale Betweenness Centrality.__\n",
    "\n",
    "__Warning!__ Multiprocessing (16 cores), shortest paths (5 GB RAM).\n",
    "\n",
    "Requires:\n",
    "\n",
    "1. `data/supernodes/edges_pspace.json`\n",
    "2. `data/preprocessed/routes.json`\n",
    "3. `data/temp/subway_edges_pspace.json`\n",
    "\n",
    "Produces:\n",
    "1. `data/features/supernode_features.json`"
   ]
  },
  {
   "cell_type": "code",
   "execution_count": 1,
   "metadata": {},
   "outputs": [],
   "source": [
    "import sys\n",
    "sys.path.append('..')"
   ]
  },
  {
   "cell_type": "code",
   "execution_count": 2,
   "metadata": {},
   "outputs": [],
   "source": [
    "from itertools import product\n",
    "from multiprocessing import Pool\n",
    "from typing import Dict\n",
    "\n",
    "import numpy as np\n",
    "import pandas as pd\n",
    "import networkx as nx\n",
    "import seaborn as sns\n",
    "from tqdm import tqdm\n",
    "from matplotlib import pyplot as plt\n",
    "\n",
    "from myutils.json import load_json, save_json\n",
    "from myutils.stats import corrcoef\n",
    "\n",
    "from config import edges_pspace_fpath, routes_fpath, subway_edges_pspace_fpath, \\\n",
    "    supernode_features_fpath\n",
    "\n",
    "plt.style.use('seaborn-whitegrid')"
   ]
  },
  {
   "cell_type": "code",
   "execution_count": 3,
   "metadata": {},
   "outputs": [
    {
     "data": {
      "text/plain": [
       "[{'u': 0, 'v': 6, 'w': 23.28185292299166, 'route': 10003},\n",
       " {'u': 0, 'v': 8, 'w': 14.863275410682126, 'route': 2871},\n",
       " {'u': 0, 'v': 9, 'w': 13.995378725186596, 'route': 2871},\n",
       " {'u': 0, 'v': 13, 'w': 10.92823404394134, 'route': 1135},\n",
       " {'u': 0, 'v': 14, 'w': 12.609849731838038, 'route': 1085}]"
      ]
     },
     "execution_count": 3,
     "metadata": {},
     "output_type": "execute_result"
    }
   ],
   "source": [
    "edges = load_json(edges_pspace_fpath)\n",
    "\n",
    "edges[:5]"
   ]
  },
  {
   "cell_type": "code",
   "execution_count": 4,
   "metadata": {},
   "outputs": [
    {
     "data": {
      "text/plain": [
       "(3202, 118449)"
      ]
     },
     "execution_count": 4,
     "metadata": {},
     "output_type": "execute_result"
    }
   ],
   "source": [
    "pspace = nx.Graph()\n",
    "\n",
    "for edge in edges:\n",
    "    pspace.add_edge(edge['u'], edge['v'], weight=edge['w'], route=edge['route'])\n",
    "\n",
    "len(pspace), len(pspace.edges)"
   ]
  },
  {
   "cell_type": "code",
   "execution_count": 5,
   "metadata": {},
   "outputs": [
    {
     "data": {
      "text/html": [
       "<div>\n",
       "<style scoped>\n",
       "    .dataframe tbody tr th:only-of-type {\n",
       "        vertical-align: middle;\n",
       "    }\n",
       "\n",
       "    .dataframe tbody tr th {\n",
       "        vertical-align: top;\n",
       "    }\n",
       "\n",
       "    .dataframe thead th {\n",
       "        text-align: right;\n",
       "    }\n",
       "</style>\n",
       "<table border=\"1\" class=\"dataframe\">\n",
       "  <thead>\n",
       "    <tr style=\"text-align: right;\">\n",
       "      <th></th>\n",
       "      <th>name</th>\n",
       "      <th>type</th>\n",
       "      <th>direction</th>\n",
       "      <th>stops</th>\n",
       "      <th>distance</th>\n",
       "      <th>supernodes</th>\n",
       "    </tr>\n",
       "    <tr>\n",
       "      <th>id</th>\n",
       "      <th></th>\n",
       "      <th></th>\n",
       "      <th></th>\n",
       "      <th></th>\n",
       "      <th></th>\n",
       "      <th></th>\n",
       "    </tr>\n",
       "  </thead>\n",
       "  <tbody>\n",
       "    <tr>\n",
       "      <th>1125</th>\n",
       "      <td>А</td>\n",
       "      <td>tram</td>\n",
       "      <td>1</td>\n",
       "      <td>[16396, 16367, 16371, 16398, 16400, 16401, 164...</td>\n",
       "      <td>5.008430</td>\n",
       "      <td>[620, 827, 828, 20, 309, 80, 310, 204, 5, 29, ...</td>\n",
       "    </tr>\n",
       "    <tr>\n",
       "      <th>11125</th>\n",
       "      <td>А</td>\n",
       "      <td>tram</td>\n",
       "      <td>2</td>\n",
       "      <td>[33093, 16348, 16350, 16354, 16357, 16346, 163...</td>\n",
       "      <td>3.826103</td>\n",
       "      <td>[30, 829, 830, 621, 311, 831, 14, 81, 620]</td>\n",
       "    </tr>\n",
       "  </tbody>\n",
       "</table>\n",
       "</div>"
      ],
      "text/plain": [
       "      name  type  direction  \\\n",
       "id                            \n",
       "1125     А  tram          1   \n",
       "11125    А  tram          2   \n",
       "\n",
       "                                                   stops  distance  \\\n",
       "id                                                                   \n",
       "1125   [16396, 16367, 16371, 16398, 16400, 16401, 164...  5.008430   \n",
       "11125  [33093, 16348, 16350, 16354, 16357, 16346, 163...  3.826103   \n",
       "\n",
       "                                              supernodes  \n",
       "id                                                        \n",
       "1125   [620, 827, 828, 20, 309, 80, 310, 204, 5, 29, ...  \n",
       "11125         [30, 829, 830, 621, 311, 831, 14, 81, 620]  "
      ]
     },
     "execution_count": 5,
     "metadata": {},
     "output_type": "execute_result"
    }
   ],
   "source": [
    "routes = pd.read_json(routes_fpath).set_index('id')\n",
    "\n",
    "routes.head(2)"
   ]
  },
  {
   "cell_type": "code",
   "execution_count": 6,
   "metadata": {},
   "outputs": [],
   "source": [
    "partial_routes = {\n",
    "    (u, v, i): route[j : k + 1]\n",
    "    for i, route in routes['supernodes'].iteritems()\n",
    "    for j, u in enumerate(route)\n",
    "    for k, v in enumerate(route)\n",
    "    if j < k\n",
    "}"
   ]
  },
  {
   "cell_type": "code",
   "execution_count": 7,
   "metadata": {},
   "outputs": [
    {
     "data": {
      "text/plain": [
       "[{'u': 0, 'v': 6, 'w': 23.28185292299166, 'route': 10003},\n",
       " {'u': 0, 'v': 21, 'w': 13.125935702576376, 'route': 2},\n",
       " {'u': 0, 'v': 26, 'w': 9.416624034578554, 'route': 10003},\n",
       " {'u': 0, 'v': 37, 'w': 17.296068674283276, 'route': 2},\n",
       " {'u': 0, 'v': 40, 'w': 8.47553615930307, 'route': 2}]"
      ]
     },
     "execution_count": 7,
     "metadata": {},
     "output_type": "execute_result"
    }
   ],
   "source": [
    "subway_edges = load_json(subway_edges_pspace_fpath)\n",
    "\n",
    "subway_edges[:5]"
   ]
  },
  {
   "cell_type": "code",
   "execution_count": 8,
   "metadata": {},
   "outputs": [
    {
     "data": {
      "text/plain": [
       "(65, 506)"
      ]
     },
     "execution_count": 8,
     "metadata": {},
     "output_type": "execute_result"
    }
   ],
   "source": [
    "subway_pspace = nx.Graph()\n",
    "\n",
    "for edge in subway_edges:\n",
    "    subway_pspace.add_edge(edge['u'], edge['v'], weight=edge['w'], route=edge['route'])\n",
    "\n",
    "len(subway_pspace), len(subway_pspace.edges)"
   ]
  },
  {
   "cell_type": "markdown",
   "metadata": {},
   "source": [
    "## Standard features"
   ]
  },
  {
   "cell_type": "code",
   "execution_count": 9,
   "metadata": {},
   "outputs": [
    {
     "data": {
      "text/plain": [
       "<AxesSubplot:>"
      ]
     },
     "execution_count": 9,
     "metadata": {},
     "output_type": "execute_result"
    },
    {
     "data": {
      "image/png": "[encoded data removed]",
      "text/plain": [
       "<Figure size 432x288 with 1 Axes>"
      ]
     },
     "metadata": {},
     "output_type": "display_data"
    }
   ],
   "source": [
    "degree_centrality = pd.Series(nx.degree_centrality(pspace))\n",
    "\n",
    "degree_centrality.hist(bins=25)"
   ]
  },
  {
   "cell_type": "code",
   "execution_count": 10,
   "metadata": {},
   "outputs": [],
   "source": [
    "def chunks(l, n):\n",
    "    return [tuple(l[i : i + n]) for i in range(0, len(l), n)]"
   ]
  },
  {
   "cell_type": "code",
   "execution_count": 11,
   "metadata": {},
   "outputs": [],
   "source": [
    "def betweenness_centrality_parallel(G, processes=16):\n",
    "    p = Pool(processes=processes)\n",
    "    \n",
    "    node_divisor = len(p._pool) * 4\n",
    "    node_chunks = chunks(list(G.nodes()), int(G.order() / node_divisor))\n",
    "    num_chunks = len(node_chunks)\n",
    "    \n",
    "    betweenness_centrality_chunks = p.starmap(\n",
    "        nx.betweenness_centrality_subset,\n",
    "        zip(\n",
    "            [G] * num_chunks,\n",
    "            node_chunks,\n",
    "            [list(G)] * num_chunks,\n",
    "            [True] * num_chunks,\n",
    "            ['weight'] * num_chunks,\n",
    "        ),\n",
    "    )\n",
    "    \n",
    "    betweenness_centrality = betweenness_centrality_chunks[0]\n",
    "    \n",
    "    for betweenness_centrality_chunk in betweenness_centrality_chunks[1:]:\n",
    "        for n in betweenness_centrality_chunk:\n",
    "            betweenness_centrality[n] += betweenness_centrality_chunk[n]\n",
    "        \n",
    "    p.close()\n",
    "\n",
    "    return betweenness_centrality"
   ]
  },
  {
   "cell_type": "code",
   "execution_count": 12,
   "metadata": {},
   "outputs": [
    {
     "name": "stdout",
     "output_type": "stream",
     "text": [
      "CPU times: user 3.29 s, sys: 287 ms, total: 3.58 s\n",
      "Wall time: 43.8 s\n"
     ]
    },
    {
     "data": {
      "text/plain": [
       "<AxesSubplot:>"
      ]
     },
     "execution_count": 12,
     "metadata": {},
     "output_type": "execute_result"
    },
    {
     "data": {
      "image/png": "[encoded data removed]",
      "text/plain": [
       "<Figure size 432x288 with 1 Axes>"
      ]
     },
     "metadata": {},
     "output_type": "display_data"
    }
   ],
   "source": [
    "%%time\n",
    "\n",
    "betweenness_centrality = pd.Series(betweenness_centrality_parallel(pspace))\n",
    "\n",
    "betweenness_centrality.hist(bins=25)"
   ]
  },
  {
   "cell_type": "raw",
   "metadata": {},
   "source": [
    "%%time\n",
    "\n",
    "betweenness_centrality_nx = pd.Series(nx.betweenness_centrality(pspace, weight='weight'))\n",
    "\n",
    "(betweenness_centrality - betweenness_centrality_nx).abs().max()\n",
    "\n",
    "# out: 9.853229343548264e-16"
   ]
  },
  {
   "cell_type": "code",
   "execution_count": 13,
   "metadata": {},
   "outputs": [],
   "source": [
    "def single_source_dijkstra_path_length_subset(g, subset):\n",
    "    return {\n",
    "        node: dict(nx.single_source_dijkstra_path_length(pspace, node, weight='weight'))\n",
    "        for node in subset\n",
    "    }"
   ]
  },
  {
   "cell_type": "code",
   "execution_count": 14,
   "metadata": {},
   "outputs": [],
   "source": [
    "def shortest_path_lengths_parallel(G, processes=16):\n",
    "    p = Pool(processes=processes)\n",
    "    \n",
    "    node_divisor = len(p._pool) * 4\n",
    "    node_chunks = chunks(list(G.nodes()), int(G.order() / node_divisor))\n",
    "    num_chunks = len(node_chunks)\n",
    "    \n",
    "    shortest_path_lengths_chunks = p.starmap(\n",
    "        single_source_dijkstra_path_length_subset,\n",
    "        zip(\n",
    "            [G] * num_chunks,\n",
    "            node_chunks,\n",
    "        ),\n",
    "    )\n",
    "    \n",
    "    shortest_path_lengths = shortest_path_lengths_chunks[0]\n",
    "    \n",
    "    for shortest_path_lengths_chunk in shortest_path_lengths_chunks[1:]:\n",
    "        shortest_path_lengths.update(shortest_path_lengths_chunk)\n",
    "        \n",
    "    p.close()\n",
    "\n",
    "    return shortest_path_lengths"
   ]
  },
  {
   "cell_type": "code",
   "execution_count": 15,
   "metadata": {},
   "outputs": [
    {
     "name": "stdout",
     "output_type": "stream",
     "text": [
      "CPU times: user 5.05 s, sys: 1 s, total: 6.05 s\n",
      "Wall time: 34 s\n"
     ]
    },
    {
     "data": {
      "text/html": [
       "<div>\n",
       "<style scoped>\n",
       "    .dataframe tbody tr th:only-of-type {\n",
       "        vertical-align: middle;\n",
       "    }\n",
       "\n",
       "    .dataframe tbody tr th {\n",
       "        vertical-align: top;\n",
       "    }\n",
       "\n",
       "    .dataframe thead th {\n",
       "        text-align: right;\n",
       "    }\n",
       "</style>\n",
       "<table border=\"1\" class=\"dataframe\">\n",
       "  <thead>\n",
       "    <tr style=\"text-align: right;\">\n",
       "      <th></th>\n",
       "      <th>0</th>\n",
       "      <th>6</th>\n",
       "      <th>8</th>\n",
       "      <th>9</th>\n",
       "      <th>13</th>\n",
       "      <th>14</th>\n",
       "      <th>15</th>\n",
       "      <th>16</th>\n",
       "      <th>19</th>\n",
       "      <th>21</th>\n",
       "      <th>...</th>\n",
       "      <th>2916</th>\n",
       "      <th>2917</th>\n",
       "      <th>2033</th>\n",
       "      <th>2034</th>\n",
       "      <th>2035</th>\n",
       "      <th>2036</th>\n",
       "      <th>2037</th>\n",
       "      <th>2038</th>\n",
       "      <th>3090</th>\n",
       "      <th>3091</th>\n",
       "    </tr>\n",
       "  </thead>\n",
       "  <tbody>\n",
       "    <tr>\n",
       "      <th>0</th>\n",
       "      <td>0.000000</td>\n",
       "      <td>23.069443</td>\n",
       "      <td>13.624203</td>\n",
       "      <td>13.347050</td>\n",
       "      <td>6.194128</td>\n",
       "      <td>11.546631</td>\n",
       "      <td>7.649407</td>\n",
       "      <td>7.163426</td>\n",
       "      <td>2.690249</td>\n",
       "      <td>13.125936</td>\n",
       "      <td>...</td>\n",
       "      <td>NaN</td>\n",
       "      <td>NaN</td>\n",
       "      <td>NaN</td>\n",
       "      <td>NaN</td>\n",
       "      <td>NaN</td>\n",
       "      <td>NaN</td>\n",
       "      <td>NaN</td>\n",
       "      <td>NaN</td>\n",
       "      <td>NaN</td>\n",
       "      <td>NaN</td>\n",
       "    </tr>\n",
       "    <tr>\n",
       "      <th>269</th>\n",
       "      <td>0.461312</td>\n",
       "      <td>23.530756</td>\n",
       "      <td>14.085515</td>\n",
       "      <td>13.808362</td>\n",
       "      <td>6.655440</td>\n",
       "      <td>12.007943</td>\n",
       "      <td>7.209116</td>\n",
       "      <td>7.624739</td>\n",
       "      <td>3.144753</td>\n",
       "      <td>13.587248</td>\n",
       "      <td>...</td>\n",
       "      <td>NaN</td>\n",
       "      <td>NaN</td>\n",
       "      <td>NaN</td>\n",
       "      <td>NaN</td>\n",
       "      <td>NaN</td>\n",
       "      <td>NaN</td>\n",
       "      <td>NaN</td>\n",
       "      <td>NaN</td>\n",
       "      <td>NaN</td>\n",
       "      <td>NaN</td>\n",
       "    </tr>\n",
       "  </tbody>\n",
       "</table>\n",
       "<p>2 rows × 3202 columns</p>\n",
       "</div>"
      ],
      "text/plain": [
       "         0          6          8          9         13         14        15    \\\n",
       "0    0.000000  23.069443  13.624203  13.347050  6.194128  11.546631  7.649407   \n",
       "269  0.461312  23.530756  14.085515  13.808362  6.655440  12.007943  7.209116   \n",
       "\n",
       "         16        19         21    ...  2916  2917  2033  2034  2035  2036  \\\n",
       "0    7.163426  2.690249  13.125936  ...   NaN   NaN   NaN   NaN   NaN   NaN   \n",
       "269  7.624739  3.144753  13.587248  ...   NaN   NaN   NaN   NaN   NaN   NaN   \n",
       "\n",
       "     2037  2038  3090  3091  \n",
       "0     NaN   NaN   NaN   NaN  \n",
       "269   NaN   NaN   NaN   NaN  \n",
       "\n",
       "[2 rows x 3202 columns]"
      ]
     },
     "execution_count": 15,
     "metadata": {},
     "output_type": "execute_result"
    }
   ],
   "source": [
    "%%time\n",
    "\n",
    "shortest_path_lengths = pd.DataFrame(shortest_path_lengths_parallel(pspace))\n",
    "\n",
    "shortest_path_lengths.head(2)"
   ]
  },
  {
   "cell_type": "code",
   "execution_count": 16,
   "metadata": {},
   "outputs": [],
   "source": [
    "def closeness_centrality(shortest_path_lengths: pd.DataFrame) -> pd.Series:\n",
    "    N = shortest_path_lengths.shape[0]\n",
    "    n = shortest_path_lengths.notna().sum(axis=0)\n",
    "    \n",
    "    d = shortest_path_lengths.sum(axis=0)\n",
    "    d[d == 0] = 1\n",
    "    \n",
    "    return (n - 1) ** 2 / ((N - 1) * d)"
   ]
  },
  {
   "cell_type": "code",
   "execution_count": 17,
   "metadata": {},
   "outputs": [
    {
     "data": {
      "text/plain": [
       "<AxesSubplot:>"
      ]
     },
     "execution_count": 17,
     "metadata": {},
     "output_type": "execute_result"
    },
    {
     "data": {
      "image/png": "[encoded data removed]",
      "text/plain": [
       "<Figure size 432x288 with 1 Axes>"
      ]
     },
     "metadata": {},
     "output_type": "display_data"
    }
   ],
   "source": [
    "closeness_centrality = closeness_centrality(shortest_path_lengths.T)\n",
    "\n",
    "closeness_centrality.hist(bins=25)"
   ]
  },
  {
   "cell_type": "raw",
   "metadata": {},
   "source": [
    "closeness_centrality_nx = pd.Series(nx.closeness_centrality(pspace, distance='weight'))\n",
    "\n",
    "(closeness_centrality - closeness_centrality_nx).abs().mean()\n",
    "\n",
    "# out: 4.2057935910663724e-17"
   ]
  },
  {
   "cell_type": "markdown",
   "metadata": {},
   "source": [
    "## Multiscale Betweenness Centrality"
   ]
  },
  {
   "cell_type": "raw",
   "metadata": {},
   "source": [
    "from heapq import heappush, heappop\n",
    "from itertools import count"
   ]
  },
  {
   "cell_type": "raw",
   "metadata": {},
   "source": [
    "def single_source_dijkstra_path_basic(G, s, weight='weight'):\n",
    "    err = 1e-5\n",
    "    \n",
    "    # modified from Eppstein\n",
    "    S = []\n",
    "    P = {}\n",
    "    for v in G:\n",
    "        P[v] = []\n",
    "    sigma = dict.fromkeys(G, 0.0)  # sigma[v]=0 for v in G\n",
    "    D = {}\n",
    "    sigma[s] = 1.0\n",
    "    push = heappush\n",
    "    pop = heappop\n",
    "    seen = {s: 0}\n",
    "    c = count()\n",
    "    Q = []  # use Q as heap with (distance,node id) tuples\n",
    "    push(Q, (0, next(c), s, s))\n",
    "    while Q:\n",
    "        (dist, _, pred, v) = pop(Q)\n",
    "        if v in D:\n",
    "            continue  # already searched this node.\n",
    "        sigma[v] += sigma[pred]  # count paths\n",
    "        S.append(v)\n",
    "        D[v] = dist\n",
    "        for w, edgedata in G[v].items():\n",
    "            vw_dist = dist + edgedata.get(weight, 1)\n",
    "            # elif w not in D and (w not in seen or vw_dist < seen[w]):\n",
    "            if w not in D and (w not in seen or vw_dist < seen[w] - err):\n",
    "                seen[w] = vw_dist\n",
    "                push(Q, (vw_dist, next(c), v, w))\n",
    "                sigma[w] = 0.0\n",
    "                P[w] = [v]\n",
    "            # elif vw_dist == seen[w]:  # handle equal paths\n",
    "            elif vw_dist < seen[w] + err:  # handle equal paths\n",
    "                sigma[w] += sigma[v]\n",
    "                P[w].append(v)\n",
    "    return S, D, P, sigma"
   ]
  },
  {
   "cell_type": "raw",
   "metadata": {},
   "source": [
    "def get_lspace_P(G, partial_routes, D, P):\n",
    "    lspace_P = {u: set() for u in G}\n",
    "\n",
    "    for v, us in P.items():\n",
    "        for u in us:\n",
    "            route_id = G.get_edge_data(u, v)['route']\n",
    "            partial_route = partial_routes[(u, v, route_id)]\n",
    "            assert u == partial_route[0] and v == partial_route[-1]\n",
    "\n",
    "            for u0, u1 in zip(partial_route, partial_route[1:]):\n",
    "                if D[u0] < D[u1]:\n",
    "                    lspace_P[u1].add(u0)\n",
    "                \n",
    "    return lspace_P"
   ]
  },
  {
   "cell_type": "raw",
   "metadata": {},
   "source": [
    "def accumulate_basic(betweenness, S, P, sigma, s):\n",
    "    delta = dict.fromkeys(S, 0)\n",
    "    while S:\n",
    "        w = S.pop()\n",
    "        coeff = (1 + delta[w]) / sigma[w]\n",
    "        for v in P[w]:\n",
    "            assert sigma[v] <= sigma[w], (s, v, w, sigma[v], sigma[w])\n",
    "            \n",
    "            delta[v] += sigma[v] * coeff\n",
    "        if w != s:\n",
    "            betweenness[w] += delta[w]\n",
    "    return betweenness"
   ]
  },
  {
   "cell_type": "raw",
   "metadata": {},
   "source": [
    "def multiscale_betweenness_centrality_subset(G, partial_routes, subset=None, normalize=True):\n",
    "    betweenness = dict.fromkeys(G, 0)\n",
    "    \n",
    "    if subset is None:\n",
    "        subset = list(G.nodes)\n",
    "\n",
    "    for s in subset:\n",
    "        S, D, P, sigma = single_source_dijkstra_path_basic(G, s)\n",
    "\n",
    "        val = list(D.values())\n",
    "        assert all(v0 <= v1 for v0, v1 in zip(val, val[1:])), s\n",
    "\n",
    "        assert all(v0 == v1 for v0, v1 in zip(S, D)), s\n",
    "\n",
    "        lspace_P = get_lspace_P(G, partial_routes, D, P)\n",
    "        betweenness = accumulate_basic(betweenness, S, lspace_P, sigma, s)\n",
    "\n",
    "    if normalize:\n",
    "        n = len(G)\n",
    "        norm = (n - 1) * (n - 2)\n",
    "\n",
    "        for u in betweenness:\n",
    "            betweenness[u] /= norm\n",
    "        \n",
    "    return betweenness"
   ]
  },
  {
   "cell_type": "raw",
   "metadata": {},
   "source": [
    "def multiscale_betweenness_centrality_parallel(G, partial_routes, processes=16):\n",
    "    p = Pool(processes=processes)\n",
    "    \n",
    "    node_divisor = len(p._pool) * 4\n",
    "    node_chunks = chunks(list(G.nodes()), int(G.order() / node_divisor))\n",
    "    num_chunks = len(node_chunks)\n",
    "    \n",
    "    betweenness_centrality_chunks = p.starmap(\n",
    "        multiscale_betweenness_centrality_subset,\n",
    "        zip(\n",
    "            [G] * num_chunks,\n",
    "            [partial_routes] * num_chunks,\n",
    "            node_chunks,\n",
    "            [True] * num_chunks,\n",
    "        ),\n",
    "    )\n",
    "    \n",
    "    betweenness_centrality = betweenness_centrality_chunks[0]\n",
    "    \n",
    "    for betweenness_centrality_chunk in betweenness_centrality_chunks[1:]:\n",
    "        for n in betweenness_centrality_chunk:\n",
    "            betweenness_centrality[n] += betweenness_centrality_chunk[n]\n",
    "        \n",
    "    p.close()\n",
    "\n",
    "    return betweenness_centrality"
   ]
  },
  {
   "cell_type": "raw",
   "metadata": {},
   "source": [
    "%%time\n",
    "\n",
    "mbc = pd.Series(multiscale_betweenness_centrality_parallel(pspace, partial_routes))\n",
    "\n",
    "mbc.hist(bins=25)"
   ]
  },
  {
   "cell_type": "raw",
   "metadata": {},
   "source": [
    "clustering = pd.Series(nx.clustering(pspace))\n",
    "\n",
    "clustering.hist(bins=25)"
   ]
  },
  {
   "cell_type": "raw",
   "metadata": {},
   "source": [
    "eigenvector_centrality = pd.Series(nx.eigenvector_centrality(pspace))\n",
    "\n",
    "eigenvector_centrality.hist(bins=25)"
   ]
  },
  {
   "cell_type": "code",
   "execution_count": 18,
   "metadata": {},
   "outputs": [
    {
     "data": {
      "text/html": [
       "<div>\n",
       "<style scoped>\n",
       "    .dataframe tbody tr th:only-of-type {\n",
       "        vertical-align: middle;\n",
       "    }\n",
       "\n",
       "    .dataframe tbody tr th {\n",
       "        vertical-align: top;\n",
       "    }\n",
       "\n",
       "    .dataframe thead th {\n",
       "        text-align: right;\n",
       "    }\n",
       "</style>\n",
       "<table border=\"1\" class=\"dataframe\">\n",
       "  <thead>\n",
       "    <tr style=\"text-align: right;\">\n",
       "      <th></th>\n",
       "      <th>betweenness_centrality</th>\n",
       "      <th>closeness_centrality</th>\n",
       "      <th>degree_centrality</th>\n",
       "    </tr>\n",
       "    <tr>\n",
       "      <th>id</th>\n",
       "      <th></th>\n",
       "      <th></th>\n",
       "      <th></th>\n",
       "    </tr>\n",
       "  </thead>\n",
       "  <tbody>\n",
       "    <tr>\n",
       "      <th>0</th>\n",
       "      <td>0.070812</td>\n",
       "      <td>0.046982</td>\n",
       "      <td>0.124024</td>\n",
       "    </tr>\n",
       "    <tr>\n",
       "      <th>1</th>\n",
       "      <td>0.087949</td>\n",
       "      <td>0.049458</td>\n",
       "      <td>0.078101</td>\n",
       "    </tr>\n",
       "  </tbody>\n",
       "</table>\n",
       "</div>"
      ],
      "text/plain": [
       "    betweenness_centrality  closeness_centrality  degree_centrality\n",
       "id                                                                 \n",
       "0                 0.070812              0.046982           0.124024\n",
       "1                 0.087949              0.049458           0.078101"
      ]
     },
     "execution_count": 18,
     "metadata": {},
     "output_type": "execute_result"
    }
   ],
   "source": [
    "features = pd.DataFrame({\n",
    "    'betweenness_centrality': betweenness_centrality,\n",
    "    'closeness_centrality': closeness_centrality,\n",
    "    'degree_centrality': degree_centrality,\n",
    "    # 'multiscale_betweenness_centrality': mbc,\n",
    "    # 'clustering': clustering,\n",
    "    # 'eigenvector_centrality': eigenvector_centrality,\n",
    "})\n",
    "\n",
    "features.index.name = 'id'\n",
    "\n",
    "features.head(2)"
   ]
  },
  {
   "cell_type": "code",
   "execution_count": 19,
   "metadata": {},
   "outputs": [
    {
     "data": {
      "text/plain": [
       "False"
      ]
     },
     "execution_count": 19,
     "metadata": {},
     "output_type": "execute_result"
    }
   ],
   "source": [
    "features.isna().any().any()"
   ]
  },
  {
   "cell_type": "code",
   "execution_count": 21,
   "metadata": {},
   "outputs": [
    {
     "data": {
      "text/plain": [
       "False"
      ]
     },
     "execution_count": 21,
     "metadata": {},
     "output_type": "execute_result"
    }
   ],
   "source": [
    "for col in list(features.columns):\n",
    "    values = features[col]\n",
    "    \n",
    "    neighbour_mean = {}\n",
    "    \n",
    "    for node in pspace:\n",
    "        # neighbours = set(pspace.successors(node)).union(set(pspace.predecessors(node)))\n",
    "        neighbours = set(pspace.neighbors(node))\n",
    "        mean = values[neighbours].mean()\n",
    "        neighbour_mean[node] = mean\n",
    "    \n",
    "    neighbour_mean = pd.Series(neighbour_mean)    \n",
    "    neighbour_mean.index.name = 'id'\n",
    "    \n",
    "    features[col + '_neighbour_mean'] = neighbour_mean\n",
    "    \n",
    "features.isna().any().any()"
   ]
  },
  {
   "cell_type": "code",
   "execution_count": 22,
   "metadata": {},
   "outputs": [
    {
     "data": {
      "text/plain": [
       "<AxesSubplot:>"
      ]
     },
     "execution_count": 22,
     "metadata": {},
     "output_type": "execute_result"
    },
    {
     "data": {
      "image/png": "[encoded data removed]",
      "text/plain": [
       "<Figure size 432x288 with 2 Axes>"
      ]
     },
     "metadata": {},
     "output_type": "display_data"
    }
   ],
   "source": [
    "corr = corrcoef(features, method='spearman').fillna(0)\n",
    "\n",
    "sns.heatmap(corr, square=True, cmap='viridis')"
   ]
  },
  {
   "cell_type": "code",
   "execution_count": 23,
   "metadata": {},
   "outputs": [
    {
     "data": {
      "text/plain": [
       "{'id': 0,\n",
       " 'betweenness_centrality': 0.0708123710928476,\n",
       " 'betweenness_centrality_neighbour_mean': 0.0047093065785512485,\n",
       " 'closeness_centrality': 0.046981632619449105,\n",
       " 'closeness_centrality_neighbour_mean': 0.042130804264725125,\n",
       " 'degree_centrality': 0.1240237425804436,\n",
       " 'degree_centrality_neighbour_mean': 0.03709010959264146}"
      ]
     },
     "execution_count": 23,
     "metadata": {},
     "output_type": "execute_result"
    }
   ],
   "source": [
    "features_json = []\n",
    "\n",
    "for i, row in features[sorted(features.columns)].iterrows():\n",
    "    item = {'id': i}\n",
    "    item.update(row.to_dict())\n",
    "    \n",
    "    features_json.append(item)\n",
    "    \n",
    "features_json[0]"
   ]
  },
  {
   "cell_type": "code",
   "execution_count": null,
   "metadata": {},
   "outputs": [],
   "source": [
    "save_json(features_json, supernode_features_fpath)"
   ]
  },
  {
   "cell_type": "code",
   "execution_count": null,
   "metadata": {},
   "outputs": [],
   "source": []
  }
 ],
 "metadata": {
  "kernelspec": {
   "display_name": "Python 3",
   "language": "python",
   "name": "python3"
  },
  "language_info": {
   "codemirror_mode": {
    "name": "ipython",
    "version": 3
   },
   "file_extension": ".py",
   "mimetype": "text/x-python",
   "name": "python",
   "nbconvert_exporter": "python",
   "pygments_lexer": "ipython3",
   "version": "3.7.3"
  }
 },
 "nbformat": 4,
 "nbformat_minor": 4
}
