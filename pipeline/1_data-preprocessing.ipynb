{
 "cells": [
  {
   "cell_type": "markdown",
   "metadata": {},
   "source": [
    "# data-preprocessing\n",
    "\n",
    "Preprocessing procedures for raw data.\n",
    "\n",
    "Warning: can eat up to 16 GB RAM while processing and filtering raw OSM data.\n",
    "\n",
    "Requires:\n",
    "1. `data/raw/osm.zip` (can be downloaded [here](https://drive.google.com/drive/folders/1Z_oSs5Vk4LSxwjc10iVa9mazBvWHuCf6?usp=sharing))\n",
    "2. `data/raw/spb_routes.csv`\n",
    "\n",
    "Produces:\n",
    "1. `data/preprocessed/infrastructure.json`\n",
    "2. `data/preprocessed/stops.json`\n",
    "3. `data/preprocessed/routes.json`"
   ]
  },
  {
   "cell_type": "code",
   "execution_count": 1,
   "metadata": {},
   "outputs": [],
   "source": [
    "import sys\n",
    "sys.path.append('..')"
   ]
  },
  {
   "cell_type": "code",
   "execution_count": 2,
   "metadata": {},
   "outputs": [],
   "source": [
    "import json\n",
    "from itertools import chain\n",
    "from typing import Tuple, List, Optional, Set\n",
    "from zipfile import ZipFile\n",
    "\n",
    "import numpy as np\n",
    "import pandas as pd\n",
    "import networkx as nx\n",
    "import seaborn as sns\n",
    "from cartopy import crs as ccrs\n",
    "from tqdm import tqdm\n",
    "from matplotlib import pyplot as plt\n",
    "\n",
    "from myutils.spatial import get_earth_distances\n",
    "from myutils.json import save_json\n",
    "from myutils.matplotlib import matplotlib_latex, matplotlib_seaborn_style\n",
    "\n",
    "from config import raw_osm_data_fpath, raw_routes_data_fpath, \\\n",
    "    infrastructure_fpath, stops_fpath, routes_fpath\n",
    "from cartopy_config import whole_area, city_center, get_node_props\n",
    "from ptn.osm import assign_infrastructure_types\n",
    "from ptn.cartopy import add_map_subplot\n",
    "\n",
    "matplotlib_seaborn_style()\n",
    "matplotlib_latex()"
   ]
  },
  {
   "cell_type": "markdown",
   "metadata": {},
   "source": [
    "## SPb routes"
   ]
  },
  {
   "cell_type": "code",
   "execution_count": null,
   "metadata": {},
   "outputs": [],
   "source": [
    "raw_routes = pd.read_csv(raw_routes_data_fpath, encoding='utf-8')\n",
    "\n",
    "raw_routes = raw_routes.rename(columns={'route_id': 'id', 'route_short_name': 'name',\n",
    "                                        'transport_type': 'type'})\n",
    "\n",
    "raw_routes['type'] = raw_routes['type'].map(\n",
    "    {'Автобус': 'bus', 'Трамвай': 'tram', 'Троллейбус': 'trolley'})\n",
    "\n",
    "raw_routes['lat'] = raw_routes['coordinates'].apply(lambda x: float(x.split(',')[0]))\n",
    "raw_routes['lon'] = raw_routes['coordinates'].apply(lambda x: float(x.split(',')[1]))\n",
    "\n",
    "raw_routes.head(2)"
   ]
  },
  {
   "cell_type": "code",
   "execution_count": null,
   "metadata": {},
   "outputs": [],
   "source": [
    "stops = raw_routes.drop_duplicates('stop_id')\\\n",
    "    .drop(columns=['id', 'name'])\\\n",
    "    .rename(columns={'stop_id': 'id', 'stop_name': 'name'})\\\n",
    "    .reset_index(drop=True)\n",
    "\n",
    "stops.head(2)"
   ]
  },
  {
   "cell_type": "code",
   "execution_count": null,
   "metadata": {},
   "outputs": [],
   "source": [
    "routes = []\n",
    "\n",
    "for route_id in tqdm(raw_routes['id'].unique()):\n",
    "    for direction in raw_routes.loc[raw_routes['id'] == route_id, 'direction'].unique():\n",
    "        mask = (raw_routes['id'] == route_id) & (raw_routes['direction'] == direction)\n",
    "        raw_route = raw_routes[mask]\n",
    "        \n",
    "        assert raw_route['type'].nunique() == 1\n",
    "        route_type = raw_route.iloc[0]['type']\n",
    "\n",
    "        assert raw_route['name'].nunique() == 1\n",
    "        name = raw_route.iloc[0]['name']\n",
    "        \n",
    "        assert raw_route['stop_id'].nunique() == raw_route.shape[0]\n",
    "\n",
    "        next_stops = raw_route.set_index('stop_id')['next_stop']\n",
    "\n",
    "        start = set(next_stops.index) - set(next_stops.values)\n",
    "        \n",
    "        if len(start) == 0:\n",
    "            assert set(next_stops.index) == set(next_stops.values)  # circular route\n",
    "            \n",
    "            start = next_stops.index[0]\n",
    "            route = [start]\n",
    "            \n",
    "            while True:\n",
    "                next_ = next_stops[route[-1]]\n",
    "                \n",
    "                if next_ in route:\n",
    "                    break\n",
    "                    \n",
    "                route.append(next_)\n",
    "        \n",
    "        else:\n",
    "            assert len(start) == 1\n",
    "            start = start.pop()\n",
    "\n",
    "            route = [start]\n",
    "\n",
    "            while route[-1] in next_stops.index:\n",
    "                route.append(next_stops[route[-1]])\n",
    "\n",
    "        routes.append({\n",
    "            'name': name,\n",
    "            'type': route_type,\n",
    "            'direction': direction,\n",
    "            'stops': route,\n",
    "            'id': route_id,\n",
    "        })\n",
    "        \n",
    "routes = pd.DataFrame(routes)\n",
    "\n",
    "routes.head(2)"
   ]
  },
  {
   "cell_type": "code",
   "execution_count": null,
   "metadata": {},
   "outputs": [],
   "source": [
    "route_stops = set(chain.from_iterable(routes['stops']))\n",
    "stops_ = set(stops['id'].unique())\n",
    "\n",
    "missing_stops = route_stops - stops_\n",
    "\n",
    "len(missing_stops)"
   ]
  },
  {
   "cell_type": "code",
   "execution_count": null,
   "metadata": {},
   "outputs": [],
   "source": [
    "def remove_missing_stops(route: List[int]) -> List[int]:\n",
    "    missing = set(route).intersection(missing_stops)\n",
    "    \n",
    "    if len(missing) == 0:\n",
    "        return route\n",
    "    \n",
    "    assert len(missing) == 1\n",
    "    missing = missing.pop()\n",
    "    assert route.index(missing) == len(route) - 1\n",
    "    \n",
    "    return route[:-1]\n",
    "\n",
    "\n",
    "routes['stops'] = routes['stops'].apply(remove_missing_stops)\n",
    "\n",
    "routes.head(2)"
   ]
  },
  {
   "cell_type": "markdown",
   "metadata": {},
   "source": [
    "## OSM"
   ]
  },
  {
   "cell_type": "code",
   "execution_count": null,
   "metadata": {},
   "outputs": [],
   "source": [
    "with ZipFile(raw_osm_data_fpath) as zipfile:\n",
    "    raw_osm = []\n",
    "\n",
    "    for fname in zipfile.namelist():\n",
    "        with zipfile.open(fname, ) as file:\n",
    "            raw_osm.extend(json.load(file)['elements'])\n",
    "\n",
    "raw_osm = pd.DataFrame(raw_osm)\n",
    "\n",
    "raw_osm = raw_osm.drop_duplicates(['type', 'id'])\n",
    "\n",
    "raw_osm.head(2)"
   ]
  },
  {
   "cell_type": "code",
   "execution_count": null,
   "metadata": {},
   "outputs": [],
   "source": [
    "raw_osm['type'].shape"
   ]
  },
  {
   "cell_type": "code",
   "execution_count": null,
   "metadata": {},
   "outputs": [],
   "source": [
    "x0, y0 = stops[['lon', 'lat']].min()\n",
    "x1, y1 = stops[['lon', 'lat']].max()\n",
    "\n",
    "# padding out by about 10 km each way\n",
    "xpad = (x1 - x0) / 25\n",
    "ypad = (y1 - y0) / 7\n",
    "\n",
    "x0 -= xpad\n",
    "x1 += xpad\n",
    "y0 -= ypad\n",
    "y1 += ypad\n",
    "\n",
    "x0, x1, y0, y1"
   ]
  },
  {
   "cell_type": "code",
   "execution_count": null,
   "metadata": {},
   "outputs": [],
   "source": [
    "mask = (raw_osm['lon'].isna() | ((raw_osm['lon'] >= x0) & (raw_osm['lon'] <= x1)))\\\n",
    "    & (raw_osm['lat'].isna() | ((raw_osm['lat'] >= y0) & (raw_osm['lat'] <= y1)))\n",
    "\n",
    "raw_osm = raw_osm[mask].copy()\n",
    "\n",
    "raw_osm.head(2)"
   ]
  },
  {
   "cell_type": "code",
   "execution_count": null,
   "metadata": {},
   "outputs": [],
   "source": [
    "raw_osm['type'].shape"
   ]
  },
  {
   "cell_type": "code",
   "execution_count": null,
   "metadata": {},
   "outputs": [],
   "source": [
    "raw_osm['type'].value_counts()"
   ]
  },
  {
   "cell_type": "code",
   "execution_count": null,
   "metadata": {},
   "outputs": [],
   "source": [
    "node_coords = raw_osm.loc[raw_osm['type'] == 'node', ['id', 'lat', 'lon']].set_index('id')\n",
    "assert node_coords.notna().all().all()\n",
    "\n",
    "node_coords = dict(zip(node_coords.index.tolist(), map(tuple, node_coords.values.tolist())))"
   ]
  },
  {
   "cell_type": "markdown",
   "metadata": {},
   "source": [
    "### Infrastructure objects"
   ]
  },
  {
   "cell_type": "code",
   "execution_count": null,
   "metadata": {},
   "outputs": [],
   "source": [
    "raw_osm['infrastructure_types'] = raw_osm['tags'].apply(assign_infrastructure_types)\n",
    "raw_osm['n_infrastructure_types'] = raw_osm['infrastructure_types'].apply(len)\n",
    "\n",
    "raw_osm['n_infrastructure_types'].value_counts()"
   ]
  },
  {
   "cell_type": "code",
   "execution_count": null,
   "metadata": {},
   "outputs": [],
   "source": [
    "mask = (raw_osm['n_infrastructure_types'] > 0) & (raw_osm['type'] != 'relation')\n",
    "\n",
    "infrastructure = raw_osm[mask].copy()\n",
    "\n",
    "infrastructure.head(2)"
   ]
  },
  {
   "cell_type": "code",
   "execution_count": null,
   "metadata": {},
   "outputs": [],
   "source": [
    "def get_name(tags: dict) -> str:\n",
    "    if not isinstance(tags, dict):\n",
    "        return\n",
    "    \n",
    "    name = tags.get('official_name', tags.get('name:ru', tags.get('name')))\n",
    "    \n",
    "    return name\n",
    "\n",
    "\n",
    "infrastructure['name'] = infrastructure['tags'].apply(get_name)\n",
    "\n",
    "infrastructure.head(2)"
   ]
  },
  {
   "cell_type": "code",
   "execution_count": null,
   "metadata": {},
   "outputs": [],
   "source": [
    "all_nodes = set(node_coords.keys())\n",
    "\n",
    "mask = infrastructure['nodes'].notna()\n",
    "n_items = mask.sum()\n",
    "\n",
    "to_remove = []\n",
    "\n",
    "for i, row in tqdm(infrastructure[mask].iterrows(), total=n_items):\n",
    "    nodes = set(row['nodes'])\n",
    "    \n",
    "    if len(nodes - all_nodes) > 0:\n",
    "        to_remove.append(i)\n",
    "        continue\n",
    "    \n",
    "    coords = np.array([node_coords[node] for node in nodes])\n",
    "    lat, lon = coords.mean(axis=0)\n",
    "    infrastructure.loc[i, 'lat'] = lat\n",
    "    infrastructure.loc[i, 'lon'] = lon\n",
    "    \n",
    "    distances = get_earth_distances(coords, coords)\n",
    "    diameter = distances.max()\n",
    "    infrastructure.loc[i, 'diameter'] = diameter\n",
    "    \n",
    "infrastructure = infrastructure.drop(index=to_remove)\n",
    "\n",
    "infrastructure['diameter'] = infrastructure['diameter'].fillna(0)\n",
    "\n",
    "infrastructure.shape"
   ]
  },
  {
   "cell_type": "code",
   "execution_count": null,
   "metadata": {},
   "outputs": [],
   "source": [
    "(infrastructure['diameter'] > 0.25).mean()"
   ]
  },
  {
   "cell_type": "code",
   "execution_count": null,
   "metadata": {},
   "outputs": [],
   "source": [
    "infrastructure.sort_values(by='diameter', ascending=False).iloc[0]['tags']"
   ]
  },
  {
   "cell_type": "code",
   "execution_count": null,
   "metadata": {},
   "outputs": [],
   "source": [
    "assert infrastructure[['lat', 'lon']].notna().all().all()\n",
    "assert infrastructure['id'].nunique() == infrastructure.shape[0]"
   ]
  },
  {
   "cell_type": "code",
   "execution_count": null,
   "metadata": {},
   "outputs": [],
   "source": [
    "stop_coords = stops[['lat', 'lon']].values\n",
    "\n",
    "infrastructure_coords = infrastructure[['lat', 'lon']]\n",
    "\n",
    "distances = pd.Series({\n",
    "    i: get_earth_distances(coords.values.reshape(1, -1), stop_coords).min()\n",
    "    for i, coords in tqdm(infrastructure_coords.iterrows(), total=infrastructure_coords.shape[0])\n",
    "})\n",
    "\n",
    "to_remove = distances[distances > 2].index\n",
    "\n",
    "infrastructure = infrastructure.drop(index=to_remove)\n",
    "\n",
    "infrastructure.shape"
   ]
  },
  {
   "cell_type": "code",
   "execution_count": null,
   "metadata": {},
   "outputs": [],
   "source": [
    "infrastructure_json = infrastructure\\\n",
    "    .drop(columns=['type', 'tags', 'nodes', 'members', 'n_infrastructure_types'])\\\n",
    "    .rename(columns={'infrastructure_types': 'types'})\n",
    "\n",
    "infrastructure_json = [row.to_dict() for _, row in infrastructure_json.iterrows()]\n",
    "\n",
    "len(infrastructure_json)"
   ]
  },
  {
   "cell_type": "code",
   "execution_count": null,
   "metadata": {},
   "outputs": [],
   "source": [
    "infrastructure_json[0]"
   ]
  },
  {
   "cell_type": "code",
   "execution_count": null,
   "metadata": {},
   "outputs": [],
   "source": [
    "save_json(infrastructure_json, infrastructure_fpath)"
   ]
  },
  {
   "cell_type": "code",
   "execution_count": null,
   "metadata": {},
   "outputs": [],
   "source": []
  },
  {
   "cell_type": "code",
   "execution_count": 14,
   "metadata": {},
   "outputs": [
    {
     "data": {
      "text/html": [
       "<div>\n",
       "<style scoped>\n",
       "    .dataframe tbody tr th:only-of-type {\n",
       "        vertical-align: middle;\n",
       "    }\n",
       "\n",
       "    .dataframe tbody tr th {\n",
       "        vertical-align: top;\n",
       "    }\n",
       "\n",
       "    .dataframe thead th {\n",
       "        text-align: right;\n",
       "    }\n",
       "</style>\n",
       "<table border=\"1\" class=\"dataframe\">\n",
       "  <thead>\n",
       "    <tr style=\"text-align: right;\">\n",
       "      <th></th>\n",
       "      <th>lat</th>\n",
       "      <th>lon</th>\n",
       "      <th>types</th>\n",
       "      <th>name</th>\n",
       "      <th>diameter</th>\n",
       "    </tr>\n",
       "    <tr>\n",
       "      <th>id</th>\n",
       "      <th></th>\n",
       "      <th></th>\n",
       "      <th></th>\n",
       "      <th></th>\n",
       "      <th></th>\n",
       "    </tr>\n",
       "  </thead>\n",
       "  <tbody>\n",
       "    <tr>\n",
       "      <th>267959524</th>\n",
       "      <td>59.661098</td>\n",
       "      <td>30.785173</td>\n",
       "      <td>[Tourism]</td>\n",
       "      <td>Саблинский водопад</td>\n",
       "      <td>0.0</td>\n",
       "    </tr>\n",
       "    <tr>\n",
       "      <th>268911313</th>\n",
       "      <td>59.688758</td>\n",
       "      <td>29.920383</td>\n",
       "      <td>[Car service]</td>\n",
       "      <td>Киришиавтосервис 13</td>\n",
       "      <td>0.0</td>\n",
       "    </tr>\n",
       "  </tbody>\n",
       "</table>\n",
       "</div>"
      ],
      "text/plain": [
       "                 lat        lon          types                 name  diameter\n",
       "id                                                                           \n",
       "267959524  59.661098  30.785173      [Tourism]   Саблинский водопад       0.0\n",
       "268911313  59.688758  29.920383  [Car service]  Киришиавтосервис 13       0.0"
      ]
     },
     "execution_count": 14,
     "metadata": {},
     "output_type": "execute_result"
    }
   ],
   "source": [
    "infrastructure = pd.read_json(infrastructure_fpath, encoding='utf-8').set_index('id')\n",
    "\n",
    "infrastructure.head(2)"
   ]
  },
  {
   "cell_type": "code",
   "execution_count": 5,
   "metadata": {},
   "outputs": [
    {
     "data": {
      "image/png": "[encoded data removed]",
      "text/plain": [
       "<Figure size 288x216 with 1 Axes>"
      ]
     },
     "metadata": {},
     "output_type": "display_data"
    }
   ],
   "source": [
    "plt.figure(figsize=(4, 3))\n",
    "\n",
    "plt.hist(infrastructure['diameter'], bins=25)\n",
    "\n",
    "plt.yscale('log')\n",
    "plt.xlabel('diameter, km')\n",
    "plt.savefig('../figures/infrastructure_diameters.eps', transparent=True, bbox_inches='tight')"
   ]
  },
  {
   "cell_type": "code",
   "execution_count": 18,
   "metadata": {},
   "outputs": [
    {
     "data": {
      "image/png": "[encoded data removed]",
      "text/plain": [
       "<Figure size 432x252 with 1 Axes>"
      ]
     },
     "metadata": {},
     "output_type": "display_data"
    }
   ],
   "source": [
    "fig = plt.figure(figsize=(6, 3.5))\n",
    "\n",
    "infrastructure_types = pd.Series(chain.from_iterable(infrastructure['types']))\n",
    "infrastructure_type_counts = infrastructure_types.value_counts().sort_values()\n",
    "\n",
    "plt.barh(\n",
    "    infrastructure_type_counts.index,\n",
    "    infrastructure_type_counts.values,\n",
    "    zorder=5,\n",
    ")\n",
    "\n",
    "plt.grid(axis='y')\n",
    "\n",
    "fig.tight_layout()\n",
    "\n",
    "plt.savefig('../figures/infrastructure_counts.eps', transparent=True)"
   ]
  },
  {
   "cell_type": "markdown",
   "metadata": {},
   "source": [
    "### Subway stations"
   ]
  },
  {
   "cell_type": "code",
   "execution_count": null,
   "metadata": {},
   "outputs": [],
   "source": [
    "def is_subway_entrance(tags: dict) -> bool:\n",
    "    return isinstance(tags, dict) and tags.get('railway') == 'subway_entrance'\n",
    "\n",
    "\n",
    "def get_subway_line_color(tags: dict) -> str:\n",
    "    return tags.get('colour')\n",
    "\n",
    "\n",
    "raw_osm['is_subway_entrance'] = raw_osm['tags'].apply(is_subway_entrance)\n",
    "\n",
    "mask = raw_osm['is_subway_entrance'] & (raw_osm['type'] == 'node')\n",
    "subway_entrances = raw_osm[mask].copy()\n",
    "\n",
    "subway_entrances['name'] = subway_entrances['tags'].apply(get_name)\n",
    "subway_entrances['line_color'] = subway_entrances['tags'].apply(get_subway_line_color)\n",
    "\n",
    "subway_entrances.head(2)"
   ]
  },
  {
   "cell_type": "code",
   "execution_count": null,
   "metadata": {},
   "outputs": [],
   "source": [
    "station_names = ['Автово', 'Адмиралтейская', 'Академическая', 'Балтийская',\n",
    "                 'Беговая', 'Бухарестская', 'Василеостровская', 'Владимирская',\n",
    "                 'Волковская', 'Выборгская', 'Горьковская', 'Гостиный двор',\n",
    "                 'Гражданский проспект', 'Достоевская', 'Дунайская', 'Елизаровская',\n",
    "                 'Звенигородская', 'Звёздная', 'Зенит', 'Кировский завод',\n",
    "                 'Комендантский проспект', 'Крестовский остров', 'Купчино',\n",
    "                 'Ладожская', 'Ленинский проспект', 'Лесная', 'Лиговский проспект',\n",
    "                 'Ломоносовская', 'Маяковская', 'Международная', 'Московская',\n",
    "                 'Московские ворота', 'Нарвская', 'Невский проспект',\n",
    "                 'Новочеркасская', 'Обводный канал', 'Обухово', 'Озерки',\n",
    "                 'Парк Победы', 'Парнас', 'Петроградская', 'Пионерская',\n",
    "                 'Площадь Александра Невского', 'Площадь Восстания', 'Площадь Ленина',\n",
    "                 'Площадь Мужества', 'Политехническая', 'Приморская', 'Пролетарская',\n",
    "                 'Проспект Большевиков', 'Проспект Ветеранов', 'Проспект Просвещения',\n",
    "                 'Проспект Славы', 'Пушкинская', 'Рыбацкое', 'Садовая',\n",
    "                 'Сенная площадь', 'Спасская', 'Спортивная', 'Старая Деревня',\n",
    "                 'Технологический институт', 'Удельная', 'Улица Дыбенко',\n",
    "                 'Фрунзенская', 'Чернышевская', 'Чкаловская', 'Чёрная речка',\n",
    "                 'Шушары', 'Электросила', 'Девяткино']\n",
    "\n",
    "\n",
    "def get_station_name(entrance_name: str) -> str:\n",
    "    suitable_station_names = [name for name in station_names if entrance_name.startswith(name)]\n",
    "    \n",
    "    if len(suitable_station_names) != 1:\n",
    "        raise ValueError('multiple or no station names for entrance ' + repr(entrance_name))\n",
    "        \n",
    "    return suitable_station_names[0]\n",
    "\n",
    "\n",
    "subway_entrances['station_name'] = subway_entrances['name'].apply(get_station_name)\n",
    "\n",
    "subway_entrances.head(2)"
   ]
  },
  {
   "cell_type": "code",
   "execution_count": null,
   "metadata": {},
   "outputs": [],
   "source": [
    "assert subway_entrances['line_color'].notna().all()\n",
    "assert subway_entrances['station_name'].notna().all()"
   ]
  },
  {
   "cell_type": "code",
   "execution_count": null,
   "metadata": {},
   "outputs": [],
   "source": [
    "line_starts = {\n",
    "    'blue': 'Парнас',\n",
    "    'red': 'Девяткино',\n",
    "    'green': 'Беговая',\n",
    "    'orange': 'Улица Дыбенко',\n",
    "    'purple': 'Комендантский проспект',\n",
    "}"
   ]
  },
  {
   "cell_type": "code",
   "execution_count": null,
   "metadata": {},
   "outputs": [],
   "source": [
    "subway_stations = []\n",
    "\n",
    "for line_color, station_name in subway_entrances[['line_color', 'station_name']].drop_duplicates().values:\n",
    "    mask = (subway_entrances['line_color'] == line_color)\\\n",
    "        & (subway_entrances['station_name'] == station_name)\n",
    "    \n",
    "    station_entrances = subway_entrances[mask]\n",
    "    coords = station_entrances[['lat', 'lon']].values\n",
    "    lat, lon = coords.mean(axis=0)\n",
    "    \n",
    "    diameter = get_earth_distances(coords, coords).max()\n",
    "    \n",
    "    subway_stations.append({\n",
    "        'line_color': line_color,\n",
    "        'name': station_name,\n",
    "        'lat': lat,\n",
    "        'lon': lon,\n",
    "        'diameter': diameter,\n",
    "        'start': line_starts[line_color] == station_name,\n",
    "    })\n",
    "    \n",
    "subway_stations = pd.DataFrame(subway_stations)\n",
    "\n",
    "subway_stations['name'] = subway_stations['name'] + ' (' + subway_stations['line_color'] + ')'\n",
    "subway_stations['id'] = subway_stations.index.tolist()\n",
    "subway_stations['type'] = 'subway'\n",
    "\n",
    "subway_stations.head(2)"
   ]
  },
  {
   "cell_type": "code",
   "execution_count": null,
   "metadata": {},
   "outputs": [],
   "source": [
    "for color in subway_stations['line_color'].unique():\n",
    "    values = subway_stations\\\n",
    "        .loc[subway_stations['line_color'] == color, ['lon', 'lat']]\\\n",
    "        .values\n",
    "    \n",
    "    plt.scatter(*values.T, color=color)\n",
    "    \n",
    "plt.axis('off')"
   ]
  },
  {
   "cell_type": "markdown",
   "metadata": {},
   "source": [
    "### Subway routes"
   ]
  },
  {
   "cell_type": "code",
   "execution_count": null,
   "metadata": {},
   "outputs": [],
   "source": [
    "subway_routes = []\n",
    "\n",
    "for color in subway_stations['line_color'].unique():\n",
    "    line_stations = subway_stations[subway_stations['line_color'] == color]\n",
    "    n_stations = line_stations.shape[0]\n",
    "    \n",
    "    coords = line_stations[['lat', 'lon']].values\n",
    "    distances = get_earth_distances(coords, coords)\n",
    "    distances[np.arange(n_stations), np.arange(n_stations)] = np.infty\n",
    "    distances = pd.DataFrame(distances, index=line_stations['id'], columns=line_stations['id'])\n",
    "    \n",
    "    start = line_stations.loc[line_stations['start'], 'id']\n",
    "    assert start.shape == (1,)\n",
    "    start = start.iloc[0]\n",
    "    \n",
    "    route = [start]\n",
    "        \n",
    "    while True:\n",
    "        closest_unvisited = distances\\\n",
    "            .loc[route[-1], ~distances.index.isin(route)]\\\n",
    "            .sort_values()\n",
    "        \n",
    "        if closest_unvisited.empty:\n",
    "            break\n",
    "        \n",
    "        next_ = closest_unvisited.index[0]\n",
    "        route.append(next_)\n",
    "        \n",
    "    name = color.capitalize() + ' line'\n",
    "        \n",
    "    subway_routes.append({\n",
    "        'name': name,\n",
    "        'type': 'subway',\n",
    "        'direction': 1,\n",
    "        'stops': route,\n",
    "    })\n",
    "    subway_routes.append({\n",
    "        'name': name,\n",
    "        'type': 'subway',\n",
    "        'direction': 2,\n",
    "        'stops': route[::-1],\n",
    "    })\n",
    "    \n",
    "subway_routes = pd.DataFrame(subway_routes)\n",
    "\n",
    "subway_routes['id'] = subway_routes.index.tolist()\n",
    "\n",
    "subway_routes.head(2)"
   ]
  },
  {
   "cell_type": "markdown",
   "metadata": {},
   "source": [
    "## All stops and routes together"
   ]
  },
  {
   "cell_type": "code",
   "execution_count": null,
   "metadata": {},
   "outputs": [],
   "source": [
    "all_stops = stops.append(subway_stations, ignore_index=True)\\\n",
    "    .drop(columns=['number', 'route_long_name', 'next_stop', 'direction',\n",
    "                   'stop_distance', 'coordinates', 'line_color', 'start'])\n",
    "\n",
    "all_stops['diameter'] = all_stops['diameter'].fillna(0)\n",
    "\n",
    "all_stops.head(2)"
   ]
  },
  {
   "cell_type": "code",
   "execution_count": null,
   "metadata": {},
   "outputs": [],
   "source": [
    "assert all_stops.notna().all().all()\n",
    "assert all_stops['id'].nunique() == all_stops.shape[0]"
   ]
  },
  {
   "cell_type": "code",
   "execution_count": null,
   "metadata": {},
   "outputs": [],
   "source": [
    "all_routes = routes.append(subway_routes, ignore_index=True)\n",
    "\n",
    "all_routes['stops'] = all_routes['stops'].apply(lambda l: [int(i) for i in l])\n",
    "\n",
    "all_routes.head(2)"
   ]
  },
  {
   "cell_type": "code",
   "execution_count": null,
   "metadata": {},
   "outputs": [],
   "source": [
    "stop2id = {stop: i for i, stop in all_stops['id'].iteritems()}\n",
    "\n",
    "coords = all_stops[['lat', 'lon']].values\n",
    "distances = get_earth_distances(coords, coords)\n",
    "\n",
    "\n",
    "def get_route_distance(route: List[int]) -> float:\n",
    "    i = [stop2id[stop] for stop in route]\n",
    "    distance = distances[i[:-1], i[1:]].sum()\n",
    "    \n",
    "    return distance\n",
    "\n",
    "\n",
    "all_routes['distance'] = all_routes['stops'].apply(get_route_distance)\n",
    "\n",
    "all_routes.head(2)"
   ]
  },
  {
   "cell_type": "code",
   "execution_count": null,
   "metadata": {},
   "outputs": [],
   "source": [
    "assert not all_routes.duplicated(['id', 'direction']).any()"
   ]
  },
  {
   "cell_type": "code",
   "execution_count": null,
   "metadata": {},
   "outputs": [],
   "source": [
    "assert all_routes['id'].max() < 10000\n",
    "\n",
    "all_routes.loc[all_routes['direction'] == 2, 'id'] += 10000\n",
    "\n",
    "all_routes.head(2)"
   ]
  },
  {
   "cell_type": "code",
   "execution_count": null,
   "metadata": {},
   "outputs": [],
   "source": [
    "assert all_routes['id'].nunique() == all_routes.shape[0]"
   ]
  },
  {
   "cell_type": "code",
   "execution_count": null,
   "metadata": {},
   "outputs": [],
   "source": [
    "assert all_routes.notna().all().all()"
   ]
  },
  {
   "cell_type": "code",
   "execution_count": null,
   "metadata": {},
   "outputs": [],
   "source": [
    "route_stops = set(chain.from_iterable(all_routes['stops']))\n",
    "stops_ = set(all_stops['id'].unique())\n",
    "\n",
    "missing_stops = route_stops - stops_\n",
    "\n",
    "assert len(missing_stops) == 0"
   ]
  },
  {
   "cell_type": "code",
   "execution_count": null,
   "metadata": {},
   "outputs": [],
   "source": [
    "all_stops_json = [row.to_dict() for _, row in all_stops.iterrows()]\n",
    "\n",
    "len(all_stops_json)"
   ]
  },
  {
   "cell_type": "code",
   "execution_count": null,
   "metadata": {},
   "outputs": [],
   "source": [
    "all_stops_json[0]"
   ]
  },
  {
   "cell_type": "code",
   "execution_count": null,
   "metadata": {},
   "outputs": [],
   "source": [
    "save_json(all_stops_json, stops_fpath)"
   ]
  },
  {
   "cell_type": "code",
   "execution_count": null,
   "metadata": {},
   "outputs": [],
   "source": [
    "all_routes_json = [row.to_dict() for _, row in all_routes.iterrows()]\n",
    "\n",
    "len(all_routes_json)"
   ]
  },
  {
   "cell_type": "code",
   "execution_count": null,
   "metadata": {},
   "outputs": [],
   "source": [
    "all_routes_json[0]"
   ]
  },
  {
   "cell_type": "code",
   "execution_count": null,
   "metadata": {},
   "outputs": [],
   "source": [
    "save_json(all_routes_json, routes_fpath)"
   ]
  },
  {
   "cell_type": "markdown",
   "metadata": {},
   "source": [
    "***"
   ]
  },
  {
   "cell_type": "code",
   "execution_count": 3,
   "metadata": {},
   "outputs": [
    {
     "data": {
      "text/html": [
       "<div>\n",
       "<style scoped>\n",
       "    .dataframe tbody tr th:only-of-type {\n",
       "        vertical-align: middle;\n",
       "    }\n",
       "\n",
       "    .dataframe tbody tr th {\n",
       "        vertical-align: top;\n",
       "    }\n",
       "\n",
       "    .dataframe thead th {\n",
       "        text-align: right;\n",
       "    }\n",
       "</style>\n",
       "<table border=\"1\" class=\"dataframe\">\n",
       "  <thead>\n",
       "    <tr style=\"text-align: right;\">\n",
       "      <th></th>\n",
       "      <th>lon</th>\n",
       "      <th>lat</th>\n",
       "    </tr>\n",
       "    <tr>\n",
       "      <th>id</th>\n",
       "      <th></th>\n",
       "      <th></th>\n",
       "    </tr>\n",
       "  </thead>\n",
       "  <tbody>\n",
       "    <tr>\n",
       "      <th>16396</th>\n",
       "      <td>30.494671</td>\n",
       "      <td>59.908881</td>\n",
       "    </tr>\n",
       "    <tr>\n",
       "      <th>16367</th>\n",
       "      <td>30.499882</td>\n",
       "      <td>59.911857</td>\n",
       "    </tr>\n",
       "  </tbody>\n",
       "</table>\n",
       "</div>"
      ],
      "text/plain": [
       "             lon        lat\n",
       "id                         \n",
       "16396  30.494671  59.908881\n",
       "16367  30.499882  59.911857"
      ]
     },
     "execution_count": 3,
     "metadata": {},
     "output_type": "execute_result"
    }
   ],
   "source": [
    "all_stops = pd.read_json(stops_fpath, encoding='utf-8').set_index('id')\n",
    "\n",
    "stop_coords = all_stops[['lon', 'lat']]\n",
    "\n",
    "stop_coords.head(2)"
   ]
  },
  {
   "cell_type": "code",
   "execution_count": 4,
   "metadata": {},
   "outputs": [
    {
     "data": {
      "text/html": [
       "<div>\n",
       "<style scoped>\n",
       "    .dataframe tbody tr th:only-of-type {\n",
       "        vertical-align: middle;\n",
       "    }\n",
       "\n",
       "    .dataframe tbody tr th {\n",
       "        vertical-align: top;\n",
       "    }\n",
       "\n",
       "    .dataframe thead th {\n",
       "        text-align: right;\n",
       "    }\n",
       "</style>\n",
       "<table border=\"1\" class=\"dataframe\">\n",
       "  <thead>\n",
       "    <tr style=\"text-align: right;\">\n",
       "      <th></th>\n",
       "      <th>name</th>\n",
       "      <th>type</th>\n",
       "      <th>direction</th>\n",
       "      <th>stops</th>\n",
       "      <th>distance</th>\n",
       "      <th>supernodes</th>\n",
       "    </tr>\n",
       "    <tr>\n",
       "      <th>id</th>\n",
       "      <th></th>\n",
       "      <th></th>\n",
       "      <th></th>\n",
       "      <th></th>\n",
       "      <th></th>\n",
       "      <th></th>\n",
       "    </tr>\n",
       "  </thead>\n",
       "  <tbody>\n",
       "    <tr>\n",
       "      <th>1125</th>\n",
       "      <td>А</td>\n",
       "      <td>tram</td>\n",
       "      <td>1</td>\n",
       "      <td>[16396, 16367, 16371, 16398, 16400, 16401, 164...</td>\n",
       "      <td>5.008430</td>\n",
       "      <td>[620, 827, 828, 20, 309, 80, 310, 204, 5, 29, ...</td>\n",
       "    </tr>\n",
       "    <tr>\n",
       "      <th>11125</th>\n",
       "      <td>А</td>\n",
       "      <td>tram</td>\n",
       "      <td>2</td>\n",
       "      <td>[33093, 16348, 16350, 16354, 16357, 16346, 163...</td>\n",
       "      <td>3.826103</td>\n",
       "      <td>[30, 829, 830, 621, 311, 831, 14, 81, 620]</td>\n",
       "    </tr>\n",
       "  </tbody>\n",
       "</table>\n",
       "</div>"
      ],
      "text/plain": [
       "      name  type  direction  \\\n",
       "id                            \n",
       "1125     А  tram          1   \n",
       "11125    А  tram          2   \n",
       "\n",
       "                                                   stops  distance  \\\n",
       "id                                                                   \n",
       "1125   [16396, 16367, 16371, 16398, 16400, 16401, 164...  5.008430   \n",
       "11125  [33093, 16348, 16350, 16354, 16357, 16346, 163...  3.826103   \n",
       "\n",
       "                                              supernodes  \n",
       "id                                                        \n",
       "1125   [620, 827, 828, 20, 309, 80, 310, 204, 5, 29, ...  \n",
       "11125         [30, 829, 830, 621, 311, 831, 14, 81, 620]  "
      ]
     },
     "execution_count": 4,
     "metadata": {},
     "output_type": "execute_result"
    }
   ],
   "source": [
    "all_routes = pd.read_json(routes_fpath, encoding='utf-8').set_index('id')\n",
    "\n",
    "all_routes.head(2)"
   ]
  },
  {
   "cell_type": "code",
   "execution_count": 5,
   "metadata": {},
   "outputs": [
    {
     "data": {
      "text/html": [
       "<div>\n",
       "<style scoped>\n",
       "    .dataframe tbody tr th:only-of-type {\n",
       "        vertical-align: middle;\n",
       "    }\n",
       "\n",
       "    .dataframe tbody tr th {\n",
       "        vertical-align: top;\n",
       "    }\n",
       "\n",
       "    .dataframe thead th {\n",
       "        text-align: right;\n",
       "    }\n",
       "</style>\n",
       "<table border=\"1\" class=\"dataframe\">\n",
       "  <thead>\n",
       "    <tr style=\"text-align: right;\">\n",
       "      <th></th>\n",
       "      <th>bus</th>\n",
       "      <th>subway</th>\n",
       "      <th>tram</th>\n",
       "      <th>trolley</th>\n",
       "    </tr>\n",
       "  </thead>\n",
       "  <tbody>\n",
       "    <tr>\n",
       "      <th>Number of stops</th>\n",
       "      <td>5511.0</td>\n",
       "      <td>71.0</td>\n",
       "      <td>887.0</td>\n",
       "      <td>1192.0</td>\n",
       "    </tr>\n",
       "    <tr>\n",
       "      <th>Number of routes</th>\n",
       "      <td>1070.0</td>\n",
       "      <td>10.0</td>\n",
       "      <td>83.0</td>\n",
       "      <td>90.0</td>\n",
       "    </tr>\n",
       "    <tr>\n",
       "      <th>Avg. route length, km</th>\n",
       "      <td>14.15</td>\n",
       "      <td>24.02</td>\n",
       "      <td>10.38</td>\n",
       "      <td>11.32</td>\n",
       "    </tr>\n",
       "  </tbody>\n",
       "</table>\n",
       "</div>"
      ],
      "text/plain": [
       "                          bus subway   tram trolley\n",
       "Number of stops        5511.0   71.0  887.0  1192.0\n",
       "Number of routes       1070.0   10.0   83.0    90.0\n",
       "Avg. route length, km   14.15  24.02  10.38   11.32"
      ]
     },
     "execution_count": 5,
     "metadata": {},
     "output_type": "execute_result"
    }
   ],
   "source": [
    "nstops = all_stops.groupby('type')['name'].count().astype(int)\n",
    "nstops.name = 'Number of stops'\n",
    "\n",
    "nroutes = all_routes.groupby('type')['name'].count().astype(int)\n",
    "nroutes.name = 'Number of routes'\n",
    "\n",
    "routelen = all_routes.groupby('type')['distance'].mean().round(2)\n",
    "routelen.name = 'Avg. route length, km'\n",
    "\n",
    "stats = pd.DataFrame([nstops, nroutes, routelen], dtype='object')\n",
    "\n",
    "stats.columns.name = None\n",
    "\n",
    "stats.head()"
   ]
  },
  {
   "cell_type": "code",
   "execution_count": 6,
   "metadata": {},
   "outputs": [],
   "source": [
    "with open('../tables/transport_stats.tex', 'w') as file:\n",
    "    file.write(stats.to_latex())"
   ]
  },
  {
   "cell_type": "code",
   "execution_count": 7,
   "metadata": {},
   "outputs": [
    {
     "data": {
      "image/png": "[encoded data removed]",
      "text/plain": [
       "<Figure size 288x216 with 1 Axes>"
      ]
     },
     "metadata": {},
     "output_type": "display_data"
    }
   ],
   "source": [
    "fig = plt.figure(figsize=(4, 3))\n",
    "\n",
    "all_routes['distance'].hist(bins=25)\n",
    "\n",
    "plt.xlabel('route distance, km')\n",
    "\n",
    "fig.tight_layout()\n",
    "\n",
    "plt.savefig('../figures/route_distances.eps', transparent=True, bbox_inches='tight')"
   ]
  },
  {
   "cell_type": "code",
   "execution_count": 37,
   "metadata": {},
   "outputs": [
    {
     "data": {
      "image/png": "[encoded data removed]",
      "text/plain": [
       "<Figure size 720x288 with 2 Axes>"
      ]
     },
     "metadata": {},
     "output_type": "display_data"
    }
   ],
   "source": [
    "fig = plt.figure(figsize=(10, 4))\n",
    "\n",
    "extent, scale, factor = whole_area\n",
    "\n",
    "ax = add_map_subplot(fig, 1, 2, 1, extent=extent, scale=scale)\n",
    "\n",
    "for t in all_routes['type'].unique():\n",
    "    type_routes = all_routes[all_routes['type'] == t].copy()\n",
    "    \n",
    "    color, marker, size, width, linestyle, zorder = get_node_props(t, factor)\n",
    "        \n",
    "    for i, route in enumerate(type_routes['stops']):\n",
    "        x, y = stop_coords.loc[route].values.T\n",
    "        \n",
    "        label = t if i == 0 else None\n",
    "        \n",
    "        ax.plot(x, y, transform=ccrs.PlateCarree(), marker=marker, markersize=size,\n",
    "                lw=width, ls=linestyle, c=color, label=label, zorder=zorder)\n",
    "            \n",
    "ax.set_title('(a)', y=-0.25)\n",
    "\n",
    "extent, scale, factor = city_center\n",
    "\n",
    "ax = add_map_subplot(fig, 1, 2, 2, extent=extent, scale=scale)\n",
    "\n",
    "for t in all_routes['type'].unique():\n",
    "    type_routes = all_routes[all_routes['type'] == t].copy()\n",
    "    \n",
    "    color, marker, size, width, linestyle, zorder = get_node_props(t, factor)\n",
    "    \n",
    "    for i, route in enumerate(type_routes['stops']):\n",
    "        x, y = stop_coords.loc[route].values.T\n",
    "        \n",
    "        label = t if i == 0 else None\n",
    "        \n",
    "        ax.plot(x, y, transform=ccrs.PlateCarree(), marker=marker, markersize=size,\n",
    "                lw=width, ls=linestyle, c=color, label=label, zorder=zorder)\n",
    "            \n",
    "legend = ax.legend(loc='upper center', ncol=4, markerscale=2, bbox_to_anchor=(-0.125, -0.05))\n",
    "\n",
    "for line in legend.get_lines():\n",
    "    line.set_linewidth(1.5)\n",
    "\n",
    "ax.set_title('(b)', y=-0.25)\n",
    "\n",
    "fig.subplots_adjust(wspace=0.25)\n",
    "\n",
    "plt.savefig('../figures/stops_map.jpg', dpi=300, bbox_inches='tight')"
   ]
  },
  {
   "cell_type": "code",
   "execution_count": null,
   "metadata": {},
   "outputs": [],
   "source": []
  }
 ],
 "metadata": {
  "kernelspec": {
   "display_name": "Python 3 (ipykernel)",
   "language": "python",
   "name": "python3"
  },
  "language_info": {
   "codemirror_mode": {
    "name": "ipython",
    "version": 3
   },
   "file_extension": ".py",
   "mimetype": "text/x-python",
   "name": "python",
   "nbconvert_exporter": "python",
   "pygments_lexer": "ipython3",
   "version": "3.9.6"
  }
 },
 "nbformat": 4,
 "nbformat_minor": 4
}
