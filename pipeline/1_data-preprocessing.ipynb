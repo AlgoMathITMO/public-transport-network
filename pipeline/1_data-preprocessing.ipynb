{
 "cells": [
  {
   "cell_type": "markdown",
   "metadata": {},
   "source": [
    "# data-preprocessing\n",
    "\n",
    "Preprocessing procedures for raw data.\n",
    "\n",
    "Warning: can eat up to 16 GB RAM while processing and filtering raw OSM data.\n",
    "\n",
    "Requires:\n",
    "1. `data/raw/osm.zip` (can be downloaded [here](https://drive.google.com/drive/folders/1Z_oSs5Vk4LSxwjc10iVa9mazBvWHuCf6?usp=sharing))\n",
    "2. `data/raw/spb_routes.csv`\n",
    "\n",
    "Produces:\n",
    "1. `data/preprocessed/infrastructure.json`\n",
    "2. `data/preprocessed/stops.json`\n",
    "3. `data/preprocessed/routes.json`"
   ]
  },
  {
   "cell_type": "code",
   "execution_count": 1,
   "metadata": {},
   "outputs": [],
   "source": [
    "import sys\n",
    "sys.path.append('..')"
   ]
  },
  {
   "cell_type": "code",
   "execution_count": 2,
   "metadata": {},
   "outputs": [],
   "source": [
    "import json\n",
    "from itertools import chain\n",
    "from typing import Tuple, List, Optional, Set\n",
    "from zipfile import ZipFile\n",
    "\n",
    "import numpy as np\n",
    "import pandas as pd\n",
    "import networkx as nx\n",
    "import seaborn as sns\n",
    "from cartopy import crs as ccrs\n",
    "from tqdm import tqdm\n",
    "from matplotlib import pyplot as plt\n",
    "\n",
    "from myutils.spatial import get_earth_distances\n",
    "from myutils.json import save_json\n",
    "from myutils.matplotlib import matplotlib_latex, matplotlib_seaborn_style\n",
    "\n",
    "from config import raw_osm_data_fpath, raw_routes_data_fpath, \\\n",
    "    infrastructure_fpath, stops_fpath, routes_fpath\n",
    "from ptn.osm import assign_infrastructure_types\n",
    "from ptn.cartopy import add_map_subplot\n",
    "\n",
    "matplotlib_seaborn_style()\n",
    "matplotlib_latex()"
   ]
  },
  {
   "cell_type": "markdown",
   "metadata": {},
   "source": [
    "## SPb routes"
   ]
  },
  {
   "cell_type": "code",
   "execution_count": 3,
   "metadata": {},
   "outputs": [
    {
     "data": {
      "text/html": [
       "<div>\n",
       "<style scoped>\n",
       "    .dataframe tbody tr th:only-of-type {\n",
       "        vertical-align: middle;\n",
       "    }\n",
       "\n",
       "    .dataframe tbody tr th {\n",
       "        vertical-align: top;\n",
       "    }\n",
       "\n",
       "    .dataframe thead th {\n",
       "        text-align: right;\n",
       "    }\n",
       "</style>\n",
       "<table border=\"1\" class=\"dataframe\">\n",
       "  <thead>\n",
       "    <tr style=\"text-align: right;\">\n",
       "      <th></th>\n",
       "      <th>number</th>\n",
       "      <th>id</th>\n",
       "      <th>name</th>\n",
       "      <th>route_long_name</th>\n",
       "      <th>type</th>\n",
       "      <th>direction</th>\n",
       "      <th>stop_id</th>\n",
       "      <th>next_stop</th>\n",
       "      <th>stop_distance</th>\n",
       "      <th>stop_name</th>\n",
       "      <th>coordinates</th>\n",
       "      <th>lat</th>\n",
       "      <th>lon</th>\n",
       "    </tr>\n",
       "  </thead>\n",
       "  <tbody>\n",
       "    <tr>\n",
       "      <th>0</th>\n",
       "      <td>1</td>\n",
       "      <td>1125</td>\n",
       "      <td>А</td>\n",
       "      <td>Р. Оккервиль - Ул. Коллонтай</td>\n",
       "      <td>tram</td>\n",
       "      <td>1</td>\n",
       "      <td>16396</td>\n",
       "      <td>16367</td>\n",
       "      <td>0.85</td>\n",
       "      <td>Конечная станция \"Река Оккервиль\"</td>\n",
       "      <td>59.9088808952478,30.4946709</td>\n",
       "      <td>59.908881</td>\n",
       "      <td>30.494671</td>\n",
       "    </tr>\n",
       "    <tr>\n",
       "      <th>1</th>\n",
       "      <td>2</td>\n",
       "      <td>1125</td>\n",
       "      <td>А</td>\n",
       "      <td>Р. Оккервиль - Ул. Коллонтай</td>\n",
       "      <td>tram</td>\n",
       "      <td>1</td>\n",
       "      <td>16367</td>\n",
       "      <td>16371</td>\n",
       "      <td>0.40</td>\n",
       "      <td>Пр. Солидарности</td>\n",
       "      <td>59.9118566503083,30.4998817</td>\n",
       "      <td>59.911857</td>\n",
       "      <td>30.499882</td>\n",
       "    </tr>\n",
       "  </tbody>\n",
       "</table>\n",
       "</div>"
      ],
      "text/plain": [
       "   number    id name               route_long_name  type  direction  stop_id  \\\n",
       "0       1  1125    А  Р. Оккервиль - Ул. Коллонтай  tram          1    16396   \n",
       "1       2  1125    А  Р. Оккервиль - Ул. Коллонтай  tram          1    16367   \n",
       "\n",
       "   next_stop  stop_distance                           stop_name  \\\n",
       "0      16367           0.85  Конечная станция \"Река Оккервиль\"    \n",
       "1      16371           0.40                   Пр. Солидарности    \n",
       "\n",
       "                   coordinates        lat        lon  \n",
       "0  59.9088808952478,30.4946709  59.908881  30.494671  \n",
       "1  59.9118566503083,30.4998817  59.911857  30.499882  "
      ]
     },
     "execution_count": 3,
     "metadata": {},
     "output_type": "execute_result"
    }
   ],
   "source": [
    "raw_routes = pd.read_csv(raw_routes_data_fpath, encoding='utf-8')\n",
    "\n",
    "raw_routes = raw_routes.rename(columns={'route_id': 'id', 'route_short_name': 'name',\n",
    "                                        'transport_type': 'type'})\n",
    "\n",
    "raw_routes['type'] = raw_routes['type'].map(\n",
    "    {'Автобус': 'bus', 'Трамвай': 'tram', 'Троллейбус': 'trolley'})\n",
    "\n",
    "raw_routes['lat'] = raw_routes['coordinates'].apply(lambda x: float(x.split(',')[0]))\n",
    "raw_routes['lon'] = raw_routes['coordinates'].apply(lambda x: float(x.split(',')[1]))\n",
    "\n",
    "raw_routes.head(2)"
   ]
  },
  {
   "cell_type": "code",
   "execution_count": 4,
   "metadata": {},
   "outputs": [
    {
     "data": {
      "text/html": [
       "<div>\n",
       "<style scoped>\n",
       "    .dataframe tbody tr th:only-of-type {\n",
       "        vertical-align: middle;\n",
       "    }\n",
       "\n",
       "    .dataframe tbody tr th {\n",
       "        vertical-align: top;\n",
       "    }\n",
       "\n",
       "    .dataframe thead th {\n",
       "        text-align: right;\n",
       "    }\n",
       "</style>\n",
       "<table border=\"1\" class=\"dataframe\">\n",
       "  <thead>\n",
       "    <tr style=\"text-align: right;\">\n",
       "      <th></th>\n",
       "      <th>number</th>\n",
       "      <th>route_long_name</th>\n",
       "      <th>type</th>\n",
       "      <th>direction</th>\n",
       "      <th>id</th>\n",
       "      <th>next_stop</th>\n",
       "      <th>stop_distance</th>\n",
       "      <th>name</th>\n",
       "      <th>coordinates</th>\n",
       "      <th>lat</th>\n",
       "      <th>lon</th>\n",
       "    </tr>\n",
       "  </thead>\n",
       "  <tbody>\n",
       "    <tr>\n",
       "      <th>0</th>\n",
       "      <td>1</td>\n",
       "      <td>Р. Оккервиль - Ул. Коллонтай</td>\n",
       "      <td>tram</td>\n",
       "      <td>1</td>\n",
       "      <td>16396</td>\n",
       "      <td>16367</td>\n",
       "      <td>0.85</td>\n",
       "      <td>Конечная станция \"Река Оккервиль\"</td>\n",
       "      <td>59.9088808952478,30.4946709</td>\n",
       "      <td>59.908881</td>\n",
       "      <td>30.494671</td>\n",
       "    </tr>\n",
       "    <tr>\n",
       "      <th>1</th>\n",
       "      <td>2</td>\n",
       "      <td>Р. Оккервиль - Ул. Коллонтай</td>\n",
       "      <td>tram</td>\n",
       "      <td>1</td>\n",
       "      <td>16367</td>\n",
       "      <td>16371</td>\n",
       "      <td>0.40</td>\n",
       "      <td>Пр. Солидарности</td>\n",
       "      <td>59.9118566503083,30.4998817</td>\n",
       "      <td>59.911857</td>\n",
       "      <td>30.499882</td>\n",
       "    </tr>\n",
       "  </tbody>\n",
       "</table>\n",
       "</div>"
      ],
      "text/plain": [
       "   number               route_long_name  type  direction     id  next_stop  \\\n",
       "0       1  Р. Оккервиль - Ул. Коллонтай  tram          1  16396      16367   \n",
       "1       2  Р. Оккервиль - Ул. Коллонтай  tram          1  16367      16371   \n",
       "\n",
       "   stop_distance                                name  \\\n",
       "0           0.85  Конечная станция \"Река Оккервиль\"    \n",
       "1           0.40                   Пр. Солидарности    \n",
       "\n",
       "                   coordinates        lat        lon  \n",
       "0  59.9088808952478,30.4946709  59.908881  30.494671  \n",
       "1  59.9118566503083,30.4998817  59.911857  30.499882  "
      ]
     },
     "execution_count": 4,
     "metadata": {},
     "output_type": "execute_result"
    }
   ],
   "source": [
    "stops = raw_routes.drop_duplicates('stop_id')\\\n",
    "    .drop(columns=['id', 'name'])\\\n",
    "    .rename(columns={'stop_id': 'id', 'stop_name': 'name'})\\\n",
    "    .reset_index(drop=True)\n",
    "\n",
    "stops.head(2)"
   ]
  },
  {
   "cell_type": "code",
   "execution_count": 5,
   "metadata": {},
   "outputs": [
    {
     "name": "stderr",
     "output_type": "stream",
     "text": [
      "100%|██████████| 643/643 [00:02<00:00, 293.03it/s]\n"
     ]
    },
    {
     "data": {
      "text/html": [
       "<div>\n",
       "<style scoped>\n",
       "    .dataframe tbody tr th:only-of-type {\n",
       "        vertical-align: middle;\n",
       "    }\n",
       "\n",
       "    .dataframe tbody tr th {\n",
       "        vertical-align: top;\n",
       "    }\n",
       "\n",
       "    .dataframe thead th {\n",
       "        text-align: right;\n",
       "    }\n",
       "</style>\n",
       "<table border=\"1\" class=\"dataframe\">\n",
       "  <thead>\n",
       "    <tr style=\"text-align: right;\">\n",
       "      <th></th>\n",
       "      <th>name</th>\n",
       "      <th>type</th>\n",
       "      <th>direction</th>\n",
       "      <th>stops</th>\n",
       "      <th>id</th>\n",
       "    </tr>\n",
       "  </thead>\n",
       "  <tbody>\n",
       "    <tr>\n",
       "      <th>0</th>\n",
       "      <td>А</td>\n",
       "      <td>tram</td>\n",
       "      <td>1</td>\n",
       "      <td>[16396, 16367, 16371, 16398, 16400, 16401, 164...</td>\n",
       "      <td>1125</td>\n",
       "    </tr>\n",
       "    <tr>\n",
       "      <th>1</th>\n",
       "      <td>А</td>\n",
       "      <td>tram</td>\n",
       "      <td>2</td>\n",
       "      <td>[33093, 16348, 16350, 16354, 16357, 16346, 163...</td>\n",
       "      <td>1125</td>\n",
       "    </tr>\n",
       "  </tbody>\n",
       "</table>\n",
       "</div>"
      ],
      "text/plain": [
       "  name  type  direction                                              stops  \\\n",
       "0    А  tram          1  [16396, 16367, 16371, 16398, 16400, 16401, 164...   \n",
       "1    А  tram          2  [33093, 16348, 16350, 16354, 16357, 16346, 163...   \n",
       "\n",
       "     id  \n",
       "0  1125  \n",
       "1  1125  "
      ]
     },
     "execution_count": 5,
     "metadata": {},
     "output_type": "execute_result"
    }
   ],
   "source": [
    "routes = []\n",
    "\n",
    "for route_id in tqdm(raw_routes['id'].unique()):\n",
    "    for direction in raw_routes.loc[raw_routes['id'] == route_id, 'direction'].unique():\n",
    "        mask = (raw_routes['id'] == route_id) & (raw_routes['direction'] == direction)\n",
    "        raw_route = raw_routes[mask]\n",
    "        \n",
    "        assert raw_route['type'].nunique() == 1\n",
    "        route_type = raw_route.iloc[0]['type']\n",
    "\n",
    "        assert raw_route['name'].nunique() == 1\n",
    "        name = raw_route.iloc[0]['name']\n",
    "        \n",
    "        assert raw_route['stop_id'].nunique() == raw_route.shape[0]\n",
    "\n",
    "        next_stops = raw_route.set_index('stop_id')['next_stop']\n",
    "\n",
    "        start = set(next_stops.index) - set(next_stops.values)\n",
    "        \n",
    "        if len(start) == 0:\n",
    "            assert set(next_stops.index) == set(next_stops.values)  # circular route\n",
    "            \n",
    "            start = next_stops.index[0]\n",
    "            route = [start]\n",
    "            \n",
    "            while True:\n",
    "                next_ = next_stops[route[-1]]\n",
    "                \n",
    "                if next_ in route:\n",
    "                    break\n",
    "                    \n",
    "                route.append(next_)\n",
    "        \n",
    "        else:\n",
    "            assert len(start) == 1\n",
    "            start = start.pop()\n",
    "\n",
    "            route = [start]\n",
    "\n",
    "            while route[-1] in next_stops.index:\n",
    "                route.append(next_stops[route[-1]])\n",
    "\n",
    "        routes.append({\n",
    "            'name': name,\n",
    "            'type': route_type,\n",
    "            'direction': direction,\n",
    "            'stops': route,\n",
    "            'id': route_id,\n",
    "        })\n",
    "        \n",
    "routes = pd.DataFrame(routes)\n",
    "\n",
    "routes.head(2)"
   ]
  },
  {
   "cell_type": "code",
   "execution_count": 6,
   "metadata": {},
   "outputs": [
    {
     "data": {
      "text/plain": [
       "45"
      ]
     },
     "execution_count": 6,
     "metadata": {},
     "output_type": "execute_result"
    }
   ],
   "source": [
    "route_stops = set(chain.from_iterable(routes['stops']))\n",
    "stops_ = set(stops['id'].unique())\n",
    "\n",
    "missing_stops = route_stops - stops_\n",
    "\n",
    "len(missing_stops)"
   ]
  },
  {
   "cell_type": "code",
   "execution_count": 7,
   "metadata": {},
   "outputs": [
    {
     "data": {
      "text/html": [
       "<div>\n",
       "<style scoped>\n",
       "    .dataframe tbody tr th:only-of-type {\n",
       "        vertical-align: middle;\n",
       "    }\n",
       "\n",
       "    .dataframe tbody tr th {\n",
       "        vertical-align: top;\n",
       "    }\n",
       "\n",
       "    .dataframe thead th {\n",
       "        text-align: right;\n",
       "    }\n",
       "</style>\n",
       "<table border=\"1\" class=\"dataframe\">\n",
       "  <thead>\n",
       "    <tr style=\"text-align: right;\">\n",
       "      <th></th>\n",
       "      <th>name</th>\n",
       "      <th>type</th>\n",
       "      <th>direction</th>\n",
       "      <th>stops</th>\n",
       "      <th>id</th>\n",
       "    </tr>\n",
       "  </thead>\n",
       "  <tbody>\n",
       "    <tr>\n",
       "      <th>0</th>\n",
       "      <td>А</td>\n",
       "      <td>tram</td>\n",
       "      <td>1</td>\n",
       "      <td>[16396, 16367, 16371, 16398, 16400, 16401, 164...</td>\n",
       "      <td>1125</td>\n",
       "    </tr>\n",
       "    <tr>\n",
       "      <th>1</th>\n",
       "      <td>А</td>\n",
       "      <td>tram</td>\n",
       "      <td>2</td>\n",
       "      <td>[33093, 16348, 16350, 16354, 16357, 16346, 163...</td>\n",
       "      <td>1125</td>\n",
       "    </tr>\n",
       "  </tbody>\n",
       "</table>\n",
       "</div>"
      ],
      "text/plain": [
       "  name  type  direction                                              stops  \\\n",
       "0    А  tram          1  [16396, 16367, 16371, 16398, 16400, 16401, 164...   \n",
       "1    А  tram          2  [33093, 16348, 16350, 16354, 16357, 16346, 163...   \n",
       "\n",
       "     id  \n",
       "0  1125  \n",
       "1  1125  "
      ]
     },
     "execution_count": 7,
     "metadata": {},
     "output_type": "execute_result"
    }
   ],
   "source": [
    "def remove_missing_stops(route: List[int]) -> List[int]:\n",
    "    missing = set(route).intersection(missing_stops)\n",
    "    \n",
    "    if len(missing) == 0:\n",
    "        return route\n",
    "    \n",
    "    assert len(missing) == 1\n",
    "    missing = missing.pop()\n",
    "    assert route.index(missing) == len(route) - 1\n",
    "    \n",
    "    return route[:-1]\n",
    "\n",
    "\n",
    "routes['stops'] = routes['stops'].apply(remove_missing_stops)\n",
    "\n",
    "routes.head(2)"
   ]
  },
  {
   "cell_type": "markdown",
   "metadata": {},
   "source": [
    "## OSM"
   ]
  },
  {
   "cell_type": "code",
   "execution_count": 8,
   "metadata": {},
   "outputs": [
    {
     "data": {
      "text/html": [
       "<div>\n",
       "<style scoped>\n",
       "    .dataframe tbody tr th:only-of-type {\n",
       "        vertical-align: middle;\n",
       "    }\n",
       "\n",
       "    .dataframe tbody tr th {\n",
       "        vertical-align: top;\n",
       "    }\n",
       "\n",
       "    .dataframe thead th {\n",
       "        text-align: right;\n",
       "    }\n",
       "</style>\n",
       "<table border=\"1\" class=\"dataframe\">\n",
       "  <thead>\n",
       "    <tr style=\"text-align: right;\">\n",
       "      <th></th>\n",
       "      <th>type</th>\n",
       "      <th>id</th>\n",
       "      <th>lat</th>\n",
       "      <th>lon</th>\n",
       "      <th>tags</th>\n",
       "      <th>nodes</th>\n",
       "      <th>members</th>\n",
       "    </tr>\n",
       "  </thead>\n",
       "  <tbody>\n",
       "    <tr>\n",
       "      <th>0</th>\n",
       "      <td>node</td>\n",
       "      <td>224873</td>\n",
       "      <td>60.179268</td>\n",
       "      <td>29.957429</td>\n",
       "      <td>NaN</td>\n",
       "      <td>NaN</td>\n",
       "      <td>NaN</td>\n",
       "    </tr>\n",
       "    <tr>\n",
       "      <th>1</th>\n",
       "      <td>node</td>\n",
       "      <td>224875</td>\n",
       "      <td>60.186004</td>\n",
       "      <td>29.948981</td>\n",
       "      <td>NaN</td>\n",
       "      <td>NaN</td>\n",
       "      <td>NaN</td>\n",
       "    </tr>\n",
       "  </tbody>\n",
       "</table>\n",
       "</div>"
      ],
      "text/plain": [
       "   type      id        lat        lon tags nodes members\n",
       "0  node  224873  60.179268  29.957429  NaN   NaN     NaN\n",
       "1  node  224875  60.186004  29.948981  NaN   NaN     NaN"
      ]
     },
     "execution_count": 8,
     "metadata": {},
     "output_type": "execute_result"
    }
   ],
   "source": [
    "with ZipFile(raw_osm_data_fpath) as zipfile:\n",
    "    raw_osm = []\n",
    "\n",
    "    for fname in zipfile.namelist():\n",
    "        with zipfile.open(fname, ) as file:\n",
    "            raw_osm.extend(json.load(file)['elements'])\n",
    "\n",
    "raw_osm = pd.DataFrame(raw_osm)\n",
    "\n",
    "raw_osm = raw_osm.drop_duplicates(['type', 'id'])\n",
    "\n",
    "raw_osm.head(2)"
   ]
  },
  {
   "cell_type": "code",
   "execution_count": 9,
   "metadata": {},
   "outputs": [
    {
     "data": {
      "text/plain": [
       "(16188634,)"
      ]
     },
     "execution_count": 9,
     "metadata": {},
     "output_type": "execute_result"
    }
   ],
   "source": [
    "raw_osm['type'].shape"
   ]
  },
  {
   "cell_type": "code",
   "execution_count": 10,
   "metadata": {},
   "outputs": [
    {
     "data": {
      "text/plain": [
       "(28.876577076, 31.426889724, 59.434442459461785, 60.479614442928714)"
      ]
     },
     "execution_count": 10,
     "metadata": {},
     "output_type": "execute_result"
    }
   ],
   "source": [
    "x0, y0 = stops[['lon', 'lat']].min()\n",
    "x1, y1 = stops[['lon', 'lat']].max()\n",
    "\n",
    "# padding out by about 10 km each way\n",
    "xpad = (x1 - x0) / 25\n",
    "ypad = (y1 - y0) / 7\n",
    "\n",
    "x0 -= xpad\n",
    "x1 += xpad\n",
    "y0 -= ypad\n",
    "y1 += ypad\n",
    "\n",
    "x0, x1, y0, y1"
   ]
  },
  {
   "cell_type": "code",
   "execution_count": 11,
   "metadata": {},
   "outputs": [
    {
     "data": {
      "text/html": [
       "<div>\n",
       "<style scoped>\n",
       "    .dataframe tbody tr th:only-of-type {\n",
       "        vertical-align: middle;\n",
       "    }\n",
       "\n",
       "    .dataframe tbody tr th {\n",
       "        vertical-align: top;\n",
       "    }\n",
       "\n",
       "    .dataframe thead th {\n",
       "        text-align: right;\n",
       "    }\n",
       "</style>\n",
       "<table border=\"1\" class=\"dataframe\">\n",
       "  <thead>\n",
       "    <tr style=\"text-align: right;\">\n",
       "      <th></th>\n",
       "      <th>type</th>\n",
       "      <th>id</th>\n",
       "      <th>lat</th>\n",
       "      <th>lon</th>\n",
       "      <th>tags</th>\n",
       "      <th>nodes</th>\n",
       "      <th>members</th>\n",
       "    </tr>\n",
       "  </thead>\n",
       "  <tbody>\n",
       "    <tr>\n",
       "      <th>0</th>\n",
       "      <td>node</td>\n",
       "      <td>224873</td>\n",
       "      <td>60.179268</td>\n",
       "      <td>29.957429</td>\n",
       "      <td>NaN</td>\n",
       "      <td>NaN</td>\n",
       "      <td>NaN</td>\n",
       "    </tr>\n",
       "    <tr>\n",
       "      <th>1</th>\n",
       "      <td>node</td>\n",
       "      <td>224875</td>\n",
       "      <td>60.186004</td>\n",
       "      <td>29.948981</td>\n",
       "      <td>NaN</td>\n",
       "      <td>NaN</td>\n",
       "      <td>NaN</td>\n",
       "    </tr>\n",
       "  </tbody>\n",
       "</table>\n",
       "</div>"
      ],
      "text/plain": [
       "   type      id        lat        lon tags nodes members\n",
       "0  node  224873  60.179268  29.957429  NaN   NaN     NaN\n",
       "1  node  224875  60.186004  29.948981  NaN   NaN     NaN"
      ]
     },
     "execution_count": 11,
     "metadata": {},
     "output_type": "execute_result"
    }
   ],
   "source": [
    "mask = (raw_osm['lon'].isna() | ((raw_osm['lon'] >= x0) & (raw_osm['lon'] <= x1)))\\\n",
    "    & (raw_osm['lat'].isna() | ((raw_osm['lat'] >= y0) & (raw_osm['lat'] <= y1)))\n",
    "\n",
    "raw_osm = raw_osm[mask].copy()\n",
    "\n",
    "raw_osm.head(2)"
   ]
  },
  {
   "cell_type": "code",
   "execution_count": 12,
   "metadata": {},
   "outputs": [
    {
     "data": {
      "text/plain": [
       "(8494282,)"
      ]
     },
     "execution_count": 12,
     "metadata": {},
     "output_type": "execute_result"
    }
   ],
   "source": [
    "raw_osm['type'].shape"
   ]
  },
  {
   "cell_type": "code",
   "execution_count": 13,
   "metadata": {},
   "outputs": [
    {
     "data": {
      "text/plain": [
       "node        6705108\n",
       "way         1705227\n",
       "relation      83947\n",
       "Name: type, dtype: int64"
      ]
     },
     "execution_count": 13,
     "metadata": {},
     "output_type": "execute_result"
    }
   ],
   "source": [
    "raw_osm['type'].value_counts()"
   ]
  },
  {
   "cell_type": "code",
   "execution_count": 14,
   "metadata": {},
   "outputs": [],
   "source": [
    "node_coords = raw_osm.loc[raw_osm['type'] == 'node', ['id', 'lat', 'lon']].set_index('id')\n",
    "assert node_coords.notna().all().all()\n",
    "\n",
    "node_coords = dict(zip(node_coords.index.tolist(), map(tuple, node_coords.values.tolist())))"
   ]
  },
  {
   "cell_type": "markdown",
   "metadata": {},
   "source": [
    "### Infrastructure objects"
   ]
  },
  {
   "cell_type": "code",
   "execution_count": 15,
   "metadata": {},
   "outputs": [
    {
     "data": {
      "text/plain": [
       "0    8339341\n",
       "1     152913\n",
       "2       2006\n",
       "3         22\n",
       "Name: n_infrastructure_types, dtype: int64"
      ]
     },
     "execution_count": 15,
     "metadata": {},
     "output_type": "execute_result"
    }
   ],
   "source": [
    "raw_osm['infrastructure_types'] = raw_osm['tags'].apply(assign_infrastructure_types)\n",
    "raw_osm['n_infrastructure_types'] = raw_osm['infrastructure_types'].apply(len)\n",
    "\n",
    "raw_osm['n_infrastructure_types'].value_counts()"
   ]
  },
  {
   "cell_type": "code",
   "execution_count": 16,
   "metadata": {},
   "outputs": [
    {
     "data": {
      "text/html": [
       "<div>\n",
       "<style scoped>\n",
       "    .dataframe tbody tr th:only-of-type {\n",
       "        vertical-align: middle;\n",
       "    }\n",
       "\n",
       "    .dataframe tbody tr th {\n",
       "        vertical-align: top;\n",
       "    }\n",
       "\n",
       "    .dataframe thead th {\n",
       "        text-align: right;\n",
       "    }\n",
       "</style>\n",
       "<table border=\"1\" class=\"dataframe\">\n",
       "  <thead>\n",
       "    <tr style=\"text-align: right;\">\n",
       "      <th></th>\n",
       "      <th>type</th>\n",
       "      <th>id</th>\n",
       "      <th>lat</th>\n",
       "      <th>lon</th>\n",
       "      <th>tags</th>\n",
       "      <th>nodes</th>\n",
       "      <th>members</th>\n",
       "      <th>infrastructure_types</th>\n",
       "      <th>n_infrastructure_types</th>\n",
       "    </tr>\n",
       "  </thead>\n",
       "  <tbody>\n",
       "    <tr>\n",
       "      <th>51184</th>\n",
       "      <td>node</td>\n",
       "      <td>243158032</td>\n",
       "      <td>59.899599</td>\n",
       "      <td>29.089534</td>\n",
       "      <td>{'amenity': 'school', 'name': 'ДЮСШ'}</td>\n",
       "      <td>NaN</td>\n",
       "      <td>NaN</td>\n",
       "      <td>[Education]</td>\n",
       "      <td>1</td>\n",
       "    </tr>\n",
       "    <tr>\n",
       "      <th>86529</th>\n",
       "      <td>node</td>\n",
       "      <td>250691416</td>\n",
       "      <td>59.810319</td>\n",
       "      <td>28.993070</td>\n",
       "      <td>{'historic': 'memorial', 'name': 'Мемориал «Бе...</td>\n",
       "      <td>NaN</td>\n",
       "      <td>NaN</td>\n",
       "      <td>[Tourism]</td>\n",
       "      <td>1</td>\n",
       "    </tr>\n",
       "  </tbody>\n",
       "</table>\n",
       "</div>"
      ],
      "text/plain": [
       "       type         id        lat        lon  \\\n",
       "51184  node  243158032  59.899599  29.089534   \n",
       "86529  node  250691416  59.810319  28.993070   \n",
       "\n",
       "                                                    tags nodes members  \\\n",
       "51184              {'amenity': 'school', 'name': 'ДЮСШ'}   NaN     NaN   \n",
       "86529  {'historic': 'memorial', 'name': 'Мемориал «Бе...   NaN     NaN   \n",
       "\n",
       "      infrastructure_types  n_infrastructure_types  \n",
       "51184          [Education]                       1  \n",
       "86529            [Tourism]                       1  "
      ]
     },
     "execution_count": 16,
     "metadata": {},
     "output_type": "execute_result"
    }
   ],
   "source": [
    "mask = (raw_osm['n_infrastructure_types'] > 0) & (raw_osm['type'] != 'relation')\n",
    "\n",
    "infrastructure = raw_osm[mask].copy()\n",
    "\n",
    "infrastructure.head(2)"
   ]
  },
  {
   "cell_type": "code",
   "execution_count": 17,
   "metadata": {},
   "outputs": [
    {
     "data": {
      "text/html": [
       "<div>\n",
       "<style scoped>\n",
       "    .dataframe tbody tr th:only-of-type {\n",
       "        vertical-align: middle;\n",
       "    }\n",
       "\n",
       "    .dataframe tbody tr th {\n",
       "        vertical-align: top;\n",
       "    }\n",
       "\n",
       "    .dataframe thead th {\n",
       "        text-align: right;\n",
       "    }\n",
       "</style>\n",
       "<table border=\"1\" class=\"dataframe\">\n",
       "  <thead>\n",
       "    <tr style=\"text-align: right;\">\n",
       "      <th></th>\n",
       "      <th>type</th>\n",
       "      <th>id</th>\n",
       "      <th>lat</th>\n",
       "      <th>lon</th>\n",
       "      <th>tags</th>\n",
       "      <th>nodes</th>\n",
       "      <th>members</th>\n",
       "      <th>infrastructure_types</th>\n",
       "      <th>n_infrastructure_types</th>\n",
       "      <th>name</th>\n",
       "    </tr>\n",
       "  </thead>\n",
       "  <tbody>\n",
       "    <tr>\n",
       "      <th>51184</th>\n",
       "      <td>node</td>\n",
       "      <td>243158032</td>\n",
       "      <td>59.899599</td>\n",
       "      <td>29.089534</td>\n",
       "      <td>{'amenity': 'school', 'name': 'ДЮСШ'}</td>\n",
       "      <td>NaN</td>\n",
       "      <td>NaN</td>\n",
       "      <td>[Education]</td>\n",
       "      <td>1</td>\n",
       "      <td>ДЮСШ</td>\n",
       "    </tr>\n",
       "    <tr>\n",
       "      <th>86529</th>\n",
       "      <td>node</td>\n",
       "      <td>250691416</td>\n",
       "      <td>59.810319</td>\n",
       "      <td>28.993070</td>\n",
       "      <td>{'historic': 'memorial', 'name': 'Мемориал «Бе...</td>\n",
       "      <td>NaN</td>\n",
       "      <td>NaN</td>\n",
       "      <td>[Tourism]</td>\n",
       "      <td>1</td>\n",
       "      <td>Мемориал «Берег мужественных»</td>\n",
       "    </tr>\n",
       "  </tbody>\n",
       "</table>\n",
       "</div>"
      ],
      "text/plain": [
       "       type         id        lat        lon  \\\n",
       "51184  node  243158032  59.899599  29.089534   \n",
       "86529  node  250691416  59.810319  28.993070   \n",
       "\n",
       "                                                    tags nodes members  \\\n",
       "51184              {'amenity': 'school', 'name': 'ДЮСШ'}   NaN     NaN   \n",
       "86529  {'historic': 'memorial', 'name': 'Мемориал «Бе...   NaN     NaN   \n",
       "\n",
       "      infrastructure_types  n_infrastructure_types  \\\n",
       "51184          [Education]                       1   \n",
       "86529            [Tourism]                       1   \n",
       "\n",
       "                                name  \n",
       "51184                           ДЮСШ  \n",
       "86529  Мемориал «Берег мужественных»  "
      ]
     },
     "execution_count": 17,
     "metadata": {},
     "output_type": "execute_result"
    }
   ],
   "source": [
    "def get_name(tags: dict) -> str:\n",
    "    if not isinstance(tags, dict):\n",
    "        return\n",
    "    \n",
    "    name = tags.get('official_name', tags.get('name:ru', tags.get('name')))\n",
    "    \n",
    "    return name\n",
    "\n",
    "\n",
    "infrastructure['name'] = infrastructure['tags'].apply(get_name)\n",
    "\n",
    "infrastructure.head(2)"
   ]
  },
  {
   "cell_type": "code",
   "execution_count": 18,
   "metadata": {},
   "outputs": [
    {
     "name": "stderr",
     "output_type": "stream",
     "text": [
      "100%|██████████| 101171/101171 [01:49<00:00, 920.88it/s]\n"
     ]
    },
    {
     "data": {
      "text/plain": [
       "(115130, 11)"
      ]
     },
     "execution_count": 18,
     "metadata": {},
     "output_type": "execute_result"
    }
   ],
   "source": [
    "all_nodes = set(node_coords.keys())\n",
    "\n",
    "mask = infrastructure['nodes'].notna()\n",
    "n_items = mask.sum()\n",
    "\n",
    "to_remove = []\n",
    "\n",
    "for i, row in tqdm(infrastructure[mask].iterrows(), total=n_items):\n",
    "    nodes = set(row['nodes'])\n",
    "    \n",
    "    if len(nodes - all_nodes) > 0:\n",
    "        to_remove.append(i)\n",
    "        continue\n",
    "    \n",
    "    coords = np.array([node_coords[node] for node in nodes])\n",
    "    lat, lon = coords.mean(axis=0)\n",
    "    infrastructure.loc[i, 'lat'] = lat\n",
    "    infrastructure.loc[i, 'lon'] = lon\n",
    "    \n",
    "    distances = get_earth_distances(coords, coords)\n",
    "    diameter = distances.max()\n",
    "    infrastructure.loc[i, 'diameter'] = diameter\n",
    "    \n",
    "infrastructure = infrastructure.drop(index=to_remove)\n",
    "\n",
    "infrastructure['diameter'] = infrastructure['diameter'].fillna(0)\n",
    "\n",
    "infrastructure.shape"
   ]
  },
  {
   "cell_type": "code",
   "execution_count": 20,
   "metadata": {},
   "outputs": [
    {
     "data": {
      "text/plain": [
       "0.013454355945452965"
      ]
     },
     "execution_count": 20,
     "metadata": {},
     "output_type": "execute_result"
    }
   ],
   "source": [
    "(infrastructure['diameter'] > 0.25).mean()"
   ]
  },
  {
   "cell_type": "code",
   "execution_count": 21,
   "metadata": {},
   "outputs": [
    {
     "data": {
      "text/plain": [
       "{'contact:website': 'http://www.seaport.spb.ru/about/structure/13/',\n",
       " 'industrial': 'port',\n",
       " 'landuse': 'industrial',\n",
       " 'name': 'Первая стивидорная компания',\n",
       " 'official_name': 'ОАО \"Морской порт Санкт-Петербург\"',\n",
       " 'port': 'cargo'}"
      ]
     },
     "execution_count": 21,
     "metadata": {},
     "output_type": "execute_result"
    }
   ],
   "source": [
    "infrastructure.sort_values(by='diameter', ascending=False).iloc[0]['tags']"
   ]
  },
  {
   "cell_type": "code",
   "execution_count": 22,
   "metadata": {},
   "outputs": [],
   "source": [
    "assert infrastructure[['lat', 'lon']].notna().all().all()\n",
    "assert infrastructure['id'].nunique() == infrastructure.shape[0]"
   ]
  },
  {
   "cell_type": "code",
   "execution_count": 23,
   "metadata": {},
   "outputs": [
    {
     "name": "stderr",
     "output_type": "stream",
     "text": [
      "100%|██████████| 115130/115130 [00:47<00:00, 2413.19it/s]\n"
     ]
    },
    {
     "data": {
      "text/plain": [
       "(89563, 11)"
      ]
     },
     "execution_count": 23,
     "metadata": {},
     "output_type": "execute_result"
    }
   ],
   "source": [
    "stop_coords = stops[['lat', 'lon']].values\n",
    "\n",
    "infrastructure_coords = infrastructure[['lat', 'lon']]\n",
    "\n",
    "distances = pd.Series({\n",
    "    i: get_earth_distances(coords.values.reshape(1, -1), stop_coords).min()\n",
    "    for i, coords in tqdm(infrastructure_coords.iterrows(), total=infrastructure_coords.shape[0])\n",
    "})\n",
    "\n",
    "to_remove = distances[distances > 2].index\n",
    "\n",
    "infrastructure = infrastructure.drop(index=to_remove)\n",
    "\n",
    "infrastructure.shape"
   ]
  },
  {
   "cell_type": "code",
   "execution_count": 25,
   "metadata": {},
   "outputs": [
    {
     "data": {
      "text/plain": [
       "89563"
      ]
     },
     "execution_count": 25,
     "metadata": {},
     "output_type": "execute_result"
    }
   ],
   "source": [
    "infrastructure_json = infrastructure\\\n",
    "    .drop(columns=['type', 'tags', 'nodes', 'members', 'n_infrastructure_types'])\\\n",
    "    .rename(columns={'infrastructure_types': 'types'})\n",
    "\n",
    "infrastructure_json = [row.to_dict() for _, row in infrastructure_json.iterrows()]\n",
    "\n",
    "len(infrastructure_json)"
   ]
  },
  {
   "cell_type": "code",
   "execution_count": 52,
   "metadata": {},
   "outputs": [
    {
     "data": {
      "text/plain": [
       "{'id': 267959524,\n",
       " 'lat': 59.6610977,\n",
       " 'lon': 30.7851733,\n",
       " 'types': ['Tourism'],\n",
       " 'name': 'Саблинский водопад',\n",
       " 'diameter': 0.0}"
      ]
     },
     "execution_count": 52,
     "metadata": {},
     "output_type": "execute_result"
    }
   ],
   "source": [
    "infrastructure_json[0]"
   ]
  },
  {
   "cell_type": "code",
   "execution_count": 26,
   "metadata": {},
   "outputs": [],
   "source": [
    "save_json(infrastructure_json, infrastructure_fpath)"
   ]
  },
  {
   "cell_type": "code",
   "execution_count": 7,
   "metadata": {},
   "outputs": [
    {
     "data": {
      "text/html": [
       "<div>\n",
       "<style scoped>\n",
       "    .dataframe tbody tr th:only-of-type {\n",
       "        vertical-align: middle;\n",
       "    }\n",
       "\n",
       "    .dataframe tbody tr th {\n",
       "        vertical-align: top;\n",
       "    }\n",
       "\n",
       "    .dataframe thead th {\n",
       "        text-align: right;\n",
       "    }\n",
       "</style>\n",
       "<table border=\"1\" class=\"dataframe\">\n",
       "  <thead>\n",
       "    <tr style=\"text-align: right;\">\n",
       "      <th></th>\n",
       "      <th>lat</th>\n",
       "      <th>lon</th>\n",
       "      <th>types</th>\n",
       "      <th>name</th>\n",
       "      <th>diameter</th>\n",
       "    </tr>\n",
       "    <tr>\n",
       "      <th>id</th>\n",
       "      <th></th>\n",
       "      <th></th>\n",
       "      <th></th>\n",
       "      <th></th>\n",
       "      <th></th>\n",
       "    </tr>\n",
       "  </thead>\n",
       "  <tbody>\n",
       "    <tr>\n",
       "      <th>267959524</th>\n",
       "      <td>59.661098</td>\n",
       "      <td>30.785173</td>\n",
       "      <td>[Tourism]</td>\n",
       "      <td>Саблинский водопад</td>\n",
       "      <td>0.0</td>\n",
       "    </tr>\n",
       "    <tr>\n",
       "      <th>268911313</th>\n",
       "      <td>59.688758</td>\n",
       "      <td>29.920383</td>\n",
       "      <td>[Car service]</td>\n",
       "      <td>Киришиавтосервис 13</td>\n",
       "      <td>0.0</td>\n",
       "    </tr>\n",
       "  </tbody>\n",
       "</table>\n",
       "</div>"
      ],
      "text/plain": [
       "                 lat        lon          types                 name  diameter\n",
       "id                                                                           \n",
       "267959524  59.661098  30.785173      [Tourism]   Саблинский водопад       0.0\n",
       "268911313  59.688758  29.920383  [Car service]  Киришиавтосервис 13       0.0"
      ]
     },
     "execution_count": 7,
     "metadata": {},
     "output_type": "execute_result"
    }
   ],
   "source": [
    "infrastructure = pd.read_json(infrastructure_fpath, encoding='utf-8').set_index('id')\n",
    "\n",
    "infrastructure.head(2)"
   ]
  },
  {
   "cell_type": "code",
   "execution_count": 15,
   "metadata": {},
   "outputs": [
    {
     "data": {
      "image/png": "[encoded data removed]",
      "text/plain": [
       "<Figure size 432x288 with 1 Axes>"
      ]
     },
     "metadata": {},
     "output_type": "display_data"
    }
   ],
   "source": [
    "plt.hist(infrastructure['diameter'], bins=25)\n",
    "\n",
    "plt.yscale('log')\n",
    "plt.xlabel('diameter, km')\n",
    "plt.savefig('../figures/infrastructure_diameters.pdf', transparent=True, bbox_inches='tight')"
   ]
  },
  {
   "cell_type": "code",
   "execution_count": 8,
   "metadata": {},
   "outputs": [
    {
     "data": {
      "image/png": "[encoded data removed]",
      "text/plain": [
       "<Figure size 432x288 with 1 Axes>"
      ]
     },
     "metadata": {},
     "output_type": "display_data"
    }
   ],
   "source": [
    "infrastructure_types = pd.Series(chain.from_iterable(infrastructure['types']))\n",
    "infrastructure_type_counts = infrastructure_types.value_counts().sort_values()\n",
    "\n",
    "plt.barh(\n",
    "    infrastructure_type_counts.index,\n",
    "    infrastructure_type_counts.values,\n",
    "    zorder=5,\n",
    ")\n",
    "\n",
    "plt.grid(axis='y')\n",
    "\n",
    "plt.savefig('../figures/infrastructure_counts.pdf', transparent=True, bbox_inches='tight')"
   ]
  },
  {
   "cell_type": "markdown",
   "metadata": {},
   "source": [
    "### Subway stations"
   ]
  },
  {
   "cell_type": "code",
   "execution_count": 27,
   "metadata": {},
   "outputs": [
    {
     "data": {
      "text/html": [
       "<div>\n",
       "<style scoped>\n",
       "    .dataframe tbody tr th:only-of-type {\n",
       "        vertical-align: middle;\n",
       "    }\n",
       "\n",
       "    .dataframe tbody tr th {\n",
       "        vertical-align: top;\n",
       "    }\n",
       "\n",
       "    .dataframe thead th {\n",
       "        text-align: right;\n",
       "    }\n",
       "</style>\n",
       "<table border=\"1\" class=\"dataframe\">\n",
       "  <thead>\n",
       "    <tr style=\"text-align: right;\">\n",
       "      <th></th>\n",
       "      <th>type</th>\n",
       "      <th>id</th>\n",
       "      <th>lat</th>\n",
       "      <th>lon</th>\n",
       "      <th>tags</th>\n",
       "      <th>nodes</th>\n",
       "      <th>members</th>\n",
       "      <th>infrastructure_types</th>\n",
       "      <th>n_infrastructure_types</th>\n",
       "      <th>is_subway_entrance</th>\n",
       "      <th>name</th>\n",
       "      <th>line_color</th>\n",
       "    </tr>\n",
       "  </thead>\n",
       "  <tbody>\n",
       "    <tr>\n",
       "      <th>135865</th>\n",
       "      <td>node</td>\n",
       "      <td>348149970</td>\n",
       "      <td>60.050870</td>\n",
       "      <td>30.442688</td>\n",
       "      <td>{'barrier': 'turnstile', 'colour': 'red', 'fee...</td>\n",
       "      <td>NaN</td>\n",
       "      <td>NaN</td>\n",
       "      <td>[]</td>\n",
       "      <td>0</td>\n",
       "      <td>True</td>\n",
       "      <td>Девяткино - 2</td>\n",
       "      <td>red</td>\n",
       "    </tr>\n",
       "    <tr>\n",
       "      <th>7668773</th>\n",
       "      <td>node</td>\n",
       "      <td>4632523924</td>\n",
       "      <td>60.050666</td>\n",
       "      <td>30.442555</td>\n",
       "      <td>{'colour': 'red', 'name': 'Девяткино - 2', 'na...</td>\n",
       "      <td>NaN</td>\n",
       "      <td>NaN</td>\n",
       "      <td>[]</td>\n",
       "      <td>0</td>\n",
       "      <td>True</td>\n",
       "      <td>Девяткино - 2</td>\n",
       "      <td>red</td>\n",
       "    </tr>\n",
       "  </tbody>\n",
       "</table>\n",
       "</div>"
      ],
      "text/plain": [
       "         type          id        lat        lon  \\\n",
       "135865   node   348149970  60.050870  30.442688   \n",
       "7668773  node  4632523924  60.050666  30.442555   \n",
       "\n",
       "                                                      tags nodes members  \\\n",
       "135865   {'barrier': 'turnstile', 'colour': 'red', 'fee...   NaN     NaN   \n",
       "7668773  {'colour': 'red', 'name': 'Девяткино - 2', 'na...   NaN     NaN   \n",
       "\n",
       "        infrastructure_types  n_infrastructure_types  is_subway_entrance  \\\n",
       "135865                    []                       0                True   \n",
       "7668773                   []                       0                True   \n",
       "\n",
       "                  name line_color  \n",
       "135865   Девяткино - 2        red  \n",
       "7668773  Девяткино - 2        red  "
      ]
     },
     "execution_count": 27,
     "metadata": {},
     "output_type": "execute_result"
    }
   ],
   "source": [
    "def is_subway_entrance(tags: dict) -> bool:\n",
    "    return isinstance(tags, dict) and tags.get('railway') == 'subway_entrance'\n",
    "\n",
    "\n",
    "def get_subway_line_color(tags: dict) -> str:\n",
    "    return tags.get('colour')\n",
    "\n",
    "\n",
    "raw_osm['is_subway_entrance'] = raw_osm['tags'].apply(is_subway_entrance)\n",
    "\n",
    "mask = raw_osm['is_subway_entrance'] & (raw_osm['type'] == 'node')\n",
    "subway_entrances = raw_osm[mask].copy()\n",
    "\n",
    "subway_entrances['name'] = subway_entrances['tags'].apply(get_name)\n",
    "subway_entrances['line_color'] = subway_entrances['tags'].apply(get_subway_line_color)\n",
    "\n",
    "subway_entrances.head(2)"
   ]
  },
  {
   "cell_type": "code",
   "execution_count": 28,
   "metadata": {},
   "outputs": [
    {
     "data": {
      "text/html": [
       "<div>\n",
       "<style scoped>\n",
       "    .dataframe tbody tr th:only-of-type {\n",
       "        vertical-align: middle;\n",
       "    }\n",
       "\n",
       "    .dataframe tbody tr th {\n",
       "        vertical-align: top;\n",
       "    }\n",
       "\n",
       "    .dataframe thead th {\n",
       "        text-align: right;\n",
       "    }\n",
       "</style>\n",
       "<table border=\"1\" class=\"dataframe\">\n",
       "  <thead>\n",
       "    <tr style=\"text-align: right;\">\n",
       "      <th></th>\n",
       "      <th>type</th>\n",
       "      <th>id</th>\n",
       "      <th>lat</th>\n",
       "      <th>lon</th>\n",
       "      <th>tags</th>\n",
       "      <th>nodes</th>\n",
       "      <th>members</th>\n",
       "      <th>infrastructure_types</th>\n",
       "      <th>n_infrastructure_types</th>\n",
       "      <th>is_subway_entrance</th>\n",
       "      <th>name</th>\n",
       "      <th>line_color</th>\n",
       "      <th>station_name</th>\n",
       "    </tr>\n",
       "  </thead>\n",
       "  <tbody>\n",
       "    <tr>\n",
       "      <th>135865</th>\n",
       "      <td>node</td>\n",
       "      <td>348149970</td>\n",
       "      <td>60.050870</td>\n",
       "      <td>30.442688</td>\n",
       "      <td>{'barrier': 'turnstile', 'colour': 'red', 'fee...</td>\n",
       "      <td>NaN</td>\n",
       "      <td>NaN</td>\n",
       "      <td>[]</td>\n",
       "      <td>0</td>\n",
       "      <td>True</td>\n",
       "      <td>Девяткино - 2</td>\n",
       "      <td>red</td>\n",
       "      <td>Девяткино</td>\n",
       "    </tr>\n",
       "    <tr>\n",
       "      <th>7668773</th>\n",
       "      <td>node</td>\n",
       "      <td>4632523924</td>\n",
       "      <td>60.050666</td>\n",
       "      <td>30.442555</td>\n",
       "      <td>{'colour': 'red', 'name': 'Девяткино - 2', 'na...</td>\n",
       "      <td>NaN</td>\n",
       "      <td>NaN</td>\n",
       "      <td>[]</td>\n",
       "      <td>0</td>\n",
       "      <td>True</td>\n",
       "      <td>Девяткино - 2</td>\n",
       "      <td>red</td>\n",
       "      <td>Девяткино</td>\n",
       "    </tr>\n",
       "  </tbody>\n",
       "</table>\n",
       "</div>"
      ],
      "text/plain": [
       "         type          id        lat        lon  \\\n",
       "135865   node   348149970  60.050870  30.442688   \n",
       "7668773  node  4632523924  60.050666  30.442555   \n",
       "\n",
       "                                                      tags nodes members  \\\n",
       "135865   {'barrier': 'turnstile', 'colour': 'red', 'fee...   NaN     NaN   \n",
       "7668773  {'colour': 'red', 'name': 'Девяткино - 2', 'na...   NaN     NaN   \n",
       "\n",
       "        infrastructure_types  n_infrastructure_types  is_subway_entrance  \\\n",
       "135865                    []                       0                True   \n",
       "7668773                   []                       0                True   \n",
       "\n",
       "                  name line_color station_name  \n",
       "135865   Девяткино - 2        red    Девяткино  \n",
       "7668773  Девяткино - 2        red    Девяткино  "
      ]
     },
     "execution_count": 28,
     "metadata": {},
     "output_type": "execute_result"
    }
   ],
   "source": [
    "station_names = ['Автово', 'Адмиралтейская', 'Академическая', 'Балтийская',\n",
    "                 'Беговая', 'Бухарестская', 'Василеостровская', 'Владимирская',\n",
    "                 'Волковская', 'Выборгская', 'Горьковская', 'Гостиный двор',\n",
    "                 'Гражданский проспект', 'Достоевская', 'Дунайская', 'Елизаровская',\n",
    "                 'Звенигородская', 'Звёздная', 'Зенит', 'Кировский завод',\n",
    "                 'Комендантский проспект', 'Крестовский остров', 'Купчино',\n",
    "                 'Ладожская', 'Ленинский проспект', 'Лесная', 'Лиговский проспект',\n",
    "                 'Ломоносовская', 'Маяковская', 'Международная', 'Московская',\n",
    "                 'Московские ворота', 'Нарвская', 'Невский проспект',\n",
    "                 'Новочеркасская', 'Обводный канал', 'Обухово', 'Озерки',\n",
    "                 'Парк Победы', 'Парнас', 'Петроградская', 'Пионерская',\n",
    "                 'Площадь Александра Невского', 'Площадь Восстания', 'Площадь Ленина',\n",
    "                 'Площадь Мужества', 'Политехническая', 'Приморская', 'Пролетарская',\n",
    "                 'Проспект Большевиков', 'Проспект Ветеранов', 'Проспект Просвещения',\n",
    "                 'Проспект Славы', 'Пушкинская', 'Рыбацкое', 'Садовая',\n",
    "                 'Сенная площадь', 'Спасская', 'Спортивная', 'Старая Деревня',\n",
    "                 'Технологический институт', 'Удельная', 'Улица Дыбенко',\n",
    "                 'Фрунзенская', 'Чернышевская', 'Чкаловская', 'Чёрная речка',\n",
    "                 'Шушары', 'Электросила', 'Девяткино']\n",
    "\n",
    "\n",
    "def get_station_name(entrance_name: str) -> str:\n",
    "    suitable_station_names = [name for name in station_names if entrance_name.startswith(name)]\n",
    "    \n",
    "    if len(suitable_station_names) != 1:\n",
    "        raise ValueError('multiple or no station names for entrance ' + repr(entrance_name))\n",
    "        \n",
    "    return suitable_station_names[0]\n",
    "\n",
    "\n",
    "subway_entrances['station_name'] = subway_entrances['name'].apply(get_station_name)\n",
    "\n",
    "subway_entrances.head(2)"
   ]
  },
  {
   "cell_type": "code",
   "execution_count": 29,
   "metadata": {},
   "outputs": [],
   "source": [
    "assert subway_entrances['line_color'].notna().all()\n",
    "assert subway_entrances['station_name'].notna().all()"
   ]
  },
  {
   "cell_type": "code",
   "execution_count": 30,
   "metadata": {},
   "outputs": [],
   "source": [
    "line_starts = {\n",
    "    'blue': 'Парнас',\n",
    "    'red': 'Девяткино',\n",
    "    'green': 'Беговая',\n",
    "    'orange': 'Улица Дыбенко',\n",
    "    'purple': 'Комендантский проспект',\n",
    "}"
   ]
  },
  {
   "cell_type": "code",
   "execution_count": 31,
   "metadata": {},
   "outputs": [
    {
     "data": {
      "text/html": [
       "<div>\n",
       "<style scoped>\n",
       "    .dataframe tbody tr th:only-of-type {\n",
       "        vertical-align: middle;\n",
       "    }\n",
       "\n",
       "    .dataframe tbody tr th {\n",
       "        vertical-align: top;\n",
       "    }\n",
       "\n",
       "    .dataframe thead th {\n",
       "        text-align: right;\n",
       "    }\n",
       "</style>\n",
       "<table border=\"1\" class=\"dataframe\">\n",
       "  <thead>\n",
       "    <tr style=\"text-align: right;\">\n",
       "      <th></th>\n",
       "      <th>line_color</th>\n",
       "      <th>name</th>\n",
       "      <th>lat</th>\n",
       "      <th>lon</th>\n",
       "      <th>diameter</th>\n",
       "      <th>start</th>\n",
       "      <th>id</th>\n",
       "      <th>type</th>\n",
       "    </tr>\n",
       "  </thead>\n",
       "  <tbody>\n",
       "    <tr>\n",
       "      <th>0</th>\n",
       "      <td>red</td>\n",
       "      <td>Девяткино (red)</td>\n",
       "      <td>60.050325</td>\n",
       "      <td>30.442339</td>\n",
       "      <td>0.124599</td>\n",
       "      <td>True</td>\n",
       "      <td>0</td>\n",
       "      <td>subway</td>\n",
       "    </tr>\n",
       "    <tr>\n",
       "      <th>1</th>\n",
       "      <td>blue</td>\n",
       "      <td>Петроградская (blue)</td>\n",
       "      <td>59.966286</td>\n",
       "      <td>30.311433</td>\n",
       "      <td>0.004227</td>\n",
       "      <td>False</td>\n",
       "      <td>1</td>\n",
       "      <td>subway</td>\n",
       "    </tr>\n",
       "  </tbody>\n",
       "</table>\n",
       "</div>"
      ],
      "text/plain": [
       "  line_color                  name        lat        lon  diameter  start  id  \\\n",
       "0        red       Девяткино (red)  60.050325  30.442339  0.124599   True   0   \n",
       "1       blue  Петроградская (blue)  59.966286  30.311433  0.004227  False   1   \n",
       "\n",
       "     type  \n",
       "0  subway  \n",
       "1  subway  "
      ]
     },
     "execution_count": 31,
     "metadata": {},
     "output_type": "execute_result"
    }
   ],
   "source": [
    "subway_stations = []\n",
    "\n",
    "for line_color, station_name in subway_entrances[['line_color', 'station_name']].drop_duplicates().values:\n",
    "    mask = (subway_entrances['line_color'] == line_color)\\\n",
    "        & (subway_entrances['station_name'] == station_name)\n",
    "    \n",
    "    station_entrances = subway_entrances[mask]\n",
    "    coords = station_entrances[['lat', 'lon']].values\n",
    "    lat, lon = coords.mean(axis=0)\n",
    "    \n",
    "    diameter = get_earth_distances(coords, coords).max()\n",
    "    \n",
    "    subway_stations.append({\n",
    "        'line_color': line_color,\n",
    "        'name': station_name,\n",
    "        'lat': lat,\n",
    "        'lon': lon,\n",
    "        'diameter': diameter,\n",
    "        'start': line_starts[line_color] == station_name,\n",
    "    })\n",
    "    \n",
    "subway_stations = pd.DataFrame(subway_stations)\n",
    "\n",
    "subway_stations['name'] = subway_stations['name'] + ' (' + subway_stations['line_color'] + ')'\n",
    "subway_stations['id'] = subway_stations.index.tolist()\n",
    "subway_stations['type'] = 'subway'\n",
    "\n",
    "subway_stations.head(2)"
   ]
  },
  {
   "cell_type": "code",
   "execution_count": 32,
   "metadata": {},
   "outputs": [
    {
     "data": {
      "text/plain": [
       "(30.187768395, 30.515850105000002, 59.80753091, 60.07958929)"
      ]
     },
     "execution_count": 32,
     "metadata": {},
     "output_type": "execute_result"
    },
    {
     "data": {
      "image/png": "[encoded data removed]",
      "text/plain": [
       "<Figure size 432x288 with 1 Axes>"
      ]
     },
     "metadata": {},
     "output_type": "display_data"
    }
   ],
   "source": [
    "for color in subway_stations['line_color'].unique():\n",
    "    values = subway_stations\\\n",
    "        .loc[subway_stations['line_color'] == color, ['lon', 'lat']]\\\n",
    "        .values\n",
    "    \n",
    "    plt.scatter(*values.T, color=color)\n",
    "    \n",
    "plt.axis('off')"
   ]
  },
  {
   "cell_type": "markdown",
   "metadata": {},
   "source": [
    "### Subway routes"
   ]
  },
  {
   "cell_type": "code",
   "execution_count": 33,
   "metadata": {},
   "outputs": [
    {
     "data": {
      "text/html": [
       "<div>\n",
       "<style scoped>\n",
       "    .dataframe tbody tr th:only-of-type {\n",
       "        vertical-align: middle;\n",
       "    }\n",
       "\n",
       "    .dataframe tbody tr th {\n",
       "        vertical-align: top;\n",
       "    }\n",
       "\n",
       "    .dataframe thead th {\n",
       "        text-align: right;\n",
       "    }\n",
       "</style>\n",
       "<table border=\"1\" class=\"dataframe\">\n",
       "  <thead>\n",
       "    <tr style=\"text-align: right;\">\n",
       "      <th></th>\n",
       "      <th>name</th>\n",
       "      <th>type</th>\n",
       "      <th>direction</th>\n",
       "      <th>stops</th>\n",
       "      <th>id</th>\n",
       "    </tr>\n",
       "  </thead>\n",
       "  <tbody>\n",
       "    <tr>\n",
       "      <th>0</th>\n",
       "      <td>Red line</td>\n",
       "      <td>subway</td>\n",
       "      <td>1</td>\n",
       "      <td>[0, 6, 43, 47, 42, 57, 27, 30, 5, 4, 17, 21, 5...</td>\n",
       "      <td>0</td>\n",
       "    </tr>\n",
       "    <tr>\n",
       "      <th>1</th>\n",
       "      <td>Red line</td>\n",
       "      <td>subway</td>\n",
       "      <td>2</td>\n",
       "      <td>[19, 54, 36, 51, 38, 37, 59, 21, 17, 4, 5, 30,...</td>\n",
       "      <td>1</td>\n",
       "    </tr>\n",
       "  </tbody>\n",
       "</table>\n",
       "</div>"
      ],
      "text/plain": [
       "       name    type  direction  \\\n",
       "0  Red line  subway          1   \n",
       "1  Red line  subway          2   \n",
       "\n",
       "                                               stops  id  \n",
       "0  [0, 6, 43, 47, 42, 57, 27, 30, 5, 4, 17, 21, 5...   0  \n",
       "1  [19, 54, 36, 51, 38, 37, 59, 21, 17, 4, 5, 30,...   1  "
      ]
     },
     "execution_count": 33,
     "metadata": {},
     "output_type": "execute_result"
    }
   ],
   "source": [
    "subway_routes = []\n",
    "\n",
    "for color in subway_stations['line_color'].unique():\n",
    "    line_stations = subway_stations[subway_stations['line_color'] == color]\n",
    "    n_stations = line_stations.shape[0]\n",
    "    \n",
    "    coords = line_stations[['lat', 'lon']].values\n",
    "    distances = get_earth_distances(coords, coords)\n",
    "    distances[np.arange(n_stations), np.arange(n_stations)] = np.infty\n",
    "    distances = pd.DataFrame(distances, index=line_stations['id'], columns=line_stations['id'])\n",
    "    \n",
    "    start = line_stations.loc[line_stations['start'], 'id']\n",
    "    assert start.shape == (1,)\n",
    "    start = start.iloc[0]\n",
    "    \n",
    "    route = [start]\n",
    "        \n",
    "    while True:\n",
    "        closest_unvisited = distances\\\n",
    "            .loc[route[-1], ~distances.index.isin(route)]\\\n",
    "            .sort_values()\n",
    "        \n",
    "        if closest_unvisited.empty:\n",
    "            break\n",
    "        \n",
    "        next_ = closest_unvisited.index[0]\n",
    "        route.append(next_)\n",
    "        \n",
    "    name = color.capitalize() + ' line'\n",
    "        \n",
    "    subway_routes.append({\n",
    "        'name': name,\n",
    "        'type': 'subway',\n",
    "        'direction': 1,\n",
    "        'stops': route,\n",
    "    })\n",
    "    subway_routes.append({\n",
    "        'name': name,\n",
    "        'type': 'subway',\n",
    "        'direction': 2,\n",
    "        'stops': route[::-1],\n",
    "    })\n",
    "    \n",
    "subway_routes = pd.DataFrame(subway_routes)\n",
    "\n",
    "subway_routes['id'] = subway_routes.index.tolist()\n",
    "\n",
    "subway_routes.head(2)"
   ]
  },
  {
   "cell_type": "markdown",
   "metadata": {},
   "source": [
    "## All stops and routes together"
   ]
  },
  {
   "cell_type": "code",
   "execution_count": 34,
   "metadata": {},
   "outputs": [
    {
     "data": {
      "text/html": [
       "<div>\n",
       "<style scoped>\n",
       "    .dataframe tbody tr th:only-of-type {\n",
       "        vertical-align: middle;\n",
       "    }\n",
       "\n",
       "    .dataframe tbody tr th {\n",
       "        vertical-align: top;\n",
       "    }\n",
       "\n",
       "    .dataframe thead th {\n",
       "        text-align: right;\n",
       "    }\n",
       "</style>\n",
       "<table border=\"1\" class=\"dataframe\">\n",
       "  <thead>\n",
       "    <tr style=\"text-align: right;\">\n",
       "      <th></th>\n",
       "      <th>type</th>\n",
       "      <th>id</th>\n",
       "      <th>name</th>\n",
       "      <th>lat</th>\n",
       "      <th>lon</th>\n",
       "      <th>diameter</th>\n",
       "    </tr>\n",
       "  </thead>\n",
       "  <tbody>\n",
       "    <tr>\n",
       "      <th>0</th>\n",
       "      <td>tram</td>\n",
       "      <td>16396</td>\n",
       "      <td>Конечная станция \"Река Оккервиль\"</td>\n",
       "      <td>59.908881</td>\n",
       "      <td>30.494671</td>\n",
       "      <td>0.0</td>\n",
       "    </tr>\n",
       "    <tr>\n",
       "      <th>1</th>\n",
       "      <td>tram</td>\n",
       "      <td>16367</td>\n",
       "      <td>Пр. Солидарности</td>\n",
       "      <td>59.911857</td>\n",
       "      <td>30.499882</td>\n",
       "      <td>0.0</td>\n",
       "    </tr>\n",
       "  </tbody>\n",
       "</table>\n",
       "</div>"
      ],
      "text/plain": [
       "   type     id                                name        lat        lon  \\\n",
       "0  tram  16396  Конечная станция \"Река Оккервиль\"   59.908881  30.494671   \n",
       "1  tram  16367                   Пр. Солидарности   59.911857  30.499882   \n",
       "\n",
       "   diameter  \n",
       "0       0.0  \n",
       "1       0.0  "
      ]
     },
     "execution_count": 34,
     "metadata": {},
     "output_type": "execute_result"
    }
   ],
   "source": [
    "all_stops = stops.append(subway_stations, ignore_index=True)\\\n",
    "    .drop(columns=['number', 'route_long_name', 'next_stop', 'direction',\n",
    "                   'stop_distance', 'coordinates', 'line_color', 'start'])\n",
    "\n",
    "all_stops['diameter'] = all_stops['diameter'].fillna(0)\n",
    "\n",
    "all_stops.head(2)"
   ]
  },
  {
   "cell_type": "code",
   "execution_count": 35,
   "metadata": {},
   "outputs": [],
   "source": [
    "assert all_stops.notna().all().all()\n",
    "assert all_stops['id'].nunique() == all_stops.shape[0]"
   ]
  },
  {
   "cell_type": "code",
   "execution_count": 36,
   "metadata": {},
   "outputs": [
    {
     "data": {
      "text/html": [
       "<div>\n",
       "<style scoped>\n",
       "    .dataframe tbody tr th:only-of-type {\n",
       "        vertical-align: middle;\n",
       "    }\n",
       "\n",
       "    .dataframe tbody tr th {\n",
       "        vertical-align: top;\n",
       "    }\n",
       "\n",
       "    .dataframe thead th {\n",
       "        text-align: right;\n",
       "    }\n",
       "</style>\n",
       "<table border=\"1\" class=\"dataframe\">\n",
       "  <thead>\n",
       "    <tr style=\"text-align: right;\">\n",
       "      <th></th>\n",
       "      <th>name</th>\n",
       "      <th>type</th>\n",
       "      <th>direction</th>\n",
       "      <th>stops</th>\n",
       "      <th>id</th>\n",
       "    </tr>\n",
       "  </thead>\n",
       "  <tbody>\n",
       "    <tr>\n",
       "      <th>0</th>\n",
       "      <td>А</td>\n",
       "      <td>tram</td>\n",
       "      <td>1</td>\n",
       "      <td>[16396, 16367, 16371, 16398, 16400, 16401, 164...</td>\n",
       "      <td>1125</td>\n",
       "    </tr>\n",
       "    <tr>\n",
       "      <th>1</th>\n",
       "      <td>А</td>\n",
       "      <td>tram</td>\n",
       "      <td>2</td>\n",
       "      <td>[33093, 16348, 16350, 16354, 16357, 16346, 163...</td>\n",
       "      <td>1125</td>\n",
       "    </tr>\n",
       "  </tbody>\n",
       "</table>\n",
       "</div>"
      ],
      "text/plain": [
       "  name  type  direction                                              stops  \\\n",
       "0    А  tram          1  [16396, 16367, 16371, 16398, 16400, 16401, 164...   \n",
       "1    А  tram          2  [33093, 16348, 16350, 16354, 16357, 16346, 163...   \n",
       "\n",
       "     id  \n",
       "0  1125  \n",
       "1  1125  "
      ]
     },
     "execution_count": 36,
     "metadata": {},
     "output_type": "execute_result"
    }
   ],
   "source": [
    "all_routes = routes.append(subway_routes, ignore_index=True)\n",
    "\n",
    "all_routes['stops'] = all_routes['stops'].apply(lambda l: [int(i) for i in l])\n",
    "\n",
    "all_routes.head(2)"
   ]
  },
  {
   "cell_type": "code",
   "execution_count": 37,
   "metadata": {},
   "outputs": [
    {
     "data": {
      "text/html": [
       "<div>\n",
       "<style scoped>\n",
       "    .dataframe tbody tr th:only-of-type {\n",
       "        vertical-align: middle;\n",
       "    }\n",
       "\n",
       "    .dataframe tbody tr th {\n",
       "        vertical-align: top;\n",
       "    }\n",
       "\n",
       "    .dataframe thead th {\n",
       "        text-align: right;\n",
       "    }\n",
       "</style>\n",
       "<table border=\"1\" class=\"dataframe\">\n",
       "  <thead>\n",
       "    <tr style=\"text-align: right;\">\n",
       "      <th></th>\n",
       "      <th>name</th>\n",
       "      <th>type</th>\n",
       "      <th>direction</th>\n",
       "      <th>stops</th>\n",
       "      <th>id</th>\n",
       "      <th>distance</th>\n",
       "    </tr>\n",
       "  </thead>\n",
       "  <tbody>\n",
       "    <tr>\n",
       "      <th>0</th>\n",
       "      <td>А</td>\n",
       "      <td>tram</td>\n",
       "      <td>1</td>\n",
       "      <td>[16396, 16367, 16371, 16398, 16400, 16401, 164...</td>\n",
       "      <td>1125</td>\n",
       "      <td>5.008430</td>\n",
       "    </tr>\n",
       "    <tr>\n",
       "      <th>1</th>\n",
       "      <td>А</td>\n",
       "      <td>tram</td>\n",
       "      <td>2</td>\n",
       "      <td>[33093, 16348, 16350, 16354, 16357, 16346, 163...</td>\n",
       "      <td>1125</td>\n",
       "      <td>3.826103</td>\n",
       "    </tr>\n",
       "  </tbody>\n",
       "</table>\n",
       "</div>"
      ],
      "text/plain": [
       "  name  type  direction                                              stops  \\\n",
       "0    А  tram          1  [16396, 16367, 16371, 16398, 16400, 16401, 164...   \n",
       "1    А  tram          2  [33093, 16348, 16350, 16354, 16357, 16346, 163...   \n",
       "\n",
       "     id  distance  \n",
       "0  1125  5.008430  \n",
       "1  1125  3.826103  "
      ]
     },
     "execution_count": 37,
     "metadata": {},
     "output_type": "execute_result"
    }
   ],
   "source": [
    "stop2id = {stop: i for i, stop in all_stops['id'].iteritems()}\n",
    "\n",
    "coords = all_stops[['lat', 'lon']].values\n",
    "distances = get_earth_distances(coords, coords)\n",
    "\n",
    "\n",
    "def get_route_distance(route: List[int]) -> float:\n",
    "    i = [stop2id[stop] for stop in route]\n",
    "    distance = distances[i[:-1], i[1:]].sum()\n",
    "    \n",
    "    return distance\n",
    "\n",
    "\n",
    "all_routes['distance'] = all_routes['stops'].apply(get_route_distance)\n",
    "\n",
    "all_routes.head(2)"
   ]
  },
  {
   "cell_type": "code",
   "execution_count": 39,
   "metadata": {},
   "outputs": [],
   "source": [
    "assert not all_routes.duplicated(['id', 'direction']).any()"
   ]
  },
  {
   "cell_type": "code",
   "execution_count": 40,
   "metadata": {},
   "outputs": [
    {
     "data": {
      "text/html": [
       "<div>\n",
       "<style scoped>\n",
       "    .dataframe tbody tr th:only-of-type {\n",
       "        vertical-align: middle;\n",
       "    }\n",
       "\n",
       "    .dataframe tbody tr th {\n",
       "        vertical-align: top;\n",
       "    }\n",
       "\n",
       "    .dataframe thead th {\n",
       "        text-align: right;\n",
       "    }\n",
       "</style>\n",
       "<table border=\"1\" class=\"dataframe\">\n",
       "  <thead>\n",
       "    <tr style=\"text-align: right;\">\n",
       "      <th></th>\n",
       "      <th>name</th>\n",
       "      <th>type</th>\n",
       "      <th>direction</th>\n",
       "      <th>stops</th>\n",
       "      <th>id</th>\n",
       "      <th>distance</th>\n",
       "    </tr>\n",
       "  </thead>\n",
       "  <tbody>\n",
       "    <tr>\n",
       "      <th>0</th>\n",
       "      <td>А</td>\n",
       "      <td>tram</td>\n",
       "      <td>1</td>\n",
       "      <td>[16396, 16367, 16371, 16398, 16400, 16401, 164...</td>\n",
       "      <td>1125</td>\n",
       "      <td>5.008430</td>\n",
       "    </tr>\n",
       "    <tr>\n",
       "      <th>1</th>\n",
       "      <td>А</td>\n",
       "      <td>tram</td>\n",
       "      <td>2</td>\n",
       "      <td>[33093, 16348, 16350, 16354, 16357, 16346, 163...</td>\n",
       "      <td>11125</td>\n",
       "      <td>3.826103</td>\n",
       "    </tr>\n",
       "  </tbody>\n",
       "</table>\n",
       "</div>"
      ],
      "text/plain": [
       "  name  type  direction                                              stops  \\\n",
       "0    А  tram          1  [16396, 16367, 16371, 16398, 16400, 16401, 164...   \n",
       "1    А  tram          2  [33093, 16348, 16350, 16354, 16357, 16346, 163...   \n",
       "\n",
       "      id  distance  \n",
       "0   1125  5.008430  \n",
       "1  11125  3.826103  "
      ]
     },
     "execution_count": 40,
     "metadata": {},
     "output_type": "execute_result"
    }
   ],
   "source": [
    "assert all_routes['id'].max() < 10000\n",
    "\n",
    "all_routes.loc[all_routes['direction'] == 2, 'id'] += 10000\n",
    "\n",
    "all_routes.head(2)"
   ]
  },
  {
   "cell_type": "code",
   "execution_count": 41,
   "metadata": {},
   "outputs": [],
   "source": [
    "assert all_routes['id'].nunique() == all_routes.shape[0]"
   ]
  },
  {
   "cell_type": "code",
   "execution_count": 42,
   "metadata": {},
   "outputs": [],
   "source": [
    "assert all_routes.notna().all().all()"
   ]
  },
  {
   "cell_type": "code",
   "execution_count": 43,
   "metadata": {},
   "outputs": [],
   "source": [
    "route_stops = set(chain.from_iterable(all_routes['stops']))\n",
    "stops_ = set(all_stops['id'].unique())\n",
    "\n",
    "missing_stops = route_stops - stops_\n",
    "\n",
    "assert len(missing_stops) == 0"
   ]
  },
  {
   "cell_type": "code",
   "execution_count": 44,
   "metadata": {},
   "outputs": [
    {
     "data": {
      "text/plain": [
       "7661"
      ]
     },
     "execution_count": 44,
     "metadata": {},
     "output_type": "execute_result"
    }
   ],
   "source": [
    "all_stops_json = [row.to_dict() for _, row in all_stops.iterrows()]\n",
    "\n",
    "len(all_stops_json)"
   ]
  },
  {
   "cell_type": "code",
   "execution_count": 53,
   "metadata": {},
   "outputs": [
    {
     "data": {
      "text/plain": [
       "{'type': 'tram',\n",
       " 'id': 16396,\n",
       " 'name': 'Конечная станция \"Река Оккервиль\" ',\n",
       " 'lat': 59.9088808952478,\n",
       " 'lon': 30.4946709,\n",
       " 'diameter': 0.0}"
      ]
     },
     "execution_count": 53,
     "metadata": {},
     "output_type": "execute_result"
    }
   ],
   "source": [
    "all_stops_json[0]"
   ]
  },
  {
   "cell_type": "code",
   "execution_count": 45,
   "metadata": {},
   "outputs": [],
   "source": [
    "save_json(all_stops_json, stops_fpath)"
   ]
  },
  {
   "cell_type": "code",
   "execution_count": 46,
   "metadata": {},
   "outputs": [
    {
     "data": {
      "text/plain": [
       "1253"
      ]
     },
     "execution_count": 46,
     "metadata": {},
     "output_type": "execute_result"
    }
   ],
   "source": [
    "all_routes_json = [row.to_dict() for _, row in all_routes.iterrows()]\n",
    "\n",
    "len(all_routes_json)"
   ]
  },
  {
   "cell_type": "code",
   "execution_count": 54,
   "metadata": {},
   "outputs": [
    {
     "data": {
      "text/plain": [
       "{'name': 'А',\n",
       " 'type': 'tram',\n",
       " 'direction': 1,\n",
       " 'stops': [16396,\n",
       "  16367,\n",
       "  16371,\n",
       "  16398,\n",
       "  16400,\n",
       "  16401,\n",
       "  16405,\n",
       "  16408,\n",
       "  16410,\n",
       "  16413,\n",
       "  30720,\n",
       "  27185,\n",
       "  16415,\n",
       "  33093],\n",
       " 'id': 1125,\n",
       " 'distance': 5.008429911444193}"
      ]
     },
     "execution_count": 54,
     "metadata": {},
     "output_type": "execute_result"
    }
   ],
   "source": [
    "all_routes_json[0]"
   ]
  },
  {
   "cell_type": "code",
   "execution_count": 47,
   "metadata": {},
   "outputs": [],
   "source": [
    "save_json(all_routes_json, routes_fpath)"
   ]
  },
  {
   "cell_type": "markdown",
   "metadata": {},
   "source": [
    "***"
   ]
  },
  {
   "cell_type": "code",
   "execution_count": 16,
   "metadata": {},
   "outputs": [
    {
     "data": {
      "text/html": [
       "<div>\n",
       "<style scoped>\n",
       "    .dataframe tbody tr th:only-of-type {\n",
       "        vertical-align: middle;\n",
       "    }\n",
       "\n",
       "    .dataframe tbody tr th {\n",
       "        vertical-align: top;\n",
       "    }\n",
       "\n",
       "    .dataframe thead th {\n",
       "        text-align: right;\n",
       "    }\n",
       "</style>\n",
       "<table border=\"1\" class=\"dataframe\">\n",
       "  <thead>\n",
       "    <tr style=\"text-align: right;\">\n",
       "      <th></th>\n",
       "      <th>lon</th>\n",
       "      <th>lat</th>\n",
       "    </tr>\n",
       "    <tr>\n",
       "      <th>id</th>\n",
       "      <th></th>\n",
       "      <th></th>\n",
       "    </tr>\n",
       "  </thead>\n",
       "  <tbody>\n",
       "    <tr>\n",
       "      <th>16396</th>\n",
       "      <td>30.494671</td>\n",
       "      <td>59.908881</td>\n",
       "    </tr>\n",
       "    <tr>\n",
       "      <th>16367</th>\n",
       "      <td>30.499882</td>\n",
       "      <td>59.911857</td>\n",
       "    </tr>\n",
       "  </tbody>\n",
       "</table>\n",
       "</div>"
      ],
      "text/plain": [
       "             lon        lat\n",
       "id                         \n",
       "16396  30.494671  59.908881\n",
       "16367  30.499882  59.911857"
      ]
     },
     "execution_count": 16,
     "metadata": {},
     "output_type": "execute_result"
    }
   ],
   "source": [
    "all_stops = pd.read_json(stops_fpath, encoding='utf-8').set_index('id')\n",
    "\n",
    "stop_coords = all_stops[['lon', 'lat']]\n",
    "\n",
    "stop_coords.head(2)"
   ]
  },
  {
   "cell_type": "code",
   "execution_count": 17,
   "metadata": {},
   "outputs": [
    {
     "data": {
      "text/html": [
       "<div>\n",
       "<style scoped>\n",
       "    .dataframe tbody tr th:only-of-type {\n",
       "        vertical-align: middle;\n",
       "    }\n",
       "\n",
       "    .dataframe tbody tr th {\n",
       "        vertical-align: top;\n",
       "    }\n",
       "\n",
       "    .dataframe thead th {\n",
       "        text-align: right;\n",
       "    }\n",
       "</style>\n",
       "<table border=\"1\" class=\"dataframe\">\n",
       "  <thead>\n",
       "    <tr style=\"text-align: right;\">\n",
       "      <th></th>\n",
       "      <th>name</th>\n",
       "      <th>type</th>\n",
       "      <th>direction</th>\n",
       "      <th>stops</th>\n",
       "      <th>distance</th>\n",
       "      <th>supernodes</th>\n",
       "    </tr>\n",
       "    <tr>\n",
       "      <th>id</th>\n",
       "      <th></th>\n",
       "      <th></th>\n",
       "      <th></th>\n",
       "      <th></th>\n",
       "      <th></th>\n",
       "      <th></th>\n",
       "    </tr>\n",
       "  </thead>\n",
       "  <tbody>\n",
       "    <tr>\n",
       "      <th>1125</th>\n",
       "      <td>А</td>\n",
       "      <td>tram</td>\n",
       "      <td>1</td>\n",
       "      <td>[16396, 16367, 16371, 16398, 16400, 16401, 164...</td>\n",
       "      <td>5.008430</td>\n",
       "      <td>[620, 827, 828, 20, 309, 80, 310, 204, 5, 29, ...</td>\n",
       "    </tr>\n",
       "    <tr>\n",
       "      <th>11125</th>\n",
       "      <td>А</td>\n",
       "      <td>tram</td>\n",
       "      <td>2</td>\n",
       "      <td>[33093, 16348, 16350, 16354, 16357, 16346, 163...</td>\n",
       "      <td>3.826103</td>\n",
       "      <td>[30, 829, 830, 621, 311, 831, 14, 81, 620]</td>\n",
       "    </tr>\n",
       "  </tbody>\n",
       "</table>\n",
       "</div>"
      ],
      "text/plain": [
       "      name  type  direction                                              stops  distance                                         supernodes\n",
       "id                                                                                                                                         \n",
       "1125     А  tram          1  [16396, 16367, 16371, 16398, 16400, 16401, 164...  5.008430  [620, 827, 828, 20, 309, 80, 310, 204, 5, 29, ...\n",
       "11125    А  tram          2  [33093, 16348, 16350, 16354, 16357, 16346, 163...  3.826103         [30, 829, 830, 621, 311, 831, 14, 81, 620]"
      ]
     },
     "execution_count": 17,
     "metadata": {},
     "output_type": "execute_result"
    }
   ],
   "source": [
    "all_routes = pd.read_json(routes_fpath, encoding='utf-8').set_index('id')\n",
    "\n",
    "all_routes.head(2)"
   ]
  },
  {
   "cell_type": "code",
   "execution_count": 18,
   "metadata": {},
   "outputs": [
    {
     "data": {
      "image/png": "[encoded data removed]",
      "text/plain": [
       "<Figure size 432x288 with 1 Axes>"
      ]
     },
     "metadata": {},
     "output_type": "display_data"
    }
   ],
   "source": [
    "all_routes['distance'].hist(bins=25)\n",
    "\n",
    "plt.xlabel('route distance, km')\n",
    "\n",
    "plt.savefig('../figures/route_distances.pdf', transparent=True, bbox_inches='tight')"
   ]
  },
  {
   "cell_type": "code",
   "execution_count": 19,
   "metadata": {},
   "outputs": [],
   "source": [
    "node_color = {\n",
    "    'bus': 'C0',\n",
    "    'trolley': 'C1',\n",
    "    'tram': 'C2',\n",
    "    'subway': 'C3',\n",
    "}\n",
    "\n",
    "node_size = {\n",
    "    'bus': 0.25,\n",
    "    'trolley': 0.25,\n",
    "    'tram': 0.25,\n",
    "    'subway': 1,\n",
    "}\n",
    "\n",
    "edge_width = {\n",
    "    'bus': 0.05,\n",
    "    'trolley': 0.05,\n",
    "    'tram': 0.05,\n",
    "    'subway': 0.25,\n",
    "}\n",
    "\n",
    "zorder = {\n",
    "    'bus': 5,\n",
    "    'trolley': 6,\n",
    "    'tram': 7,\n",
    "    'subway': 8,\n",
    "}"
   ]
  },
  {
   "cell_type": "code",
   "execution_count": 20,
   "metadata": {},
   "outputs": [
    {
     "ename": "ValueError",
     "evalue": "Failed to determine the required bounds in projection coordinates. Check that the values provided are within the valid range (x_limits=[-3.141592653589793, 3.141592653589793], y_limits=[-1.4844222297453324, 1.4844222297453324]).",
     "output_type": "error",
     "traceback": [
      "\u001b[0;31m---------------------------------------------------------------------------\u001b[0m",
      "\u001b[0;31mValueError\u001b[0m                                Traceback (most recent call last)",
      "\u001b[0;32m/mnt/ess_storage/DL_0/lake/ylytkin/miniconda3/envs/globalvenv/lib/python3.9/site-packages/cartopy/mpl/geoaxes.py\u001b[0m in \u001b[0;36mset_extent\u001b[0;34m(self, extents, crs)\u001b[0m\n\u001b[1;32m    824\u001b[0m             \u001b[0;31m# the projection extents, so try and give a better error message.\u001b[0m\u001b[0;34m\u001b[0m\u001b[0;34m\u001b[0m\u001b[0;34m\u001b[0m\u001b[0m\n\u001b[0;32m--> 825\u001b[0;31m             \u001b[0mx1\u001b[0m\u001b[0;34m,\u001b[0m \u001b[0my1\u001b[0m\u001b[0;34m,\u001b[0m \u001b[0mx2\u001b[0m\u001b[0;34m,\u001b[0m \u001b[0my2\u001b[0m \u001b[0;34m=\u001b[0m \u001b[0mprojected\u001b[0m\u001b[0;34m.\u001b[0m\u001b[0mbounds\u001b[0m\u001b[0;34m\u001b[0m\u001b[0;34m\u001b[0m\u001b[0m\n\u001b[0m\u001b[1;32m    826\u001b[0m         \u001b[0;32mexcept\u001b[0m \u001b[0mValueError\u001b[0m\u001b[0;34m:\u001b[0m\u001b[0;34m\u001b[0m\u001b[0;34m\u001b[0m\u001b[0m\n",
      "\u001b[0;31mValueError\u001b[0m: not enough values to unpack (expected 4, got 0)",
      "\nDuring handling of the above exception, another exception occurred:\n",
      "\u001b[0;31mValueError\u001b[0m                                Traceback (most recent call last)",
      "\u001b[0;32m<ipython-input-20-9cf0ab5e6b45>\u001b[0m in \u001b[0;36m<module>\u001b[0;34m\u001b[0m\n\u001b[1;32m      4\u001b[0m \u001b[0;34m\u001b[0m\u001b[0m\n\u001b[1;32m      5\u001b[0m \u001b[0mfig\u001b[0m \u001b[0;34m=\u001b[0m \u001b[0mplt\u001b[0m\u001b[0;34m.\u001b[0m\u001b[0mfigure\u001b[0m\u001b[0;34m(\u001b[0m\u001b[0mfigsize\u001b[0m\u001b[0;34m=\u001b[0m\u001b[0;34m(\u001b[0m\u001b[0;36m11\u001b[0m\u001b[0;34m,\u001b[0m \u001b[0;36m5\u001b[0m\u001b[0;34m)\u001b[0m\u001b[0;34m)\u001b[0m\u001b[0;34m\u001b[0m\u001b[0;34m\u001b[0m\u001b[0m\n\u001b[0;32m----> 6\u001b[0;31m \u001b[0max\u001b[0m \u001b[0;34m=\u001b[0m \u001b[0madd_map_subplot\u001b[0m\u001b[0;34m(\u001b[0m\u001b[0mfig\u001b[0m\u001b[0;34m,\u001b[0m \u001b[0;36m1\u001b[0m\u001b[0;34m,\u001b[0m \u001b[0;36m2\u001b[0m\u001b[0;34m,\u001b[0m \u001b[0;36m1\u001b[0m\u001b[0;34m,\u001b[0m \u001b[0mextent\u001b[0m\u001b[0;34m=\u001b[0m\u001b[0mextent\u001b[0m\u001b[0;34m,\u001b[0m \u001b[0mscale\u001b[0m\u001b[0;34m=\u001b[0m\u001b[0mscale\u001b[0m\u001b[0;34m)\u001b[0m\u001b[0;34m\u001b[0m\u001b[0;34m\u001b[0m\u001b[0m\n\u001b[0m\u001b[1;32m      7\u001b[0m \u001b[0;34m\u001b[0m\u001b[0m\n\u001b[1;32m      8\u001b[0m \u001b[0;32mfor\u001b[0m \u001b[0mt\u001b[0m \u001b[0;32min\u001b[0m \u001b[0mall_routes\u001b[0m\u001b[0;34m[\u001b[0m\u001b[0;34m'type'\u001b[0m\u001b[0;34m]\u001b[0m\u001b[0;34m.\u001b[0m\u001b[0munique\u001b[0m\u001b[0;34m(\u001b[0m\u001b[0;34m)\u001b[0m\u001b[0;34m:\u001b[0m\u001b[0;34m\u001b[0m\u001b[0;34m\u001b[0m\u001b[0m\n",
      "\u001b[0;32m/mnt/ess_storage/DL_0/lake/ylytkin/Development/public-transport-network/pipeline/../ptn/cartopy.py\u001b[0m in \u001b[0;36madd_map_subplot\u001b[0;34m(fig, nrows, ncols, index, tiles, extent, scale)\u001b[0m\n\u001b[1;32m     24\u001b[0m     \u001b[0mgl\u001b[0m\u001b[0;34m.\u001b[0m\u001b[0mright_labels\u001b[0m \u001b[0;34m=\u001b[0m \u001b[0;32mFalse\u001b[0m\u001b[0;34m\u001b[0m\u001b[0;34m\u001b[0m\u001b[0m\n\u001b[1;32m     25\u001b[0m \u001b[0;34m\u001b[0m\u001b[0m\n\u001b[0;32m---> 26\u001b[0;31m     \u001b[0max\u001b[0m\u001b[0;34m.\u001b[0m\u001b[0mset_extent\u001b[0m\u001b[0;34m(\u001b[0m\u001b[0mextent\u001b[0m\u001b[0;34m)\u001b[0m\u001b[0;34m\u001b[0m\u001b[0;34m\u001b[0m\u001b[0m\n\u001b[0m\u001b[1;32m     27\u001b[0m     \u001b[0max\u001b[0m\u001b[0;34m.\u001b[0m\u001b[0madd_image\u001b[0m\u001b[0;34m(\u001b[0m\u001b[0mtiles\u001b[0m\u001b[0;34m,\u001b[0m \u001b[0mscale\u001b[0m\u001b[0;34m)\u001b[0m\u001b[0;34m\u001b[0m\u001b[0;34m\u001b[0m\u001b[0m\n\u001b[1;32m     28\u001b[0m \u001b[0;34m\u001b[0m\u001b[0m\n",
      "\u001b[0;32m/mnt/ess_storage/DL_0/lake/ylytkin/miniconda3/envs/globalvenv/lib/python3.9/site-packages/cartopy/mpl/geoaxes.py\u001b[0m in \u001b[0;36mset_extent\u001b[0;34m(self, extents, crs)\u001b[0m\n\u001b[1;32m    829\u001b[0m                    \u001b[0;34m'the valid range (x_limits=[{xlim[0]}, {xlim[1]}], '\u001b[0m\u001b[0;34m\u001b[0m\u001b[0;34m\u001b[0m\u001b[0m\n\u001b[1;32m    830\u001b[0m                    'y_limits=[{ylim[0]}, {ylim[1]}]).')\n\u001b[0;32m--> 831\u001b[0;31m             raise ValueError(msg.format(xlim=self.projection.x_limits,\n\u001b[0m\u001b[1;32m    832\u001b[0m                                         ylim=self.projection.y_limits))\n\u001b[1;32m    833\u001b[0m \u001b[0;34m\u001b[0m\u001b[0m\n",
      "\u001b[0;31mValueError\u001b[0m: Failed to determine the required bounds in projection coordinates. Check that the values provided are within the valid range (x_limits=[-3.141592653589793, 3.141592653589793], y_limits=[-1.4844222297453324, 1.4844222297453324])."
     ]
    },
    {
     "data": {
      "image/png": "[encoded data removed]",
      "text/plain": [
       "<Figure size 792x360 with 1 Axes>"
      ]
     },
     "metadata": {},
     "output_type": "display_data"
    }
   ],
   "source": [
    "extent = [28.98, 31.34, 59.53, 60.37]  # wholea area\n",
    "scale = 9\n",
    "factor = 1\n",
    "\n",
    "fig = plt.figure(figsize=(11, 5))\n",
    "ax = add_map_subplot(fig, 1, 2, 1, extent=extent, scale=scale)\n",
    "\n",
    "for t in all_routes['type'].unique():\n",
    "    type_routes = all_routes[all_routes['type'] == t].copy()\n",
    "    \n",
    "    color = node_color[t]\n",
    "    size = node_size[t] * factor\n",
    "    width = edge_width[t] * factor\n",
    "    zorder_ = zorder[t]\n",
    "    \n",
    "    for i, route in enumerate(type_routes['stops']):\n",
    "        x, y = stop_coords.loc[route].values.T\n",
    "        \n",
    "        label = t if i == 0 else None\n",
    "        \n",
    "        ax.plot(x, y, transform=ccrs.PlateCarree(), marker='.', markersize=size, lw=width, c=color, label=label, zorder=zorder_)\n",
    "            \n",
    "\n",
    "extent = [30.17, 30.42, 59.91, 60.00]  # city center\n",
    "scale = 12\n",
    "factor = 3\n",
    "\n",
    "ax.set_title('(a)', y=-0.17)\n",
    "\n",
    "ax = add_map_subplot(fig, 1, 2, 2, extent=extent, scale=scale)\n",
    "\n",
    "for t in all_routes['type'].unique():\n",
    "    type_routes = all_routes[all_routes['type'] == t].copy()\n",
    "    \n",
    "    color = node_color[t]\n",
    "    size = node_size[t] * factor\n",
    "    width = edge_width[t] * factor\n",
    "    zorder_ = zorder[t]\n",
    "    \n",
    "    for i, route in enumerate(type_routes['stops']):\n",
    "        x, y = stop_coords.loc[route].values.T\n",
    "        \n",
    "        label = t if i == 0 else None\n",
    "        \n",
    "        ax.plot(x, y, transform=ccrs.PlateCarree(), marker='.', markersize=size, lw=width, c=color, label=label, zorder=zorder_)\n",
    "            \n",
    "ax.legend(loc='upper left', bbox_to_anchor=(1, 1))\n",
    "ax.set_title('(b)', y=-0.17)\n",
    "\n",
    "fig.subplots_adjust(wspace=0.2)\n",
    "\n",
    "plt.savefig('../figures/stops_map.png', dpi=200, transparent=True, bbox_inches='tight')"
   ]
  },
  {
   "cell_type": "code",
   "execution_count": null,
   "metadata": {},
   "outputs": [],
   "source": []
  }
 ],
 "metadata": {
  "kernelspec": {
   "display_name": "Python 3",
   "language": "python",
   "name": "python3"
  },
  "language_info": {
   "codemirror_mode": {
    "name": "ipython",
    "version": 3
   },
   "file_extension": ".py",
   "mimetype": "text/x-python",
   "name": "python",
   "nbconvert_exporter": "python",
   "pygments_lexer": "ipython3",
   "version": "3.9.5"
  }
 },
 "nbformat": 4,
 "nbformat_minor": 4
}
