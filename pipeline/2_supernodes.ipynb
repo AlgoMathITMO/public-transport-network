{
 "cells": [
  {
   "cell_type": "markdown",
   "metadata": {},
   "source": [
    "# supernodes\n",
    "\n",
    "The procedure of combining public transportation stops into supernodes.\n",
    "\n",
    "Requires:\n",
    "1. `data/preprocessed/stops.json`\n",
    "2. `data/preprocessed/routes.json`\n",
    "\n",
    "Produces:\n",
    "1. `data/supernodes/supernode_threshold_metrics.json`\n",
    "2. `data/supernodes/supernodes.json`\n",
    "\n",
    "Alters:\n",
    "1. `data/preprocessed/stops.json` (adds stop to supernode mapping)\n",
    "2. `data/preprocessed/routes.json` (adds stops to supernodes mapping)"
   ]
  },
  {
   "cell_type": "code",
   "execution_count": 1,
   "metadata": {},
   "outputs": [],
   "source": [
    "import sys\n",
    "sys.path.append('..')"
   ]
  },
  {
   "cell_type": "code",
   "execution_count": 2,
   "metadata": {},
   "outputs": [],
   "source": [
    "from typing import Set, Tuple, List\n",
    "\n",
    "import numpy as np\n",
    "import pandas as pd\n",
    "import networkx as nx\n",
    "import seaborn as sns\n",
    "from cartopy import crs as ccrs\n",
    "from tqdm import tqdm\n",
    "from matplotlib import pyplot as plt\n",
    "from matplotlib.patches import Circle\n",
    "\n",
    "from myutils.spatial import get_earth_distances\n",
    "from myutils.json import save_json\n",
    "from myutils.matplotlib import matplotlib_latex, matplotlib_seaborn_style\n",
    "\n",
    "from config import stops_fpath, routes_fpath, supernode_threshold_metrics_fpath, \\\n",
    "    supernodes_fpath\n",
    "from cartopy_config import vaska_area, get_node_props, supernode_color, supernode_zorder\n",
    "from ptn.cartopy import add_map_subplot\n",
    "\n",
    "matplotlib_seaborn_style()\n",
    "matplotlib_latex()"
   ]
  },
  {
   "cell_type": "code",
   "execution_count": 3,
   "metadata": {},
   "outputs": [
    {
     "data": {
      "text/html": [
       "<div>\n",
       "<style scoped>\n",
       "    .dataframe tbody tr th:only-of-type {\n",
       "        vertical-align: middle;\n",
       "    }\n",
       "\n",
       "    .dataframe tbody tr th {\n",
       "        vertical-align: top;\n",
       "    }\n",
       "\n",
       "    .dataframe thead th {\n",
       "        text-align: right;\n",
       "    }\n",
       "</style>\n",
       "<table border=\"1\" class=\"dataframe\">\n",
       "  <thead>\n",
       "    <tr style=\"text-align: right;\">\n",
       "      <th></th>\n",
       "      <th>type</th>\n",
       "      <th>name</th>\n",
       "      <th>lat</th>\n",
       "      <th>lon</th>\n",
       "      <th>diameter</th>\n",
       "      <th>supernode</th>\n",
       "    </tr>\n",
       "    <tr>\n",
       "      <th>id</th>\n",
       "      <th></th>\n",
       "      <th></th>\n",
       "      <th></th>\n",
       "      <th></th>\n",
       "      <th></th>\n",
       "      <th></th>\n",
       "    </tr>\n",
       "  </thead>\n",
       "  <tbody>\n",
       "    <tr>\n",
       "      <th>16396</th>\n",
       "      <td>tram</td>\n",
       "      <td>Конечная станция \"Река Оккервиль\"</td>\n",
       "      <td>59.908881</td>\n",
       "      <td>30.494671</td>\n",
       "      <td>0.0</td>\n",
       "      <td>620</td>\n",
       "    </tr>\n",
       "    <tr>\n",
       "      <th>16367</th>\n",
       "      <td>tram</td>\n",
       "      <td>Пр. Солидарности</td>\n",
       "      <td>59.911857</td>\n",
       "      <td>30.499882</td>\n",
       "      <td>0.0</td>\n",
       "      <td>827</td>\n",
       "    </tr>\n",
       "  </tbody>\n",
       "</table>\n",
       "</div>"
      ],
      "text/plain": [
       "       type                                name        lat        lon  \\\n",
       "id                                                                      \n",
       "16396  tram  Конечная станция \"Река Оккервиль\"   59.908881  30.494671   \n",
       "16367  tram                   Пр. Солидарности   59.911857  30.499882   \n",
       "\n",
       "       diameter  supernode  \n",
       "id                          \n",
       "16396       0.0        620  \n",
       "16367       0.0        827  "
      ]
     },
     "execution_count": 3,
     "metadata": {},
     "output_type": "execute_result"
    }
   ],
   "source": [
    "stops = pd.read_json(stops_fpath, encoding='utf-8').set_index('id')\n",
    "\n",
    "stops.head(2)"
   ]
  },
  {
   "cell_type": "code",
   "execution_count": 4,
   "metadata": {},
   "outputs": [
    {
     "data": {
      "text/html": [
       "<div>\n",
       "<style scoped>\n",
       "    .dataframe tbody tr th:only-of-type {\n",
       "        vertical-align: middle;\n",
       "    }\n",
       "\n",
       "    .dataframe tbody tr th {\n",
       "        vertical-align: top;\n",
       "    }\n",
       "\n",
       "    .dataframe thead th {\n",
       "        text-align: right;\n",
       "    }\n",
       "</style>\n",
       "<table border=\"1\" class=\"dataframe\">\n",
       "  <thead>\n",
       "    <tr style=\"text-align: right;\">\n",
       "      <th></th>\n",
       "      <th>lat</th>\n",
       "      <th>lon</th>\n",
       "    </tr>\n",
       "    <tr>\n",
       "      <th>id</th>\n",
       "      <th></th>\n",
       "      <th></th>\n",
       "    </tr>\n",
       "  </thead>\n",
       "  <tbody>\n",
       "    <tr>\n",
       "      <th>16396</th>\n",
       "      <td>59.908881</td>\n",
       "      <td>30.494671</td>\n",
       "    </tr>\n",
       "    <tr>\n",
       "      <th>16367</th>\n",
       "      <td>59.911857</td>\n",
       "      <td>30.499882</td>\n",
       "    </tr>\n",
       "  </tbody>\n",
       "</table>\n",
       "</div>"
      ],
      "text/plain": [
       "             lat        lon\n",
       "id                         \n",
       "16396  59.908881  30.494671\n",
       "16367  59.911857  30.499882"
      ]
     },
     "execution_count": 4,
     "metadata": {},
     "output_type": "execute_result"
    }
   ],
   "source": [
    "coords = stops[['lat', 'lon']]\n",
    "\n",
    "coords.head(2)"
   ]
  },
  {
   "cell_type": "code",
   "execution_count": 5,
   "metadata": {},
   "outputs": [
    {
     "data": {
      "text/plain": [
       "(7661, 7661)"
      ]
     },
     "execution_count": 5,
     "metadata": {},
     "output_type": "execute_result"
    }
   ],
   "source": [
    "diameters = stops['diameter'].values\n",
    "shifts = (diameters.reshape(-1, 1) + diameters.reshape(1, -1)) / 2\n",
    "\n",
    "distances = get_earth_distances(coords.values, coords.values) - shifts\n",
    "\n",
    "distances.shape"
   ]
  },
  {
   "cell_type": "code",
   "execution_count": 6,
   "metadata": {},
   "outputs": [],
   "source": [
    "def build_supernodes(th: float) -> pd.DataFrame:\n",
    "    closeness_adj_mx = (distances <= th).astype(int)\n",
    "    closeness_graph = nx.from_numpy_array(closeness_adj_mx)\n",
    "\n",
    "    id2stop_id = dict(enumerate(stops.index))\n",
    "    \n",
    "    closeness_graph = nx.relabel_nodes(closeness_graph, id2stop_id)\n",
    "\n",
    "    supernodes = sorted(nx.connected_components(closeness_graph), key=len, reverse=True)\n",
    "    \n",
    "    def supernode_diameter(supernode: Set[int]) -> float:\n",
    "        coords_ = coords.loc[supernode, ['lat', 'lon']].values\n",
    "        distances_ = get_earth_distances(coords_, coords_)\n",
    "        diameter = distances_.max()\n",
    "\n",
    "        return diameter\n",
    "\n",
    "    supernode_diameters = [supernode_diameter(supernode) for supernode in supernodes]\n",
    "    \n",
    "    supernodes_df = []\n",
    "\n",
    "    for i, supernode in enumerate(supernodes):\n",
    "        lat, lon = coords.loc[supernode, ['lat', 'lon']].mean()\n",
    "        diameter = supernode_diameter(supernode)\n",
    "        types = stops.loc[stops.index.isin(supernode), 'type'].unique().tolist()\n",
    "\n",
    "        supernodes_df.append({\n",
    "            'id': i,\n",
    "            'stops': list(supernode),\n",
    "            'diameter': diameter,\n",
    "            'types': types,\n",
    "            'lat': lat,\n",
    "            'lon': lon,\n",
    "        })\n",
    "        \n",
    "    return pd.DataFrame(supernodes_df)"
   ]
  },
  {
   "cell_type": "raw",
   "metadata": {},
   "source": [
    "metrics = []\n",
    "\n",
    "for th in tqdm(np.arange(0, 0.25, 0.025)):\n",
    "    supernodes = build_supernodes(th)\n",
    "    sizes = supernodes['stops'].apply(len)\n",
    "    diameters = supernodes['diameter']\n",
    "    \n",
    "    item = {'th': th}\n",
    "    \n",
    "    for metric, values in zip(['size', 'diameter'], [sizes, diameters]):\n",
    "        item[f'{metric}_mean'] = values.mean()\n",
    "        item[f'{metric}_median'] = np.median(values)\n",
    "        \n",
    "        q1, q3 = np.quantile(values, [0.25, 0.75])\n",
    "        iqr = q3 - q1\n",
    "        \n",
    "        item[f'{metric}_q1'] = q1\n",
    "        item[f'{metric}_q3'] = q3\n",
    "        \n",
    "        item[f'{metric}_max'] = values.max()\n",
    "    \n",
    "    metrics.append(item)\n",
    "    \n",
    "metrics = pd.DataFrame(metrics).set_index('th')\n",
    "\n",
    "metrics.head(2)"
   ]
  },
  {
   "cell_type": "raw",
   "metadata": {},
   "source": [
    "metrics_json = [row.to_dict() for _, row in metrics.reset_index().iterrows()]\n",
    "\n",
    "metrics_json[-1]"
   ]
  },
  {
   "cell_type": "raw",
   "metadata": {},
   "source": [
    "save_json(metrics_json, supernode_threshold_metrics_fpath)"
   ]
  },
  {
   "cell_type": "code",
   "execution_count": null,
   "metadata": {},
   "outputs": [],
   "source": [
    "metrics = pd.read_json(supernode_threshold_metrics_fpath, encoding='utf-8').set_index('th')\n",
    "\n",
    "metrics.head(2)"
   ]
  },
  {
   "cell_type": "code",
   "execution_count": null,
   "metadata": {},
   "outputs": [],
   "source": [
    "fig, axes = plt.subplots(ncols=2)\n",
    "fig.set_size_inches(8, 2.5)\n",
    "fig.subplots_adjust(wspace=0.3)\n",
    "\n",
    "markers = ['o', 'v']\n",
    "linestyles = ['solid', 'dashed']\n",
    "\n",
    "for i, metric, ax in zip(range(2), ['size', 'diameter'], axes):\n",
    "    color = f'C{i}'\n",
    "    marker = markers[i]\n",
    "    linestyle = linestyles[i]\n",
    "    \n",
    "    # ax.plot(metrics[f'{metric}_mean'], c=color, lw=0.8, marker='.', markersize=3)\n",
    "#     ax.fill_between(\n",
    "#         metrics.index,\n",
    "#         metrics[f'{metric}_t1'],\n",
    "#         metrics[f'{metric}_t2'],\n",
    "#         color=color,\n",
    "#         alpha=0.15,\n",
    "#     )\n",
    "    \n",
    "    ax.plot(metrics[f'{metric}_max'], c=color, lw=0.8, ls=linestyle, marker=marker, markersize=3)\n",
    "    \n",
    "    # ax.set_title(metric)\n",
    "    ax.set_xlabel('$d_0$, km')\n",
    "    \n",
    "axes[0].set_ylabel('supernode size')\n",
    "axes[0].set_title('(a)', y=-0.34)\n",
    "axes[1].set_ylabel('supernode diameter, km')\n",
    "axes[1].set_title('(b)', y=-0.34)\n",
    "\n",
    "plt.savefig('../figures/supernode_threshold_metrics.pdf', transparent=True, bbox_inches='tight')"
   ]
  },
  {
   "cell_type": "code",
   "execution_count": 8,
   "metadata": {},
   "outputs": [
    {
     "data": {
      "text/html": [
       "<div>\n",
       "<style scoped>\n",
       "    .dataframe tbody tr th:only-of-type {\n",
       "        vertical-align: middle;\n",
       "    }\n",
       "\n",
       "    .dataframe tbody tr th {\n",
       "        vertical-align: top;\n",
       "    }\n",
       "\n",
       "    .dataframe thead th {\n",
       "        text-align: right;\n",
       "    }\n",
       "</style>\n",
       "<table border=\"1\" class=\"dataframe\">\n",
       "  <thead>\n",
       "    <tr style=\"text-align: right;\">\n",
       "      <th></th>\n",
       "      <th>id</th>\n",
       "      <th>stops</th>\n",
       "      <th>diameter</th>\n",
       "      <th>types</th>\n",
       "      <th>lat</th>\n",
       "      <th>lon</th>\n",
       "    </tr>\n",
       "  </thead>\n",
       "  <tbody>\n",
       "    <tr>\n",
       "      <th>0</th>\n",
       "      <td>0</td>\n",
       "      <td>[29058, 15366, 1687, 1688, 15385, 2080, 2081, ...</td>\n",
       "      <td>0.732963</td>\n",
       "      <td>[bus, trolley, tram, subway]</td>\n",
       "      <td>59.85171</td>\n",
       "      <td>30.322415</td>\n",
       "    </tr>\n",
       "    <tr>\n",
       "      <th>1</th>\n",
       "      <td>1</td>\n",
       "      <td>[18, 18077, 18078, 32036, 16177, 16050, 27063,...</td>\n",
       "      <td>0.909368</td>\n",
       "      <td>[bus, tram, trolley, subway]</td>\n",
       "      <td>59.95021</td>\n",
       "      <td>30.287937</td>\n",
       "    </tr>\n",
       "  </tbody>\n",
       "</table>\n",
       "</div>"
      ],
      "text/plain": [
       "   id                                              stops  diameter  \\\n",
       "0   0  [29058, 15366, 1687, 1688, 15385, 2080, 2081, ...  0.732963   \n",
       "1   1  [18, 18077, 18078, 32036, 16177, 16050, 27063,...  0.909368   \n",
       "\n",
       "                          types       lat        lon  \n",
       "0  [bus, trolley, tram, subway]  59.85171  30.322415  \n",
       "1  [bus, tram, trolley, subway]  59.95021  30.287937  "
      ]
     },
     "execution_count": 8,
     "metadata": {},
     "output_type": "execute_result"
    }
   ],
   "source": [
    "supernodes = build_supernodes(0.1)\n",
    "\n",
    "supernodes.head(2)"
   ]
  },
  {
   "cell_type": "code",
   "execution_count": null,
   "metadata": {},
   "outputs": [],
   "source": [
    "supernode_sizes = supernodes['stops'].apply(len).value_counts().sort_index()\n",
    "\n",
    "fig, (ax1, ax2) = plt.subplots(ncols=2)\n",
    "fig.set_size_inches(8, 2.5)\n",
    "fig.subplots_adjust(wspace=0.3)\n",
    "\n",
    "ax1.bar(supernode_sizes.index, supernode_sizes.values, width=1)\n",
    "ax1.set_xlabel('supernode size')\n",
    "ax1.set_title('(a)', y=-0.32)\n",
    "\n",
    "ax2.hist(supernodes['diameter'], color='C1', bins=25)\n",
    "ax2.set_xlabel('supernode diameter, km')\n",
    "ax2.set_title('(b)', y=-0.32)\n",
    "\n",
    "plt.savefig('../figures/supernode_statistics.pdf', transparent=True, bbox_inches='tight')"
   ]
  },
  {
   "cell_type": "code",
   "execution_count": null,
   "metadata": {},
   "outputs": [],
   "source": [
    "supernodes_json = [row.to_dict() for _, row in supernodes.iterrows()]\n",
    "\n",
    "len(supernodes_json)"
   ]
  },
  {
   "cell_type": "code",
   "execution_count": null,
   "metadata": {},
   "outputs": [],
   "source": [
    "supernodes_json[0]"
   ]
  },
  {
   "cell_type": "code",
   "execution_count": null,
   "metadata": {},
   "outputs": [],
   "source": [
    "save_json(supernodes_json, supernodes_fpath)"
   ]
  },
  {
   "cell_type": "code",
   "execution_count": null,
   "metadata": {},
   "outputs": [],
   "source": [
    "stop2supernode = {\n",
    "    stop: supernode['id']\n",
    "    for i, supernode in supernodes.iterrows()\n",
    "    for stop in supernode['stops']\n",
    "}\n",
    "\n",
    "stops['supernode'] = stops.index.map(stop2supernode)\n",
    "\n",
    "stops.head(2)"
   ]
  },
  {
   "cell_type": "code",
   "execution_count": null,
   "metadata": {},
   "outputs": [],
   "source": [
    "stops_json = [row.to_dict() for _, row in stops.reset_index().iterrows()]\n",
    "\n",
    "stops_json[0]"
   ]
  },
  {
   "cell_type": "code",
   "execution_count": null,
   "metadata": {},
   "outputs": [],
   "source": [
    "save_json(stops_json, stops_fpath)"
   ]
  },
  {
   "cell_type": "code",
   "execution_count": null,
   "metadata": {},
   "outputs": [],
   "source": [
    "routes = pd.read_json(routes_fpath, encoding='utf-8')\n",
    "\n",
    "routes.head(2)"
   ]
  },
  {
   "cell_type": "code",
   "execution_count": null,
   "metadata": {},
   "outputs": [],
   "source": [
    "def get_supernode_route(route: List[int]) -> List[int]:\n",
    "    supernode_route = []\n",
    "    \n",
    "    for stop in route:\n",
    "        supernode = stop2supernode[stop]\n",
    "        \n",
    "        if len(supernode_route) > 0 and supernode_route[-1] == supernode:\n",
    "            continue\n",
    "            \n",
    "        supernode_route.append(supernode)\n",
    "        \n",
    "    return supernode_route\n",
    "\n",
    "\n",
    "routes['supernodes'] = routes['stops'].apply(get_supernode_route)\n",
    "\n",
    "routes.head(2)"
   ]
  },
  {
   "cell_type": "code",
   "execution_count": null,
   "metadata": {},
   "outputs": [],
   "source": [
    "routes_json = [row.to_dict() for _, row in routes.iterrows()]\n",
    "\n",
    "routes_json[0]"
   ]
  },
  {
   "cell_type": "code",
   "execution_count": null,
   "metadata": {},
   "outputs": [],
   "source": [
    "save_json(routes_json, routes_fpath)"
   ]
  },
  {
   "cell_type": "markdown",
   "metadata": {},
   "source": [
    "***"
   ]
  },
  {
   "cell_type": "code",
   "execution_count": 9,
   "metadata": {},
   "outputs": [
    {
     "data": {
      "text/html": [
       "<div>\n",
       "<style scoped>\n",
       "    .dataframe tbody tr th:only-of-type {\n",
       "        vertical-align: middle;\n",
       "    }\n",
       "\n",
       "    .dataframe tbody tr th {\n",
       "        vertical-align: top;\n",
       "    }\n",
       "\n",
       "    .dataframe thead th {\n",
       "        text-align: right;\n",
       "    }\n",
       "</style>\n",
       "<table border=\"1\" class=\"dataframe\">\n",
       "  <thead>\n",
       "    <tr style=\"text-align: right;\">\n",
       "      <th></th>\n",
       "      <th>id</th>\n",
       "      <th>stops</th>\n",
       "      <th>diameter</th>\n",
       "      <th>types</th>\n",
       "      <th>lat</th>\n",
       "      <th>lon</th>\n",
       "      <th>radius</th>\n",
       "    </tr>\n",
       "  </thead>\n",
       "  <tbody>\n",
       "    <tr>\n",
       "      <th>0</th>\n",
       "      <td>0</td>\n",
       "      <td>[29058, 15366, 1687, 1688, 15385, 2080, 2081, ...</td>\n",
       "      <td>0.732963</td>\n",
       "      <td>[bus, trolley, tram, subway]</td>\n",
       "      <td>59.85171</td>\n",
       "      <td>30.322415</td>\n",
       "      <td>0.370776</td>\n",
       "    </tr>\n",
       "    <tr>\n",
       "      <th>1</th>\n",
       "      <td>1</td>\n",
       "      <td>[18, 18077, 18078, 32036, 16177, 16050, 27063,...</td>\n",
       "      <td>0.909368</td>\n",
       "      <td>[bus, tram, trolley, subway]</td>\n",
       "      <td>59.95021</td>\n",
       "      <td>30.287937</td>\n",
       "      <td>0.472779</td>\n",
       "    </tr>\n",
       "  </tbody>\n",
       "</table>\n",
       "</div>"
      ],
      "text/plain": [
       "   id                                              stops  diameter  \\\n",
       "0   0  [29058, 15366, 1687, 1688, 15385, 2080, 2081, ...  0.732963   \n",
       "1   1  [18, 18077, 18078, 32036, 16177, 16050, 27063,...  0.909368   \n",
       "\n",
       "                          types       lat        lon    radius  \n",
       "0  [bus, trolley, tram, subway]  59.85171  30.322415  0.370776  \n",
       "1  [bus, tram, trolley, subway]  59.95021  30.287937  0.472779  "
      ]
     },
     "execution_count": 9,
     "metadata": {},
     "output_type": "execute_result"
    }
   ],
   "source": [
    "def get_supernode_radius(supernode: pd.Series) -> float:\n",
    "    radius = get_earth_distances(\n",
    "        stops.loc[supernode['stops'], ['lat', 'lon']].values,\n",
    "        supernode[['lat', 'lon']].values.astype(float).reshape(1, -1),\n",
    "    ).max()\n",
    "    \n",
    "    return radius\n",
    "\n",
    "\n",
    "supernode_radii = pd.Series({\n",
    "    i: get_supernode_radius(supernode)\n",
    "    for i, supernode in supernodes.iterrows()\n",
    "})\n",
    "\n",
    "supernodes['radius'] = supernode_radii\n",
    "\n",
    "supernodes.head(2)"
   ]
  },
  {
   "cell_type": "code",
   "execution_count": 10,
   "metadata": {},
   "outputs": [
    {
     "data": {
      "text/html": [
       "<div>\n",
       "<style scoped>\n",
       "    .dataframe tbody tr th:only-of-type {\n",
       "        vertical-align: middle;\n",
       "    }\n",
       "\n",
       "    .dataframe tbody tr th {\n",
       "        vertical-align: top;\n",
       "    }\n",
       "\n",
       "    .dataframe thead th {\n",
       "        text-align: right;\n",
       "    }\n",
       "</style>\n",
       "<table border=\"1\" class=\"dataframe\">\n",
       "  <thead>\n",
       "    <tr style=\"text-align: right;\">\n",
       "      <th></th>\n",
       "      <th>lon</th>\n",
       "      <th>lat</th>\n",
       "    </tr>\n",
       "    <tr>\n",
       "      <th>id</th>\n",
       "      <th></th>\n",
       "      <th></th>\n",
       "    </tr>\n",
       "  </thead>\n",
       "  <tbody>\n",
       "    <tr>\n",
       "      <th>16396</th>\n",
       "      <td>30.494671</td>\n",
       "      <td>59.908881</td>\n",
       "    </tr>\n",
       "    <tr>\n",
       "      <th>16367</th>\n",
       "      <td>30.499882</td>\n",
       "      <td>59.911857</td>\n",
       "    </tr>\n",
       "  </tbody>\n",
       "</table>\n",
       "</div>"
      ],
      "text/plain": [
       "             lon        lat\n",
       "id                         \n",
       "16396  30.494671  59.908881\n",
       "16367  30.499882  59.911857"
      ]
     },
     "execution_count": 10,
     "metadata": {},
     "output_type": "execute_result"
    }
   ],
   "source": [
    "stop_coords = stops[['lon', 'lat']]\n",
    "\n",
    "stop_coords.head(2)"
   ]
  },
  {
   "cell_type": "code",
   "execution_count": 11,
   "metadata": {},
   "outputs": [],
   "source": [
    "import warnings\n",
    "\n",
    "warnings.filterwarnings('ignore')"
   ]
  },
  {
   "cell_type": "code",
   "execution_count": null,
   "metadata": {},
   "outputs": [
    {
     "name": "stderr",
     "output_type": "stream",
     "text": [
      "Geometry must be a Point or LineString\n",
      "Geometry must be a Point or LineString\n"
     ]
    }
   ],
   "source": [
    "fig = plt.figure(figsize=(6, 5))\n",
    "\n",
    "extent, scale, factor = vaska_area\n",
    "\n",
    "ax = add_map_subplot(fig, 1, 1, 1, extent=extent, scale=scale)\n",
    "\n",
    "for t in routes['type'].unique():\n",
    "    type_routes = routes[routes['type'] == t].copy()\n",
    "    \n",
    "    color, marker, size, width, linestyle, zorder = get_node_props(t, factor)\n",
    "    \n",
    "    for i, route in enumerate(type_routes['stops']):\n",
    "        x, y = stop_coords.loc[route].values.T\n",
    "        \n",
    "        label = t if i == 0 else None\n",
    "        \n",
    "        ax.plot(x, y, transform=ccrs.PlateCarree(), marker=marker, markersize=size,\n",
    "                lw=width, ls=linestyle, c=color, label=label, zorder=zorder)\n",
    "        \n",
    "for i, supernode in supernodes.iterrows():\n",
    "    x, y = supernode[['lon', 'lat']]\n",
    "    # x, y = proj.transform_point(x, y, ax.projection)\n",
    "    \n",
    "    radius = supernode['radius'] + 0.01\n",
    "    \n",
    "    if x + radius < extent[0] or x - radius > extent[1] or y + radius < extent[2] or y - radius > extent[3]:\n",
    "        continue\n",
    "        \n",
    "    ax.tissot(radius, lons=x, lats=y, zorder=supernode_zorder, edgecolor=supernode_color, linewidth=1, linestyle='dashed', facecolor='None')\n",
    "\n",
    "handles, labels = ax.get_legend_handles_labels()\n",
    "\n",
    "handles.append(plt.scatter([0], [0], marker='o', s=60, facecolor='None', color=supernode_color, linewidth=1, linestyle='dashed'))\n",
    "labels.append('supernode')\n",
    "    \n",
    "ax.legend(handles=handles, labels=labels, loc='upper left', bbox_to_anchor=(1, 1))\n",
    "\n",
    "plt.savefig('../figures/supernodes_map.png', dpi=250, transparent=True, bbox_inches='tight')"
   ]
  },
  {
   "cell_type": "code",
   "execution_count": null,
   "metadata": {},
   "outputs": [],
   "source": []
  },
  {
   "cell_type": "code",
   "execution_count": null,
   "metadata": {},
   "outputs": [],
   "source": []
  }
 ],
 "metadata": {
  "kernelspec": {
   "display_name": "Python 3",
   "language": "python",
   "name": "python3"
  },
  "language_info": {
   "codemirror_mode": {
    "name": "ipython",
    "version": 3
   },
   "file_extension": ".py",
   "mimetype": "text/x-python",
   "name": "python",
   "nbconvert_exporter": "python",
   "pygments_lexer": "ipython3",
   "version": "3.9.5"
  }
 },
 "nbformat": 4,
 "nbformat_minor": 4
}
