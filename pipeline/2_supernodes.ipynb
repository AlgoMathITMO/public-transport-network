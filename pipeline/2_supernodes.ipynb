{
 "cells": [
  {
   "cell_type": "markdown",
   "metadata": {},
   "source": [
    "# supernodes\n",
    "\n",
    "The procedure of combining public transportation stops into supernodes.\n",
    "\n",
    "Requires:\n",
    "1. `data/preprocessed/stops.json`\n",
    "2. `data/preprocessed/routes.json`\n",
    "\n",
    "Produces:\n",
    "1. `data/supernodes/supernodes.json`\n",
    "\n",
    "Alters:\n",
    "1. `data/preprocessed/stops.json` (adds stop to supernode mapping)\n",
    "2. `data/preprocessed/routes.json` (adds stops to supernodes mapping)"
   ]
  },
  {
   "cell_type": "code",
   "execution_count": 1,
   "metadata": {},
   "outputs": [],
   "source": [
    "import sys\n",
    "sys.path.append('..')"
   ]
  },
  {
   "cell_type": "code",
   "execution_count": 2,
   "metadata": {},
   "outputs": [],
   "source": [
    "from typing import Set, Tuple, List\n",
    "\n",
    "import numpy as np\n",
    "import pandas as pd\n",
    "import networkx as nx\n",
    "from tqdm import tqdm\n",
    "from matplotlib import pyplot as plt\n",
    "\n",
    "from myutils.spatial import get_earth_distances\n",
    "from myutils.json import save_json\n",
    "\n",
    "from config import stops_fpath, routes_fpath, supernodes_fpath\n",
    "\n",
    "plt.style.use('seaborn-whitegrid')\n",
    "plt.style.use('seaborn-deep')"
   ]
  },
  {
   "cell_type": "code",
   "execution_count": 3,
   "metadata": {},
   "outputs": [
    {
     "data": {
      "text/html": [
       "<div>\n",
       "<style scoped>\n",
       "    .dataframe tbody tr th:only-of-type {\n",
       "        vertical-align: middle;\n",
       "    }\n",
       "\n",
       "    .dataframe tbody tr th {\n",
       "        vertical-align: top;\n",
       "    }\n",
       "\n",
       "    .dataframe thead th {\n",
       "        text-align: right;\n",
       "    }\n",
       "</style>\n",
       "<table border=\"1\" class=\"dataframe\">\n",
       "  <thead>\n",
       "    <tr style=\"text-align: right;\">\n",
       "      <th></th>\n",
       "      <th>type</th>\n",
       "      <th>id</th>\n",
       "      <th>name</th>\n",
       "      <th>lat</th>\n",
       "      <th>lon</th>\n",
       "      <th>diameter</th>\n",
       "    </tr>\n",
       "  </thead>\n",
       "  <tbody>\n",
       "    <tr>\n",
       "      <th>0</th>\n",
       "      <td>tram</td>\n",
       "      <td>16396</td>\n",
       "      <td>Конечная станция \"Река Оккервиль\"</td>\n",
       "      <td>59.908881</td>\n",
       "      <td>30.494671</td>\n",
       "      <td>0.0</td>\n",
       "    </tr>\n",
       "    <tr>\n",
       "      <th>1</th>\n",
       "      <td>tram</td>\n",
       "      <td>16367</td>\n",
       "      <td>Пр. Солидарности</td>\n",
       "      <td>59.911857</td>\n",
       "      <td>30.499882</td>\n",
       "      <td>0.0</td>\n",
       "    </tr>\n",
       "  </tbody>\n",
       "</table>\n",
       "</div>"
      ],
      "text/plain": [
       "   type     id                                name        lat        lon  \\\n",
       "0  tram  16396  Конечная станция \"Река Оккервиль\"   59.908881  30.494671   \n",
       "1  tram  16367                   Пр. Солидарности   59.911857  30.499882   \n",
       "\n",
       "   diameter  \n",
       "0       0.0  \n",
       "1       0.0  "
      ]
     },
     "execution_count": 3,
     "metadata": {},
     "output_type": "execute_result"
    }
   ],
   "source": [
    "stops = pd.read_json(stops_fpath)\n",
    "\n",
    "stops.head(2)"
   ]
  },
  {
   "cell_type": "code",
   "execution_count": 4,
   "metadata": {},
   "outputs": [
    {
     "data": {
      "text/html": [
       "<div>\n",
       "<style scoped>\n",
       "    .dataframe tbody tr th:only-of-type {\n",
       "        vertical-align: middle;\n",
       "    }\n",
       "\n",
       "    .dataframe tbody tr th {\n",
       "        vertical-align: top;\n",
       "    }\n",
       "\n",
       "    .dataframe thead th {\n",
       "        text-align: right;\n",
       "    }\n",
       "</style>\n",
       "<table border=\"1\" class=\"dataframe\">\n",
       "  <thead>\n",
       "    <tr style=\"text-align: right;\">\n",
       "      <th></th>\n",
       "      <th>lat</th>\n",
       "      <th>lon</th>\n",
       "    </tr>\n",
       "    <tr>\n",
       "      <th>id</th>\n",
       "      <th></th>\n",
       "      <th></th>\n",
       "    </tr>\n",
       "  </thead>\n",
       "  <tbody>\n",
       "    <tr>\n",
       "      <th>16396</th>\n",
       "      <td>59.908881</td>\n",
       "      <td>30.494671</td>\n",
       "    </tr>\n",
       "    <tr>\n",
       "      <th>16367</th>\n",
       "      <td>59.911857</td>\n",
       "      <td>30.499882</td>\n",
       "    </tr>\n",
       "  </tbody>\n",
       "</table>\n",
       "</div>"
      ],
      "text/plain": [
       "             lat        lon\n",
       "id                         \n",
       "16396  59.908881  30.494671\n",
       "16367  59.911857  30.499882"
      ]
     },
     "execution_count": 4,
     "metadata": {},
     "output_type": "execute_result"
    }
   ],
   "source": [
    "coords = stops.set_index('id')[['lat', 'lon']]\n",
    "\n",
    "coords.head(2)"
   ]
  },
  {
   "cell_type": "code",
   "execution_count": 5,
   "metadata": {},
   "outputs": [
    {
     "data": {
      "text/plain": [
       "(7661, 7661)"
      ]
     },
     "execution_count": 5,
     "metadata": {},
     "output_type": "execute_result"
    }
   ],
   "source": [
    "diameters = stops['diameter'].values\n",
    "shifts = (diameters.reshape(-1, 1) + diameters.reshape(1, -1)) / 2\n",
    "\n",
    "distances = get_earth_distances(coords.values, coords.values) - shifts\n",
    "\n",
    "distances.shape"
   ]
  },
  {
   "cell_type": "code",
   "execution_count": 6,
   "metadata": {},
   "outputs": [],
   "source": [
    "def build_supernodes(th: float) -> pd.DataFrame:\n",
    "    closeness_adj_mx = (distances <= th).astype(int)\n",
    "    closeness_graph = nx.from_numpy_array(closeness_adj_mx)\n",
    "\n",
    "    closeness_graph = nx.relabel_nodes(closeness_graph, stops['id'].to_dict())\n",
    "\n",
    "    supernodes = sorted(nx.connected_components(closeness_graph), key=len, reverse=True)\n",
    "    \n",
    "    def supernode_diameter(supernode: Set[int]) -> float:\n",
    "        coords_ = coords.loc[supernode, ['lat', 'lon']].values\n",
    "        distances_ = get_earth_distances(coords_, coords_)\n",
    "        diameter = distances_.max()\n",
    "\n",
    "        return diameter\n",
    "\n",
    "    supernode_diameters = [supernode_diameter(supernode) for supernode in supernodes]\n",
    "    \n",
    "    supernodes_df = []\n",
    "\n",
    "    for i, supernode in enumerate(supernodes):\n",
    "        lat, lon = coords.loc[supernode, ['lat', 'lon']].mean()\n",
    "        diameter = supernode_diameter(supernode)\n",
    "        types = stops.loc[stops['id'].isin(supernode), 'type'].unique().tolist()\n",
    "\n",
    "        supernodes_df.append({\n",
    "            'id': i,\n",
    "            'stops': list(supernode),\n",
    "            'diameter': diameter,\n",
    "            'types': types,\n",
    "            'lat': lat,\n",
    "            'lon': lon,\n",
    "        })\n",
    "        \n",
    "    return pd.DataFrame(supernodes_df)"
   ]
  },
  {
   "cell_type": "code",
   "execution_count": 7,
   "metadata": {},
   "outputs": [
    {
     "name": "stderr",
     "output_type": "stream",
     "text": [
      "100%|██████████| 10/10 [01:33<00:00,  9.38s/it]\n"
     ]
    },
    {
     "data": {
      "text/html": [
       "<div>\n",
       "<style scoped>\n",
       "    .dataframe tbody tr th:only-of-type {\n",
       "        vertical-align: middle;\n",
       "    }\n",
       "\n",
       "    .dataframe tbody tr th {\n",
       "        vertical-align: top;\n",
       "    }\n",
       "\n",
       "    .dataframe thead th {\n",
       "        text-align: right;\n",
       "    }\n",
       "</style>\n",
       "<table border=\"1\" class=\"dataframe\">\n",
       "  <thead>\n",
       "    <tr style=\"text-align: right;\">\n",
       "      <th></th>\n",
       "      <th>max_size</th>\n",
       "      <th>max_diameter</th>\n",
       "    </tr>\n",
       "    <tr>\n",
       "      <th>th</th>\n",
       "      <th></th>\n",
       "      <th></th>\n",
       "    </tr>\n",
       "  </thead>\n",
       "  <tbody>\n",
       "    <tr>\n",
       "      <th>0.000</th>\n",
       "      <td>10</td>\n",
       "      <td>0.330471</td>\n",
       "    </tr>\n",
       "    <tr>\n",
       "      <th>0.025</th>\n",
       "      <td>11</td>\n",
       "      <td>0.699989</td>\n",
       "    </tr>\n",
       "  </tbody>\n",
       "</table>\n",
       "</div>"
      ],
      "text/plain": [
       "       max_size  max_diameter\n",
       "th                           \n",
       "0.000        10      0.330471\n",
       "0.025        11      0.699989"
      ]
     },
     "execution_count": 7,
     "metadata": {},
     "output_type": "execute_result"
    }
   ],
   "source": [
    "metrics = []\n",
    "\n",
    "for th in tqdm(np.arange(0, 0.25, 0.025)):\n",
    "    supernodes = build_supernodes(th)\n",
    "    max_size = supernodes['stops'].apply(len).max()\n",
    "    max_diameter = supernodes['diameter'].max()\n",
    "    \n",
    "    metrics.append((th, max_size, max_diameter))\n",
    "    \n",
    "metrics = pd.DataFrame(metrics, columns=['th', 'max_size', 'max_diameter']).set_index('th')\n",
    "\n",
    "metrics.head(2)"
   ]
  },
  {
   "cell_type": "code",
   "execution_count": 8,
   "metadata": {},
   "outputs": [
    {
     "name": "stderr",
     "output_type": "stream",
     "text": [
      "/mnt/ess_storage/DL_0/lake/ylytkin/Development/.venv/lib/python3.7/site-packages/pandas/plotting/_matplotlib/tools.py:331: MatplotlibDeprecationWarning: \n",
      "The is_first_col function was deprecated in Matplotlib 3.4 and will be removed two minor releases later. Use ax.get_subplotspec().is_first_col() instead.\n",
      "  if ax.is_first_col():\n",
      "/mnt/ess_storage/DL_0/lake/ylytkin/Development/.venv/lib/python3.7/site-packages/pandas/plotting/_matplotlib/tools.py:331: MatplotlibDeprecationWarning: \n",
      "The is_first_col function was deprecated in Matplotlib 3.4 and will be removed two minor releases later. Use ax.get_subplotspec().is_first_col() instead.\n",
      "  if ax.is_first_col():\n"
     ]
    },
    {
     "data": {
      "text/plain": [
       "<AxesSubplot:xlabel='th'>"
      ]
     },
     "execution_count": 8,
     "metadata": {},
     "output_type": "execute_result"
    },
    {
     "data": {
      "image/png": "[encoded data removed]",
      "text/plain": [
       "<Figure size 720x288 with 2 Axes>"
      ]
     },
     "metadata": {},
     "output_type": "display_data"
    }
   ],
   "source": [
    "fig, (ax1, ax2) = plt.subplots(ncols=2)\n",
    "fig.set_size_inches(10, 4)\n",
    "\n",
    "metrics['max_size'].plot(ax=ax1)\n",
    "metrics['max_diameter'].plot(ax=ax2, c='C1')"
   ]
  },
  {
   "cell_type": "code",
   "execution_count": 9,
   "metadata": {},
   "outputs": [
    {
     "data": {
      "text/html": [
       "<div>\n",
       "<style scoped>\n",
       "    .dataframe tbody tr th:only-of-type {\n",
       "        vertical-align: middle;\n",
       "    }\n",
       "\n",
       "    .dataframe tbody tr th {\n",
       "        vertical-align: top;\n",
       "    }\n",
       "\n",
       "    .dataframe thead th {\n",
       "        text-align: right;\n",
       "    }\n",
       "</style>\n",
       "<table border=\"1\" class=\"dataframe\">\n",
       "  <thead>\n",
       "    <tr style=\"text-align: right;\">\n",
       "      <th></th>\n",
       "      <th>id</th>\n",
       "      <th>stops</th>\n",
       "      <th>diameter</th>\n",
       "      <th>types</th>\n",
       "      <th>lat</th>\n",
       "      <th>lon</th>\n",
       "    </tr>\n",
       "  </thead>\n",
       "  <tbody>\n",
       "    <tr>\n",
       "      <th>0</th>\n",
       "      <td>0</td>\n",
       "      <td>[29058, 15366, 1687, 1688, 15385, 2080, 2081, ...</td>\n",
       "      <td>0.732963</td>\n",
       "      <td>[bus, trolley, tram, subway]</td>\n",
       "      <td>59.85171</td>\n",
       "      <td>30.322415</td>\n",
       "    </tr>\n",
       "    <tr>\n",
       "      <th>1</th>\n",
       "      <td>1</td>\n",
       "      <td>[18, 18077, 18078, 32036, 16177, 16050, 27063,...</td>\n",
       "      <td>0.909368</td>\n",
       "      <td>[bus, tram, trolley, subway]</td>\n",
       "      <td>59.95021</td>\n",
       "      <td>30.287937</td>\n",
       "    </tr>\n",
       "  </tbody>\n",
       "</table>\n",
       "</div>"
      ],
      "text/plain": [
       "   id                                              stops  diameter  \\\n",
       "0   0  [29058, 15366, 1687, 1688, 15385, 2080, 2081, ...  0.732963   \n",
       "1   1  [18, 18077, 18078, 32036, 16177, 16050, 27063,...  0.909368   \n",
       "\n",
       "                          types       lat        lon  \n",
       "0  [bus, trolley, tram, subway]  59.85171  30.322415  \n",
       "1  [bus, tram, trolley, subway]  59.95021  30.287937  "
      ]
     },
     "execution_count": 9,
     "metadata": {},
     "output_type": "execute_result"
    }
   ],
   "source": [
    "supernodes = build_supernodes(0.1)\n",
    "\n",
    "supernodes.head(2)"
   ]
  },
  {
   "cell_type": "code",
   "execution_count": 10,
   "metadata": {},
   "outputs": [
    {
     "data": {
      "image/png": "[encoded data removed]",
      "text/plain": [
       "<Figure size 432x288 with 1 Axes>"
      ]
     },
     "metadata": {},
     "output_type": "display_data"
    }
   ],
   "source": [
    "supernode_sizes = supernodes['stops'].apply(len).value_counts()\n",
    "\n",
    "supernode_sizes.plot(kind='bar')\n",
    "plt.title('supernode sizes');"
   ]
  },
  {
   "cell_type": "code",
   "execution_count": 11,
   "metadata": {},
   "outputs": [
    {
     "data": {
      "image/png": "[encoded data removed]",
      "text/plain": [
       "<Figure size 432x288 with 1 Axes>"
      ]
     },
     "metadata": {},
     "output_type": "display_data"
    }
   ],
   "source": [
    "plt.hist(supernodes['diameter'], bins=25)\n",
    "plt.title('supernode diameters');"
   ]
  },
  {
   "cell_type": "code",
   "execution_count": 12,
   "metadata": {},
   "outputs": [
    {
     "data": {
      "text/plain": [
       "{'id': 0,\n",
       " 'stops': [29058,\n",
       "  15366,\n",
       "  1687,\n",
       "  1688,\n",
       "  15385,\n",
       "  2080,\n",
       "  2081,\n",
       "  52,\n",
       "  1337,\n",
       "  24382,\n",
       "  3268,\n",
       "  2887,\n",
       "  4046,\n",
       "  29008,\n",
       "  16603,\n",
       "  31331,\n",
       "  31332,\n",
       "  31333,\n",
       "  14692,\n",
       "  16484,\n",
       "  2549,\n",
       "  25727],\n",
       " 'diameter': 0.7329634436206482,\n",
       " 'types': ['bus', 'trolley', 'tram', 'subway'],\n",
       " 'lat': 59.85170995415688,\n",
       " 'lon': 30.322415197727274}"
      ]
     },
     "execution_count": 12,
     "metadata": {},
     "output_type": "execute_result"
    }
   ],
   "source": [
    "supernodes_json = [row.to_dict() for _, row in supernodes.iterrows()]\n",
    "\n",
    "supernodes_json[0]"
   ]
  },
  {
   "cell_type": "code",
   "execution_count": 13,
   "metadata": {},
   "outputs": [],
   "source": [
    "save_json(supernodes_json, supernodes_fpath)"
   ]
  },
  {
   "cell_type": "code",
   "execution_count": 14,
   "metadata": {},
   "outputs": [
    {
     "data": {
      "text/html": [
       "<div>\n",
       "<style scoped>\n",
       "    .dataframe tbody tr th:only-of-type {\n",
       "        vertical-align: middle;\n",
       "    }\n",
       "\n",
       "    .dataframe tbody tr th {\n",
       "        vertical-align: top;\n",
       "    }\n",
       "\n",
       "    .dataframe thead th {\n",
       "        text-align: right;\n",
       "    }\n",
       "</style>\n",
       "<table border=\"1\" class=\"dataframe\">\n",
       "  <thead>\n",
       "    <tr style=\"text-align: right;\">\n",
       "      <th></th>\n",
       "      <th>id</th>\n",
       "      <th>stops</th>\n",
       "      <th>diameter</th>\n",
       "      <th>types</th>\n",
       "      <th>lat</th>\n",
       "      <th>lon</th>\n",
       "    </tr>\n",
       "  </thead>\n",
       "  <tbody>\n",
       "    <tr>\n",
       "      <th>0</th>\n",
       "      <td>0</td>\n",
       "      <td>[29058, 15366, 1687, 1688, 15385, 2080, 2081, ...</td>\n",
       "      <td>0.732963</td>\n",
       "      <td>[bus, trolley, tram, subway]</td>\n",
       "      <td>59.851710</td>\n",
       "      <td>30.322415</td>\n",
       "    </tr>\n",
       "    <tr>\n",
       "      <th>1</th>\n",
       "      <td>1</td>\n",
       "      <td>[18, 18077, 18078, 32036, 16177, 16050, 27063,...</td>\n",
       "      <td>0.909368</td>\n",
       "      <td>[bus, tram, trolley, subway]</td>\n",
       "      <td>59.950210</td>\n",
       "      <td>30.287937</td>\n",
       "    </tr>\n",
       "    <tr>\n",
       "      <th>2</th>\n",
       "      <td>2</td>\n",
       "      <td>[16130, 23956, 22939, 25628, 16286, 30, 16289,...</td>\n",
       "      <td>0.469595</td>\n",
       "      <td>[bus, tram, trolley, subway]</td>\n",
       "      <td>59.956716</td>\n",
       "      <td>30.354019</td>\n",
       "    </tr>\n",
       "    <tr>\n",
       "      <th>3</th>\n",
       "      <td>3</td>\n",
       "      <td>[4609, 29290, 3082, 17005, 16142, 15984, 16466...</td>\n",
       "      <td>0.331043</td>\n",
       "      <td>[bus, trolley, tram]</td>\n",
       "      <td>60.017943</td>\n",
       "      <td>30.367853</td>\n",
       "    </tr>\n",
       "    <tr>\n",
       "      <th>4</th>\n",
       "      <td>4</td>\n",
       "      <td>[34, 16964, 4677, 19280, 2545, 26803, 16052, 1...</td>\n",
       "      <td>0.237753</td>\n",
       "      <td>[bus, tram, trolley, subway]</td>\n",
       "      <td>59.990263</td>\n",
       "      <td>30.254647</td>\n",
       "    </tr>\n",
       "    <tr>\n",
       "      <th>...</th>\n",
       "      <td>...</td>\n",
       "      <td>...</td>\n",
       "      <td>...</td>\n",
       "      <td>...</td>\n",
       "      <td>...</td>\n",
       "      <td>...</td>\n",
       "    </tr>\n",
       "    <tr>\n",
       "      <th>3197</th>\n",
       "      <td>3197</td>\n",
       "      <td>[22320]</td>\n",
       "      <td>0.000000</td>\n",
       "      <td>[bus]</td>\n",
       "      <td>60.070908</td>\n",
       "      <td>30.394529</td>\n",
       "    </tr>\n",
       "    <tr>\n",
       "      <th>3198</th>\n",
       "      <td>3198</td>\n",
       "      <td>[0]</td>\n",
       "      <td>0.000000</td>\n",
       "      <td>[subway]</td>\n",
       "      <td>60.050325</td>\n",
       "      <td>30.442339</td>\n",
       "    </tr>\n",
       "    <tr>\n",
       "      <th>3199</th>\n",
       "      <td>3199</td>\n",
       "      <td>[5]</td>\n",
       "      <td>0.000000</td>\n",
       "      <td>[subway]</td>\n",
       "      <td>59.944505</td>\n",
       "      <td>30.359522</td>\n",
       "    </tr>\n",
       "    <tr>\n",
       "      <th>3200</th>\n",
       "      <td>3200</td>\n",
       "      <td>[58]</td>\n",
       "      <td>0.000000</td>\n",
       "      <td>[subway]</td>\n",
       "      <td>59.948532</td>\n",
       "      <td>30.234426</td>\n",
       "    </tr>\n",
       "    <tr>\n",
       "      <th>3201</th>\n",
       "      <td>3201</td>\n",
       "      <td>[63]</td>\n",
       "      <td>0.000000</td>\n",
       "      <td>[subway]</td>\n",
       "      <td>59.971980</td>\n",
       "      <td>30.211901</td>\n",
       "    </tr>\n",
       "  </tbody>\n",
       "</table>\n",
       "<p>3202 rows × 6 columns</p>\n",
       "</div>"
      ],
      "text/plain": [
       "        id                                              stops  diameter  \\\n",
       "0        0  [29058, 15366, 1687, 1688, 15385, 2080, 2081, ...  0.732963   \n",
       "1        1  [18, 18077, 18078, 32036, 16177, 16050, 27063,...  0.909368   \n",
       "2        2  [16130, 23956, 22939, 25628, 16286, 30, 16289,...  0.469595   \n",
       "3        3  [4609, 29290, 3082, 17005, 16142, 15984, 16466...  0.331043   \n",
       "4        4  [34, 16964, 4677, 19280, 2545, 26803, 16052, 1...  0.237753   \n",
       "...    ...                                                ...       ...   \n",
       "3197  3197                                            [22320]  0.000000   \n",
       "3198  3198                                                [0]  0.000000   \n",
       "3199  3199                                                [5]  0.000000   \n",
       "3200  3200                                               [58]  0.000000   \n",
       "3201  3201                                               [63]  0.000000   \n",
       "\n",
       "                             types        lat        lon  \n",
       "0     [bus, trolley, tram, subway]  59.851710  30.322415  \n",
       "1     [bus, tram, trolley, subway]  59.950210  30.287937  \n",
       "2     [bus, tram, trolley, subway]  59.956716  30.354019  \n",
       "3             [bus, trolley, tram]  60.017943  30.367853  \n",
       "4     [bus, tram, trolley, subway]  59.990263  30.254647  \n",
       "...                            ...        ...        ...  \n",
       "3197                         [bus]  60.070908  30.394529  \n",
       "3198                      [subway]  60.050325  30.442339  \n",
       "3199                      [subway]  59.944505  30.359522  \n",
       "3200                      [subway]  59.948532  30.234426  \n",
       "3201                      [subway]  59.971980  30.211901  \n",
       "\n",
       "[3202 rows x 6 columns]"
      ]
     },
     "execution_count": 14,
     "metadata": {},
     "output_type": "execute_result"
    }
   ],
   "source": [
    "supernodes"
   ]
  },
  {
   "cell_type": "code",
   "execution_count": 15,
   "metadata": {},
   "outputs": [
    {
     "data": {
      "text/html": [
       "<div>\n",
       "<style scoped>\n",
       "    .dataframe tbody tr th:only-of-type {\n",
       "        vertical-align: middle;\n",
       "    }\n",
       "\n",
       "    .dataframe tbody tr th {\n",
       "        vertical-align: top;\n",
       "    }\n",
       "\n",
       "    .dataframe thead th {\n",
       "        text-align: right;\n",
       "    }\n",
       "</style>\n",
       "<table border=\"1\" class=\"dataframe\">\n",
       "  <thead>\n",
       "    <tr style=\"text-align: right;\">\n",
       "      <th></th>\n",
       "      <th>type</th>\n",
       "      <th>id</th>\n",
       "      <th>name</th>\n",
       "      <th>lat</th>\n",
       "      <th>lon</th>\n",
       "      <th>diameter</th>\n",
       "      <th>supernode</th>\n",
       "    </tr>\n",
       "  </thead>\n",
       "  <tbody>\n",
       "    <tr>\n",
       "      <th>0</th>\n",
       "      <td>tram</td>\n",
       "      <td>16396</td>\n",
       "      <td>Конечная станция \"Река Оккервиль\"</td>\n",
       "      <td>59.908881</td>\n",
       "      <td>30.494671</td>\n",
       "      <td>0.0</td>\n",
       "      <td>620</td>\n",
       "    </tr>\n",
       "    <tr>\n",
       "      <th>1</th>\n",
       "      <td>tram</td>\n",
       "      <td>16367</td>\n",
       "      <td>Пр. Солидарности</td>\n",
       "      <td>59.911857</td>\n",
       "      <td>30.499882</td>\n",
       "      <td>0.0</td>\n",
       "      <td>827</td>\n",
       "    </tr>\n",
       "  </tbody>\n",
       "</table>\n",
       "</div>"
      ],
      "text/plain": [
       "   type     id                                name        lat        lon  \\\n",
       "0  tram  16396  Конечная станция \"Река Оккервиль\"   59.908881  30.494671   \n",
       "1  tram  16367                   Пр. Солидарности   59.911857  30.499882   \n",
       "\n",
       "   diameter  supernode  \n",
       "0       0.0        620  \n",
       "1       0.0        827  "
      ]
     },
     "execution_count": 15,
     "metadata": {},
     "output_type": "execute_result"
    }
   ],
   "source": [
    "stop2supernode = {\n",
    "    stop: supernode['id']\n",
    "    for i, supernode in supernodes.iterrows()\n",
    "    for stop in supernode['stops']\n",
    "}\n",
    "\n",
    "stops['supernode'] = stops['id'].map(stop2supernode)\n",
    "\n",
    "stops.head(2)"
   ]
  },
  {
   "cell_type": "code",
   "execution_count": 16,
   "metadata": {},
   "outputs": [],
   "source": [
    "stops_json = [row.to_dict() for _, row in stops.iterrows()]\n",
    "\n",
    "save_json(stops_json, stops_fpath)"
   ]
  },
  {
   "cell_type": "code",
   "execution_count": 17,
   "metadata": {},
   "outputs": [
    {
     "data": {
      "text/html": [
       "<div>\n",
       "<style scoped>\n",
       "    .dataframe tbody tr th:only-of-type {\n",
       "        vertical-align: middle;\n",
       "    }\n",
       "\n",
       "    .dataframe tbody tr th {\n",
       "        vertical-align: top;\n",
       "    }\n",
       "\n",
       "    .dataframe thead th {\n",
       "        text-align: right;\n",
       "    }\n",
       "</style>\n",
       "<table border=\"1\" class=\"dataframe\">\n",
       "  <thead>\n",
       "    <tr style=\"text-align: right;\">\n",
       "      <th></th>\n",
       "      <th>name</th>\n",
       "      <th>type</th>\n",
       "      <th>direction</th>\n",
       "      <th>stops</th>\n",
       "      <th>id</th>\n",
       "      <th>distance</th>\n",
       "    </tr>\n",
       "  </thead>\n",
       "  <tbody>\n",
       "    <tr>\n",
       "      <th>0</th>\n",
       "      <td>А</td>\n",
       "      <td>tram</td>\n",
       "      <td>1</td>\n",
       "      <td>[16396, 16367, 16371, 16398, 16400, 16401, 164...</td>\n",
       "      <td>1125</td>\n",
       "      <td>5.008430</td>\n",
       "    </tr>\n",
       "    <tr>\n",
       "      <th>1</th>\n",
       "      <td>А</td>\n",
       "      <td>tram</td>\n",
       "      <td>2</td>\n",
       "      <td>[33093, 16348, 16350, 16354, 16357, 16346, 163...</td>\n",
       "      <td>11125</td>\n",
       "      <td>3.826103</td>\n",
       "    </tr>\n",
       "  </tbody>\n",
       "</table>\n",
       "</div>"
      ],
      "text/plain": [
       "  name  type  direction                                              stops  \\\n",
       "0    А  tram          1  [16396, 16367, 16371, 16398, 16400, 16401, 164...   \n",
       "1    А  tram          2  [33093, 16348, 16350, 16354, 16357, 16346, 163...   \n",
       "\n",
       "      id  distance  \n",
       "0   1125  5.008430  \n",
       "1  11125  3.826103  "
      ]
     },
     "execution_count": 17,
     "metadata": {},
     "output_type": "execute_result"
    }
   ],
   "source": [
    "routes = pd.read_json(routes_fpath)\n",
    "\n",
    "routes.head(2)"
   ]
  },
  {
   "cell_type": "code",
   "execution_count": 18,
   "metadata": {},
   "outputs": [
    {
     "data": {
      "text/html": [
       "<div>\n",
       "<style scoped>\n",
       "    .dataframe tbody tr th:only-of-type {\n",
       "        vertical-align: middle;\n",
       "    }\n",
       "\n",
       "    .dataframe tbody tr th {\n",
       "        vertical-align: top;\n",
       "    }\n",
       "\n",
       "    .dataframe thead th {\n",
       "        text-align: right;\n",
       "    }\n",
       "</style>\n",
       "<table border=\"1\" class=\"dataframe\">\n",
       "  <thead>\n",
       "    <tr style=\"text-align: right;\">\n",
       "      <th></th>\n",
       "      <th>name</th>\n",
       "      <th>type</th>\n",
       "      <th>direction</th>\n",
       "      <th>stops</th>\n",
       "      <th>id</th>\n",
       "      <th>distance</th>\n",
       "      <th>supernodes</th>\n",
       "    </tr>\n",
       "  </thead>\n",
       "  <tbody>\n",
       "    <tr>\n",
       "      <th>0</th>\n",
       "      <td>А</td>\n",
       "      <td>tram</td>\n",
       "      <td>1</td>\n",
       "      <td>[16396, 16367, 16371, 16398, 16400, 16401, 164...</td>\n",
       "      <td>1125</td>\n",
       "      <td>5.008430</td>\n",
       "      <td>[620, 827, 828, 20, 309, 80, 310, 204, 5, 29, ...</td>\n",
       "    </tr>\n",
       "    <tr>\n",
       "      <th>1</th>\n",
       "      <td>А</td>\n",
       "      <td>tram</td>\n",
       "      <td>2</td>\n",
       "      <td>[33093, 16348, 16350, 16354, 16357, 16346, 163...</td>\n",
       "      <td>11125</td>\n",
       "      <td>3.826103</td>\n",
       "      <td>[30, 829, 830, 621, 311, 831, 14, 81, 620]</td>\n",
       "    </tr>\n",
       "  </tbody>\n",
       "</table>\n",
       "</div>"
      ],
      "text/plain": [
       "  name  type  direction                                              stops  \\\n",
       "0    А  tram          1  [16396, 16367, 16371, 16398, 16400, 16401, 164...   \n",
       "1    А  tram          2  [33093, 16348, 16350, 16354, 16357, 16346, 163...   \n",
       "\n",
       "      id  distance                                         supernodes  \n",
       "0   1125  5.008430  [620, 827, 828, 20, 309, 80, 310, 204, 5, 29, ...  \n",
       "1  11125  3.826103         [30, 829, 830, 621, 311, 831, 14, 81, 620]  "
      ]
     },
     "execution_count": 18,
     "metadata": {},
     "output_type": "execute_result"
    }
   ],
   "source": [
    "def get_supernode_route(route: List[int]) -> List[int]:\n",
    "    supernode_route = []\n",
    "    \n",
    "    for stop in route:\n",
    "        supernode = stop2supernode[stop]\n",
    "        \n",
    "        if len(supernode_route) > 0 and supernode_route[-1] == supernode:\n",
    "            continue\n",
    "            \n",
    "        supernode_route.append(supernode)\n",
    "        \n",
    "    return supernode_route\n",
    "\n",
    "\n",
    "routes['supernodes'] = routes['stops'].apply(get_supernode_route)\n",
    "\n",
    "routes.head(2)"
   ]
  },
  {
   "cell_type": "code",
   "execution_count": 19,
   "metadata": {},
   "outputs": [
    {
     "data": {
      "text/plain": [
       "{'name': 'А',\n",
       " 'type': 'tram',\n",
       " 'direction': 1,\n",
       " 'stops': [16396,\n",
       "  16367,\n",
       "  16371,\n",
       "  16398,\n",
       "  16400,\n",
       "  16401,\n",
       "  16405,\n",
       "  16408,\n",
       "  16410,\n",
       "  16413,\n",
       "  30720,\n",
       "  27185,\n",
       "  16415,\n",
       "  33093],\n",
       " 'id': 1125,\n",
       " 'distance': 5.008429911444193,\n",
       " 'supernodes': [620, 827, 828, 20, 309, 80, 310, 204, 5, 29, 118, 119, 30]}"
      ]
     },
     "execution_count": 19,
     "metadata": {},
     "output_type": "execute_result"
    }
   ],
   "source": [
    "routes_json = [row.to_dict() for _, row in routes.iterrows()]\n",
    "\n",
    "routes_json[0]"
   ]
  },
  {
   "cell_type": "code",
   "execution_count": 20,
   "metadata": {},
   "outputs": [],
   "source": [
    "save_json(routes_json, routes_fpath)"
   ]
  },
  {
   "cell_type": "code",
   "execution_count": null,
   "metadata": {},
   "outputs": [],
   "source": []
  }
 ],
 "metadata": {
  "kernelspec": {
   "display_name": "Python 3",
   "language": "python",
   "name": "python3"
  },
  "language_info": {
   "codemirror_mode": {
    "name": "ipython",
    "version": 3
   },
   "file_extension": ".py",
   "mimetype": "text/x-python",
   "name": "python",
   "nbconvert_exporter": "python",
   "pygments_lexer": "ipython3",
   "version": "3.7.3"
  }
 },
 "nbformat": 4,
 "nbformat_minor": 4
}
