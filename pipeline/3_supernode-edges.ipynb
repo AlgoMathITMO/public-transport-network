{
 "cells": [
  {
   "cell_type": "markdown",
   "metadata": {},
   "source": [
    "# supernode-edges\n",
    "\n",
    "The procedure of constructing weighted L-space and P-space edges of the supernode network.\n",
    "\n",
    "__Warning!__ Some procedures require 16 cores and up to 10 GB RAM.\n",
    "\n",
    "Requires:\n",
    "1. `data/preprocessed/routes.json`\n",
    "2. `data/supernodes/supernodes.json`\n",
    "\n",
    "Produces:\n",
    "1. `data/supernodes/edges_lspace.json`\n",
    "2. `data/supernodes/edges_pspace_alpha_metrics.json`\n",
    "3. `data/supernodes/edges_pspace.json`"
   ]
  },
  {
   "cell_type": "code",
   "execution_count": 1,
   "metadata": {},
   "outputs": [],
   "source": [
    "import sys\n",
    "sys.path.append('..')"
   ]
  },
  {
   "cell_type": "code",
   "execution_count": 2,
   "metadata": {},
   "outputs": [],
   "source": [
    "from typing import List, Dict\n",
    "from multiprocessing import Pool\n",
    "from collections import defaultdict\n",
    "\n",
    "import numpy as np\n",
    "import pandas as pd\n",
    "import networkx as nx\n",
    "import seaborn as sns\n",
    "from tqdm import tqdm\n",
    "from scipy import sparse\n",
    "from matplotlib import pyplot as plt\n",
    "\n",
    "from myutils.networkx import get_layout\n",
    "from myutils.spatial import get_earth_distances\n",
    "from myutils.json import save_json\n",
    "from myutils.matplotlib import matplotlib_latex, matplotlib_seaborn_style\n",
    "\n",
    "from ptn.parallel_centralities import shortest_paths_parallel\n",
    "from config import routes_fpath, supernodes_fpath, edges_lspace_fpath, \\\n",
    "    edges_pspace_alpha_metrics_fpath, edges_pspace_fpath\n",
    "\n",
    "matplotlib_seaborn_style()\n",
    "matplotlib_latex()"
   ]
  },
  {
   "cell_type": "code",
   "execution_count": 3,
   "metadata": {},
   "outputs": [
    {
     "data": {
      "text/html": [
       "<div>\n",
       "<style scoped>\n",
       "    .dataframe tbody tr th:only-of-type {\n",
       "        vertical-align: middle;\n",
       "    }\n",
       "\n",
       "    .dataframe tbody tr th {\n",
       "        vertical-align: top;\n",
       "    }\n",
       "\n",
       "    .dataframe thead th {\n",
       "        text-align: right;\n",
       "    }\n",
       "</style>\n",
       "<table border=\"1\" class=\"dataframe\">\n",
       "  <thead>\n",
       "    <tr style=\"text-align: right;\">\n",
       "      <th></th>\n",
       "      <th>name</th>\n",
       "      <th>type</th>\n",
       "      <th>direction</th>\n",
       "      <th>stops</th>\n",
       "      <th>distance</th>\n",
       "      <th>supernodes</th>\n",
       "    </tr>\n",
       "    <tr>\n",
       "      <th>id</th>\n",
       "      <th></th>\n",
       "      <th></th>\n",
       "      <th></th>\n",
       "      <th></th>\n",
       "      <th></th>\n",
       "      <th></th>\n",
       "    </tr>\n",
       "  </thead>\n",
       "  <tbody>\n",
       "    <tr>\n",
       "      <th>1125</th>\n",
       "      <td>А</td>\n",
       "      <td>tram</td>\n",
       "      <td>1</td>\n",
       "      <td>[16396, 16367, 16371, 16398, 16400, 16401, 164...</td>\n",
       "      <td>5.008430</td>\n",
       "      <td>[620, 827, 828, 20, 309, 80, 310, 204, 5, 29, ...</td>\n",
       "    </tr>\n",
       "    <tr>\n",
       "      <th>11125</th>\n",
       "      <td>А</td>\n",
       "      <td>tram</td>\n",
       "      <td>2</td>\n",
       "      <td>[33093, 16348, 16350, 16354, 16357, 16346, 163...</td>\n",
       "      <td>3.826103</td>\n",
       "      <td>[30, 829, 830, 621, 311, 831, 14, 81, 620]</td>\n",
       "    </tr>\n",
       "  </tbody>\n",
       "</table>\n",
       "</div>"
      ],
      "text/plain": [
       "      name  type  direction  \\\n",
       "id                            \n",
       "1125     А  tram          1   \n",
       "11125    А  tram          2   \n",
       "\n",
       "                                                   stops  distance  \\\n",
       "id                                                                   \n",
       "1125   [16396, 16367, 16371, 16398, 16400, 16401, 164...  5.008430   \n",
       "11125  [33093, 16348, 16350, 16354, 16357, 16346, 163...  3.826103   \n",
       "\n",
       "                                              supernodes  \n",
       "id                                                        \n",
       "1125   [620, 827, 828, 20, 309, 80, 310, 204, 5, 29, ...  \n",
       "11125         [30, 829, 830, 621, 311, 831, 14, 81, 620]  "
      ]
     },
     "execution_count": 3,
     "metadata": {},
     "output_type": "execute_result"
    }
   ],
   "source": [
    "routes = pd.read_json(routes_fpath).set_index('id')\n",
    "\n",
    "routes.head(2)"
   ]
  },
  {
   "cell_type": "code",
   "execution_count": 4,
   "metadata": {},
   "outputs": [
    {
     "data": {
      "text/html": [
       "<div>\n",
       "<style scoped>\n",
       "    .dataframe tbody tr th:only-of-type {\n",
       "        vertical-align: middle;\n",
       "    }\n",
       "\n",
       "    .dataframe tbody tr th {\n",
       "        vertical-align: top;\n",
       "    }\n",
       "\n",
       "    .dataframe thead th {\n",
       "        text-align: right;\n",
       "    }\n",
       "</style>\n",
       "<table border=\"1\" class=\"dataframe\">\n",
       "  <thead>\n",
       "    <tr style=\"text-align: right;\">\n",
       "      <th></th>\n",
       "      <th>stops</th>\n",
       "      <th>diameter</th>\n",
       "      <th>types</th>\n",
       "      <th>lat</th>\n",
       "      <th>lon</th>\n",
       "    </tr>\n",
       "    <tr>\n",
       "      <th>id</th>\n",
       "      <th></th>\n",
       "      <th></th>\n",
       "      <th></th>\n",
       "      <th></th>\n",
       "      <th></th>\n",
       "    </tr>\n",
       "  </thead>\n",
       "  <tbody>\n",
       "    <tr>\n",
       "      <th>0</th>\n",
       "      <td>[29058, 15366, 1687, 1688, 15385, 2080, 2081, ...</td>\n",
       "      <td>0.732963</td>\n",
       "      <td>[bus, trolley, tram, subway]</td>\n",
       "      <td>59.85171</td>\n",
       "      <td>30.322415</td>\n",
       "    </tr>\n",
       "    <tr>\n",
       "      <th>1</th>\n",
       "      <td>[18, 18077, 18078, 32036, 16177, 16050, 27063,...</td>\n",
       "      <td>0.909368</td>\n",
       "      <td>[bus, tram, trolley, subway]</td>\n",
       "      <td>59.95021</td>\n",
       "      <td>30.287937</td>\n",
       "    </tr>\n",
       "  </tbody>\n",
       "</table>\n",
       "</div>"
      ],
      "text/plain": [
       "                                                stops  diameter  \\\n",
       "id                                                                \n",
       "0   [29058, 15366, 1687, 1688, 15385, 2080, 2081, ...  0.732963   \n",
       "1   [18, 18077, 18078, 32036, 16177, 16050, 27063,...  0.909368   \n",
       "\n",
       "                           types       lat        lon  \n",
       "id                                                     \n",
       "0   [bus, trolley, tram, subway]  59.85171  30.322415  \n",
       "1   [bus, tram, trolley, subway]  59.95021  30.287937  "
      ]
     },
     "execution_count": 4,
     "metadata": {},
     "output_type": "execute_result"
    }
   ],
   "source": [
    "supernodes = pd.read_json(supernodes_fpath).set_index('id')\n",
    "\n",
    "supernodes.head(2)"
   ]
  },
  {
   "cell_type": "markdown",
   "metadata": {},
   "source": [
    "### L-space"
   ]
  },
  {
   "cell_type": "raw",
   "metadata": {},
   "source": [
    "edges = defaultdict(int)\n",
    "\n",
    "for route in routes['supernodes']:\n",
    "    for u, v in zip(route, route[1:]):\n",
    "        if u > v:\n",
    "            u, v = v, u\n",
    "        \n",
    "        edges[(u, v)] += 1\n",
    "        \n",
    "edges = [\n",
    "    {\n",
    "        'u': u,\n",
    "        'v': v,\n",
    "        'w': w,\n",
    "    }\n",
    "    for (u, v), w in edges.items()\n",
    "]\n",
    "\n",
    "edges[:5]"
   ]
  },
  {
   "cell_type": "raw",
   "metadata": {},
   "source": [
    "weighted_edges = [(edge['u'], edge['v'], edge['w']) for edge in edges]\n",
    "\n",
    "g = nx.Graph()\n",
    "g.add_weighted_edges_from(weighted_edges)\n",
    "\n",
    "len(g), len(g.edges)"
   ]
  },
  {
   "cell_type": "raw",
   "metadata": {},
   "source": [
    "# pos = get_layout(g)\n",
    "pos = dict(zip(supernodes.index, supernodes[['lon', 'lat']].values))"
   ]
  },
  {
   "cell_type": "raw",
   "metadata": {},
   "source": [
    "components = list(nx.connected_components(g.to_undirected()))\n",
    "color = {node: f'C{i}' for i, comp in enumerate(components) for node in comp}"
   ]
  },
  {
   "cell_type": "raw",
   "metadata": {},
   "source": [
    "nx.draw(g, pos, node_size=0.25, width=0.05, node_color=[color[node] for node in g])\n",
    "plt.title('connected components');"
   ]
  },
  {
   "cell_type": "raw",
   "metadata": {},
   "source": [
    "save_json(edges, edges_lspace_fpath)"
   ]
  },
  {
   "cell_type": "markdown",
   "metadata": {},
   "source": [
    "### P-space"
   ]
  },
  {
   "cell_type": "code",
   "execution_count": 5,
   "metadata": {},
   "outputs": [],
   "source": [
    "coords = supernodes[['lat', 'lon']].values\n",
    "distances = get_earth_distances(coords, coords)\n",
    "\n",
    "\n",
    "def get_route_distance(route: List[int]) -> float:\n",
    "    return distances[route[:-1], route[1:]].sum()"
   ]
  },
  {
   "cell_type": "code",
   "execution_count": 6,
   "metadata": {},
   "outputs": [],
   "source": [
    "def construct_pspace_edges(alpha: float) -> List[Dict[str, float]]:\n",
    "    edges = []\n",
    "\n",
    "    for _, route in routes['supernodes'].iteritems():\n",
    "        n = len(route)\n",
    "\n",
    "        for i in range(n - 1):\n",
    "            for j in range(i + 1, n):\n",
    "                u = route[i]\n",
    "                v = route[j]\n",
    "\n",
    "                if u > v:\n",
    "                    u, v = v, u\n",
    "\n",
    "                subroute = route[i : j + 1]\n",
    "                \n",
    "                distance = get_route_distance(subroute)\n",
    "                weight = 1 - alpha + alpha * distance\n",
    "\n",
    "                edges.append((u, v, distance, weight))\n",
    "\n",
    "    edges = pd.DataFrame(edges, columns=['u', 'v', 'distance', 'w'])\\\n",
    "        .sort_values(by=['u', 'v', 'w']).drop_duplicates(['u', 'v'], keep='first')\n",
    "\n",
    "    edges = [\n",
    "        {\n",
    "            'u': int(row['u']),\n",
    "            'v': int(row['v']),\n",
    "            'w': float(row['w']),\n",
    "            'distance': float(row['distance']),\n",
    "        }\n",
    "        for _, row in edges.iterrows()\n",
    "    ]\n",
    "    \n",
    "    return edges"
   ]
  },
  {
   "cell_type": "raw",
   "metadata": {},
   "source": [
    "pool = Pool(processes=16)"
   ]
  },
  {
   "cell_type": "raw",
   "metadata": {},
   "source": [
    "edges = construct_pspace_edges(alpha=1)\n",
    "\n",
    "weighted_edges = [(edge['u'], edge['v'], edge['w']) for edge in edges]\n",
    "\n",
    "g = nx.Graph()\n",
    "g.add_weighted_edges_from(weighted_edges)\n",
    "\n",
    "len(g), len(g.edges)"
   ]
  },
  {
   "cell_type": "raw",
   "metadata": {},
   "source": [
    "weight = nx.get_edge_attributes(g, 'weight')"
   ]
  },
  {
   "cell_type": "raw",
   "metadata": {},
   "source": [
    "def get_path_distance(path):\n",
    "    if not isinstance(path, list):\n",
    "        return np.nan\n",
    "    \n",
    "    return sum(weight.get((u, v), weight.get((v, u))) for u, v in zip(path, path[1:]))\n",
    "\n",
    "\n",
    "def get_path_hops(path):\n",
    "    if not isinstance(path, list):\n",
    "        return np.nan\n",
    "    \n",
    "    return len(path) - 1"
   ]
  },
  {
   "cell_type": "raw",
   "metadata": {},
   "source": [
    "metrics = []\n",
    "\n",
    "for alpha in tqdm(np.linspace(0, 1, 11)):\n",
    "    distance = (1 - alpha + alpha * pd.Series(weight)).to_dict()\n",
    "    nx.set_edge_attributes(g, distance, name='distance')\n",
    "    \n",
    "    shortest_paths = pd.DataFrame(shortest_paths_parallel(g, weight='distance', pool=pool))\n",
    "\n",
    "    shortest_paths = shortest_paths.reset_index()\\\n",
    "        .melt(id_vars='index', var_name='column', value_name='sp')\n",
    "    shortest_paths = shortest_paths['sp']\n",
    "    \n",
    "    distances_ = shortest_paths.apply(get_path_distance).dropna().values\n",
    "    hops = shortest_paths.apply(get_path_hops).dropna().values\n",
    "\n",
    "    item = {'alpha': alpha}\n",
    "    \n",
    "    for metric, values in zip(['distance', 'hops'], [distances_, hops]):\n",
    "        values = pd.DataFrame(values)\n",
    "        \n",
    "        values = values.reset_index()\\\n",
    "            .melt(id_vars='index', var_name='column', value_name='value')\n",
    "        values = values['value'].dropna().values\n",
    "        \n",
    "        item[f'{metric}_mean'] = values.mean()\n",
    "        item[f'{metric}_median'] = np.median(values)\n",
    "        \n",
    "        q1, q3 = np.quantile(values, [0.25, 0.75])\n",
    "        \n",
    "        item[f'{metric}_q1'] = q1\n",
    "        item[f'{metric}_q3'] = q3\n",
    "        \n",
    "        item[f'{metric}_max'] = values.max()\n",
    "    \n",
    "    metrics.append(item)\n",
    "    \n",
    "metrics = pd.DataFrame(metrics).set_index('alpha')\n",
    "\n",
    "metrics.head(2)"
   ]
  },
  {
   "cell_type": "raw",
   "metadata": {},
   "source": [
    "metrics_json = [row.to_dict() for _, row in metrics.reset_index().iterrows()]\n",
    "\n",
    "metrics_json[-1]"
   ]
  },
  {
   "cell_type": "raw",
   "metadata": {},
   "source": [
    "save_json(metrics_json, edges_pspace_alpha_metrics_fpath)"
   ]
  },
  {
   "cell_type": "code",
   "execution_count": 7,
   "metadata": {},
   "outputs": [
    {
     "data": {
      "text/html": [
       "<div>\n",
       "<style scoped>\n",
       "    .dataframe tbody tr th:only-of-type {\n",
       "        vertical-align: middle;\n",
       "    }\n",
       "\n",
       "    .dataframe tbody tr th {\n",
       "        vertical-align: top;\n",
       "    }\n",
       "\n",
       "    .dataframe thead th {\n",
       "        text-align: right;\n",
       "    }\n",
       "</style>\n",
       "<table border=\"1\" class=\"dataframe\">\n",
       "  <thead>\n",
       "    <tr style=\"text-align: right;\">\n",
       "      <th></th>\n",
       "      <th>distance_mean</th>\n",
       "      <th>distance_median</th>\n",
       "      <th>distance_q1</th>\n",
       "      <th>distance_q3</th>\n",
       "      <th>distance_max</th>\n",
       "      <th>hops_mean</th>\n",
       "      <th>hops_median</th>\n",
       "      <th>hops_q1</th>\n",
       "      <th>hops_q3</th>\n",
       "      <th>hops_max</th>\n",
       "    </tr>\n",
       "    <tr>\n",
       "      <th>alpha</th>\n",
       "      <th></th>\n",
       "      <th></th>\n",
       "      <th></th>\n",
       "      <th></th>\n",
       "      <th></th>\n",
       "      <th></th>\n",
       "      <th></th>\n",
       "      <th></th>\n",
       "      <th></th>\n",
       "      <th></th>\n",
       "    </tr>\n",
       "  </thead>\n",
       "  <tbody>\n",
       "    <tr>\n",
       "      <th>0.010</th>\n",
       "      <td>34.603154</td>\n",
       "      <td>29.776188</td>\n",
       "      <td>17.180731</td>\n",
       "      <td>45.820028</td>\n",
       "      <td>200.557199</td>\n",
       "      <td>3.184869</td>\n",
       "      <td>3</td>\n",
       "      <td>3</td>\n",
       "      <td>4</td>\n",
       "      <td>8</td>\n",
       "    </tr>\n",
       "    <tr>\n",
       "      <th>0.108</th>\n",
       "      <td>33.726213</td>\n",
       "      <td>28.974031</td>\n",
       "      <td>16.788581</td>\n",
       "      <td>44.650621</td>\n",
       "      <td>200.557199</td>\n",
       "      <td>3.252099</td>\n",
       "      <td>3</td>\n",
       "      <td>3</td>\n",
       "      <td>4</td>\n",
       "      <td>8</td>\n",
       "    </tr>\n",
       "  </tbody>\n",
       "</table>\n",
       "</div>"
      ],
      "text/plain": [
       "       distance_mean  distance_median  distance_q1  distance_q3  distance_max  \\\n",
       "alpha                                                                           \n",
       "0.010      34.603154        29.776188    17.180731    45.820028    200.557199   \n",
       "0.108      33.726213        28.974031    16.788581    44.650621    200.557199   \n",
       "\n",
       "       hops_mean  hops_median  hops_q1  hops_q3  hops_max  \n",
       "alpha                                                      \n",
       "0.010   3.184869            3        3        4         8  \n",
       "0.108   3.252099            3        3        4         8  "
      ]
     },
     "execution_count": 7,
     "metadata": {},
     "output_type": "execute_result"
    }
   ],
   "source": [
    "metrics = pd.read_json(edges_pspace_alpha_metrics_fpath).set_index('alpha')\n",
    "\n",
    "metrics.head(2)"
   ]
  },
  {
   "cell_type": "code",
   "execution_count": 8,
   "metadata": {},
   "outputs": [
    {
     "data": {
      "image/png": "[encoded data removed]",
      "text/plain": [
       "<Figure size 576x216 with 2 Axes>"
      ]
     },
     "metadata": {},
     "output_type": "display_data"
    }
   ],
   "source": [
    "fig, axes = plt.subplots(ncols=2)\n",
    "fig.set_size_inches(8, 3)\n",
    "fig.subplots_adjust(wspace=0.3)\n",
    "\n",
    "for i, metric, ax in zip(range(2), ['distance', 'hops'], axes):\n",
    "    color = f'C{i}'\n",
    "    \n",
    "    # ax.plot(metrics[f'{metric}_mean'], c=color, lw=0.8, marker='.', markersize=3)\n",
    "#     ax.fill_between(\n",
    "#         metrics.index,\n",
    "#         metrics[f'{metric}_t1'],\n",
    "#         metrics[f'{metric}_t2'],\n",
    "#         color=color,\n",
    "#         alpha=0.15,\n",
    "#     )\n",
    "    \n",
    "    ax.plot(metrics[f'{metric}_median'], c=color, lw=0.8, marker='.', markersize=3)\n",
    "    \n",
    "    # ax.set_title(metric)\n",
    "    ax.set_xlabel('$\\\\alpha$')\n",
    "    \n",
    "axes[0].set_ylabel('distance, km')\n",
    "axes[0].set_title('(a)', y=-0.3)\n",
    "axes[1].set_ylabel('hops')\n",
    "axes[1].set_title('(b)', y=-0.3)\n",
    "\n",
    "plt.savefig('../figures/weight_alpha_metrics.pdf', transparent=True, bbox_inches='tight')"
   ]
  },
  {
   "cell_type": "code",
   "execution_count": 9,
   "metadata": {},
   "outputs": [
    {
     "data": {
      "text/plain": [
       "[{'u': 0, 'v': 6, 'w': 8.349711464586662, 'distance': 23.271852922989886},\n",
       " {'u': 0, 'v': 8, 'w': 5.571580885524599, 'distance': 14.853275410680604},\n",
       " {'u': 0, 'v': 9, 'w': 5.285174979311074, 'distance': 13.985378725185072},\n",
       " {'u': 0, 'v': 13, 'w': 4.273017234500154, 'distance': 10.918234043939858},\n",
       " {'u': 0, 'v': 14, 'w': 4.8279504115066505, 'distance': 12.599849731838335}]"
      ]
     },
     "execution_count": 9,
     "metadata": {},
     "output_type": "execute_result"
    }
   ],
   "source": [
    "edges = construct_pspace_edges(alpha=0.33)\n",
    "\n",
    "edges[:5]"
   ]
  },
  {
   "cell_type": "code",
   "execution_count": 10,
   "metadata": {},
   "outputs": [
    {
     "data": {
      "text/plain": [
       "(3202, 118449)"
      ]
     },
     "execution_count": 10,
     "metadata": {},
     "output_type": "execute_result"
    }
   ],
   "source": [
    "weighted_edges = [(edge['u'], edge['v'], edge['w']) for edge in edges]\n",
    "\n",
    "g = nx.Graph()\n",
    "g.add_weighted_edges_from(weighted_edges)\n",
    "\n",
    "len(g), len(g.edges)"
   ]
  },
  {
   "cell_type": "code",
   "execution_count": 11,
   "metadata": {},
   "outputs": [],
   "source": [
    "pos = dict(zip(supernodes.index, supernodes[['lon', 'lat']].values))"
   ]
  },
  {
   "cell_type": "code",
   "execution_count": 12,
   "metadata": {},
   "outputs": [],
   "source": [
    "components = sorted(nx.connected_components(g.to_undirected()), key=len, reverse=True)\n",
    "\n",
    "node_size = {node: 0.25 if i == 0 else 2 for i, comp in enumerate(components) for node in comp}\n",
    "node_size = [node_size[node] for node in g]\n",
    "\n",
    "node_color = {node: f'C{i}' for i, comp in enumerate(components) for node in comp}\n",
    "node_color = [node_color[node] for node in g]"
   ]
  },
  {
   "cell_type": "code",
   "execution_count": 13,
   "metadata": {},
   "outputs": [
    {
     "name": "stderr",
     "output_type": "stream",
     "text": [
      "findfont: Font family ['serif'] not found. Falling back to DejaVu Sans.\n"
     ]
    },
    {
     "data": {
      "image/png": "[encoded data removed]",
      "text/plain": [
       "<Figure size 432x288 with 1 Axes>"
      ]
     },
     "metadata": {},
     "output_type": "display_data"
    }
   ],
   "source": [
    "plt.figure(figsize=(6, 4))\n",
    "\n",
    "nx.draw(g, pos, node_size=node_size, width=0.003, node_color=node_color)\n",
    "\n",
    "handles = []\n",
    "labels = []\n",
    "\n",
    "for i, comp in enumerate(components):\n",
    "    size = 0.25 if i == 0 else 2\n",
    "    \n",
    "    labels.append(f'connected component {i + 1}')\n",
    "    handles.append(plt.Line2D([0], [0], color=f'C{i}', linewidth=0, marker='o', markersize=size))\n",
    "\n",
    "plt.legend(handles=handles, labels=labels, loc='upper right')\n",
    "    \n",
    "plt.savefig('../figures/pspace_edges.png', dpi=250, transparent=True, bbox_inches='tight')"
   ]
  },
  {
   "cell_type": "code",
   "execution_count": 14,
   "metadata": {},
   "outputs": [],
   "source": [
    "save_json(edges, edges_pspace_fpath)"
   ]
  },
  {
   "cell_type": "code",
   "execution_count": null,
   "metadata": {},
   "outputs": [],
   "source": []
  }
 ],
 "metadata": {
  "kernelspec": {
   "display_name": "Python 3 (ipykernel)",
   "language": "python",
   "name": "python3"
  },
  "language_info": {
   "codemirror_mode": {
    "name": "ipython",
    "version": 3
   },
   "file_extension": ".py",
   "mimetype": "text/x-python",
   "name": "python",
   "nbconvert_exporter": "python",
   "pygments_lexer": "ipython3",
   "version": "3.8.10"
  }
 },
 "nbformat": 4,
 "nbformat_minor": 4
}
