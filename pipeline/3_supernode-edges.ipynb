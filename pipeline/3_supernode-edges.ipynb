{
 "cells": [
  {
   "cell_type": "markdown",
   "metadata": {},
   "source": [
    "# supernode-edges\n",
    "\n",
    "The procedure of constructing weighted P-space edges of the supernode network.\n",
    "\n",
    "__Warning!__ Some procedures require 24 cores and up to 15 GB RAM.\n",
    "\n",
    "Requires:\n",
    "1. `data/preprocessed/routes.json`\n",
    "2. `data/supernodes/supernodes.json`\n",
    "\n",
    "Produces:\n",
    "1. `data/supernodes/edges_pspace_alpha_metrics.json`\n",
    "2. `data/supernodes/edges_pspace.json`"
   ]
  },
  {
   "cell_type": "code",
   "execution_count": 1,
   "metadata": {},
   "outputs": [],
   "source": [
    "import sys\n",
    "sys.path.append('..')"
   ]
  },
  {
   "cell_type": "code",
   "execution_count": 2,
   "metadata": {},
   "outputs": [],
   "source": [
    "from typing import List, Dict\n",
    "from multiprocessing import Pool\n",
    "from collections import defaultdict\n",
    "\n",
    "import numpy as np\n",
    "import pandas as pd\n",
    "import networkx as nx\n",
    "import seaborn as sns\n",
    "from cartopy import crs as ccrs\n",
    "from tqdm import tqdm\n",
    "from scipy import sparse\n",
    "from matplotlib import pyplot as plt\n",
    "\n",
    "from myutils.networkx import get_layout\n",
    "from myutils.spatial import get_earth_distances\n",
    "from myutils.json import save_json, load_json\n",
    "from myutils.matplotlib import matplotlib_latex, matplotlib_seaborn_style\n",
    "\n",
    "from ptn.parallel_centralities import shortest_paths_parallel\n",
    "from ptn.cartopy import add_map_subplot\n",
    "from config import routes_fpath, supernodes_fpath, \\\n",
    "    edges_pspace_alpha_metrics_fpath, edges_pspace_fpath\n",
    "\n",
    "matplotlib_seaborn_style()\n",
    "matplotlib_latex()"
   ]
  },
  {
   "cell_type": "code",
   "execution_count": 3,
   "metadata": {},
   "outputs": [
    {
     "data": {
      "text/html": [
       "<div>\n",
       "<style scoped>\n",
       "    .dataframe tbody tr th:only-of-type {\n",
       "        vertical-align: middle;\n",
       "    }\n",
       "\n",
       "    .dataframe tbody tr th {\n",
       "        vertical-align: top;\n",
       "    }\n",
       "\n",
       "    .dataframe thead th {\n",
       "        text-align: right;\n",
       "    }\n",
       "</style>\n",
       "<table border=\"1\" class=\"dataframe\">\n",
       "  <thead>\n",
       "    <tr style=\"text-align: right;\">\n",
       "      <th></th>\n",
       "      <th>name</th>\n",
       "      <th>type</th>\n",
       "      <th>direction</th>\n",
       "      <th>stops</th>\n",
       "      <th>distance</th>\n",
       "      <th>supernodes</th>\n",
       "    </tr>\n",
       "    <tr>\n",
       "      <th>id</th>\n",
       "      <th></th>\n",
       "      <th></th>\n",
       "      <th></th>\n",
       "      <th></th>\n",
       "      <th></th>\n",
       "      <th></th>\n",
       "    </tr>\n",
       "  </thead>\n",
       "  <tbody>\n",
       "    <tr>\n",
       "      <th>1125</th>\n",
       "      <td>А</td>\n",
       "      <td>tram</td>\n",
       "      <td>1</td>\n",
       "      <td>[16396, 16367, 16371, 16398, 16400, 16401, 164...</td>\n",
       "      <td>5.008430</td>\n",
       "      <td>[620, 827, 828, 20, 309, 80, 310, 204, 5, 29, ...</td>\n",
       "    </tr>\n",
       "    <tr>\n",
       "      <th>11125</th>\n",
       "      <td>А</td>\n",
       "      <td>tram</td>\n",
       "      <td>2</td>\n",
       "      <td>[33093, 16348, 16350, 16354, 16357, 16346, 163...</td>\n",
       "      <td>3.826103</td>\n",
       "      <td>[30, 829, 830, 621, 311, 831, 14, 81, 620]</td>\n",
       "    </tr>\n",
       "  </tbody>\n",
       "</table>\n",
       "</div>"
      ],
      "text/plain": [
       "      name  type  direction  \\\n",
       "id                            \n",
       "1125     А  tram          1   \n",
       "11125    А  tram          2   \n",
       "\n",
       "                                                   stops  distance  \\\n",
       "id                                                                   \n",
       "1125   [16396, 16367, 16371, 16398, 16400, 16401, 164...  5.008430   \n",
       "11125  [33093, 16348, 16350, 16354, 16357, 16346, 163...  3.826103   \n",
       "\n",
       "                                              supernodes  \n",
       "id                                                        \n",
       "1125   [620, 827, 828, 20, 309, 80, 310, 204, 5, 29, ...  \n",
       "11125         [30, 829, 830, 621, 311, 831, 14, 81, 620]  "
      ]
     },
     "execution_count": 3,
     "metadata": {},
     "output_type": "execute_result"
    }
   ],
   "source": [
    "routes = pd.read_json(routes_fpath).set_index('id')\n",
    "\n",
    "routes.head(2)"
   ]
  },
  {
   "cell_type": "code",
   "execution_count": 4,
   "metadata": {},
   "outputs": [
    {
     "data": {
      "text/html": [
       "<div>\n",
       "<style scoped>\n",
       "    .dataframe tbody tr th:only-of-type {\n",
       "        vertical-align: middle;\n",
       "    }\n",
       "\n",
       "    .dataframe tbody tr th {\n",
       "        vertical-align: top;\n",
       "    }\n",
       "\n",
       "    .dataframe thead th {\n",
       "        text-align: right;\n",
       "    }\n",
       "</style>\n",
       "<table border=\"1\" class=\"dataframe\">\n",
       "  <thead>\n",
       "    <tr style=\"text-align: right;\">\n",
       "      <th></th>\n",
       "      <th>stops</th>\n",
       "      <th>diameter</th>\n",
       "      <th>types</th>\n",
       "      <th>lat</th>\n",
       "      <th>lon</th>\n",
       "    </tr>\n",
       "    <tr>\n",
       "      <th>id</th>\n",
       "      <th></th>\n",
       "      <th></th>\n",
       "      <th></th>\n",
       "      <th></th>\n",
       "      <th></th>\n",
       "    </tr>\n",
       "  </thead>\n",
       "  <tbody>\n",
       "    <tr>\n",
       "      <th>0</th>\n",
       "      <td>[29058, 15366, 1687, 1688, 15385, 2080, 2081, ...</td>\n",
       "      <td>0.732963</td>\n",
       "      <td>[bus, trolley, tram, subway]</td>\n",
       "      <td>59.85171</td>\n",
       "      <td>30.322415</td>\n",
       "    </tr>\n",
       "    <tr>\n",
       "      <th>1</th>\n",
       "      <td>[18, 18077, 18078, 32036, 16177, 16050, 27063,...</td>\n",
       "      <td>0.909368</td>\n",
       "      <td>[bus, tram, trolley, subway]</td>\n",
       "      <td>59.95021</td>\n",
       "      <td>30.287937</td>\n",
       "    </tr>\n",
       "  </tbody>\n",
       "</table>\n",
       "</div>"
      ],
      "text/plain": [
       "                                                stops  diameter  \\\n",
       "id                                                                \n",
       "0   [29058, 15366, 1687, 1688, 15385, 2080, 2081, ...  0.732963   \n",
       "1   [18, 18077, 18078, 32036, 16177, 16050, 27063,...  0.909368   \n",
       "\n",
       "                           types       lat        lon  \n",
       "id                                                     \n",
       "0   [bus, trolley, tram, subway]  59.85171  30.322415  \n",
       "1   [bus, tram, trolley, subway]  59.95021  30.287937  "
      ]
     },
     "execution_count": 4,
     "metadata": {},
     "output_type": "execute_result"
    }
   ],
   "source": [
    "supernodes = pd.read_json(supernodes_fpath).set_index('id')\n",
    "\n",
    "supernodes.head(2)"
   ]
  },
  {
   "cell_type": "markdown",
   "metadata": {},
   "source": [
    "### L-space"
   ]
  },
  {
   "cell_type": "raw",
   "metadata": {},
   "source": [
    "edges = defaultdict(int)\n",
    "\n",
    "for route in routes['supernodes']:\n",
    "    for u, v in zip(route, route[1:]):\n",
    "        if u > v:\n",
    "            u, v = v, u\n",
    "        \n",
    "        edges[(u, v)] += 1\n",
    "        \n",
    "edges = [\n",
    "    {\n",
    "        'u': u,\n",
    "        'v': v,\n",
    "        'w': w,\n",
    "    }\n",
    "    for (u, v), w in edges.items()\n",
    "]\n",
    "\n",
    "edges[:5]"
   ]
  },
  {
   "cell_type": "raw",
   "metadata": {},
   "source": [
    "weighted_edges = [(edge['u'], edge['v'], edge['w']) for edge in edges]\n",
    "\n",
    "g = nx.Graph()\n",
    "g.add_weighted_edges_from(weighted_edges)\n",
    "\n",
    "len(g), len(g.edges)"
   ]
  },
  {
   "cell_type": "raw",
   "metadata": {},
   "source": [
    "# pos = get_layout(g)\n",
    "pos = dict(zip(supernodes.index, supernodes[['lon', 'lat']].values))"
   ]
  },
  {
   "cell_type": "raw",
   "metadata": {},
   "source": [
    "components = list(nx.connected_components(g.to_undirected()))\n",
    "color = {node: f'C{i}' for i, comp in enumerate(components) for node in comp}"
   ]
  },
  {
   "cell_type": "raw",
   "metadata": {},
   "source": [
    "nx.draw(g, pos, node_size=0.25, width=0.05, node_color=[color[node] for node in g])\n",
    "plt.title('connected components');"
   ]
  },
  {
   "cell_type": "raw",
   "metadata": {},
   "source": [
    "save_json(edges, edges_lspace_fpath)"
   ]
  },
  {
   "cell_type": "markdown",
   "metadata": {},
   "source": [
    "### P-space"
   ]
  },
  {
   "cell_type": "code",
   "execution_count": 5,
   "metadata": {},
   "outputs": [],
   "source": [
    "coords = supernodes[['lat', 'lon']].values\n",
    "distances = get_earth_distances(coords, coords)\n",
    "\n",
    "\n",
    "def get_route_distance(route: List[int]) -> float:\n",
    "    return distances[route[:-1], route[1:]].sum()"
   ]
  },
  {
   "cell_type": "code",
   "execution_count": 6,
   "metadata": {},
   "outputs": [],
   "source": [
    "def construct_pspace_graph() -> nx.Graph:\n",
    "    edges = []\n",
    "\n",
    "    for route_id, route in routes['supernodes'].iteritems():\n",
    "        n = len(route)\n",
    "\n",
    "        for i in range(n - 1):\n",
    "            for j in range(i + 1, n):\n",
    "                u = route[i]\n",
    "                v = route[j]\n",
    "\n",
    "                if u > v:\n",
    "                    u, v = v, u\n",
    "\n",
    "                subroute = route[i : j + 1]\n",
    "                \n",
    "                distance = get_route_distance(subroute)\n",
    "                edges.append((u, v, distance, route_id))\n",
    "\n",
    "    edges = pd.DataFrame(edges, columns=['u', 'v', 'distance', 'route_id'])\\\n",
    "        .sort_values(by=['u', 'v', 'distance']).drop_duplicates(['u', 'v'], keep='first')\n",
    "    \n",
    "    g = nx.Graph()\n",
    "    g.add_nodes_from(supernodes.index)\n",
    "    \n",
    "    for _, row in edges.iterrows():\n",
    "        u = int(row['u'])\n",
    "        v = int(row['v'])\n",
    "        distance = row['distance']\n",
    "        route_id = int(row['route_id'])\n",
    "        \n",
    "        g.add_edge(u, v, hops=1, distance=distance, route=route_id)\n",
    "    \n",
    "    return g"
   ]
  },
  {
   "cell_type": "code",
   "execution_count": 7,
   "metadata": {},
   "outputs": [
    {
     "data": {
      "text/plain": [
       "(3202, 118449, 3)"
      ]
     },
     "execution_count": 7,
     "metadata": {},
     "output_type": "execute_result"
    }
   ],
   "source": [
    "pspace = construct_pspace_graph()\n",
    "\n",
    "len(pspace), len(pspace.edges), nx.number_connected_components(pspace)"
   ]
  },
  {
   "cell_type": "code",
   "execution_count": 8,
   "metadata": {},
   "outputs": [],
   "source": [
    "def assign_weights(g: nx.Graph, alpha: float) -> nx.Graph:\n",
    "    g = g.copy()\n",
    "    \n",
    "    distances = pd.Series(nx.get_edge_attributes(g, 'distance'))\n",
    "    weights = alpha * distances + 1 - alpha\n",
    "    \n",
    "    nx.set_edge_attributes(g, weights, 'weight')\n",
    "    \n",
    "    return g"
   ]
  },
  {
   "cell_type": "code",
   "execution_count": 9,
   "metadata": {},
   "outputs": [
    {
     "data": {
      "text/plain": [
       "dict"
      ]
     },
     "execution_count": 9,
     "metadata": {},
     "output_type": "execute_result"
    }
   ],
   "source": [
    "edge_distances = nx.get_edge_attributes(pspace, 'distance')\n",
    "\n",
    "type(edge_distances)"
   ]
  },
  {
   "cell_type": "code",
   "execution_count": 10,
   "metadata": {},
   "outputs": [],
   "source": [
    "def get_path_distance(path: list) -> float:\n",
    "    if not isinstance(path, list):\n",
    "        return np.nan\n",
    "    \n",
    "    return sum(\n",
    "        edge_distances.get((u, v), edge_distances.get((v, u)))\n",
    "        for u, v in zip(path, path[1:])\n",
    "    )\n",
    "\n",
    "\n",
    "def get_path_hops(path: list) -> float:\n",
    "    if not isinstance(path, list):\n",
    "        return np.nan\n",
    "    \n",
    "    else:\n",
    "        return len(path) - 1"
   ]
  },
  {
   "cell_type": "code",
   "execution_count": 11,
   "metadata": {},
   "outputs": [],
   "source": [
    "def get_lspace_path(pspace: nx.Graph, pspace_path: list) -> list:\n",
    "    lspace_path = [pspace_path[0]]\n",
    "    \n",
    "    for u, v in zip(pspace_path, pspace_path[1:]):\n",
    "        route_id = pspace[u][v]['route']\n",
    "        route = routes.loc[route_id, 'supernodes']\n",
    "        \n",
    "        start = route.index(u)\n",
    "        end = route.index(v)\n",
    "        \n",
    "        if start < end:\n",
    "            route_part = route[start + 1:end + 1]\n",
    "        else:\n",
    "            route_part = route[start - 1:end:-1] + [route[end]]\n",
    "        \n",
    "        lspace_path.extend(route_part)\n",
    "        \n",
    "    return lspace_path"
   ]
  },
  {
   "cell_type": "raw",
   "metadata": {},
   "source": [
    "pool = Pool(processes=24)\n",
    "\n",
    "alpha0 = 0.00001\n",
    "alpha1 = 0.99999\n",
    "\n",
    "pspace = assign_weights(pspace, alpha=alpha0)\n",
    "shortest_paths_hops = pd.DataFrame(shortest_paths_parallel(pspace, pool=pool))\n",
    "\n",
    "pspace = assign_weights(pspace, alpha=alpha1)\n",
    "shortest_paths_distance = pd.DataFrame(shortest_paths_parallel(pspace, pool=pool))\n",
    "\n",
    "pool.close()"
   ]
  },
  {
   "cell_type": "raw",
   "metadata": {},
   "source": [
    "df = pd.DataFrame()\n",
    "\n",
    "names = ['hops', 'distance']\n",
    "sps = [shortest_paths_hops, shortest_paths_distance]\n",
    "\n",
    "for name, sp in zip(names, sps):\n",
    "    col = f'shortest_path_{name}'\n",
    "    \n",
    "    df[col] = sp.reset_index()\\\n",
    "        .melt(id_vars='index', var_name='column', value_name=col)\\\n",
    "        .set_index(['index', 'column'])[col]\n",
    "\n",
    "df.index.names = [None, None]\n",
    "df = df.sort_index()\n",
    "\n",
    "df.head()"
   ]
  },
  {
   "cell_type": "raw",
   "metadata": {},
   "source": [
    "df['alpha0_hops'] = df['shortest_path_hops'].apply(get_path_hops)\n",
    "df['alpha0_distance'] = df['shortest_path_hops'].apply(get_path_distance)\n",
    "\n",
    "df['alpha1_hops'] = df['shortest_path_distance'].apply(get_path_hops)\n",
    "df['alpha1_distance'] = df['shortest_path_distance'].apply(get_path_distance)\n",
    "\n",
    "minimal_hops = df['alpha0_hops'].copy()\n",
    "minimal_distances = df['alpha1_distance'].copy()"
   ]
  },
  {
   "cell_type": "raw",
   "metadata": {},
   "source": [
    "hop_diff = df['alpha1_hops'] - minimal_hops\n",
    "hop_mape = hop_diff / minimal_hops\n",
    "\n",
    "distance_diff = df['alpha0_distance'] - minimal_distances\n",
    "distance_mape = distance_diff / minimal_distances"
   ]
  },
  {
   "cell_type": "raw",
   "metadata": {},
   "source": [
    "fig, axes = plt.subplots(ncols=2)\n",
    "fig.set_size_inches(8, 3)\n",
    "fig.subplots_adjust(wspace=0.3)\n",
    "\n",
    "hop_diff.hist(ax=axes[0], bins=18, density=True)\n",
    "axes[0].axvline(hop_diff.mean(), color='C3', ls='dashed', label='avg. difference')\n",
    "\n",
    "axes[0].legend(loc='upper center', bbox_to_anchor=(1.1, -0.06))\n",
    "\n",
    "distance_diff.hist(ax=axes[1], bins=18, density=True, color='C2')\n",
    "axes[1].axvline(distance_diff.mean(), color='C3', ls='dashed')\n",
    "\n",
    "axes[0].set_title('(a)', y=-0.22)\n",
    "axes[1].set_title('(b)', y=-0.22)"
   ]
  },
  {
   "cell_type": "code",
   "execution_count": 12,
   "metadata": {},
   "outputs": [],
   "source": [
    "def build_lspace_path_graph(pspace_path: list) -> nx.Graph:\n",
    "    lspace_path = get_lspace_path(pspace, pspace_path)\n",
    "    \n",
    "    g = nx.Graph()\n",
    "    g.add_edges_from(zip(lspace_path, lspace_path[1:]))\n",
    "    \n",
    "    transfer = pd.Series(False, index=set(lspace_path))\n",
    "    transfer[set(pspace_path)] = True\n",
    "    \n",
    "    nx.set_node_attributes(g, transfer, 'transfer')\n",
    "    \n",
    "    return g"
   ]
  },
  {
   "cell_type": "code",
   "execution_count": 13,
   "metadata": {},
   "outputs": [],
   "source": [
    "pos = dict(zip(supernodes.index, supernodes[['lon', 'lat']].values))"
   ]
  },
  {
   "cell_type": "raw",
   "metadata": {},
   "source": [
    "mask = (minimal_distances > 2) & (minimal_hops > 1)\n",
    "node_pairs = distance_mape[mask].sort_values(ascending=False).index[0:6:2]\n",
    "\n",
    "node_pairs"
   ]
  },
  {
   "cell_type": "raw",
   "metadata": {},
   "source": [
    "u, v = node_pairs[1]\n",
    "\n",
    "row = df.loc[(u, v)]\n",
    "\n",
    "p1 = row['shortest_path_hops']\n",
    "p1_lspace = build_lspace_path_graph(p1)\n",
    "\n",
    "p2 = row['shortest_path_distance']\n",
    "p2_lspace = build_lspace_path_graph(p2)\n",
    "\n",
    "row"
   ]
  },
  {
   "cell_type": "raw",
   "metadata": {},
   "source": [
    "plt.figure(figsize=(10, 10))\n",
    "\n",
    "plt.scatter(*supernodes[['lon', 'lat']].values.T, s=1, zorder=-1)\n",
    "\n",
    "for i, (u, v) in enumerate(node_pairs, start=1):\n",
    "    row = df.loc[(u, v)]\n",
    "\n",
    "    p1 = row['shortest_path_hops']\n",
    "    p1_lspace = build_lspace_path_graph(p1)\n",
    "\n",
    "    p2 = row['shortest_path_distance']\n",
    "    p2_lspace = build_lspace_path_graph(p2)\n",
    "\n",
    "    for j, lspace in enumerate([p1_lspace, p2_lspace]):\n",
    "        color = f'C{i * 2 + j}'\n",
    "        linestyle = 'solid' if j == 0 else 'dashed'\n",
    "\n",
    "        nx.draw(lspace, pos, node_size=0, width=1, node_color=color, edge_color=color, style=linestyle)\n",
    "\n",
    "        transfers = [node for node in lspace.nodes if lspace.nodes[node]['transfer']]\n",
    "        nx.draw_networkx_nodes(lspace, pos, nodelist=transfers, node_color=color, node_size=5, node_shape='*')\n",
    "        \n",
    "plt.savefig('test.pdf')"
   ]
  },
  {
   "cell_type": "raw",
   "metadata": {},
   "source": [
    "mask = (minimal_distances > 2) & (minimal_hops > 1) & (minimal_distances <= 10)\n",
    "node_pairs = hop_mape[mask].sort_values(ascending=False).index[0:2:2]\n",
    "\n",
    "node_pairs"
   ]
  },
  {
   "cell_type": "raw",
   "metadata": {},
   "source": [
    "u, v = node_pairs[0]\n",
    "\n",
    "row = df.loc[(u, v)]\n",
    "\n",
    "p1 = row['shortest_path_hops']\n",
    "p1_lspace = build_lspace_path_graph(p1)\n",
    "\n",
    "p2 = row['shortest_path_distance']\n",
    "p2_lspace = build_lspace_path_graph(p2)\n",
    "\n",
    "row"
   ]
  },
  {
   "cell_type": "raw",
   "metadata": {},
   "source": [
    "plt.figure(figsize=(10, 10))\n",
    "\n",
    "plt.scatter(*supernodes[['lon', 'lat']].values.T, s=1, zorder=-1)\n",
    "\n",
    "for i, (u, v) in enumerate(node_pairs, start=1):\n",
    "    row = df.loc[(u, v)]\n",
    "\n",
    "    p1 = row['shortest_path_hops']\n",
    "    p1_lspace = build_lspace_path_graph(p1)\n",
    "\n",
    "    p2 = row['shortest_path_distance']\n",
    "    p2_lspace = build_lspace_path_graph(p2)\n",
    "\n",
    "    for j, lspace in enumerate([p1_lspace, p2_lspace]):\n",
    "        color = f'C{i * 2 + j}'\n",
    "        linestyle = 'solid' if j == 0 else 'dashed'\n",
    "\n",
    "        nx.draw(lspace, pos, node_size=0, width=1, node_color=color, edge_color=color, style=linestyle)\n",
    "\n",
    "        transfers = [node for node in lspace.nodes if lspace.nodes[node]['transfer']]\n",
    "        nx.draw_networkx_nodes(lspace, pos, nodelist=transfers, node_color=color, node_size=5, node_shape='*')\n",
    "        \n",
    "plt.savefig('test.pdf')"
   ]
  },
  {
   "cell_type": "raw",
   "metadata": {},
   "source": [
    "pool = Pool(processes=24)\n",
    "mapes = []\n",
    "\n",
    "alphas = np.concatenate([\n",
    "    np.linspace(alpha0, 0.05, 5),\n",
    "    np.linspace(0.05, 0.95, 12)[1:-1],\n",
    "    np.linspace(0.95, alpha1, 5),\n",
    "])\n",
    "\n",
    "for alpha in tqdm(alphas):\n",
    "    pspace = assign_weights(pspace, alpha)\n",
    "    \n",
    "    shortest_paths = pd.DataFrame(shortest_paths_parallel(pspace, weight='weight', pool=pool))\n",
    "\n",
    "    shortest_paths = shortest_paths.reset_index()\\\n",
    "        .melt(id_vars='index', var_name='column', value_name='shortest_path')\\\n",
    "        .set_index(['index', 'column'])['shortest_path']\n",
    "\n",
    "    shortest_paths.index.names = [None, None]\n",
    "    shortest_paths = shortest_paths.sort_index()\n",
    "    \n",
    "    shortest_path_hops = shortest_paths.apply(get_path_hops)\n",
    "    shortest_path_distances = shortest_paths.apply(get_path_distance)\n",
    "    \n",
    "    hop_mape = (shortest_path_hops - minimal_hops) / minimal_hops\n",
    "    hop_mape[minimal_hops == 0] = np.nan\n",
    "    hop_mape = hop_mape.mean()\n",
    "    \n",
    "    distances_mape = (shortest_path_distances - minimal_distances) / minimal_distances\n",
    "    distances_mape[minimal_distances == 0] = np.nan\n",
    "    distances_mape = distances_mape.mean()\n",
    "    \n",
    "    mapes.append((alpha, hop_mape, distances_mape))\n",
    "    \n",
    "mapes = pd.DataFrame(mapes, columns=['alpha', 'hops_mape', 'distance_mape'])\n",
    "    \n",
    "pool.close()\n",
    "\n",
    "mapes_json = [row.to_dict() for _, row in mapes.iterrows()]\n",
    "save_json(mapes_json, edges_pspace_alpha_metrics_fpath)\n",
    "\n",
    "mapes.head(2)"
   ]
  },
  {
   "cell_type": "code",
   "execution_count": 14,
   "metadata": {},
   "outputs": [
    {
     "data": {
      "text/html": [
       "<div>\n",
       "<style scoped>\n",
       "    .dataframe tbody tr th:only-of-type {\n",
       "        vertical-align: middle;\n",
       "    }\n",
       "\n",
       "    .dataframe tbody tr th {\n",
       "        vertical-align: top;\n",
       "    }\n",
       "\n",
       "    .dataframe thead th {\n",
       "        text-align: right;\n",
       "    }\n",
       "</style>\n",
       "<table border=\"1\" class=\"dataframe\">\n",
       "  <thead>\n",
       "    <tr style=\"text-align: right;\">\n",
       "      <th></th>\n",
       "      <th>alpha</th>\n",
       "      <th>hops_mape</th>\n",
       "      <th>distance_mape</th>\n",
       "    </tr>\n",
       "  </thead>\n",
       "  <tbody>\n",
       "    <tr>\n",
       "      <th>0</th>\n",
       "      <td>0.000010</td>\n",
       "      <td>0.0</td>\n",
       "      <td>0.153925</td>\n",
       "    </tr>\n",
       "    <tr>\n",
       "      <th>1</th>\n",
       "      <td>0.012507</td>\n",
       "      <td>0.0</td>\n",
       "      <td>0.153925</td>\n",
       "    </tr>\n",
       "  </tbody>\n",
       "</table>\n",
       "</div>"
      ],
      "text/plain": [
       "      alpha  hops_mape  distance_mape\n",
       "0  0.000010        0.0       0.153925\n",
       "1  0.012507        0.0       0.153925"
      ]
     },
     "execution_count": 14,
     "metadata": {},
     "output_type": "execute_result"
    }
   ],
   "source": [
    "mapes = pd.read_json(edges_pspace_alpha_metrics_fpath, encoding='utf-8')\n",
    "\n",
    "mapes.head(2)"
   ]
  },
  {
   "cell_type": "code",
   "execution_count": 15,
   "metadata": {},
   "outputs": [
    {
     "data": {
      "image/png": "[encoded data removed]",
      "text/plain": [
       "<Figure size 288x180 with 1 Axes>"
      ]
     },
     "metadata": {},
     "output_type": "display_data"
    }
   ],
   "source": [
    "plt.figure(figsize=(4, 2.5))\n",
    "\n",
    "plt.plot(mapes['alpha'], mapes['hops_mape'] * 100, label='hops', marker='^', markersize=3)\n",
    "plt.plot(mapes['alpha'], mapes['distance_mape'] * 100, label='distance', marker='x', markersize=4)\n",
    "\n",
    "plt.axhline(10, ls='dashed', lw=1, c='C3', label='$10\\%$')\n",
    "\n",
    "plt.xlabel('$\\\\alpha$')\n",
    "plt.ylabel('mean percentage difference, $\\%$')\n",
    "\n",
    "plt.legend()\n",
    "\n",
    "plt.savefig('../figures/weight_alpha_metrics.pdf', transparent=True, bbox_inches='tight')"
   ]
  },
  {
   "cell_type": "code",
   "execution_count": 16,
   "metadata": {},
   "outputs": [],
   "source": [
    "pspace = assign_weights(pspace, alpha=0.2)"
   ]
  },
  {
   "cell_type": "raw",
   "metadata": {},
   "source": [
    "shortest_paths = pd.DataFrame(shortest_paths_parallel(pspace))\n",
    "\n",
    "shortest_paths = shortest_paths.reset_index()\\\n",
    "    .melt(id_vars='index', var_name='column', value_name='shortest_path')\\\n",
    "    .set_index(['index', 'column'])['shortest_path']\n",
    "\n",
    "shortest_paths.index.names = [None, None]\n",
    "shortest_paths = shortest_paths.sort_index()\n",
    "\n",
    "shortest_path_hops = shortest_paths.apply(get_path_hops)\n",
    "shortest_path_distances = shortest_paths.apply(get_path_distance)"
   ]
  },
  {
   "cell_type": "raw",
   "metadata": {},
   "source": [
    "df['alpha_hops'] = shortest_path_hops\n",
    "df['alpha_distance'] = shortest_path_distances\n",
    "\n",
    "df.head(2)"
   ]
  },
  {
   "cell_type": "raw",
   "metadata": {},
   "source": [
    "distance_pdiff = (df['alpha_distance'] - df['alpha1_distance']) / df['alpha1_distance']\n",
    "\n",
    "distance_pdiff"
   ]
  },
  {
   "cell_type": "raw",
   "metadata": {},
   "source": [
    "mask = (minimal_distances > 1) & (minimal_hops > 1)"
   ]
  },
  {
   "cell_type": "raw",
   "metadata": {},
   "source": [
    "node_pairs = distance_pdiff[mask].sort_values(ascending=False).index\n",
    "\n",
    "node_pairs[:5]"
   ]
  },
  {
   "cell_type": "raw",
   "metadata": {},
   "source": [
    "hops_pdiff = (shortest_path_hops - minimal_hops) / minimal_hops\n",
    "distance_pdiff = (shortest_path_distances - minimal_distances) / minimal_distances"
   ]
  },
  {
   "cell_type": "raw",
   "metadata": {},
   "source": [
    "fig, (ax1, ax2) = plt.subplots(ncols=2)\n",
    "fig.set_size_inches(8, 2.5)\n",
    "fig.subplots_adjust(wspace=0.3)\n",
    "\n",
    "hops_pdiff.hist(ax=ax1, density=True, bins=20)\n",
    "ax1.axvline(hops_pdiff.mean(), ls='dashed', c='C3')\n",
    "\n",
    "distance_pdiff.hist(ax=ax2, density=True, bins=20, color='C1')\n",
    "ax2.axvline(distance_pdiff.mean(), ls='dashed', c='C3')\n",
    "\n",
    "for ax in (ax1, ax2):\n",
    "    ax.set_yscale('log')"
   ]
  },
  {
   "cell_type": "code",
   "execution_count": 17,
   "metadata": {},
   "outputs": [],
   "source": [
    "components = sorted(nx.connected_components(pspace.to_undirected()), key=len, reverse=True)\n",
    "\n",
    "sizes = [0.5, 2, 2]\n",
    "markers = ['o', 'v', 's']"
   ]
  },
  {
   "cell_type": "code",
   "execution_count": 18,
   "metadata": {},
   "outputs": [
    {
     "data": {
      "image/png": "[encoded data removed]",
      "text/plain": [
       "<Figure size 432x288 with 1 Axes>"
      ]
     },
     "metadata": {},
     "output_type": "display_data"
    }
   ],
   "source": [
    "plt.figure(figsize=(6, 4))\n",
    "\n",
    "handles = []\n",
    "labels = []\n",
    "\n",
    "for i, comp in enumerate(components):\n",
    "    color = f'C{i}'\n",
    "    marker = markers[i]\n",
    "    size = sizes[i]\n",
    "    \n",
    "    nx.draw(pspace.subgraph(comp), pos, node_size=size, width=0.005, node_color=color, node_shape=marker)\n",
    "    \n",
    "    labels.append(f'connected component {i + 1}')\n",
    "    handles.append(plt.Line2D([0], [0], color=color, linewidth=0, marker=marker, markersize=size))\n",
    "\n",
    "plt.legend(handles=handles, labels=labels, loc='upper right')\n",
    "    \n",
    "plt.savefig('../figures/pspace_edges.png', dpi=250, transparent=True, bbox_inches='tight')"
   ]
  },
  {
   "cell_type": "code",
   "execution_count": 19,
   "metadata": {},
   "outputs": [
    {
     "data": {
      "text/plain": [
       "[{'hops': 1,\n",
       "  'distance': 23.271852922989886,\n",
       "  'route': 10003,\n",
       "  'weight': 5.454370584597977,\n",
       "  'u': 0,\n",
       "  'v': 6},\n",
       " {'hops': 1,\n",
       "  'distance': 14.853275410680604,\n",
       "  'route': 2871,\n",
       "  'weight': 3.7706550821361207,\n",
       "  'u': 0,\n",
       "  'v': 8},\n",
       " {'hops': 1,\n",
       "  'distance': 13.985378725185072,\n",
       "  'route': 2871,\n",
       "  'weight': 3.5970757450370145,\n",
       "  'u': 0,\n",
       "  'v': 9}]"
      ]
     },
     "execution_count": 19,
     "metadata": {},
     "output_type": "execute_result"
    }
   ],
   "source": [
    "edges = []\n",
    "\n",
    "for u, v in pspace.edges:\n",
    "    item = pspace[u][v].copy()\n",
    "    item['u'] = u\n",
    "    item['v'] = v\n",
    "    \n",
    "    edges.append(item)\n",
    "    \n",
    "edges[:3]"
   ]
  },
  {
   "cell_type": "code",
   "execution_count": 20,
   "metadata": {},
   "outputs": [],
   "source": [
    "save_json(edges, edges_pspace_fpath)"
   ]
  },
  {
   "cell_type": "markdown",
   "metadata": {},
   "source": [
    "***"
   ]
  },
  {
   "cell_type": "code",
   "execution_count": 21,
   "metadata": {},
   "outputs": [
    {
     "data": {
      "text/plain": [
       "[{'hops': 1,\n",
       "  'distance': 23.271852922989886,\n",
       "  'route': 10003,\n",
       "  'weight': 5.454370584597977,\n",
       "  'u': 0,\n",
       "  'v': 6},\n",
       " {'hops': 1,\n",
       "  'distance': 14.853275410680604,\n",
       "  'route': 2871,\n",
       "  'weight': 3.7706550821361207,\n",
       "  'u': 0,\n",
       "  'v': 8}]"
      ]
     },
     "execution_count": 21,
     "metadata": {},
     "output_type": "execute_result"
    }
   ],
   "source": [
    "edges = load_json(edges_pspace_fpath)\n",
    "\n",
    "edges[:2]"
   ]
  },
  {
   "cell_type": "code",
   "execution_count": 22,
   "metadata": {},
   "outputs": [
    {
     "data": {
      "text/plain": [
       "(3202, 118449)"
      ]
     },
     "execution_count": 22,
     "metadata": {},
     "output_type": "execute_result"
    }
   ],
   "source": [
    "pspace = nx.Graph()\n",
    "\n",
    "for edge in edges:\n",
    "    pspace.add_edge(\n",
    "        edge['u'],\n",
    "        edge['v'],\n",
    "        weight=edge['weight'],\n",
    "        distance=edge['distance'],\n",
    "        route=edge['route']\n",
    "    )\n",
    "\n",
    "len(pspace), len(pspace.edges)"
   ]
  },
  {
   "cell_type": "code",
   "execution_count": 23,
   "metadata": {},
   "outputs": [
    {
     "data": {
      "text/plain": [
       "([286, 754, 1177], [286, 32, 269, 1177])"
      ]
     },
     "execution_count": 23,
     "metadata": {},
     "output_type": "execute_result"
    }
   ],
   "source": [
    "u = 286\n",
    "v = 1177\n",
    "\n",
    "shortest_path_hops = nx.shortest_path(pspace, u, v, weight=None)\n",
    "shortest_path_distance = nx.shortest_path(pspace, u, v, weight='distance')\n",
    "\n",
    "shortest_path_hops, shortest_path_distance"
   ]
  },
  {
   "cell_type": "code",
   "execution_count": 24,
   "metadata": {},
   "outputs": [
    {
     "data": {
      "text/plain": [
       "[30.038422133333334, 30.364942350000003, 59.6831599964135, 59.906372696723]"
      ]
     },
     "execution_count": 24,
     "metadata": {},
     "output_type": "execute_result"
    }
   ],
   "source": [
    "nodes = list(set(shortest_path_hops + shortest_path_distance))\n",
    "node_coords = coords[nodes]\n",
    "\n",
    "xmin, ymin = node_coords.min(axis=0) - 0.05\n",
    "xmax, ymax = node_coords.max(axis=0) + 0.05\n",
    "\n",
    "extent = [ymin, ymax, xmin, xmax]\n",
    "scale = 13\n",
    "\n",
    "extent"
   ]
  },
  {
   "cell_type": "code",
   "execution_count": null,
   "metadata": {},
   "outputs": [
    {
     "name": "stderr",
     "output_type": "stream",
     "text": [
      "Geometry must be a Point or LineString\n"
     ]
    }
   ],
   "source": [
    "fig = plt.figure(figsize=(6, 5))\n",
    "\n",
    "ax = add_map_subplot(fig, 1, 1, 1, extent=extent, scale=scale)"
   ]
  },
  {
   "cell_type": "code",
   "execution_count": null,
   "metadata": {},
   "outputs": [],
   "source": []
  },
  {
   "cell_type": "code",
   "execution_count": null,
   "metadata": {},
   "outputs": [],
   "source": []
  },
  {
   "cell_type": "code",
   "execution_count": null,
   "metadata": {},
   "outputs": [],
   "source": []
  }
 ],
 "metadata": {
  "kernelspec": {
   "display_name": "Python 3 (ipykernel)",
   "language": "python",
   "name": "python3"
  },
  "language_info": {
   "codemirror_mode": {
    "name": "ipython",
    "version": 3
   },
   "file_extension": ".py",
   "mimetype": "text/x-python",
   "name": "python",
   "nbconvert_exporter": "python",
   "pygments_lexer": "ipython3",
   "version": "3.8.11"
  }
 },
 "nbformat": 4,
 "nbformat_minor": 4
}
