{
 "cells": [
  {
   "cell_type": "markdown",
   "metadata": {},
   "source": [
    "# supernode-edges\n",
    "\n",
    "The procedure of constructing weighted L-space and P-space edges of the supernode network.\n",
    "\n",
    "__Warning!__ Some procedures require 16 cores and up to 10 GB RAM.\n",
    "\n",
    "Requires:\n",
    "1. `data/preprocessed/routes.json`\n",
    "2. `data/supernodes/supernodes.json`\n",
    "\n",
    "Produces:\n",
    "1. `data/supernodes/edges_lspace.json`\n",
    "2. `data/supernodes/edges_pspace_alpha_metrics.json`\n",
    "3. `data/supernodes/edges_pspace.json`"
   ]
  },
  {
   "cell_type": "code",
   "execution_count": 1,
   "metadata": {},
   "outputs": [],
   "source": [
    "import sys\n",
    "sys.path.append('..')"
   ]
  },
  {
   "cell_type": "code",
   "execution_count": 2,
   "metadata": {},
   "outputs": [],
   "source": [
    "from typing import List, Dict\n",
    "from multiprocessing import Pool\n",
    "from collections import defaultdict\n",
    "\n",
    "import numpy as np\n",
    "import pandas as pd\n",
    "import networkx as nx\n",
    "import seaborn as sns\n",
    "from tqdm import tqdm\n",
    "from scipy import sparse\n",
    "from matplotlib import pyplot as plt\n",
    "\n",
    "from myutils.networkx import get_layout\n",
    "from myutils.spatial import get_earth_distances\n",
    "from myutils.json import save_json\n",
    "from myutils.matplotlib import matplotlib_latex, matplotlib_seaborn_style\n",
    "\n",
    "from ptn.parallel_centralities import shortest_paths_parallel\n",
    "from config import routes_fpath, supernodes_fpath, edges_lspace_fpath, \\\n",
    "    edges_pspace_alpha_metrics_fpath, edges_pspace_fpath\n",
    "\n",
    "matplotlib_seaborn_style()\n",
    "matplotlib_latex()"
   ]
  },
  {
   "cell_type": "code",
   "execution_count": 3,
   "metadata": {},
   "outputs": [
    {
     "data": {
      "text/html": [
       "<div>\n",
       "<style scoped>\n",
       "    .dataframe tbody tr th:only-of-type {\n",
       "        vertical-align: middle;\n",
       "    }\n",
       "\n",
       "    .dataframe tbody tr th {\n",
       "        vertical-align: top;\n",
       "    }\n",
       "\n",
       "    .dataframe thead th {\n",
       "        text-align: right;\n",
       "    }\n",
       "</style>\n",
       "<table border=\"1\" class=\"dataframe\">\n",
       "  <thead>\n",
       "    <tr style=\"text-align: right;\">\n",
       "      <th></th>\n",
       "      <th>name</th>\n",
       "      <th>type</th>\n",
       "      <th>direction</th>\n",
       "      <th>stops</th>\n",
       "      <th>distance</th>\n",
       "      <th>supernodes</th>\n",
       "    </tr>\n",
       "    <tr>\n",
       "      <th>id</th>\n",
       "      <th></th>\n",
       "      <th></th>\n",
       "      <th></th>\n",
       "      <th></th>\n",
       "      <th></th>\n",
       "      <th></th>\n",
       "    </tr>\n",
       "  </thead>\n",
       "  <tbody>\n",
       "    <tr>\n",
       "      <th>1125</th>\n",
       "      <td>А</td>\n",
       "      <td>tram</td>\n",
       "      <td>1</td>\n",
       "      <td>[16396, 16367, 16371, 16398, 16400, 16401, 164...</td>\n",
       "      <td>5.008430</td>\n",
       "      <td>[620, 827, 828, 20, 309, 80, 310, 204, 5, 29, ...</td>\n",
       "    </tr>\n",
       "    <tr>\n",
       "      <th>11125</th>\n",
       "      <td>А</td>\n",
       "      <td>tram</td>\n",
       "      <td>2</td>\n",
       "      <td>[33093, 16348, 16350, 16354, 16357, 16346, 163...</td>\n",
       "      <td>3.826103</td>\n",
       "      <td>[30, 829, 830, 621, 311, 831, 14, 81, 620]</td>\n",
       "    </tr>\n",
       "  </tbody>\n",
       "</table>\n",
       "</div>"
      ],
      "text/plain": [
       "      name  type  direction  \\\n",
       "id                            \n",
       "1125     А  tram          1   \n",
       "11125    А  tram          2   \n",
       "\n",
       "                                                   stops  distance  \\\n",
       "id                                                                   \n",
       "1125   [16396, 16367, 16371, 16398, 16400, 16401, 164...  5.008430   \n",
       "11125  [33093, 16348, 16350, 16354, 16357, 16346, 163...  3.826103   \n",
       "\n",
       "                                              supernodes  \n",
       "id                                                        \n",
       "1125   [620, 827, 828, 20, 309, 80, 310, 204, 5, 29, ...  \n",
       "11125         [30, 829, 830, 621, 311, 831, 14, 81, 620]  "
      ]
     },
     "execution_count": 3,
     "metadata": {},
     "output_type": "execute_result"
    }
   ],
   "source": [
    "routes = pd.read_json(routes_fpath).set_index('id')\n",
    "\n",
    "routes.head(2)"
   ]
  },
  {
   "cell_type": "code",
   "execution_count": 4,
   "metadata": {},
   "outputs": [
    {
     "data": {
      "text/html": [
       "<div>\n",
       "<style scoped>\n",
       "    .dataframe tbody tr th:only-of-type {\n",
       "        vertical-align: middle;\n",
       "    }\n",
       "\n",
       "    .dataframe tbody tr th {\n",
       "        vertical-align: top;\n",
       "    }\n",
       "\n",
       "    .dataframe thead th {\n",
       "        text-align: right;\n",
       "    }\n",
       "</style>\n",
       "<table border=\"1\" class=\"dataframe\">\n",
       "  <thead>\n",
       "    <tr style=\"text-align: right;\">\n",
       "      <th></th>\n",
       "      <th>stops</th>\n",
       "      <th>diameter</th>\n",
       "      <th>types</th>\n",
       "      <th>lat</th>\n",
       "      <th>lon</th>\n",
       "    </tr>\n",
       "    <tr>\n",
       "      <th>id</th>\n",
       "      <th></th>\n",
       "      <th></th>\n",
       "      <th></th>\n",
       "      <th></th>\n",
       "      <th></th>\n",
       "    </tr>\n",
       "  </thead>\n",
       "  <tbody>\n",
       "    <tr>\n",
       "      <th>0</th>\n",
       "      <td>[29058, 15366, 1687, 1688, 15385, 2080, 2081, ...</td>\n",
       "      <td>0.732963</td>\n",
       "      <td>[bus, trolley, tram, subway]</td>\n",
       "      <td>59.85171</td>\n",
       "      <td>30.322415</td>\n",
       "    </tr>\n",
       "    <tr>\n",
       "      <th>1</th>\n",
       "      <td>[18, 18077, 18078, 32036, 16177, 16050, 27063,...</td>\n",
       "      <td>0.909368</td>\n",
       "      <td>[bus, tram, trolley, subway]</td>\n",
       "      <td>59.95021</td>\n",
       "      <td>30.287937</td>\n",
       "    </tr>\n",
       "  </tbody>\n",
       "</table>\n",
       "</div>"
      ],
      "text/plain": [
       "                                                stops  diameter  \\\n",
       "id                                                                \n",
       "0   [29058, 15366, 1687, 1688, 15385, 2080, 2081, ...  0.732963   \n",
       "1   [18, 18077, 18078, 32036, 16177, 16050, 27063,...  0.909368   \n",
       "\n",
       "                           types       lat        lon  \n",
       "id                                                     \n",
       "0   [bus, trolley, tram, subway]  59.85171  30.322415  \n",
       "1   [bus, tram, trolley, subway]  59.95021  30.287937  "
      ]
     },
     "execution_count": 4,
     "metadata": {},
     "output_type": "execute_result"
    }
   ],
   "source": [
    "supernodes = pd.read_json(supernodes_fpath).set_index('id')\n",
    "\n",
    "supernodes.head(2)"
   ]
  },
  {
   "cell_type": "markdown",
   "metadata": {},
   "source": [
    "### L-space"
   ]
  },
  {
   "cell_type": "raw",
   "metadata": {},
   "source": [
    "edges = defaultdict(int)\n",
    "\n",
    "for route in routes['supernodes']:\n",
    "    for u, v in zip(route, route[1:]):\n",
    "        if u > v:\n",
    "            u, v = v, u\n",
    "        \n",
    "        edges[(u, v)] += 1\n",
    "        \n",
    "edges = [\n",
    "    {\n",
    "        'u': u,\n",
    "        'v': v,\n",
    "        'w': w,\n",
    "    }\n",
    "    for (u, v), w in edges.items()\n",
    "]\n",
    "\n",
    "edges[:5]"
   ]
  },
  {
   "cell_type": "raw",
   "metadata": {},
   "source": [
    "weighted_edges = [(edge['u'], edge['v'], edge['w']) for edge in edges]\n",
    "\n",
    "g = nx.Graph()\n",
    "g.add_weighted_edges_from(weighted_edges)\n",
    "\n",
    "len(g), len(g.edges)"
   ]
  },
  {
   "cell_type": "raw",
   "metadata": {},
   "source": [
    "# pos = get_layout(g)\n",
    "pos = dict(zip(supernodes.index, supernodes[['lon', 'lat']].values))"
   ]
  },
  {
   "cell_type": "raw",
   "metadata": {},
   "source": [
    "components = list(nx.connected_components(g.to_undirected()))\n",
    "color = {node: f'C{i}' for i, comp in enumerate(components) for node in comp}"
   ]
  },
  {
   "cell_type": "raw",
   "metadata": {},
   "source": [
    "nx.draw(g, pos, node_size=0.25, width=0.05, node_color=[color[node] for node in g])\n",
    "plt.title('connected components');"
   ]
  },
  {
   "cell_type": "raw",
   "metadata": {},
   "source": [
    "save_json(edges, edges_lspace_fpath)"
   ]
  },
  {
   "cell_type": "markdown",
   "metadata": {},
   "source": [
    "### P-space"
   ]
  },
  {
   "cell_type": "code",
   "execution_count": 5,
   "metadata": {},
   "outputs": [],
   "source": [
    "coords = supernodes[['lat', 'lon']].values\n",
    "distances = get_earth_distances(coords, coords)\n",
    "\n",
    "\n",
    "def get_route_distance(route: List[int]) -> float:\n",
    "    return distances[route[:-1], route[1:]].sum()"
   ]
  },
  {
   "cell_type": "code",
   "execution_count": 71,
   "metadata": {},
   "outputs": [],
   "source": [
    "def construct_pspace_graph() -> nx.Graph:\n",
    "    edges = []\n",
    "\n",
    "    for route_id, route in routes['supernodes'].iteritems():\n",
    "        n = len(route)\n",
    "\n",
    "        for i in range(n - 1):\n",
    "            for j in range(i + 1, n):\n",
    "                u = route[i]\n",
    "                v = route[j]\n",
    "\n",
    "                if u > v:\n",
    "                    u, v = v, u\n",
    "\n",
    "                subroute = route[i : j + 1]\n",
    "                \n",
    "                distance = get_route_distance(subroute)\n",
    "                edges.append((u, v, distance, route_id))\n",
    "\n",
    "    edges = pd.DataFrame(edges, columns=['u', 'v', 'distance', 'route_id'])\\\n",
    "        .sort_values(by=['u', 'v', 'distance']).drop_duplicates(keep='first')\n",
    "    \n",
    "    g = nx.Graph()\n",
    "    g.add_nodes_from(supernodes.index)\n",
    "    \n",
    "    for _, row in edges.iterrows():\n",
    "        u = int(row['u'])\n",
    "        v = int(row['v'])\n",
    "        distance = row['distance']\n",
    "        route_id = int(row['route_id'])\n",
    "        \n",
    "        g.add_edge(u, v, hops=1, distance=distance, route=route_id)\n",
    "    \n",
    "    return g"
   ]
  },
  {
   "cell_type": "code",
   "execution_count": 72,
   "metadata": {},
   "outputs": [
    {
     "data": {
      "text/plain": [
       "(3202, 118449, 3)"
      ]
     },
     "execution_count": 72,
     "metadata": {},
     "output_type": "execute_result"
    }
   ],
   "source": [
    "pspace = construct_pspace_graph()\n",
    "\n",
    "len(pspace), len(pspace.edges), nx.number_connected_components(pspace)"
   ]
  },
  {
   "cell_type": "code",
   "execution_count": 73,
   "metadata": {},
   "outputs": [],
   "source": [
    "def assign_weights(g: nx.Graph, alpha: float) -> nx.Graph:\n",
    "    g = g.copy()\n",
    "    \n",
    "    distances = pd.Series(nx.get_edge_attributes(g, 'distance'))\n",
    "    weights = alpha * distances + 1 - alpha\n",
    "    \n",
    "    nx.set_edge_attributes(g, weights, 'weight')\n",
    "    \n",
    "    return g"
   ]
  },
  {
   "cell_type": "code",
   "execution_count": 74,
   "metadata": {},
   "outputs": [],
   "source": [
    "edge_distances = nx.get_edge_attributes(pspace, 'distance')"
   ]
  },
  {
   "cell_type": "code",
   "execution_count": 10,
   "metadata": {},
   "outputs": [],
   "source": [
    "def get_path_distance(path: list) -> float:\n",
    "    if not isinstance(path, list):\n",
    "        return np.nan\n",
    "    \n",
    "    return sum(\n",
    "        edge_distances.get((u, v), edge_distances.get((v, u)))\n",
    "        for u, v in zip(path, path[1:])\n",
    "    )"
   ]
  },
  {
   "cell_type": "code",
   "execution_count": 130,
   "metadata": {},
   "outputs": [],
   "source": [
    "def get_lspace_path(pspace: nx.Graph, pspace_path: list) -> list:\n",
    "    lspace_path = [pspace_path[0]]\n",
    "    \n",
    "    for u, v in zip(pspace_path, pspace_path[1:]):\n",
    "        route_id = pspace[u][v]['route']\n",
    "        route = routes.loc[route_id, 'supernodes']\n",
    "        \n",
    "        start = route.index(u)\n",
    "        end = route.index(v)\n",
    "        \n",
    "        if start < end:\n",
    "            route_part = route[start + 1:end + 1]\n",
    "        else:\n",
    "            route_part = route[start - 1:end:-1] + [route[end]]\n",
    "        \n",
    "        lspace_path.extend(route_part)\n",
    "        \n",
    "    return lspace_path"
   ]
  },
  {
   "cell_type": "code",
   "execution_count": 50,
   "metadata": {},
   "outputs": [],
   "source": [
    "pool = Pool(processes=24)\n",
    "\n",
    "pspace = assign_weights(pspace, alpha=0.00001)\n",
    "shortest_paths_hops = pd.DataFrame(shortest_paths_parallel(pspace, weight='weight', pool=pool))\n",
    "\n",
    "pspace = assign_weights(pspace, alpha=0.99999)\n",
    "shortest_paths_distance = pd.DataFrame(shortest_paths_parallel(pspace, weight='weight', pool=pool))\n",
    "\n",
    "pool.close()"
   ]
  },
  {
   "cell_type": "code",
   "execution_count": 51,
   "metadata": {},
   "outputs": [
    {
     "data": {
      "text/html": [
       "<div>\n",
       "<style scoped>\n",
       "    .dataframe tbody tr th:only-of-type {\n",
       "        vertical-align: middle;\n",
       "    }\n",
       "\n",
       "    .dataframe tbody tr th {\n",
       "        vertical-align: top;\n",
       "    }\n",
       "\n",
       "    .dataframe thead th {\n",
       "        text-align: right;\n",
       "    }\n",
       "</style>\n",
       "<table border=\"1\" class=\"dataframe\">\n",
       "  <thead>\n",
       "    <tr style=\"text-align: right;\">\n",
       "      <th></th>\n",
       "      <th></th>\n",
       "      <th>shortest_path_hops</th>\n",
       "      <th>shortest_path_distance</th>\n",
       "    </tr>\n",
       "  </thead>\n",
       "  <tbody>\n",
       "    <tr>\n",
       "      <th rowspan=\"5\" valign=\"top\">0</th>\n",
       "      <th>0</th>\n",
       "      <td>[0]</td>\n",
       "      <td>[0]</td>\n",
       "    </tr>\n",
       "    <tr>\n",
       "      <th>1</th>\n",
       "      <td>[1, 40, 0]</td>\n",
       "      <td>[1, 40, 228, 0]</td>\n",
       "    </tr>\n",
       "    <tr>\n",
       "      <th>2</th>\n",
       "      <td>[2, 16, 0]</td>\n",
       "      <td>[2, 16, 0]</td>\n",
       "    </tr>\n",
       "    <tr>\n",
       "      <th>3</th>\n",
       "      <td>[3, 37, 0]</td>\n",
       "      <td>[3, 83, 2, 16, 0]</td>\n",
       "    </tr>\n",
       "    <tr>\n",
       "      <th>4</th>\n",
       "      <td>[4, 40, 0]</td>\n",
       "      <td>[4, 40, 228, 0]</td>\n",
       "    </tr>\n",
       "  </tbody>\n",
       "</table>\n",
       "</div>"
      ],
      "text/plain": [
       "    shortest_path_hops shortest_path_distance\n",
       "0 0                [0]                    [0]\n",
       "  1         [1, 40, 0]        [1, 40, 228, 0]\n",
       "  2         [2, 16, 0]             [2, 16, 0]\n",
       "  3         [3, 37, 0]      [3, 83, 2, 16, 0]\n",
       "  4         [4, 40, 0]        [4, 40, 228, 0]"
      ]
     },
     "execution_count": 51,
     "metadata": {},
     "output_type": "execute_result"
    }
   ],
   "source": [
    "df = pd.DataFrame()\n",
    "\n",
    "df['shortest_path_hops'] = shortest_paths_hops.reset_index()\\\n",
    "    .melt(id_vars='index', var_name='column', value_name='shortest_path_hops')\\\n",
    "    .set_index(['index', 'column'])['shortest_path_hops']\n",
    "\n",
    "df['shortest_path_distance'] = shortest_paths_distance.reset_index()\\\n",
    "    .melt(id_vars='index', var_name='column', value_name='shortest_path_distance')\\\n",
    "    .set_index(['index', 'column'])['shortest_path_distance']\n",
    "\n",
    "df.index.names = [None, None]\n",
    "df = df.sort_index()\n",
    "\n",
    "df.head()"
   ]
  },
  {
   "cell_type": "code",
   "execution_count": 52,
   "metadata": {},
   "outputs": [],
   "source": [
    "df['alpha0_hops'] = df['shortest_path_hops'].apply(lambda l: len(l) if isinstance(l, list) else np.nan)\n",
    "df['alpha0_distance'] = df['shortest_path_hops'].apply(get_path_distance)\n",
    "\n",
    "df['alpha1_hops'] = df['shortest_path_distance'].apply(lambda l: len(l) if isinstance(l, list) else np.nan)\n",
    "df['alpha1_distance'] = df['shortest_path_distance'].apply(get_path_distance)"
   ]
  },
  {
   "cell_type": "code",
   "execution_count": 242,
   "metadata": {},
   "outputs": [
    {
     "data": {
      "text/plain": [
       "Text(0.5, -0.22, '(b)')"
      ]
     },
     "execution_count": 242,
     "metadata": {},
     "output_type": "execute_result"
    },
    {
     "data": {
      "image/png": "[encoded data removed]",
      "text/plain": [
       "<Figure size 576x216 with 2 Axes>"
      ]
     },
     "metadata": {},
     "output_type": "display_data"
    }
   ],
   "source": [
    "fig, axes = plt.subplots(ncols=2)\n",
    "fig.set_size_inches(8, 3)\n",
    "fig.subplots_adjust(wspace=0.3)\n",
    "\n",
    "mask = df['alpha0_hops'] <= 2\n",
    "\n",
    "hop_diff = df.loc[mask, 'alpha1_hops'] - df.loc[mask, 'alpha0_hops']\n",
    "\n",
    "hop_diff.hist(ax=axes[0], bins=13, density=True)\n",
    "axes[0].axvline(hop_diff.mean(), color='C3', ls='dashed', label='avg. difference')\n",
    "\n",
    "axes[0].legend(loc='upper center', bbox_to_anchor=(1.1, -0.06))\n",
    "\n",
    "distance_diff = df.loc[mask, 'alpha0_distance'] - df.loc[mask, 'alpha1_distance']\n",
    "\n",
    "distance_diff.hist(ax=axes[1], bins=13, density=True, color='C2')\n",
    "axes[1].axvline(distance_diff.mean(), color='C3', ls='dashed')\n",
    "\n",
    "axes[0].set_title('(a)', y=-0.22)\n",
    "axes[1].set_title('(b)', y=-0.22)"
   ]
  },
  {
   "cell_type": "code",
   "execution_count": 235,
   "metadata": {},
   "outputs": [],
   "source": [
    "def build_line_graph(nodes: list) -> nx.Graph:\n",
    "    g = nx.Graph()\n",
    "    g.add_edges_from(zip(nodes, nodes[1:]))\n",
    "    \n",
    "    return g"
   ]
  },
  {
   "cell_type": "code",
   "execution_count": 236,
   "metadata": {},
   "outputs": [],
   "source": [
    "def build_lspace_path(pspace_path: list) -> tuple:\n",
    "    lspace_path = get_lspace_path(pspace, pspace_path)\n",
    "    g = build_line_graph(lspace_path)\n",
    "    \n",
    "    sizes = pd.Series(0, index=set(lspace_path))\n",
    "    sizes[pspace_path] = 15\n",
    "    sizes = sizes.values\n",
    "    \n",
    "    return g, sizes"
   ]
  },
  {
   "cell_type": "code",
   "execution_count": 237,
   "metadata": {},
   "outputs": [],
   "source": [
    "pos = dict(zip(supernodes.index, supernodes[['lon', 'lat']].values))"
   ]
  },
  {
   "cell_type": "code",
   "execution_count": 243,
   "metadata": {},
   "outputs": [
    {
     "data": {
      "text/plain": [
       "shortest_path_hops              [2717, 2713]\n",
       "shortest_path_distance    [2717, 1473, 2713]\n",
       "alpha0_hops                              2.0\n",
       "alpha0_distance                    44.689759\n",
       "alpha1_hops                              3.0\n",
       "alpha1_distance                     1.301548\n",
       "Name: (2713, 2717), dtype: object"
      ]
     },
     "execution_count": 243,
     "metadata": {},
     "output_type": "execute_result"
    }
   ],
   "source": [
    "u, v = distance_diff.index[distance_diff.argmax()]\n",
    "row = df.loc[(u, v)]\n",
    "\n",
    "p1 = row['shortest_path_hops']\n",
    "p1_lspace, p1_sizes = build_lspace_path(p1)\n",
    "\n",
    "p2 = row['shortest_path_distance']\n",
    "p2_lspace, p2_sizes = build_lspace_path(p2)\n",
    "\n",
    "row"
   ]
  },
  {
   "cell_type": "code",
   "execution_count": 244,
   "metadata": {},
   "outputs": [
    {
     "data": {
      "image/png": "[encoded data removed]",
      "text/plain": [
       "<Figure size 720x720 with 1 Axes>"
      ]
     },
     "metadata": {},
     "output_type": "display_data"
    }
   ],
   "source": [
    "plt.figure(figsize=(10, 10))\n",
    "\n",
    "plt.scatter(*supernodes[['lon', 'lat']].values.T, s=1, zorder=-1)\n",
    "\n",
    "nx.draw(p1_lspace, pos, node_size=p1_sizes, width=1, node_color='C3', edge_color='C3')\n",
    "nx.draw(p2_lspace, pos, node_size=p2_sizes, width=1, node_color='C1', edge_color='C1')"
   ]
  },
  {
   "cell_type": "code",
   "execution_count": 245,
   "metadata": {},
   "outputs": [
    {
     "data": {
      "text/plain": [
       "shortest_path_hops                                              [2215, 134]\n",
       "shortest_path_distance    [2215, 352, 1161, 653, 88, 2167, 343, 223, 219...\n",
       "alpha0_hops                                                             2.0\n",
       "alpha0_distance                                                   16.920301\n",
       "alpha1_hops                                                            13.0\n",
       "alpha1_distance                                                    12.30368\n",
       "Name: (134, 2215), dtype: object"
      ]
     },
     "execution_count": 245,
     "metadata": {},
     "output_type": "execute_result"
    }
   ],
   "source": [
    "u, v = hop_diff.index[hop_diff.argmax()]\n",
    "row = df.loc[(u, v)]\n",
    "\n",
    "p1 = row['shortest_path_hops']\n",
    "p1_lspace, p1_sizes = build_lspace_path(p1)\n",
    "\n",
    "p2 = row['shortest_path_distance']\n",
    "p2_lspace, p2_sizes = build_lspace_path(p2)\n",
    "\n",
    "row"
   ]
  },
  {
   "cell_type": "code",
   "execution_count": 246,
   "metadata": {},
   "outputs": [
    {
     "data": {
      "image/png": "[encoded data removed]",
      "text/plain": [
       "<Figure size 720x720 with 1 Axes>"
      ]
     },
     "metadata": {},
     "output_type": "display_data"
    }
   ],
   "source": [
    "plt.figure(figsize=(10, 10))\n",
    "\n",
    "plt.scatter(*supernodes[['lon', 'lat']].values.T, s=1, zorder=-1)\n",
    "\n",
    "nx.draw(p1_lspace, pos, node_size=p1_sizes, width=1, node_color='C3', edge_color='C3')\n",
    "nx.draw(p2_lspace, pos, node_size=p2_sizes, width=1, node_color='C1', edge_color='C1')"
   ]
  },
  {
   "cell_type": "code",
   "execution_count": 15,
   "metadata": {},
   "outputs": [],
   "source": [
    "minimal_hops = df['alpha0_hops'].copy()\n",
    "minimal_distances = df['alpha1_distance'].copy()"
   ]
  },
  {
   "cell_type": "code",
   "execution_count": 16,
   "metadata": {},
   "outputs": [
    {
     "name": "stderr",
     "output_type": "stream",
     "text": [
      "100%|██████████| 20/20 [35:28<00:00, 106.40s/it]\n"
     ]
    }
   ],
   "source": [
    "pool = Pool(processes=24)\n",
    "mapes = []\n",
    "\n",
    "alphas = np.concatenate([\n",
    "    np.linspace(0.00001, 0.05, 5),\n",
    "    np.linspace(0.05, 0.95, 12)[1:-1],\n",
    "    np.linspace(0.95, 0.99999, 5),\n",
    "])\n",
    "\n",
    "for alpha in tqdm(alphas):\n",
    "    pspace = assign_weights(pspace, alpha)\n",
    "    \n",
    "    shortest_paths = pd.DataFrame(shortest_paths_parallel(pspace, weight='weight', pool=pool))\n",
    "\n",
    "    shortest_paths = shortest_paths.reset_index()\\\n",
    "        .melt(id_vars='index', var_name='column', value_name='shortest_path')\\\n",
    "        .set_index(['index', 'column'])['shortest_path']\n",
    "\n",
    "    shortest_paths.index.names = [None, None]\n",
    "    shortest_paths = shortest_paths.sort_index()\n",
    "    \n",
    "    shortest_path_hops = shortest_paths.apply(lambda l: len(l) if isinstance(l, list) else np.nan)\n",
    "    shortest_path_distances = shortest_paths.apply(get_path_distance)\n",
    "    \n",
    "    hop_mape = ((shortest_path_hops - minimal_hops) / minimal_hops).mean()\n",
    "    distances_mape = ((shortest_path_distances - minimal_distances) / minimal_distances).mean()\n",
    "    \n",
    "    mapes.append((alpha, hop_mape, distances_mape))\n",
    "    \n",
    "mapes = pd.DataFrame(mapes, columns=['alpha', 'hops_mape', 'distance_mape'])\n",
    "    \n",
    "pool.close()"
   ]
  },
  {
   "cell_type": "code",
   "execution_count": 20,
   "metadata": {},
   "outputs": [
    {
     "data": {
      "text/plain": [
       "<matplotlib.legend.Legend at 0x7f5b8c32efa0>"
      ]
     },
     "execution_count": 20,
     "metadata": {},
     "output_type": "execute_result"
    },
    {
     "data": {
      "image/png": "[encoded data removed]",
      "text/plain": [
       "<Figure size 432x288 with 1 Axes>"
      ]
     },
     "metadata": {},
     "output_type": "display_data"
    }
   ],
   "source": [
    "plt.plot(mapes['alpha'], mapes['hops_mape'], label='hops')\n",
    "plt.plot(mapes['alpha'], mapes['distance_mape'], label='distance')\n",
    "\n",
    "plt.legend()"
   ]
  },
  {
   "cell_type": "code",
   "execution_count": 221,
   "metadata": {},
   "outputs": [
    {
     "data": {
      "text/plain": [
       "[<matplotlib.lines.Line2D at 0x7f593ae3c760>]"
      ]
     },
     "execution_count": 221,
     "metadata": {},
     "output_type": "execute_result"
    },
    {
     "data": {
      "image/png": "[encoded data removed]",
      "text/plain": [
       "<Figure size 432x288 with 1 Axes>"
      ]
     },
     "metadata": {},
     "output_type": "display_data"
    }
   ],
   "source": [
    "alphas = np.concatenate([\n",
    "    np.linspace(0.00001, 0.05, 5),\n",
    "    np.linspace(0.05, 0.95, 12)[1:-1],\n",
    "    np.linspace(0.95, 0.99999, 5),\n",
    "])\n",
    "\n",
    "plt.plot(alphas)"
   ]
  },
  {
   "cell_type": "code",
   "execution_count": null,
   "metadata": {},
   "outputs": [],
   "source": []
  },
  {
   "cell_type": "code",
   "execution_count": null,
   "metadata": {},
   "outputs": [],
   "source": []
  },
  {
   "cell_type": "code",
   "execution_count": null,
   "metadata": {},
   "outputs": [],
   "source": [
    "alphas = [0.001, ]"
   ]
  },
  {
   "cell_type": "code",
   "execution_count": 213,
   "metadata": {},
   "outputs": [
    {
     "data": {
      "text/plain": [
       "array([0.        , 0.05263158, 0.10526316, 0.15789474, 0.21052632,\n",
       "       0.26315789, 0.31578947, 0.36842105, 0.42105263, 0.47368421,\n",
       "       0.52631579, 0.57894737, 0.63157895, 0.68421053, 0.73684211,\n",
       "       0.78947368, 0.84210526, 0.89473684, 0.94736842, 1.        ])"
      ]
     },
     "execution_count": 213,
     "metadata": {},
     "output_type": "execute_result"
    }
   ],
   "source": [
    "np.linspace(0, 1, 20)"
   ]
  },
  {
   "cell_type": "code",
   "execution_count": null,
   "metadata": {},
   "outputs": [],
   "source": []
  },
  {
   "cell_type": "code",
   "execution_count": null,
   "metadata": {},
   "outputs": [],
   "source": []
  },
  {
   "cell_type": "code",
   "execution_count": null,
   "metadata": {},
   "outputs": [],
   "source": []
  },
  {
   "cell_type": "raw",
   "metadata": {},
   "source": [
    "pool = Pool(processes=16)"
   ]
  },
  {
   "cell_type": "raw",
   "metadata": {},
   "source": [
    "edges = construct_pspace_edges(alpha=1)\n",
    "\n",
    "weighted_edges = [(edge['u'], edge['v'], edge['w']) for edge in edges]\n",
    "\n",
    "g = nx.Graph()\n",
    "g.add_weighted_edges_from(weighted_edges)\n",
    "\n",
    "len(g), len(g.edges)"
   ]
  },
  {
   "cell_type": "raw",
   "metadata": {},
   "source": [
    "weight = nx.get_edge_attributes(g, 'weight')"
   ]
  },
  {
   "cell_type": "raw",
   "metadata": {},
   "source": [
    "def get_path_distance(path):\n",
    "    if not isinstance(path, list):\n",
    "        return np.nan\n",
    "    \n",
    "    return sum(weight.get((u, v), weight.get((v, u))) for u, v in zip(path, path[1:]))\n",
    "\n",
    "\n",
    "def get_path_hops(path):\n",
    "    if not isinstance(path, list):\n",
    "        return np.nan\n",
    "    \n",
    "    return len(path) - 1"
   ]
  },
  {
   "cell_type": "raw",
   "metadata": {},
   "source": [
    "metrics = []\n",
    "\n",
    "for alpha in tqdm(np.linspace(0, 1, 11)):\n",
    "    distance = (1 - alpha + alpha * pd.Series(weight)).to_dict()\n",
    "    nx.set_edge_attributes(g, distance, name='distance')\n",
    "    \n",
    "    shortest_paths = pd.DataFrame(shortest_paths_parallel(g, weight='distance', pool=pool))\n",
    "\n",
    "    shortest_paths = shortest_paths.reset_index()\\\n",
    "        .melt(id_vars='index', var_name='column', value_name='sp')\n",
    "    shortest_paths = shortest_paths['sp']\n",
    "    \n",
    "    distances_ = shortest_paths.apply(get_path_distance).dropna().values\n",
    "    hops = shortest_paths.apply(get_path_hops).dropna().values\n",
    "\n",
    "    item = {'alpha': alpha}\n",
    "    \n",
    "    for metric, values in zip(['distance', 'hops'], [distances_, hops]):\n",
    "        values = pd.DataFrame(values)\n",
    "        \n",
    "        values = values.reset_index()\\\n",
    "            .melt(id_vars='index', var_name='column', value_name='value')\n",
    "        values = values['value'].dropna().values\n",
    "        \n",
    "        item[f'{metric}_mean'] = values.mean()\n",
    "        item[f'{metric}_median'] = np.median(values)\n",
    "        \n",
    "        q1, q3 = np.quantile(values, [0.25, 0.75])\n",
    "        \n",
    "        item[f'{metric}_q1'] = q1\n",
    "        item[f'{metric}_q3'] = q3\n",
    "        \n",
    "        item[f'{metric}_max'] = values.max()\n",
    "    \n",
    "    metrics.append(item)\n",
    "    \n",
    "metrics = pd.DataFrame(metrics).set_index('alpha')\n",
    "\n",
    "metrics.head(2)"
   ]
  },
  {
   "cell_type": "raw",
   "metadata": {},
   "source": [
    "metrics_json = [row.to_dict() for _, row in metrics.reset_index().iterrows()]\n",
    "\n",
    "metrics_json[-1]"
   ]
  },
  {
   "cell_type": "raw",
   "metadata": {},
   "source": [
    "save_json(metrics_json, edges_pspace_alpha_metrics_fpath)"
   ]
  },
  {
   "cell_type": "code",
   "execution_count": null,
   "metadata": {},
   "outputs": [],
   "source": [
    "metrics = pd.read_json(edges_pspace_alpha_metrics_fpath).set_index('alpha')\n",
    "\n",
    "metrics.head(2)"
   ]
  },
  {
   "cell_type": "code",
   "execution_count": null,
   "metadata": {},
   "outputs": [],
   "source": [
    "fig, axes = plt.subplots(ncols=2)\n",
    "fig.set_size_inches(8, 3)\n",
    "fig.subplots_adjust(wspace=0.3)\n",
    "\n",
    "markers = ['o', 'v']\n",
    "linestyles = ['solid', 'dashed']\n",
    "\n",
    "for i, metric, ax in zip(range(2), ['distance', 'hops'], axes):\n",
    "    color = f'C{i}'\n",
    "    marker = markers[i]\n",
    "    linestyle = linestyles[i]\n",
    "    \n",
    "    # ax.plot(metrics[f'{metric}_mean'], c=color, lw=0.8, marker='.', markersize=3)\n",
    "#     ax.fill_between(\n",
    "#         metrics.index,\n",
    "#         metrics[f'{metric}_t1'],\n",
    "#         metrics[f'{metric}_t2'],\n",
    "#         color=color,\n",
    "#         alpha=0.15,\n",
    "#     )\n",
    "    \n",
    "    ax.plot(metrics[f'{metric}_median'], c=color, lw=0.8, ls=linestyle, marker=marker, markersize=3)\n",
    "    \n",
    "    # ax.set_title(metric)\n",
    "    ax.set_xlabel('$\\\\alpha$')\n",
    "    \n",
    "axes[0].set_ylabel('distance, km')\n",
    "axes[0].set_title('(a)', y=-0.3)\n",
    "axes[1].set_ylabel('hops')\n",
    "axes[1].set_title('(b)', y=-0.3)\n",
    "\n",
    "plt.savefig('../figures/weight_alpha_metrics.pdf', transparent=True, bbox_inches='tight')"
   ]
  },
  {
   "cell_type": "code",
   "execution_count": null,
   "metadata": {},
   "outputs": [],
   "source": [
    "edges = construct_pspace_edges(alpha=0.33)\n",
    "\n",
    "edges[:5]"
   ]
  },
  {
   "cell_type": "code",
   "execution_count": null,
   "metadata": {},
   "outputs": [],
   "source": [
    "weighted_edges = [(edge['u'], edge['v'], edge['w']) for edge in edges]\n",
    "\n",
    "g = nx.Graph()\n",
    "g.add_weighted_edges_from(weighted_edges)\n",
    "\n",
    "len(g), len(g.edges)"
   ]
  },
  {
   "cell_type": "code",
   "execution_count": null,
   "metadata": {},
   "outputs": [],
   "source": [
    "pos = dict(zip(supernodes.index, supernodes[['lon', 'lat']].values))"
   ]
  },
  {
   "cell_type": "code",
   "execution_count": null,
   "metadata": {},
   "outputs": [],
   "source": [
    "components = sorted(nx.connected_components(g.to_undirected()), key=len, reverse=True)\n",
    "\n",
    "sizes = [0.5, 2, 2]\n",
    "markers = ['o', 'v', 's']"
   ]
  },
  {
   "cell_type": "code",
   "execution_count": null,
   "metadata": {},
   "outputs": [],
   "source": [
    "plt.figure(figsize=(6, 4))\n",
    "\n",
    "handles = []\n",
    "labels = []\n",
    "\n",
    "for i, comp in enumerate(components):\n",
    "    color = f'C{i}'\n",
    "    marker = markers[i]\n",
    "    size = sizes[i]\n",
    "    \n",
    "    nx.draw(g.subgraph(comp), pos, node_size=size, width=0.005, node_color=color, node_shape=marker)\n",
    "    \n",
    "    labels.append(f'connected component {i + 1}')\n",
    "    handles.append(plt.Line2D([0], [0], color=color, linewidth=0, marker=marker, markersize=size))\n",
    "\n",
    "plt.legend(handles=handles, labels=labels, loc='upper right')\n",
    "    \n",
    "plt.savefig('../figures/pspace_edges.png', dpi=250, transparent=True, bbox_inches='tight')"
   ]
  },
  {
   "cell_type": "code",
   "execution_count": null,
   "metadata": {},
   "outputs": [],
   "source": [
    "save_json(edges, edges_pspace_fpath)"
   ]
  },
  {
   "cell_type": "code",
   "execution_count": null,
   "metadata": {},
   "outputs": [],
   "source": []
  }
 ],
 "metadata": {
  "kernelspec": {
   "display_name": "Python 3",
   "language": "python",
   "name": "python3"
  },
  "language_info": {
   "codemirror_mode": {
    "name": "ipython",
    "version": 3
   },
   "file_extension": ".py",
   "mimetype": "text/x-python",
   "name": "python",
   "nbconvert_exporter": "python",
   "pygments_lexer": "ipython3",
   "version": "3.9.5"
  }
 },
 "nbformat": 4,
 "nbformat_minor": 4
}
