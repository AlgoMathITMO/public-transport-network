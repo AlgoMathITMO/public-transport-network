{
 "cells": [
  {
   "cell_type": "markdown",
   "metadata": {},
   "source": [
    "# infrastructure-attributes\n",
    "\n",
    "The procedure of constructing infrastructure attributes for supernodes.\n",
    "\n",
    "Warning: can eat up to 16 GB RAM while calculating distances between infrastructure objects and supernodes.\n",
    "\n",
    "Requires:\n",
    "1. `data/preprocessed/infrastructure.json`\n",
    "2. `data/supernodes/supernodes.json`\n",
    "\n",
    "Produces:\n",
    "1. `data/supernodes/supernode_attributes.json`"
   ]
  },
  {
   "cell_type": "code",
   "execution_count": 1,
   "metadata": {},
   "outputs": [],
   "source": [
    "import sys\n",
    "sys.path.append('..')"
   ]
  },
  {
   "cell_type": "code",
   "execution_count": 2,
   "metadata": {},
   "outputs": [],
   "source": [
    "from itertools import chain, product\n",
    "\n",
    "import numpy as np\n",
    "import pandas as pd\n",
    "from matplotlib import pyplot as plt\n",
    "from tqdm import tqdm\n",
    "\n",
    "from myutils.spatial import get_earth_distances\n",
    "from myutils.json import save_json\n",
    "\n",
    "from config import infrastructure_fpath, supernodes_fpath, supernode_attributes_fpath"
   ]
  },
  {
   "cell_type": "code",
   "execution_count": 3,
   "metadata": {},
   "outputs": [
    {
     "data": {
      "text/html": [
       "<div>\n",
       "<style scoped>\n",
       "    .dataframe tbody tr th:only-of-type {\n",
       "        vertical-align: middle;\n",
       "    }\n",
       "\n",
       "    .dataframe tbody tr th {\n",
       "        vertical-align: top;\n",
       "    }\n",
       "\n",
       "    .dataframe thead th {\n",
       "        text-align: right;\n",
       "    }\n",
       "</style>\n",
       "<table border=\"1\" class=\"dataframe\">\n",
       "  <thead>\n",
       "    <tr style=\"text-align: right;\">\n",
       "      <th></th>\n",
       "      <th>id</th>\n",
       "      <th>lat</th>\n",
       "      <th>lon</th>\n",
       "      <th>types</th>\n",
       "      <th>name</th>\n",
       "    </tr>\n",
       "  </thead>\n",
       "  <tbody>\n",
       "    <tr>\n",
       "      <th>0</th>\n",
       "      <td>2</td>\n",
       "      <td>59.771793</td>\n",
       "      <td>30.326111</td>\n",
       "      <td>[sight_place_tourism]</td>\n",
       "      <td>Центр Круглого Зала (ЦКЗ)</td>\n",
       "    </tr>\n",
       "    <tr>\n",
       "      <th>1</th>\n",
       "      <td>238809</td>\n",
       "      <td>60.189495</td>\n",
       "      <td>29.700196</td>\n",
       "      <td>[sight_place_tourism]</td>\n",
       "      <td>Башмаки неизвестного дачника (2009)</td>\n",
       "    </tr>\n",
       "  </tbody>\n",
       "</table>\n",
       "</div>"
      ],
      "text/plain": [
       "       id        lat        lon                  types  \\\n",
       "0       2  59.771793  30.326111  [sight_place_tourism]   \n",
       "1  238809  60.189495  29.700196  [sight_place_tourism]   \n",
       "\n",
       "                                  name  \n",
       "0            Центр Круглого Зала (ЦКЗ)  \n",
       "1  Башмаки неизвестного дачника (2009)  "
      ]
     },
     "execution_count": 3,
     "metadata": {},
     "output_type": "execute_result"
    }
   ],
   "source": [
    "infrastructure = pd.read_json(infrastructure_fpath)\n",
    "\n",
    "infrastructure.head(2)"
   ]
  },
  {
   "cell_type": "code",
   "execution_count": 4,
   "metadata": {},
   "outputs": [
    {
     "data": {
      "text/plain": [
       "residential_building    22435\n",
       "shop                    13260\n",
       "catering_place           7746\n",
       "service                  4288\n",
       "medicine                 4061\n",
       "dtype: int64"
      ]
     },
     "execution_count": 4,
     "metadata": {},
     "output_type": "execute_result"
    }
   ],
   "source": [
    "infrastructure_type_counts = pd.Series(chain.from_iterable(infrastructure['types'])).value_counts()\n",
    "\n",
    "infrastructure_types = infrastructure_type_counts.index.tolist()\n",
    "\n",
    "infrastructure_type_counts.head()"
   ]
  },
  {
   "cell_type": "code",
   "execution_count": 5,
   "metadata": {},
   "outputs": [
    {
     "data": {
      "text/html": [
       "<div>\n",
       "<style scoped>\n",
       "    .dataframe tbody tr th:only-of-type {\n",
       "        vertical-align: middle;\n",
       "    }\n",
       "\n",
       "    .dataframe tbody tr th {\n",
       "        vertical-align: top;\n",
       "    }\n",
       "\n",
       "    .dataframe thead th {\n",
       "        text-align: right;\n",
       "    }\n",
       "</style>\n",
       "<table border=\"1\" class=\"dataframe\">\n",
       "  <thead>\n",
       "    <tr style=\"text-align: right;\">\n",
       "      <th></th>\n",
       "      <th>id</th>\n",
       "      <th>stops</th>\n",
       "      <th>diameter</th>\n",
       "      <th>types</th>\n",
       "      <th>lat</th>\n",
       "      <th>lon</th>\n",
       "    </tr>\n",
       "  </thead>\n",
       "  <tbody>\n",
       "    <tr>\n",
       "      <th>0</th>\n",
       "      <td>0</td>\n",
       "      <td>[4609, 29290, 3082, 17005, 16142, 15984, 16466...</td>\n",
       "      <td>0.331043</td>\n",
       "      <td>[bus, trolley, tram]</td>\n",
       "      <td>60.017943</td>\n",
       "      <td>30.367853</td>\n",
       "    </tr>\n",
       "    <tr>\n",
       "      <th>1</th>\n",
       "      <td>1</td>\n",
       "      <td>[16964, 4677, 19280, 2545, 49, 26803, 26804, 1...</td>\n",
       "      <td>0.237753</td>\n",
       "      <td>[bus, tram, trolley, subway]</td>\n",
       "      <td>59.990263</td>\n",
       "      <td>30.254647</td>\n",
       "    </tr>\n",
       "  </tbody>\n",
       "</table>\n",
       "</div>"
      ],
      "text/plain": [
       "   id                                              stops  diameter  \\\n",
       "0   0  [4609, 29290, 3082, 17005, 16142, 15984, 16466...  0.331043   \n",
       "1   1  [16964, 4677, 19280, 2545, 49, 26803, 26804, 1...  0.237753   \n",
       "\n",
       "                          types        lat        lon  \n",
       "0          [bus, trolley, tram]  60.017943  30.367853  \n",
       "1  [bus, tram, trolley, subway]  59.990263  30.254647  "
      ]
     },
     "execution_count": 5,
     "metadata": {},
     "output_type": "execute_result"
    }
   ],
   "source": [
    "supernodes = pd.read_json(supernodes_fpath)\n",
    "\n",
    "supernodes.head(2)"
   ]
  },
  {
   "cell_type": "code",
   "execution_count": 6,
   "metadata": {},
   "outputs": [
    {
     "data": {
      "text/plain": [
       "(75552, 3226)"
      ]
     },
     "execution_count": 6,
     "metadata": {},
     "output_type": "execute_result"
    }
   ],
   "source": [
    "infrastructure_coords = infrastructure[['lat', 'lon']].values\n",
    "supernode_coords = supernodes[['lat', 'lon']].values\n",
    "\n",
    "distances = get_earth_distances(infrastructure_coords, supernode_coords)\n",
    "\n",
    "distances.shape"
   ]
  },
  {
   "cell_type": "code",
   "execution_count": 7,
   "metadata": {},
   "outputs": [
    {
     "name": "stderr",
     "output_type": "stream",
     "text": [
      "100%|██████████| 75552/75552 [00:35<00:00, 2136.79it/s]\n"
     ]
    },
    {
     "data": {
      "text/html": [
       "<div>\n",
       "<style scoped>\n",
       "    .dataframe tbody tr th:only-of-type {\n",
       "        vertical-align: middle;\n",
       "    }\n",
       "\n",
       "    .dataframe tbody tr th {\n",
       "        vertical-align: top;\n",
       "    }\n",
       "\n",
       "    .dataframe thead th {\n",
       "        text-align: right;\n",
       "    }\n",
       "</style>\n",
       "<table border=\"1\" class=\"dataframe\">\n",
       "  <thead>\n",
       "    <tr style=\"text-align: right;\">\n",
       "      <th></th>\n",
       "      <th>id</th>\n",
       "      <th>residential_building</th>\n",
       "      <th>shop</th>\n",
       "      <th>catering_place</th>\n",
       "      <th>service</th>\n",
       "      <th>medicine</th>\n",
       "      <th>sight_place_tourism</th>\n",
       "      <th>education</th>\n",
       "      <th>sport</th>\n",
       "      <th>car_supply</th>\n",
       "      <th>...</th>\n",
       "      <th>organisation</th>\n",
       "      <th>supermarket</th>\n",
       "      <th>hotel_business</th>\n",
       "      <th>electronics_and_telecommunication</th>\n",
       "      <th>industrial</th>\n",
       "      <th>bank_and_money</th>\n",
       "      <th>printing_and_books</th>\n",
       "      <th>religion</th>\n",
       "      <th>post_office</th>\n",
       "      <th>business_center_or_mall_or_marketplace</th>\n",
       "    </tr>\n",
       "  </thead>\n",
       "  <tbody>\n",
       "    <tr>\n",
       "      <th>0</th>\n",
       "      <td>0</td>\n",
       "      <td>39</td>\n",
       "      <td>9</td>\n",
       "      <td>3</td>\n",
       "      <td>2</td>\n",
       "      <td>4</td>\n",
       "      <td>4</td>\n",
       "      <td>6</td>\n",
       "      <td>3</td>\n",
       "      <td>0</td>\n",
       "      <td>...</td>\n",
       "      <td>2</td>\n",
       "      <td>3</td>\n",
       "      <td>0</td>\n",
       "      <td>0</td>\n",
       "      <td>0</td>\n",
       "      <td>1</td>\n",
       "      <td>0</td>\n",
       "      <td>0</td>\n",
       "      <td>1</td>\n",
       "      <td>0</td>\n",
       "    </tr>\n",
       "    <tr>\n",
       "      <th>1</th>\n",
       "      <td>1</td>\n",
       "      <td>5</td>\n",
       "      <td>172</td>\n",
       "      <td>48</td>\n",
       "      <td>35</td>\n",
       "      <td>10</td>\n",
       "      <td>3</td>\n",
       "      <td>3</td>\n",
       "      <td>2</td>\n",
       "      <td>6</td>\n",
       "      <td>...</td>\n",
       "      <td>2</td>\n",
       "      <td>2</td>\n",
       "      <td>0</td>\n",
       "      <td>9</td>\n",
       "      <td>3</td>\n",
       "      <td>3</td>\n",
       "      <td>13</td>\n",
       "      <td>3</td>\n",
       "      <td>7</td>\n",
       "      <td>7</td>\n",
       "    </tr>\n",
       "  </tbody>\n",
       "</table>\n",
       "<p>2 rows × 21 columns</p>\n",
       "</div>"
      ],
      "text/plain": [
       "   id  residential_building  shop  catering_place  service  medicine  \\\n",
       "0   0                    39     9               3        2         4   \n",
       "1   1                     5   172              48       35        10   \n",
       "\n",
       "   sight_place_tourism  education  sport  car_supply  ...  organisation  \\\n",
       "0                    4          6      3           0  ...             2   \n",
       "1                    3          3      2           6  ...             2   \n",
       "\n",
       "   supermarket  hotel_business  electronics_and_telecommunication  industrial  \\\n",
       "0            3               0                                  0           0   \n",
       "1            2               0                                  9           3   \n",
       "\n",
       "   bank_and_money  printing_and_books  religion  post_office  \\\n",
       "0               1                   0         0            1   \n",
       "1               3                  13         3            7   \n",
       "\n",
       "   business_center_or_mall_or_marketplace  \n",
       "0                                       0  \n",
       "1                                       7  \n",
       "\n",
       "[2 rows x 21 columns]"
      ]
     },
     "execution_count": 7,
     "metadata": {},
     "output_type": "execute_result"
    }
   ],
   "source": [
    "window = 0.2\n",
    "\n",
    "supernode_attributes = pd.DataFrame(index=supernodes['id'], columns=infrastructure_types).fillna(0)\n",
    "\n",
    "for i, row in enumerate(tqdm(distances)):\n",
    "    obj_types = infrastructure.iloc[i]['types']\n",
    "    \n",
    "    dmin = row.min()\n",
    "    dmax = dmin + window\n",
    "    \n",
    "    close_supernodes = np.where(row <= dmax)[0]\n",
    "    \n",
    "    for s, t in product(close_supernodes, obj_types):\n",
    "        supernode_attributes.loc[s, t] += 1\n",
    "        \n",
    "supernode_attributes = supernode_attributes.reset_index()\n",
    "\n",
    "supernode_attributes.head(2)"
   ]
  },
  {
   "cell_type": "code",
   "execution_count": 8,
   "metadata": {},
   "outputs": [
    {
     "data": {
      "text/plain": [
       "3226"
      ]
     },
     "execution_count": 8,
     "metadata": {},
     "output_type": "execute_result"
    }
   ],
   "source": [
    "supernode_attributes_json = [row.to_dict() for _, row in supernode_attributes.iterrows()]\n",
    "\n",
    "len(supernode_attributes_json)"
   ]
  },
  {
   "cell_type": "code",
   "execution_count": 9,
   "metadata": {},
   "outputs": [],
   "source": [
    "save_json(supernode_attributes_json, supernode_attributes_fpath)"
   ]
  },
  {
   "cell_type": "code",
   "execution_count": null,
   "metadata": {},
   "outputs": [],
   "source": []
  }
 ],
 "metadata": {
  "kernelspec": {
   "display_name": "Python 3",
   "language": "python",
   "name": "python3"
  },
  "language_info": {
   "codemirror_mode": {
    "name": "ipython",
    "version": 3
   },
   "file_extension": ".py",
   "mimetype": "text/x-python",
   "name": "python",
   "nbconvert_exporter": "python",
   "pygments_lexer": "ipython3",
   "version": "3.7.3"
  }
 },
 "nbformat": 4,
 "nbformat_minor": 4
}
