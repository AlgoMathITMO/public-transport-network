{
 "cells": [
  {
   "cell_type": "markdown",
   "metadata": {},
   "source": [
    "# infrastructure-attributes\n",
    "\n",
    "The procedure of constructing infrastructure attributes for supernodes.\n",
    "\n",
    "Requires:\n",
    "1. `data/preprocessed/infrastructure.json`\n",
    "2. `data/supernodes/supernodes.json`\n",
    "\n",
    "Produces:\n",
    "1. `data/supernodes/supernode_attributes.json`"
   ]
  },
  {
   "cell_type": "code",
   "execution_count": 1,
   "metadata": {},
   "outputs": [],
   "source": [
    "import sys\n",
    "sys.path.append('..')"
   ]
  },
  {
   "cell_type": "code",
   "execution_count": 2,
   "metadata": {},
   "outputs": [],
   "source": [
    "from itertools import chain, product\n",
    "\n",
    "import numpy as np\n",
    "import pandas as pd\n",
    "import seaborn as sns\n",
    "from tqdm import tqdm\n",
    "from matplotlib import pyplot as plt\n",
    "\n",
    "from myutils.spatial import get_earth_distances\n",
    "from myutils.json import save_json\n",
    "\n",
    "from config import infrastructure_fpath, supernodes_fpath, supernode_attributes_fpath\n",
    "\n",
    "plt.style.use('seaborn-whitegrid')\n",
    "plt.rcParams['axes.prop_cycle'] = plt.cycler(color=sns.color_palette('deep'))"
   ]
  },
  {
   "cell_type": "code",
   "execution_count": 3,
   "metadata": {},
   "outputs": [
    {
     "data": {
      "text/html": [
       "<div>\n",
       "<style scoped>\n",
       "    .dataframe tbody tr th:only-of-type {\n",
       "        vertical-align: middle;\n",
       "    }\n",
       "\n",
       "    .dataframe tbody tr th {\n",
       "        vertical-align: top;\n",
       "    }\n",
       "\n",
       "    .dataframe thead th {\n",
       "        text-align: right;\n",
       "    }\n",
       "</style>\n",
       "<table border=\"1\" class=\"dataframe\">\n",
       "  <thead>\n",
       "    <tr style=\"text-align: right;\">\n",
       "      <th></th>\n",
       "      <th>stops</th>\n",
       "      <th>diameter</th>\n",
       "      <th>types</th>\n",
       "      <th>lat</th>\n",
       "      <th>lon</th>\n",
       "    </tr>\n",
       "    <tr>\n",
       "      <th>id</th>\n",
       "      <th></th>\n",
       "      <th></th>\n",
       "      <th></th>\n",
       "      <th></th>\n",
       "      <th></th>\n",
       "    </tr>\n",
       "  </thead>\n",
       "  <tbody>\n",
       "    <tr>\n",
       "      <th>0</th>\n",
       "      <td>[29058, 15366, 1687, 1688, 15385, 2080, 2081, ...</td>\n",
       "      <td>0.732963</td>\n",
       "      <td>[bus, trolley, tram, subway]</td>\n",
       "      <td>59.85171</td>\n",
       "      <td>30.322415</td>\n",
       "    </tr>\n",
       "    <tr>\n",
       "      <th>1</th>\n",
       "      <td>[18, 18077, 18078, 32036, 16177, 16050, 27063,...</td>\n",
       "      <td>0.909368</td>\n",
       "      <td>[bus, tram, trolley, subway]</td>\n",
       "      <td>59.95021</td>\n",
       "      <td>30.287937</td>\n",
       "    </tr>\n",
       "  </tbody>\n",
       "</table>\n",
       "</div>"
      ],
      "text/plain": [
       "                                                stops  diameter  \\\n",
       "id                                                                \n",
       "0   [29058, 15366, 1687, 1688, 15385, 2080, 2081, ...  0.732963   \n",
       "1   [18, 18077, 18078, 32036, 16177, 16050, 27063,...  0.909368   \n",
       "\n",
       "                           types       lat        lon  \n",
       "id                                                     \n",
       "0   [bus, trolley, tram, subway]  59.85171  30.322415  \n",
       "1   [bus, tram, trolley, subway]  59.95021  30.287937  "
      ]
     },
     "execution_count": 3,
     "metadata": {},
     "output_type": "execute_result"
    }
   ],
   "source": [
    "supernodes = pd.read_json(supernodes_fpath).set_index('id')\n",
    "\n",
    "supernodes.head(2)"
   ]
  },
  {
   "cell_type": "code",
   "execution_count": 4,
   "metadata": {},
   "outputs": [
    {
     "data": {
      "text/html": [
       "<div>\n",
       "<style scoped>\n",
       "    .dataframe tbody tr th:only-of-type {\n",
       "        vertical-align: middle;\n",
       "    }\n",
       "\n",
       "    .dataframe tbody tr th {\n",
       "        vertical-align: top;\n",
       "    }\n",
       "\n",
       "    .dataframe thead th {\n",
       "        text-align: right;\n",
       "    }\n",
       "</style>\n",
       "<table border=\"1\" class=\"dataframe\">\n",
       "  <thead>\n",
       "    <tr style=\"text-align: right;\">\n",
       "      <th></th>\n",
       "      <th>id</th>\n",
       "      <th>lat</th>\n",
       "      <th>lon</th>\n",
       "      <th>types</th>\n",
       "      <th>name</th>\n",
       "      <th>diameter</th>\n",
       "    </tr>\n",
       "  </thead>\n",
       "  <tbody>\n",
       "    <tr>\n",
       "      <th>0</th>\n",
       "      <td>267959524</td>\n",
       "      <td>59.661098</td>\n",
       "      <td>30.785173</td>\n",
       "      <td>[Tourism]</td>\n",
       "      <td>Саблинский водопад</td>\n",
       "      <td>0.0</td>\n",
       "    </tr>\n",
       "    <tr>\n",
       "      <th>1</th>\n",
       "      <td>268911313</td>\n",
       "      <td>59.688758</td>\n",
       "      <td>29.920383</td>\n",
       "      <td>[Car service]</td>\n",
       "      <td>Киришиавтосервис 13</td>\n",
       "      <td>0.0</td>\n",
       "    </tr>\n",
       "  </tbody>\n",
       "</table>\n",
       "</div>"
      ],
      "text/plain": [
       "          id        lat        lon          types                 name  \\\n",
       "0  267959524  59.661098  30.785173      [Tourism]   Саблинский водопад   \n",
       "1  268911313  59.688758  29.920383  [Car service]  Киришиавтосервис 13   \n",
       "\n",
       "   diameter  \n",
       "0       0.0  \n",
       "1       0.0  "
      ]
     },
     "execution_count": 4,
     "metadata": {},
     "output_type": "execute_result"
    }
   ],
   "source": [
    "infrastructure = pd.read_json(infrastructure_fpath)\n",
    "\n",
    "infrastructure.head(2)"
   ]
  },
  {
   "cell_type": "code",
   "execution_count": 5,
   "metadata": {},
   "outputs": [
    {
     "data": {
      "text/plain": [
       "Housing       30946\n",
       "Shopping      15925\n",
       "Restaurant     8335\n",
       "Services       4634\n",
       "Medicine       4454\n",
       "dtype: int64"
      ]
     },
     "execution_count": 5,
     "metadata": {},
     "output_type": "execute_result"
    }
   ],
   "source": [
    "infrastructure_type_counts = pd.Series(chain.from_iterable(infrastructure['types'])).value_counts()\n",
    "\n",
    "infrastructure_types = infrastructure_type_counts.index.tolist()\n",
    "\n",
    "infrastructure_type_counts.head()"
   ]
  },
  {
   "cell_type": "code",
   "execution_count": 6,
   "metadata": {},
   "outputs": [],
   "source": [
    "infrastructure_coords = infrastructure[['lat', 'lon']].values\n",
    "supernode_coords = supernodes[['lat', 'lon']].values\n",
    "\n",
    "supernode_diameters = supernodes['diameter'].values"
   ]
  },
  {
   "cell_type": "code",
   "execution_count": 7,
   "metadata": {},
   "outputs": [
    {
     "name": "stderr",
     "output_type": "stream",
     "text": [
      "100%|██████████| 89563/89563 [01:12<00:00, 1232.71it/s]\n"
     ]
    },
    {
     "data": {
      "text/html": [
       "<div>\n",
       "<style scoped>\n",
       "    .dataframe tbody tr th:only-of-type {\n",
       "        vertical-align: middle;\n",
       "    }\n",
       "\n",
       "    .dataframe tbody tr th {\n",
       "        vertical-align: top;\n",
       "    }\n",
       "\n",
       "    .dataframe thead th {\n",
       "        text-align: right;\n",
       "    }\n",
       "</style>\n",
       "<table border=\"1\" class=\"dataframe\">\n",
       "  <thead>\n",
       "    <tr style=\"text-align: right;\">\n",
       "      <th></th>\n",
       "      <th>id</th>\n",
       "      <th>Housing</th>\n",
       "      <th>Shopping</th>\n",
       "      <th>Restaurant</th>\n",
       "      <th>Services</th>\n",
       "      <th>Medicine</th>\n",
       "      <th>Education</th>\n",
       "      <th>Tourism</th>\n",
       "      <th>Fitness centre</th>\n",
       "      <th>Car service</th>\n",
       "      <th>...</th>\n",
       "      <th>Administrative</th>\n",
       "      <th>Grocery store</th>\n",
       "      <th>Hotel</th>\n",
       "      <th>Industrial area</th>\n",
       "      <th>Banking</th>\n",
       "      <th>Book shop</th>\n",
       "      <th>Post office</th>\n",
       "      <th>Religion</th>\n",
       "      <th>Shopping centre</th>\n",
       "      <th>Theatre</th>\n",
       "    </tr>\n",
       "  </thead>\n",
       "  <tbody>\n",
       "    <tr>\n",
       "      <th>0</th>\n",
       "      <td>0</td>\n",
       "      <td>141</td>\n",
       "      <td>149</td>\n",
       "      <td>74</td>\n",
       "      <td>43</td>\n",
       "      <td>46</td>\n",
       "      <td>21</td>\n",
       "      <td>14</td>\n",
       "      <td>33</td>\n",
       "      <td>5</td>\n",
       "      <td>...</td>\n",
       "      <td>8</td>\n",
       "      <td>13</td>\n",
       "      <td>3</td>\n",
       "      <td>2</td>\n",
       "      <td>27</td>\n",
       "      <td>13</td>\n",
       "      <td>4</td>\n",
       "      <td>0</td>\n",
       "      <td>0</td>\n",
       "      <td>0</td>\n",
       "    </tr>\n",
       "    <tr>\n",
       "      <th>1</th>\n",
       "      <td>1</td>\n",
       "      <td>111</td>\n",
       "      <td>114</td>\n",
       "      <td>108</td>\n",
       "      <td>42</td>\n",
       "      <td>51</td>\n",
       "      <td>33</td>\n",
       "      <td>41</td>\n",
       "      <td>13</td>\n",
       "      <td>6</td>\n",
       "      <td>...</td>\n",
       "      <td>18</td>\n",
       "      <td>6</td>\n",
       "      <td>13</td>\n",
       "      <td>6</td>\n",
       "      <td>7</td>\n",
       "      <td>9</td>\n",
       "      <td>4</td>\n",
       "      <td>7</td>\n",
       "      <td>1</td>\n",
       "      <td>0</td>\n",
       "    </tr>\n",
       "  </tbody>\n",
       "</table>\n",
       "<p>2 rows × 21 columns</p>\n",
       "</div>"
      ],
      "text/plain": [
       "   id  Housing  Shopping  Restaurant  Services  Medicine  Education  Tourism  \\\n",
       "0   0      141       149          74        43        46         21       14   \n",
       "1   1      111       114         108        42        51         33       41   \n",
       "\n",
       "   Fitness centre  Car service  ...  Administrative  Grocery store  Hotel  \\\n",
       "0              33            5  ...               8             13      3   \n",
       "1              13            6  ...              18              6     13   \n",
       "\n",
       "   Industrial area  Banking  Book shop  Post office  Religion  \\\n",
       "0                2       27         13            4         0   \n",
       "1                6        7          9            4         7   \n",
       "\n",
       "   Shopping centre  Theatre  \n",
       "0                0        0  \n",
       "1                1        0  \n",
       "\n",
       "[2 rows x 21 columns]"
      ]
     },
     "execution_count": 7,
     "metadata": {},
     "output_type": "execute_result"
    }
   ],
   "source": [
    "supernode_attributes = pd.DataFrame(index=supernodes.index, columns=infrastructure_types).fillna(0)\n",
    "\n",
    "window = 0.2\n",
    "\n",
    "dmins = []\n",
    "\n",
    "for i, coords in enumerate(tqdm(infrastructure_coords)):\n",
    "    obj = infrastructure.iloc[i]\n",
    "    obj_types = obj['types']\n",
    "    obj_diameter = obj['diameter']\n",
    "    \n",
    "    distances = get_earth_distances(coords.reshape(1, -1), supernode_coords).flatten()\\\n",
    "        - supernode_diameters / 2 - obj_diameter / 2\n",
    "    distances[distances < 0] = 0\n",
    "    \n",
    "    dmin = distances.min()\n",
    "    dmins.append(dmin)\n",
    "    \n",
    "    if dmin >= 1:\n",
    "        continue\n",
    "    \n",
    "    dmax = dmin + window\n",
    "\n",
    "    close_supernodes = supernodes.index[np.where(distances <= dmax)[0]]\n",
    "    \n",
    "    for s, t in product(close_supernodes, obj_types):\n",
    "        supernode_attributes.loc[s, t] += 1\n",
    "        \n",
    "dmins = np.array(dmins)\n",
    "        \n",
    "supernode_attributes = supernode_attributes.reset_index()\n",
    "\n",
    "supernode_attributes.head(2)"
   ]
  },
  {
   "cell_type": "code",
   "execution_count": 8,
   "metadata": {},
   "outputs": [
    {
     "data": {
      "image/png": "[encoded data removed]",
      "text/plain": [
       "<Figure size 432x288 with 1 Axes>"
      ]
     },
     "metadata": {},
     "output_type": "display_data"
    }
   ],
   "source": [
    "plt.hist(dmins, bins=25);"
   ]
  },
  {
   "cell_type": "code",
   "execution_count": 9,
   "metadata": {},
   "outputs": [
    {
     "data": {
      "text/plain": [
       "3202"
      ]
     },
     "execution_count": 9,
     "metadata": {},
     "output_type": "execute_result"
    }
   ],
   "source": [
    "supernode_attributes_json = [row.to_dict() for _, row in supernode_attributes.iterrows()]\n",
    "\n",
    "len(supernode_attributes_json)"
   ]
  },
  {
   "cell_type": "code",
   "execution_count": 10,
   "metadata": {},
   "outputs": [],
   "source": [
    "save_json(supernode_attributes_json, supernode_attributes_fpath)"
   ]
  },
  {
   "cell_type": "code",
   "execution_count": null,
   "metadata": {},
   "outputs": [],
   "source": []
  }
 ],
 "metadata": {
  "kernelspec": {
   "display_name": "Python 3",
   "language": "python",
   "name": "python3"
  },
  "language_info": {
   "codemirror_mode": {
    "name": "ipython",
    "version": 3
   },
   "file_extension": ".py",
   "mimetype": "text/x-python",
   "name": "python",
   "nbconvert_exporter": "python",
   "pygments_lexer": "ipython3",
   "version": "3.9.5"
  }
 },
 "nbformat": 4,
 "nbformat_minor": 4
}
