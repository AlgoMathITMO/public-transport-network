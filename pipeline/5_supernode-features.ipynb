{
 "cells": [
  {
   "cell_type": "markdown",
   "metadata": {},
   "source": [
    "# supernode-features\n",
    "\n",
    "The procedure of collecting and engineering supernode features for subsequent clustering.\n",
    "\n",
    "Requires:\n",
    "\n",
    "1. `data/supernodes/supernode_attributes.json`\n",
    "2. `data/supernodes/edges_lspace.json`\n",
    "3. `data/supernodes/edges_pspace.json`\n",
    "\n",
    "Produces:\n",
    "1. `data/features/infrastructure_features.json`"
   ]
  },
  {
   "cell_type": "code",
   "execution_count": 1,
   "metadata": {},
   "outputs": [],
   "source": [
    "import sys\n",
    "sys.path.append('..')"
   ]
  },
  {
   "cell_type": "code",
   "execution_count": 118,
   "metadata": {},
   "outputs": [],
   "source": [
    "import pandas as pd\n",
    "import networkx as nx\n",
    "import seaborn as sns\n",
    "from matplotlib import pyplot as plt\n",
    "\n",
    "from myutils.json import load_json, save_json\n",
    "\n",
    "from config import supernode_attributes_fpath, edges_lspace_fpath, edges_pspace_fpath, \\\n",
    "    infrastructure_features_fpath, lspace_features_fpath"
   ]
  },
  {
   "cell_type": "code",
   "execution_count": 3,
   "metadata": {},
   "outputs": [
    {
     "data": {
      "text/html": [
       "<div>\n",
       "<style scoped>\n",
       "    .dataframe tbody tr th:only-of-type {\n",
       "        vertical-align: middle;\n",
       "    }\n",
       "\n",
       "    .dataframe tbody tr th {\n",
       "        vertical-align: top;\n",
       "    }\n",
       "\n",
       "    .dataframe thead th {\n",
       "        text-align: right;\n",
       "    }\n",
       "</style>\n",
       "<table border=\"1\" class=\"dataframe\">\n",
       "  <thead>\n",
       "    <tr style=\"text-align: right;\">\n",
       "      <th></th>\n",
       "      <th>residential_building</th>\n",
       "      <th>shop</th>\n",
       "      <th>catering_place</th>\n",
       "      <th>service</th>\n",
       "      <th>medicine</th>\n",
       "      <th>sight_place_tourism</th>\n",
       "      <th>education</th>\n",
       "      <th>company</th>\n",
       "      <th>sport</th>\n",
       "      <th>car_supply</th>\n",
       "      <th>organisation</th>\n",
       "      <th>supermarket</th>\n",
       "      <th>hotel_business</th>\n",
       "      <th>electronics_and_telecommunication</th>\n",
       "      <th>bank_and_money</th>\n",
       "      <th>printing_and_books</th>\n",
       "      <th>religion</th>\n",
       "      <th>post_office</th>\n",
       "      <th>business_center_or_mall_or_marketplace</th>\n",
       "    </tr>\n",
       "    <tr>\n",
       "      <th>id</th>\n",
       "      <th></th>\n",
       "      <th></th>\n",
       "      <th></th>\n",
       "      <th></th>\n",
       "      <th></th>\n",
       "      <th></th>\n",
       "      <th></th>\n",
       "      <th></th>\n",
       "      <th></th>\n",
       "      <th></th>\n",
       "      <th></th>\n",
       "      <th></th>\n",
       "      <th></th>\n",
       "      <th></th>\n",
       "      <th></th>\n",
       "      <th></th>\n",
       "      <th></th>\n",
       "      <th></th>\n",
       "      <th></th>\n",
       "    </tr>\n",
       "  </thead>\n",
       "  <tbody>\n",
       "    <tr>\n",
       "      <th>0</th>\n",
       "      <td>39</td>\n",
       "      <td>9</td>\n",
       "      <td>3</td>\n",
       "      <td>2</td>\n",
       "      <td>4</td>\n",
       "      <td>4</td>\n",
       "      <td>6</td>\n",
       "      <td>2</td>\n",
       "      <td>3</td>\n",
       "      <td>0</td>\n",
       "      <td>2</td>\n",
       "      <td>3</td>\n",
       "      <td>0</td>\n",
       "      <td>0</td>\n",
       "      <td>1</td>\n",
       "      <td>0</td>\n",
       "      <td>0</td>\n",
       "      <td>1</td>\n",
       "      <td>0</td>\n",
       "    </tr>\n",
       "    <tr>\n",
       "      <th>1</th>\n",
       "      <td>5</td>\n",
       "      <td>172</td>\n",
       "      <td>48</td>\n",
       "      <td>35</td>\n",
       "      <td>10</td>\n",
       "      <td>3</td>\n",
       "      <td>3</td>\n",
       "      <td>11</td>\n",
       "      <td>2</td>\n",
       "      <td>6</td>\n",
       "      <td>2</td>\n",
       "      <td>2</td>\n",
       "      <td>0</td>\n",
       "      <td>9</td>\n",
       "      <td>3</td>\n",
       "      <td>13</td>\n",
       "      <td>3</td>\n",
       "      <td>7</td>\n",
       "      <td>7</td>\n",
       "    </tr>\n",
       "  </tbody>\n",
       "</table>\n",
       "</div>"
      ],
      "text/plain": [
       "    residential_building  shop  catering_place  service  medicine  \\\n",
       "id                                                                  \n",
       "0                     39     9               3        2         4   \n",
       "1                      5   172              48       35        10   \n",
       "\n",
       "    sight_place_tourism  education  company  sport  car_supply  organisation  \\\n",
       "id                                                                             \n",
       "0                     4          6        2      3           0             2   \n",
       "1                     3          3       11      2           6             2   \n",
       "\n",
       "    supermarket  hotel_business  electronics_and_telecommunication  \\\n",
       "id                                                                   \n",
       "0             3               0                                  0   \n",
       "1             2               0                                  9   \n",
       "\n",
       "    bank_and_money  printing_and_books  religion  post_office  \\\n",
       "id                                                              \n",
       "0                1                   0         0            1   \n",
       "1                3                  13         3            7   \n",
       "\n",
       "    business_center_or_mall_or_marketplace  \n",
       "id                                          \n",
       "0                                        0  \n",
       "1                                        7  "
      ]
     },
     "execution_count": 3,
     "metadata": {},
     "output_type": "execute_result"
    }
   ],
   "source": [
    "supernode_attributes = pd.read_json(supernode_attributes_fpath).set_index('id')\n",
    "\n",
    "supernode_attributes.head(2)"
   ]
  },
  {
   "cell_type": "code",
   "execution_count": 122,
   "metadata": {},
   "outputs": [
    {
     "data": {
      "text/plain": [
       "[(626, 836, 6), (836, 837, 10), (17, 837, 10), (17, 309, 12), (75, 309, 12)]"
      ]
     },
     "execution_count": 122,
     "metadata": {},
     "output_type": "execute_result"
    }
   ],
   "source": [
    "edges_lspace = [tuple(item.values()) for item in load_json(edges_lspace_fpath)]\n",
    "\n",
    "edges_lspace[:5]"
   ]
  },
  {
   "cell_type": "code",
   "execution_count": 123,
   "metadata": {},
   "outputs": [
    {
     "data": {
      "text/plain": [
       "[(626, 836, 0.44657616594606997),\n",
       " (626, 837, 0.9102138231959868),\n",
       " (17, 626, 1.1097232146063742),\n",
       " (309, 626, 1.5763256068546179),\n",
       " (75, 626, 1.9253778263958403)]"
      ]
     },
     "execution_count": 123,
     "metadata": {},
     "output_type": "execute_result"
    }
   ],
   "source": [
    "edges_pspace = [tuple(item.values()) for item in load_json(edges_pspace_fpath)]\n",
    "\n",
    "edges_pspace[:5]"
   ]
  },
  {
   "cell_type": "markdown",
   "metadata": {},
   "source": [
    "## Infrastructure features"
   ]
  },
  {
   "cell_type": "code",
   "execution_count": 8,
   "metadata": {},
   "outputs": [
    {
     "data": {
      "text/html": [
       "<div>\n",
       "<style scoped>\n",
       "    .dataframe tbody tr th:only-of-type {\n",
       "        vertical-align: middle;\n",
       "    }\n",
       "\n",
       "    .dataframe tbody tr th {\n",
       "        vertical-align: top;\n",
       "    }\n",
       "\n",
       "    .dataframe thead th {\n",
       "        text-align: right;\n",
       "    }\n",
       "</style>\n",
       "<table border=\"1\" class=\"dataframe\">\n",
       "  <thead>\n",
       "    <tr style=\"text-align: right;\">\n",
       "      <th></th>\n",
       "      <th>residential_building</th>\n",
       "      <th>shop</th>\n",
       "      <th>catering_place</th>\n",
       "      <th>service</th>\n",
       "      <th>medicine</th>\n",
       "      <th>sight_place_tourism</th>\n",
       "      <th>education</th>\n",
       "      <th>company</th>\n",
       "      <th>sport</th>\n",
       "      <th>car_supply</th>\n",
       "      <th>organisation</th>\n",
       "      <th>supermarket</th>\n",
       "      <th>hotel_business</th>\n",
       "      <th>electronics_and_telecommunication</th>\n",
       "      <th>bank_and_money</th>\n",
       "      <th>printing_and_books</th>\n",
       "      <th>religion</th>\n",
       "      <th>post_office</th>\n",
       "      <th>business_center_or_mall_or_marketplace</th>\n",
       "      <th>total</th>\n",
       "    </tr>\n",
       "    <tr>\n",
       "      <th>id</th>\n",
       "      <th></th>\n",
       "      <th></th>\n",
       "      <th></th>\n",
       "      <th></th>\n",
       "      <th></th>\n",
       "      <th></th>\n",
       "      <th></th>\n",
       "      <th></th>\n",
       "      <th></th>\n",
       "      <th></th>\n",
       "      <th></th>\n",
       "      <th></th>\n",
       "      <th></th>\n",
       "      <th></th>\n",
       "      <th></th>\n",
       "      <th></th>\n",
       "      <th></th>\n",
       "      <th></th>\n",
       "      <th></th>\n",
       "      <th></th>\n",
       "    </tr>\n",
       "  </thead>\n",
       "  <tbody>\n",
       "    <tr>\n",
       "      <th>0</th>\n",
       "      <td>0.493671</td>\n",
       "      <td>0.113924</td>\n",
       "      <td>0.037975</td>\n",
       "      <td>0.025316</td>\n",
       "      <td>0.050633</td>\n",
       "      <td>0.050633</td>\n",
       "      <td>0.075949</td>\n",
       "      <td>0.025316</td>\n",
       "      <td>0.037975</td>\n",
       "      <td>0.000000</td>\n",
       "      <td>0.025316</td>\n",
       "      <td>0.037975</td>\n",
       "      <td>0.0</td>\n",
       "      <td>0.000000</td>\n",
       "      <td>0.012658</td>\n",
       "      <td>0.000000</td>\n",
       "      <td>0.000000</td>\n",
       "      <td>0.012658</td>\n",
       "      <td>0.000000</td>\n",
       "      <td>79</td>\n",
       "    </tr>\n",
       "    <tr>\n",
       "      <th>1</th>\n",
       "      <td>0.014663</td>\n",
       "      <td>0.504399</td>\n",
       "      <td>0.140762</td>\n",
       "      <td>0.102639</td>\n",
       "      <td>0.029326</td>\n",
       "      <td>0.008798</td>\n",
       "      <td>0.008798</td>\n",
       "      <td>0.032258</td>\n",
       "      <td>0.005865</td>\n",
       "      <td>0.017595</td>\n",
       "      <td>0.005865</td>\n",
       "      <td>0.005865</td>\n",
       "      <td>0.0</td>\n",
       "      <td>0.026393</td>\n",
       "      <td>0.008798</td>\n",
       "      <td>0.038123</td>\n",
       "      <td>0.008798</td>\n",
       "      <td>0.020528</td>\n",
       "      <td>0.020528</td>\n",
       "      <td>341</td>\n",
       "    </tr>\n",
       "  </tbody>\n",
       "</table>\n",
       "</div>"
      ],
      "text/plain": [
       "    residential_building      shop  catering_place   service  medicine  \\\n",
       "id                                                                       \n",
       "0               0.493671  0.113924        0.037975  0.025316  0.050633   \n",
       "1               0.014663  0.504399        0.140762  0.102639  0.029326   \n",
       "\n",
       "    sight_place_tourism  education   company     sport  car_supply  \\\n",
       "id                                                                   \n",
       "0              0.050633   0.075949  0.025316  0.037975    0.000000   \n",
       "1              0.008798   0.008798  0.032258  0.005865    0.017595   \n",
       "\n",
       "    organisation  supermarket  hotel_business  \\\n",
       "id                                              \n",
       "0       0.025316     0.037975             0.0   \n",
       "1       0.005865     0.005865             0.0   \n",
       "\n",
       "    electronics_and_telecommunication  bank_and_money  printing_and_books  \\\n",
       "id                                                                          \n",
       "0                            0.000000        0.012658            0.000000   \n",
       "1                            0.026393        0.008798            0.038123   \n",
       "\n",
       "    religion  post_office  business_center_or_mall_or_marketplace  total  \n",
       "id                                                                        \n",
       "0   0.000000     0.012658                                0.000000     79  \n",
       "1   0.008798     0.020528                                0.020528    341  "
      ]
     },
     "execution_count": 8,
     "metadata": {},
     "output_type": "execute_result"
    }
   ],
   "source": [
    "infrastructure_features = supernode_attributes.copy()\n",
    "\n",
    "total = infrastructure_features.sum(axis=1)\n",
    "infrastructure_features = infrastructure_features.divide(total, axis=0)\n",
    "infrastructure_features['total'] = total\n",
    "\n",
    "infrastructure_features.head(2)"
   ]
  },
  {
   "cell_type": "code",
   "execution_count": 9,
   "metadata": {},
   "outputs": [
    {
     "data": {
      "image/png": "[encoded data removed]",
      "text/plain": [
       "<Figure size 1080x1080 with 20 Axes>"
      ]
     },
     "metadata": {
      "needs_background": "light"
     },
     "output_type": "display_data"
    }
   ],
   "source": [
    "infrastructure_features.hist(figsize=(15, 15));"
   ]
  },
  {
   "cell_type": "code",
   "execution_count": 107,
   "metadata": {},
   "outputs": [
    {
     "data": {
      "text/plain": [
       "<AxesSubplot:>"
      ]
     },
     "execution_count": 107,
     "metadata": {},
     "output_type": "execute_result"
    },
    {
     "data": {
      "image/png": "[encoded data removed]",
      "text/plain": [
       "<Figure size 576x576 with 2 Axes>"
      ]
     },
     "metadata": {
      "needs_background": "light"
     },
     "output_type": "display_data"
    }
   ],
   "source": [
    "plt.figure(figsize=(8, 8))\n",
    "\n",
    "sns.heatmap(infrastructure_features.corr(method='spearman'), square=True)"
   ]
  },
  {
   "cell_type": "code",
   "execution_count": 15,
   "metadata": {},
   "outputs": [],
   "source": [
    "infrastructure_features_json = []\n",
    "\n",
    "for _, row in infrastructure_features.reset_index().iterrows():\n",
    "    row = row.to_dict()\n",
    "    row['id'] = int(row['id'])\n",
    "    infrastructure_features_json.append(row)"
   ]
  },
  {
   "cell_type": "code",
   "execution_count": 17,
   "metadata": {},
   "outputs": [],
   "source": [
    "save_json(infrastructure_features_json, infrastructure_features_fpath)"
   ]
  },
  {
   "cell_type": "markdown",
   "metadata": {},
   "source": [
    "## L-space features"
   ]
  },
  {
   "cell_type": "code",
   "execution_count": 124,
   "metadata": {},
   "outputs": [
    {
     "data": {
      "text/plain": [
       "(3226, 5352)"
      ]
     },
     "execution_count": 124,
     "metadata": {},
     "output_type": "execute_result"
    }
   ],
   "source": [
    "lspace = nx.Graph()\n",
    "lspace.add_weighted_edges_from(edges_lspace)\n",
    "\n",
    "nx.set_edge_attributes(\n",
    "    lspace,\n",
    "    values=(1 / pd.Series(nx.get_edge_attributes(lspace, 'weight'))).to_dict(),\n",
    "    name='distance',\n",
    ")\n",
    "\n",
    "len(lspace), len(lspace.edges)"
   ]
  },
  {
   "cell_type": "code",
   "execution_count": 73,
   "metadata": {},
   "outputs": [],
   "source": [
    "neighbours = {node: set(lspace.neighbors(node)) for node in lspace.nodes}\n",
    "neighbours_2hop = {node: set.union(*[neighbours[n] for n in neighbours[node]]) for node in lspace.nodes}"
   ]
  },
  {
   "cell_type": "code",
   "execution_count": 52,
   "metadata": {},
   "outputs": [
    {
     "data": {
      "text/plain": [
       "626    0.00744\n",
       "836    0.00620\n",
       "dtype: float64"
      ]
     },
     "execution_count": 52,
     "metadata": {},
     "output_type": "execute_result"
    }
   ],
   "source": [
    "degree = pd.Series(\n",
    "    nx.adjacency_matrix(lspace).sum(axis=0).A.flatten() / len(lspace),\n",
    "    index=lspace.nodes,\n",
    ")\n",
    "\n",
    "degree.head(2)"
   ]
  },
  {
   "cell_type": "code",
   "execution_count": 75,
   "metadata": {},
   "outputs": [
    {
     "data": {
      "text/plain": [
       "626    0.016842\n",
       "836    0.008473\n",
       "dtype: float64"
      ]
     },
     "execution_count": 75,
     "metadata": {},
     "output_type": "execute_result"
    }
   ],
   "source": [
    "degree_1hop_mean = pd.Series({\n",
    "    node: degree.loc[neighbours[node]].mean()\n",
    "    for node in lspace.nodes\n",
    "})\n",
    "\n",
    "degree_1hop_mean.head(2)"
   ]
  },
  {
   "cell_type": "code",
   "execution_count": 78,
   "metadata": {},
   "outputs": [
    {
     "data": {
      "text/plain": [
       "626    0.011917\n",
       "836    0.013577\n",
       "dtype: float64"
      ]
     },
     "execution_count": 78,
     "metadata": {},
     "output_type": "execute_result"
    }
   ],
   "source": [
    "degree_2hop_mean = pd.Series({\n",
    "    node: degree.loc[neighbours_2hop[node]].mean()\n",
    "    for node in lspace.nodes\n",
    "})\n",
    "\n",
    "degree_2hop_mean.head(2)"
   ]
  },
  {
   "cell_type": "code",
   "execution_count": 81,
   "metadata": {},
   "outputs": [
    {
     "data": {
      "text/plain": [
       "626    0.666667\n",
       "836    0.333333\n",
       "dtype: float64"
      ]
     },
     "execution_count": 81,
     "metadata": {},
     "output_type": "execute_result"
    }
   ],
   "source": [
    "clustering = pd.Series(nx.clustering(lspace))\n",
    "\n",
    "clustering.head(2)"
   ]
  },
  {
   "cell_type": "code",
   "execution_count": 83,
   "metadata": {},
   "outputs": [
    {
     "data": {
      "text/plain": [
       "626    0.358730\n",
       "836    0.444444\n",
       "dtype: float64"
      ]
     },
     "execution_count": 83,
     "metadata": {},
     "output_type": "execute_result"
    }
   ],
   "source": [
    "clustering_1hop_mean = pd.Series({\n",
    "    node: clustering.loc[neighbours[node]].mean()\n",
    "    for node in lspace.nodes\n",
    "})\n",
    "\n",
    "clustering_1hop_mean.head(2)"
   ]
  },
  {
   "cell_type": "code",
   "execution_count": 86,
   "metadata": {},
   "outputs": [
    {
     "data": {
      "text/plain": [
       "626    0.192269\n",
       "836    0.348571\n",
       "dtype: float64"
      ]
     },
     "execution_count": 86,
     "metadata": {},
     "output_type": "execute_result"
    }
   ],
   "source": [
    "clustering_2hop_mean = pd.Series({\n",
    "    node: clustering.loc[neighbours_2hop[node]].mean()\n",
    "    for node in lspace.nodes\n",
    "})\n",
    "\n",
    "clustering_2hop_mean.head(2)"
   ]
  },
  {
   "cell_type": "code",
   "execution_count": 49,
   "metadata": {},
   "outputs": [
    {
     "data": {
      "text/plain": [
       "626    3.986093e-04\n",
       "836    5.770673e-07\n",
       "dtype: float64"
      ]
     },
     "execution_count": 49,
     "metadata": {},
     "output_type": "execute_result"
    }
   ],
   "source": [
    "betweenness_centrality = pd.Series(nx.betweenness_centrality(lspace, weight='distance'))\n",
    "\n",
    "betweenness_centrality.head(2)"
   ]
  },
  {
   "cell_type": "code",
   "execution_count": 90,
   "metadata": {},
   "outputs": [
    {
     "data": {
      "text/plain": [
       "626    0.093540\n",
       "836    0.000544\n",
       "dtype: float64"
      ]
     },
     "execution_count": 90,
     "metadata": {},
     "output_type": "execute_result"
    }
   ],
   "source": [
    "betw_centr_1hop_mean = pd.Series({\n",
    "    node: betweenness_centrality.loc[neighbours[node]].mean()\n",
    "    for node in lspace.nodes\n",
    "})\n",
    "\n",
    "betw_centr_1hop_mean.head(2)"
   ]
  },
  {
   "cell_type": "code",
   "execution_count": 93,
   "metadata": {},
   "outputs": [
    {
     "data": {
      "text/plain": [
       "626    0.054850\n",
       "836    0.056413\n",
       "dtype: float64"
      ]
     },
     "execution_count": 93,
     "metadata": {},
     "output_type": "execute_result"
    }
   ],
   "source": [
    "betw_centr_2hop_mean = pd.Series({\n",
    "    node: betweenness_centrality.loc[neighbours_2hop[node]].mean()\n",
    "    for node in lspace.nodes\n",
    "})\n",
    "\n",
    "betw_centr_2hop_mean.head(2)"
   ]
  },
  {
   "cell_type": "code",
   "execution_count": 95,
   "metadata": {},
   "outputs": [
    {
     "data": {
      "text/html": [
       "<div>\n",
       "<style scoped>\n",
       "    .dataframe tbody tr th:only-of-type {\n",
       "        vertical-align: middle;\n",
       "    }\n",
       "\n",
       "    .dataframe tbody tr th {\n",
       "        vertical-align: top;\n",
       "    }\n",
       "\n",
       "    .dataframe thead th {\n",
       "        text-align: right;\n",
       "    }\n",
       "</style>\n",
       "<table border=\"1\" class=\"dataframe\">\n",
       "  <thead>\n",
       "    <tr style=\"text-align: right;\">\n",
       "      <th></th>\n",
       "      <th>degree</th>\n",
       "      <th>degree_1hop_mean</th>\n",
       "      <th>degree_2hop_mean</th>\n",
       "      <th>clustering</th>\n",
       "      <th>clustering_1hop_mean</th>\n",
       "      <th>clustering_2hop_mean</th>\n",
       "      <th>betweenness_centrality</th>\n",
       "      <th>betw_centr_1hop_mean</th>\n",
       "      <th>betw_centr_2hop_mean</th>\n",
       "    </tr>\n",
       "  </thead>\n",
       "  <tbody>\n",
       "    <tr>\n",
       "      <th>626</th>\n",
       "      <td>0.00744</td>\n",
       "      <td>0.016842</td>\n",
       "      <td>0.011917</td>\n",
       "      <td>0.666667</td>\n",
       "      <td>0.358730</td>\n",
       "      <td>0.192269</td>\n",
       "      <td>3.986093e-04</td>\n",
       "      <td>0.093540</td>\n",
       "      <td>0.054850</td>\n",
       "    </tr>\n",
       "    <tr>\n",
       "      <th>836</th>\n",
       "      <td>0.00620</td>\n",
       "      <td>0.008473</td>\n",
       "      <td>0.013577</td>\n",
       "      <td>0.333333</td>\n",
       "      <td>0.444444</td>\n",
       "      <td>0.348571</td>\n",
       "      <td>5.770673e-07</td>\n",
       "      <td>0.000544</td>\n",
       "      <td>0.056413</td>\n",
       "    </tr>\n",
       "  </tbody>\n",
       "</table>\n",
       "</div>"
      ],
      "text/plain": [
       "      degree  degree_1hop_mean  degree_2hop_mean  clustering  \\\n",
       "626  0.00744          0.016842          0.011917    0.666667   \n",
       "836  0.00620          0.008473          0.013577    0.333333   \n",
       "\n",
       "     clustering_1hop_mean  clustering_2hop_mean  betweenness_centrality  \\\n",
       "626              0.358730              0.192269            3.986093e-04   \n",
       "836              0.444444              0.348571            5.770673e-07   \n",
       "\n",
       "     betw_centr_1hop_mean  betw_centr_2hop_mean  \n",
       "626              0.093540              0.054850  \n",
       "836              0.000544              0.056413  "
      ]
     },
     "execution_count": 95,
     "metadata": {},
     "output_type": "execute_result"
    }
   ],
   "source": [
    "lspace_features = pd.DataFrame({\n",
    "    'degree': degree,\n",
    "    'degree_1hop_mean': degree_1hop_mean,\n",
    "    'degree_2hop_mean': degree_2hop_mean,\n",
    "    'clustering': clustering,\n",
    "    'clustering_1hop_mean': clustering_1hop_mean,\n",
    "    'clustering_2hop_mean': clustering_2hop_mean,\n",
    "    'betweenness_centrality': betweenness_centrality,\n",
    "    'betw_centr_1hop_mean': betw_centr_1hop_mean,\n",
    "    'betw_centr_2hop_mean': betw_centr_2hop_mean,\n",
    "})\n",
    "\n",
    "lspace_features.head(2)"
   ]
  },
  {
   "cell_type": "code",
   "execution_count": 111,
   "metadata": {},
   "outputs": [
    {
     "data": {
      "image/png": "[encoded data removed]",
      "text/plain": [
       "<Figure size 720x720 with 9 Axes>"
      ]
     },
     "metadata": {
      "needs_background": "light"
     },
     "output_type": "display_data"
    }
   ],
   "source": [
    "lspace_features.hist(figsize=(10, 10));"
   ]
  },
  {
   "cell_type": "code",
   "execution_count": 109,
   "metadata": {},
   "outputs": [
    {
     "data": {
      "text/plain": [
       "<AxesSubplot:>"
      ]
     },
     "execution_count": 109,
     "metadata": {},
     "output_type": "execute_result"
    },
    {
     "data": {
      "image/png": "[encoded data removed]",
      "text/plain": [
       "<Figure size 432x288 with 2 Axes>"
      ]
     },
     "metadata": {
      "needs_background": "light"
     },
     "output_type": "display_data"
    }
   ],
   "source": [
    "sns.heatmap(lspace_features.corr(method='spearman'), square=True)"
   ]
  },
  {
   "cell_type": "code",
   "execution_count": 101,
   "metadata": {},
   "outputs": [
    {
     "data": {
      "text/plain": [
       "{'id': 0,\n",
       " 'degree': 0.017978921264724116,\n",
       " 'degree_1hop_mean': 0.00884855999549118,\n",
       " 'degree_2hop_mean': 0.0091692498450093,\n",
       " 'clustering': 0.12727272727272726,\n",
       " 'clustering_1hop_mean': 0.2963570026811133,\n",
       " 'clustering_2hop_mean': 0.16404714334139558,\n",
       " 'betweenness_centrality': 0.008443072306538173,\n",
       " 'betw_centr_1hop_mean': 0.004128623939201584,\n",
       " 'betw_centr_2hop_mean': 0.019366442636300104}"
      ]
     },
     "execution_count": 101,
     "metadata": {},
     "output_type": "execute_result"
    }
   ],
   "source": [
    "lspace_features_json = []\n",
    "\n",
    "for i, row in lspace_features.sort_index().iterrows():\n",
    "    item = {'id': i}\n",
    "    item.update(row.to_dict())\n",
    "    lspace_features_json.append(item)\n",
    "    \n",
    "lspace_features_json[0]"
   ]
  },
  {
   "cell_type": "code",
   "execution_count": 102,
   "metadata": {},
   "outputs": [],
   "source": [
    "save_json(lspace_features_json, lspace_features_fpath)"
   ]
  },
  {
   "cell_type": "markdown",
   "metadata": {},
   "source": [
    "## P-space features"
   ]
  },
  {
   "cell_type": "code",
   "execution_count": 125,
   "metadata": {},
   "outputs": [
    {
     "data": {
      "text/plain": [
       "(3226, 120039)"
      ]
     },
     "execution_count": 125,
     "metadata": {},
     "output_type": "execute_result"
    }
   ],
   "source": [
    "pspace = nx.Graph()\n",
    "pspace.add_weighted_edges_from(edges_pspace, weight='distance')\n",
    "\n",
    "len(pspace), len(pspace.edges)"
   ]
  },
  {
   "cell_type": "code",
   "execution_count": 129,
   "metadata": {},
   "outputs": [],
   "source": [
    "neighbours = {node: set(pspace.neighbors(node)) for node in pspace.nodes}\n",
    "neighbours_2hop = {node: set.union(*[neighbours[n] for n in neighbours[node]]) for node in lspace.nodes}"
   ]
  },
  {
   "cell_type": "code",
   "execution_count": 130,
   "metadata": {},
   "outputs": [
    {
     "data": {
      "text/plain": [
       "626    0.064166\n",
       "836    0.025108\n",
       "dtype: float64"
      ]
     },
     "execution_count": 130,
     "metadata": {},
     "output_type": "execute_result"
    }
   ],
   "source": [
    "degree = pd.Series(dict(pspace.degree)) / len(pspace)\n",
    "\n",
    "degree.head(2)"
   ]
  },
  {
   "cell_type": "code",
   "execution_count": 131,
   "metadata": {},
   "outputs": [
    {
     "data": {
      "text/plain": [
       "626    0.036184\n",
       "836    0.037301\n",
       "dtype: float64"
      ]
     },
     "execution_count": 131,
     "metadata": {},
     "output_type": "execute_result"
    }
   ],
   "source": [
    "degree_1hop_mean = pd.Series({\n",
    "    node: degree.loc[neighbours[node]].mean()\n",
    "    for node in pspace.nodes\n",
    "})\n",
    "\n",
    "degree_1hop_mean.head(2)"
   ]
  },
  {
   "cell_type": "code",
   "execution_count": 132,
   "metadata": {},
   "outputs": [
    {
     "data": {
      "text/plain": [
       "626    0.029604\n",
       "836    0.033316\n",
       "dtype: float64"
      ]
     },
     "execution_count": 132,
     "metadata": {},
     "output_type": "execute_result"
    }
   ],
   "source": [
    "degree_2hop_mean = pd.Series({\n",
    "    node: degree.loc[neighbours_2hop[node]].mean()\n",
    "    for node in pspace.nodes\n",
    "})\n",
    "\n",
    "degree_2hop_mean.head(2)"
   ]
  },
  {
   "cell_type": "code",
   "execution_count": 133,
   "metadata": {},
   "outputs": [
    {
     "data": {
      "text/plain": [
       "626    0.240842\n",
       "836    0.652160\n",
       "dtype: float64"
      ]
     },
     "execution_count": 133,
     "metadata": {},
     "output_type": "execute_result"
    }
   ],
   "source": [
    "clustering = pd.Series(nx.clustering(pspace))\n",
    "\n",
    "clustering.head(2)"
   ]
  },
  {
   "cell_type": "code",
   "execution_count": 134,
   "metadata": {},
   "outputs": [
    {
     "data": {
      "text/plain": [
       "626    0.537564\n",
       "836    0.547466\n",
       "dtype: float64"
      ]
     },
     "execution_count": 134,
     "metadata": {},
     "output_type": "execute_result"
    }
   ],
   "source": [
    "clustering_1hop_mean = pd.Series({\n",
    "    node: clustering.loc[neighbours[node]].mean()\n",
    "    for node in pspace.nodes\n",
    "})\n",
    "\n",
    "clustering_1hop_mean.head(2)"
   ]
  },
  {
   "cell_type": "code",
   "execution_count": 135,
   "metadata": {},
   "outputs": [
    {
     "data": {
      "text/plain": [
       "626    0.595903\n",
       "836    0.557089\n",
       "dtype: float64"
      ]
     },
     "execution_count": 135,
     "metadata": {},
     "output_type": "execute_result"
    }
   ],
   "source": [
    "clustering_2hop_mean = pd.Series({\n",
    "    node: clustering.loc[neighbours_2hop[node]].mean()\n",
    "    for node in pspace.nodes\n",
    "})\n",
    "\n",
    "clustering_2hop_mean.head(2)"
   ]
  },
  {
   "cell_type": "code",
   "execution_count": null,
   "metadata": {},
   "outputs": [],
   "source": [
    "betweenness_centrality = pd.Series(nx.betweenness_centrality(pspace, weight='distance'))\n",
    "\n",
    "betweenness_centrality.head(2)"
   ]
  },
  {
   "cell_type": "code",
   "execution_count": 90,
   "metadata": {},
   "outputs": [
    {
     "data": {
      "text/plain": [
       "626    0.093540\n",
       "836    0.000544\n",
       "dtype: float64"
      ]
     },
     "execution_count": 90,
     "metadata": {},
     "output_type": "execute_result"
    }
   ],
   "source": [
    "betw_centr_1hop_mean = pd.Series({\n",
    "    node: betweenness_centrality.loc[neighbours[node]].mean()\n",
    "    for node in pspace.nodes\n",
    "})\n",
    "\n",
    "betw_centr_1hop_mean.head(2)"
   ]
  },
  {
   "cell_type": "code",
   "execution_count": 93,
   "metadata": {},
   "outputs": [
    {
     "data": {
      "text/plain": [
       "626    0.054850\n",
       "836    0.056413\n",
       "dtype: float64"
      ]
     },
     "execution_count": 93,
     "metadata": {},
     "output_type": "execute_result"
    }
   ],
   "source": [
    "betw_centr_2hop_mean = pd.Series({\n",
    "    node: betweenness_centrality.loc[neighbours_2hop[node]].mean()\n",
    "    for node in pspace.nodes\n",
    "})\n",
    "\n",
    "betw_centr_2hop_mean.head(2)"
   ]
  },
  {
   "cell_type": "code",
   "execution_count": 95,
   "metadata": {},
   "outputs": [
    {
     "data": {
      "text/html": [
       "<div>\n",
       "<style scoped>\n",
       "    .dataframe tbody tr th:only-of-type {\n",
       "        vertical-align: middle;\n",
       "    }\n",
       "\n",
       "    .dataframe tbody tr th {\n",
       "        vertical-align: top;\n",
       "    }\n",
       "\n",
       "    .dataframe thead th {\n",
       "        text-align: right;\n",
       "    }\n",
       "</style>\n",
       "<table border=\"1\" class=\"dataframe\">\n",
       "  <thead>\n",
       "    <tr style=\"text-align: right;\">\n",
       "      <th></th>\n",
       "      <th>degree</th>\n",
       "      <th>degree_1hop_mean</th>\n",
       "      <th>degree_2hop_mean</th>\n",
       "      <th>clustering</th>\n",
       "      <th>clustering_1hop_mean</th>\n",
       "      <th>clustering_2hop_mean</th>\n",
       "      <th>betweenness_centrality</th>\n",
       "      <th>betw_centr_1hop_mean</th>\n",
       "      <th>betw_centr_2hop_mean</th>\n",
       "    </tr>\n",
       "  </thead>\n",
       "  <tbody>\n",
       "    <tr>\n",
       "      <th>626</th>\n",
       "      <td>0.00744</td>\n",
       "      <td>0.016842</td>\n",
       "      <td>0.011917</td>\n",
       "      <td>0.666667</td>\n",
       "      <td>0.358730</td>\n",
       "      <td>0.192269</td>\n",
       "      <td>3.986093e-04</td>\n",
       "      <td>0.093540</td>\n",
       "      <td>0.054850</td>\n",
       "    </tr>\n",
       "    <tr>\n",
       "      <th>836</th>\n",
       "      <td>0.00620</td>\n",
       "      <td>0.008473</td>\n",
       "      <td>0.013577</td>\n",
       "      <td>0.333333</td>\n",
       "      <td>0.444444</td>\n",
       "      <td>0.348571</td>\n",
       "      <td>5.770673e-07</td>\n",
       "      <td>0.000544</td>\n",
       "      <td>0.056413</td>\n",
       "    </tr>\n",
       "  </tbody>\n",
       "</table>\n",
       "</div>"
      ],
      "text/plain": [
       "      degree  degree_1hop_mean  degree_2hop_mean  clustering  \\\n",
       "626  0.00744          0.016842          0.011917    0.666667   \n",
       "836  0.00620          0.008473          0.013577    0.333333   \n",
       "\n",
       "     clustering_1hop_mean  clustering_2hop_mean  betweenness_centrality  \\\n",
       "626              0.358730              0.192269            3.986093e-04   \n",
       "836              0.444444              0.348571            5.770673e-07   \n",
       "\n",
       "     betw_centr_1hop_mean  betw_centr_2hop_mean  \n",
       "626              0.093540              0.054850  \n",
       "836              0.000544              0.056413  "
      ]
     },
     "execution_count": 95,
     "metadata": {},
     "output_type": "execute_result"
    }
   ],
   "source": [
    "pspace_features = pd.DataFrame({\n",
    "    'degree': degree,\n",
    "    'degree_1hop_mean': degree_1hop_mean,\n",
    "    'degree_2hop_mean': degree_2hop_mean,\n",
    "    'clustering': clustering,\n",
    "    'clustering_1hop_mean': clustering_1hop_mean,\n",
    "    'clustering_2hop_mean': clustering_2hop_mean,\n",
    "    'betweenness_centrality': betweenness_centrality,\n",
    "    'betw_centr_1hop_mean': betw_centr_1hop_mean,\n",
    "    'betw_centr_2hop_mean': betw_centr_2hop_mean,\n",
    "})\n",
    "\n",
    "pspace_features.head(2)"
   ]
  },
  {
   "cell_type": "code",
   "execution_count": 111,
   "metadata": {},
   "outputs": [
    {
     "data": {
      "image/png": "[encoded data removed]",
      "text/plain": [
       "<Figure size 720x720 with 9 Axes>"
      ]
     },
     "metadata": {
      "needs_background": "light"
     },
     "output_type": "display_data"
    }
   ],
   "source": [
    "pspace_features.hist(figsize=(10, 10));"
   ]
  },
  {
   "cell_type": "code",
   "execution_count": 109,
   "metadata": {},
   "outputs": [
    {
     "data": {
      "text/plain": [
       "<AxesSubplot:>"
      ]
     },
     "execution_count": 109,
     "metadata": {},
     "output_type": "execute_result"
    },
    {
     "data": {
      "image/png": "[encoded data removed]",
      "text/plain": [
       "<Figure size 432x288 with 2 Axes>"
      ]
     },
     "metadata": {
      "needs_background": "light"
     },
     "output_type": "display_data"
    }
   ],
   "source": [
    "sns.heatmap(pspace_features.corr(method='spearman'), square=True)"
   ]
  },
  {
   "cell_type": "code",
   "execution_count": 101,
   "metadata": {},
   "outputs": [
    {
     "data": {
      "text/plain": [
       "{'id': 0,\n",
       " 'degree': 0.017978921264724116,\n",
       " 'degree_1hop_mean': 0.00884855999549118,\n",
       " 'degree_2hop_mean': 0.0091692498450093,\n",
       " 'clustering': 0.12727272727272726,\n",
       " 'clustering_1hop_mean': 0.2963570026811133,\n",
       " 'clustering_2hop_mean': 0.16404714334139558,\n",
       " 'betweenness_centrality': 0.008443072306538173,\n",
       " 'betw_centr_1hop_mean': 0.004128623939201584,\n",
       " 'betw_centr_2hop_mean': 0.019366442636300104}"
      ]
     },
     "execution_count": 101,
     "metadata": {},
     "output_type": "execute_result"
    }
   ],
   "source": [
    "pspace_features_json = []\n",
    "\n",
    "for i, row in pspace_features.sort_index().iterrows():\n",
    "    item = {'id': i}\n",
    "    item.update(row.to_dict())\n",
    "    pspace_features_json.append(item)\n",
    "    \n",
    "pspace_features_json[0]"
   ]
  },
  {
   "cell_type": "code",
   "execution_count": 102,
   "metadata": {},
   "outputs": [],
   "source": [
    "save_json(pspace_features_json, pspace_features_fpath)"
   ]
  },
  {
   "cell_type": "code",
   "execution_count": null,
   "metadata": {},
   "outputs": [],
   "source": []
  },
  {
   "cell_type": "code",
   "execution_count": null,
   "metadata": {},
   "outputs": [],
   "source": []
  },
  {
   "cell_type": "code",
   "execution_count": null,
   "metadata": {},
   "outputs": [],
   "source": []
  },
  {
   "cell_type": "code",
   "execution_count": null,
   "metadata": {},
   "outputs": [],
   "source": []
  },
  {
   "cell_type": "code",
   "execution_count": null,
   "metadata": {},
   "outputs": [],
   "source": []
  }
 ],
 "metadata": {
  "kernelspec": {
   "display_name": "Python 3",
   "language": "python",
   "name": "python3"
  },
  "language_info": {
   "codemirror_mode": {
    "name": "ipython",
    "version": 3
   },
   "file_extension": ".py",
   "mimetype": "text/x-python",
   "name": "python",
   "nbconvert_exporter": "python",
   "pygments_lexer": "ipython3",
   "version": "3.8.5"
  }
 },
 "nbformat": 4,
 "nbformat_minor": 4
}
