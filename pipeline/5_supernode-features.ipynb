{
 "cells": [
  {
   "cell_type": "markdown",
   "metadata": {},
   "source": [
    "# supernode-features\n",
    "\n",
    "The procedure of constructing supernode features of various kinds.\n",
    "\n",
    "__Warning!__ Some procedures require 16 cores and up to 5 GB RAM.\n",
    "\n",
    "Requires:\n",
    "1. `data/supernodes/supernode_attributes.json`\n",
    "2. `data/supernodes/edges_pspace.json`\n",
    "3. `data/supernodes/supernodes.json`\n",
    "\n",
    "Produces:\n",
    "1. `data/features/infrastructure_features.json`\n",
    "2. `data/features/graph_features.json`"
   ]
  },
  {
   "cell_type": "code",
   "execution_count": 1,
   "metadata": {},
   "outputs": [],
   "source": [
    "import sys\n",
    "sys.path.append('..')"
   ]
  },
  {
   "cell_type": "code",
   "execution_count": 2,
   "metadata": {},
   "outputs": [],
   "source": [
    "from itertools import chain, product\n",
    "from multiprocessing import Pool\n",
    "\n",
    "import networkx as nx\n",
    "import numpy as np\n",
    "import pandas as pd\n",
    "import seaborn as sns\n",
    "from tqdm import tqdm\n",
    "from matplotlib import pyplot as plt\n",
    "\n",
    "from myutils.spatial import get_earth_distances\n",
    "from myutils.stats import corrcoef\n",
    "from myutils.json import save_json, load_json\n",
    "from myutils.matplotlib import matplotlib_latex, matplotlib_seaborn_style\n",
    "\n",
    "from ptn.parallel_centralities import betweenness_centrality_parallel, \\\n",
    "    shortest_path_lengths_parallel, closeness_centrality_parallel\n",
    "from config import supernode_attributes_fpath, edges_pspace_fpath, supernodes_fpath, \\\n",
    "    infrastructure_features_fpath, graph_features_fpath\n",
    "\n",
    "matplotlib_seaborn_style()\n",
    "matplotlib_latex()"
   ]
  },
  {
   "cell_type": "code",
   "execution_count": 3,
   "metadata": {},
   "outputs": [
    {
     "data": {
      "text/html": [
       "<div>\n",
       "<style scoped>\n",
       "    .dataframe tbody tr th:only-of-type {\n",
       "        vertical-align: middle;\n",
       "    }\n",
       "\n",
       "    .dataframe tbody tr th {\n",
       "        vertical-align: top;\n",
       "    }\n",
       "\n",
       "    .dataframe thead th {\n",
       "        text-align: right;\n",
       "    }\n",
       "</style>\n",
       "<table border=\"1\" class=\"dataframe\">\n",
       "  <thead>\n",
       "    <tr style=\"text-align: right;\">\n",
       "      <th></th>\n",
       "      <th>Housing</th>\n",
       "      <th>Shopping</th>\n",
       "      <th>Restaurant</th>\n",
       "      <th>Services</th>\n",
       "      <th>Medicine</th>\n",
       "      <th>Education</th>\n",
       "      <th>Tourism</th>\n",
       "      <th>Fitness centre</th>\n",
       "      <th>Car service</th>\n",
       "      <th>Office building</th>\n",
       "      <th>Administrative</th>\n",
       "      <th>Grocery store</th>\n",
       "      <th>Hotel</th>\n",
       "      <th>Industrial area</th>\n",
       "      <th>Banking</th>\n",
       "      <th>Book shop</th>\n",
       "      <th>Post office</th>\n",
       "      <th>Religion</th>\n",
       "      <th>Shopping centre</th>\n",
       "      <th>Theatre</th>\n",
       "    </tr>\n",
       "    <tr>\n",
       "      <th>id</th>\n",
       "      <th></th>\n",
       "      <th></th>\n",
       "      <th></th>\n",
       "      <th></th>\n",
       "      <th></th>\n",
       "      <th></th>\n",
       "      <th></th>\n",
       "      <th></th>\n",
       "      <th></th>\n",
       "      <th></th>\n",
       "      <th></th>\n",
       "      <th></th>\n",
       "      <th></th>\n",
       "      <th></th>\n",
       "      <th></th>\n",
       "      <th></th>\n",
       "      <th></th>\n",
       "      <th></th>\n",
       "      <th></th>\n",
       "      <th></th>\n",
       "    </tr>\n",
       "  </thead>\n",
       "  <tbody>\n",
       "    <tr>\n",
       "      <th>0</th>\n",
       "      <td>141</td>\n",
       "      <td>149</td>\n",
       "      <td>74</td>\n",
       "      <td>43</td>\n",
       "      <td>46</td>\n",
       "      <td>21</td>\n",
       "      <td>14</td>\n",
       "      <td>33</td>\n",
       "      <td>5</td>\n",
       "      <td>5</td>\n",
       "      <td>8</td>\n",
       "      <td>13</td>\n",
       "      <td>3</td>\n",
       "      <td>2</td>\n",
       "      <td>27</td>\n",
       "      <td>13</td>\n",
       "      <td>4</td>\n",
       "      <td>0</td>\n",
       "      <td>0</td>\n",
       "      <td>0</td>\n",
       "    </tr>\n",
       "    <tr>\n",
       "      <th>1</th>\n",
       "      <td>111</td>\n",
       "      <td>114</td>\n",
       "      <td>108</td>\n",
       "      <td>42</td>\n",
       "      <td>51</td>\n",
       "      <td>33</td>\n",
       "      <td>41</td>\n",
       "      <td>13</td>\n",
       "      <td>6</td>\n",
       "      <td>9</td>\n",
       "      <td>18</td>\n",
       "      <td>6</td>\n",
       "      <td>13</td>\n",
       "      <td>6</td>\n",
       "      <td>7</td>\n",
       "      <td>9</td>\n",
       "      <td>4</td>\n",
       "      <td>7</td>\n",
       "      <td>1</td>\n",
       "      <td>0</td>\n",
       "    </tr>\n",
       "  </tbody>\n",
       "</table>\n",
       "</div>"
      ],
      "text/plain": [
       "    Housing  Shopping  Restaurant  Services  Medicine  Education  Tourism  \\\n",
       "id                                                                          \n",
       "0       141       149          74        43        46         21       14   \n",
       "1       111       114         108        42        51         33       41   \n",
       "\n",
       "    Fitness centre  Car service  Office building  Administrative  \\\n",
       "id                                                                 \n",
       "0               33            5                5               8   \n",
       "1               13            6                9              18   \n",
       "\n",
       "    Grocery store  Hotel  Industrial area  Banking  Book shop  Post office  \\\n",
       "id                                                                           \n",
       "0              13      3                2       27         13            4   \n",
       "1               6     13                6        7          9            4   \n",
       "\n",
       "    Religion  Shopping centre  Theatre  \n",
       "id                                      \n",
       "0          0                0        0  \n",
       "1          7                1        0  "
      ]
     },
     "execution_count": 3,
     "metadata": {},
     "output_type": "execute_result"
    }
   ],
   "source": [
    "supernode_attributes = pd.read_json(supernode_attributes_fpath).set_index('id')\n",
    "\n",
    "supernode_attributes.head(2)"
   ]
  },
  {
   "cell_type": "code",
   "execution_count": 4,
   "metadata": {},
   "outputs": [
    {
     "data": {
      "text/plain": [
       "[{'u': 0, 'v': 6, 'w': 8.349711464586662, 'distance': 23.271852922989886},\n",
       " {'u': 0, 'v': 8, 'w': 5.571580885524599, 'distance': 14.853275410680604},\n",
       " {'u': 0, 'v': 9, 'w': 5.285174979311074, 'distance': 13.985378725185072},\n",
       " {'u': 0, 'v': 13, 'w': 4.273017234500154, 'distance': 10.918234043939858},\n",
       " {'u': 0, 'v': 14, 'w': 4.8279504115066505, 'distance': 12.599849731838335}]"
      ]
     },
     "execution_count": 4,
     "metadata": {},
     "output_type": "execute_result"
    }
   ],
   "source": [
    "edges = load_json(edges_pspace_fpath)\n",
    "\n",
    "edges[:5]"
   ]
  },
  {
   "cell_type": "code",
   "execution_count": 5,
   "metadata": {},
   "outputs": [
    {
     "data": {
      "text/plain": [
       "(3202, 118449)"
      ]
     },
     "execution_count": 5,
     "metadata": {},
     "output_type": "execute_result"
    }
   ],
   "source": [
    "pspace = nx.Graph()\n",
    "\n",
    "for edge in edges:\n",
    "    pspace.add_edge(edge['u'], edge['v'], weight=edge['w'], distance=edge['distance'])\n",
    "\n",
    "len(pspace), len(pspace.edges)"
   ]
  },
  {
   "cell_type": "code",
   "execution_count": 6,
   "metadata": {},
   "outputs": [
    {
     "data": {
      "text/html": [
       "<div>\n",
       "<style scoped>\n",
       "    .dataframe tbody tr th:only-of-type {\n",
       "        vertical-align: middle;\n",
       "    }\n",
       "\n",
       "    .dataframe tbody tr th {\n",
       "        vertical-align: top;\n",
       "    }\n",
       "\n",
       "    .dataframe thead th {\n",
       "        text-align: right;\n",
       "    }\n",
       "</style>\n",
       "<table border=\"1\" class=\"dataframe\">\n",
       "  <thead>\n",
       "    <tr style=\"text-align: right;\">\n",
       "      <th></th>\n",
       "      <th>stops</th>\n",
       "      <th>diameter</th>\n",
       "      <th>types</th>\n",
       "      <th>lat</th>\n",
       "      <th>lon</th>\n",
       "    </tr>\n",
       "    <tr>\n",
       "      <th>id</th>\n",
       "      <th></th>\n",
       "      <th></th>\n",
       "      <th></th>\n",
       "      <th></th>\n",
       "      <th></th>\n",
       "    </tr>\n",
       "  </thead>\n",
       "  <tbody>\n",
       "    <tr>\n",
       "      <th>0</th>\n",
       "      <td>[29058, 15366, 1687, 1688, 15385, 2080, 2081, ...</td>\n",
       "      <td>0.732963</td>\n",
       "      <td>[bus, trolley, tram, subway]</td>\n",
       "      <td>59.85171</td>\n",
       "      <td>30.322415</td>\n",
       "    </tr>\n",
       "    <tr>\n",
       "      <th>1</th>\n",
       "      <td>[18, 18077, 18078, 32036, 16177, 16050, 27063,...</td>\n",
       "      <td>0.909368</td>\n",
       "      <td>[bus, tram, trolley, subway]</td>\n",
       "      <td>59.95021</td>\n",
       "      <td>30.287937</td>\n",
       "    </tr>\n",
       "  </tbody>\n",
       "</table>\n",
       "</div>"
      ],
      "text/plain": [
       "                                                stops  diameter  \\\n",
       "id                                                                \n",
       "0   [29058, 15366, 1687, 1688, 15385, 2080, 2081, ...  0.732963   \n",
       "1   [18, 18077, 18078, 32036, 16177, 16050, 27063,...  0.909368   \n",
       "\n",
       "                           types       lat        lon  \n",
       "id                                                     \n",
       "0   [bus, trolley, tram, subway]  59.85171  30.322415  \n",
       "1   [bus, tram, trolley, subway]  59.95021  30.287937  "
      ]
     },
     "execution_count": 6,
     "metadata": {},
     "output_type": "execute_result"
    }
   ],
   "source": [
    "supernodes = pd.read_json(supernodes_fpath).set_index('id')\n",
    "\n",
    "supernodes.head(2)"
   ]
  },
  {
   "cell_type": "markdown",
   "metadata": {},
   "source": [
    "## Infrastructure features"
   ]
  },
  {
   "cell_type": "code",
   "execution_count": 7,
   "metadata": {},
   "outputs": [],
   "source": [
    "infrastructure_features = supernode_attributes.copy()"
   ]
  },
  {
   "cell_type": "code",
   "execution_count": 8,
   "metadata": {},
   "outputs": [
    {
     "data": {
      "text/html": [
       "<div>\n",
       "<style scoped>\n",
       "    .dataframe tbody tr th:only-of-type {\n",
       "        vertical-align: middle;\n",
       "    }\n",
       "\n",
       "    .dataframe tbody tr th {\n",
       "        vertical-align: top;\n",
       "    }\n",
       "\n",
       "    .dataframe thead th {\n",
       "        text-align: right;\n",
       "    }\n",
       "</style>\n",
       "<table border=\"1\" class=\"dataframe\">\n",
       "  <thead>\n",
       "    <tr style=\"text-align: right;\">\n",
       "      <th></th>\n",
       "      <th>Housing</th>\n",
       "      <th>Shopping</th>\n",
       "      <th>Restaurant</th>\n",
       "      <th>Services</th>\n",
       "      <th>Medicine</th>\n",
       "      <th>Education</th>\n",
       "      <th>Tourism</th>\n",
       "      <th>Fitness centre</th>\n",
       "      <th>Car service</th>\n",
       "      <th>Office building</th>\n",
       "      <th>...</th>\n",
       "      <th>Grocery store</th>\n",
       "      <th>Hotel</th>\n",
       "      <th>Industrial area</th>\n",
       "      <th>Banking</th>\n",
       "      <th>Book shop</th>\n",
       "      <th>Post office</th>\n",
       "      <th>Religion</th>\n",
       "      <th>Shopping centre</th>\n",
       "      <th>Theatre</th>\n",
       "      <th>total</th>\n",
       "    </tr>\n",
       "    <tr>\n",
       "      <th>id</th>\n",
       "      <th></th>\n",
       "      <th></th>\n",
       "      <th></th>\n",
       "      <th></th>\n",
       "      <th></th>\n",
       "      <th></th>\n",
       "      <th></th>\n",
       "      <th></th>\n",
       "      <th></th>\n",
       "      <th></th>\n",
       "      <th></th>\n",
       "      <th></th>\n",
       "      <th></th>\n",
       "      <th></th>\n",
       "      <th></th>\n",
       "      <th></th>\n",
       "      <th></th>\n",
       "      <th></th>\n",
       "      <th></th>\n",
       "      <th></th>\n",
       "      <th></th>\n",
       "    </tr>\n",
       "  </thead>\n",
       "  <tbody>\n",
       "    <tr>\n",
       "      <th>0</th>\n",
       "      <td>0.234609</td>\n",
       "      <td>0.247920</td>\n",
       "      <td>0.123128</td>\n",
       "      <td>0.071547</td>\n",
       "      <td>0.076539</td>\n",
       "      <td>0.034942</td>\n",
       "      <td>0.023295</td>\n",
       "      <td>0.054908</td>\n",
       "      <td>0.008319</td>\n",
       "      <td>0.008319</td>\n",
       "      <td>...</td>\n",
       "      <td>0.021631</td>\n",
       "      <td>0.004992</td>\n",
       "      <td>0.003328</td>\n",
       "      <td>0.044925</td>\n",
       "      <td>0.021631</td>\n",
       "      <td>0.006656</td>\n",
       "      <td>0.000000</td>\n",
       "      <td>0.000000</td>\n",
       "      <td>0.0</td>\n",
       "      <td>601</td>\n",
       "    </tr>\n",
       "    <tr>\n",
       "      <th>1</th>\n",
       "      <td>0.185309</td>\n",
       "      <td>0.190317</td>\n",
       "      <td>0.180301</td>\n",
       "      <td>0.070117</td>\n",
       "      <td>0.085142</td>\n",
       "      <td>0.055092</td>\n",
       "      <td>0.068447</td>\n",
       "      <td>0.021703</td>\n",
       "      <td>0.010017</td>\n",
       "      <td>0.015025</td>\n",
       "      <td>...</td>\n",
       "      <td>0.010017</td>\n",
       "      <td>0.021703</td>\n",
       "      <td>0.010017</td>\n",
       "      <td>0.011686</td>\n",
       "      <td>0.015025</td>\n",
       "      <td>0.006678</td>\n",
       "      <td>0.011686</td>\n",
       "      <td>0.001669</td>\n",
       "      <td>0.0</td>\n",
       "      <td>599</td>\n",
       "    </tr>\n",
       "  </tbody>\n",
       "</table>\n",
       "<p>2 rows × 21 columns</p>\n",
       "</div>"
      ],
      "text/plain": [
       "     Housing  Shopping  Restaurant  Services  Medicine  Education   Tourism  \\\n",
       "id                                                                            \n",
       "0   0.234609  0.247920    0.123128  0.071547  0.076539   0.034942  0.023295   \n",
       "1   0.185309  0.190317    0.180301  0.070117  0.085142   0.055092  0.068447   \n",
       "\n",
       "    Fitness centre  Car service  Office building  ...  Grocery store  \\\n",
       "id                                                ...                  \n",
       "0         0.054908     0.008319         0.008319  ...       0.021631   \n",
       "1         0.021703     0.010017         0.015025  ...       0.010017   \n",
       "\n",
       "       Hotel  Industrial area   Banking  Book shop  Post office  Religion  \\\n",
       "id                                                                          \n",
       "0   0.004992         0.003328  0.044925   0.021631     0.006656  0.000000   \n",
       "1   0.021703         0.010017  0.011686   0.015025     0.006678  0.011686   \n",
       "\n",
       "    Shopping centre  Theatre  total  \n",
       "id                                   \n",
       "0          0.000000      0.0    601  \n",
       "1          0.001669      0.0    599  \n",
       "\n",
       "[2 rows x 21 columns]"
      ]
     },
     "execution_count": 8,
     "metadata": {},
     "output_type": "execute_result"
    }
   ],
   "source": [
    "total = infrastructure_features.sum(axis=1)\n",
    "\n",
    "mask = (total > 0)\n",
    "infrastructure_features[mask] = infrastructure_features[mask].divide(total[mask], axis=0)\n",
    "infrastructure_features['total'] = total\n",
    "\n",
    "infrastructure_features.head(2)"
   ]
  },
  {
   "cell_type": "code",
   "execution_count": 9,
   "metadata": {},
   "outputs": [
    {
     "data": {
      "text/plain": [
       "True"
      ]
     },
     "execution_count": 9,
     "metadata": {},
     "output_type": "execute_result"
    }
   ],
   "source": [
    "infrastructure_features.notna().all().all()"
   ]
  },
  {
   "cell_type": "code",
   "execution_count": 10,
   "metadata": {},
   "outputs": [],
   "source": [
    "infrastructure_features_json = []\n",
    "\n",
    "for _, row in infrastructure_features.reset_index().iterrows():\n",
    "    row = row.to_dict()\n",
    "    row['id'] = int(row['id'])\n",
    "    infrastructure_features_json.append(row)"
   ]
  },
  {
   "cell_type": "code",
   "execution_count": 11,
   "metadata": {},
   "outputs": [],
   "source": [
    "save_json(infrastructure_features_json, infrastructure_features_fpath)"
   ]
  },
  {
   "cell_type": "code",
   "execution_count": 12,
   "metadata": {},
   "outputs": [
    {
     "data": {
      "text/html": [
       "<div>\n",
       "<style scoped>\n",
       "    .dataframe tbody tr th:only-of-type {\n",
       "        vertical-align: middle;\n",
       "    }\n",
       "\n",
       "    .dataframe tbody tr th {\n",
       "        vertical-align: top;\n",
       "    }\n",
       "\n",
       "    .dataframe thead th {\n",
       "        text-align: right;\n",
       "    }\n",
       "</style>\n",
       "<table border=\"1\" class=\"dataframe\">\n",
       "  <thead>\n",
       "    <tr style=\"text-align: right;\">\n",
       "      <th></th>\n",
       "      <th>Housing</th>\n",
       "      <th>Shopping</th>\n",
       "      <th>Restaurant</th>\n",
       "      <th>Services</th>\n",
       "      <th>Medicine</th>\n",
       "      <th>Education</th>\n",
       "      <th>Tourism</th>\n",
       "      <th>Fitness centre</th>\n",
       "      <th>Car service</th>\n",
       "      <th>Office building</th>\n",
       "      <th>...</th>\n",
       "      <th>Grocery store</th>\n",
       "      <th>Hotel</th>\n",
       "      <th>Industrial area</th>\n",
       "      <th>Banking</th>\n",
       "      <th>Book shop</th>\n",
       "      <th>Post office</th>\n",
       "      <th>Religion</th>\n",
       "      <th>Shopping centre</th>\n",
       "      <th>Theatre</th>\n",
       "      <th>total</th>\n",
       "    </tr>\n",
       "    <tr>\n",
       "      <th>id</th>\n",
       "      <th></th>\n",
       "      <th></th>\n",
       "      <th></th>\n",
       "      <th></th>\n",
       "      <th></th>\n",
       "      <th></th>\n",
       "      <th></th>\n",
       "      <th></th>\n",
       "      <th></th>\n",
       "      <th></th>\n",
       "      <th></th>\n",
       "      <th></th>\n",
       "      <th></th>\n",
       "      <th></th>\n",
       "      <th></th>\n",
       "      <th></th>\n",
       "      <th></th>\n",
       "      <th></th>\n",
       "      <th></th>\n",
       "      <th></th>\n",
       "      <th></th>\n",
       "    </tr>\n",
       "  </thead>\n",
       "  <tbody>\n",
       "    <tr>\n",
       "      <th>0</th>\n",
       "      <td>0.234609</td>\n",
       "      <td>0.247920</td>\n",
       "      <td>0.123128</td>\n",
       "      <td>0.071547</td>\n",
       "      <td>0.076539</td>\n",
       "      <td>0.034942</td>\n",
       "      <td>0.023295</td>\n",
       "      <td>0.054908</td>\n",
       "      <td>0.008319</td>\n",
       "      <td>0.008319</td>\n",
       "      <td>...</td>\n",
       "      <td>0.021631</td>\n",
       "      <td>0.004992</td>\n",
       "      <td>0.003328</td>\n",
       "      <td>0.044925</td>\n",
       "      <td>0.021631</td>\n",
       "      <td>0.006656</td>\n",
       "      <td>0.000000</td>\n",
       "      <td>0.000000</td>\n",
       "      <td>0.0</td>\n",
       "      <td>601</td>\n",
       "    </tr>\n",
       "    <tr>\n",
       "      <th>1</th>\n",
       "      <td>0.185309</td>\n",
       "      <td>0.190317</td>\n",
       "      <td>0.180301</td>\n",
       "      <td>0.070117</td>\n",
       "      <td>0.085142</td>\n",
       "      <td>0.055092</td>\n",
       "      <td>0.068447</td>\n",
       "      <td>0.021703</td>\n",
       "      <td>0.010017</td>\n",
       "      <td>0.015025</td>\n",
       "      <td>...</td>\n",
       "      <td>0.010017</td>\n",
       "      <td>0.021703</td>\n",
       "      <td>0.010017</td>\n",
       "      <td>0.011686</td>\n",
       "      <td>0.015025</td>\n",
       "      <td>0.006678</td>\n",
       "      <td>0.011686</td>\n",
       "      <td>0.001669</td>\n",
       "      <td>0.0</td>\n",
       "      <td>599</td>\n",
       "    </tr>\n",
       "  </tbody>\n",
       "</table>\n",
       "<p>2 rows × 21 columns</p>\n",
       "</div>"
      ],
      "text/plain": [
       "     Housing  Shopping  Restaurant  Services  Medicine  Education   Tourism  \\\n",
       "id                                                                            \n",
       "0   0.234609  0.247920    0.123128  0.071547  0.076539   0.034942  0.023295   \n",
       "1   0.185309  0.190317    0.180301  0.070117  0.085142   0.055092  0.068447   \n",
       "\n",
       "    Fitness centre  Car service  Office building  ...  Grocery store  \\\n",
       "id                                                ...                  \n",
       "0         0.054908     0.008319         0.008319  ...       0.021631   \n",
       "1         0.021703     0.010017         0.015025  ...       0.010017   \n",
       "\n",
       "       Hotel  Industrial area   Banking  Book shop  Post office  Religion  \\\n",
       "id                                                                          \n",
       "0   0.004992         0.003328  0.044925   0.021631     0.006656  0.000000   \n",
       "1   0.021703         0.010017  0.011686   0.015025     0.006678  0.011686   \n",
       "\n",
       "    Shopping centre  Theatre  total  \n",
       "id                                   \n",
       "0          0.000000      0.0    601  \n",
       "1          0.001669      0.0    599  \n",
       "\n",
       "[2 rows x 21 columns]"
      ]
     },
     "execution_count": 12,
     "metadata": {},
     "output_type": "execute_result"
    }
   ],
   "source": [
    "infrastructure_features = pd.read_json(infrastructure_features_fpath, encoding='utf-8').set_index('id')\n",
    "\n",
    "infrastructure_features.head(2)"
   ]
  },
  {
   "cell_type": "code",
   "execution_count": 13,
   "metadata": {},
   "outputs": [
    {
     "data": {
      "image/png": "[encoded data removed]",
      "text/plain": [
       "<Figure size 1108.8x367.2 with 21 Axes>"
      ]
     },
     "metadata": {},
     "output_type": "display_data"
    }
   ],
   "source": [
    "n_features = infrastructure_features.shape[1]\n",
    "\n",
    "ncols = 7\n",
    "nrows = n_features // ncols + int(n_features % ncols > 0)\n",
    "\n",
    "fig, axes = plt.subplots(nrows=nrows, ncols=ncols)\n",
    "fig.set_size_inches(2.2 * ncols, 1.7 * nrows)\n",
    "fig.subplots_adjust(wspace=0.35, hspace=0.45)\n",
    "axes = axes.flatten()\n",
    "\n",
    "for col, ax in zip(infrastructure_features.columns, axes):\n",
    "    infrastructure_features[col].hist(ax=ax, bins=20)\n",
    "    ax.set_title(col)\n",
    "    \n",
    "for i in range(n_features, len(axes)):\n",
    "    axes[i].axis('off')\n",
    "    \n",
    "plt.savefig('../figures/infrastructure_feature_hists.pdf', transparent=True, bbox_inches='tight')"
   ]
  },
  {
   "cell_type": "code",
   "execution_count": 14,
   "metadata": {},
   "outputs": [
    {
     "data": {
      "image/png": "[encoded data removed]",
      "text/plain": [
       "<Figure size 468x360 with 2 Axes>"
      ]
     },
     "metadata": {},
     "output_type": "display_data"
    }
   ],
   "source": [
    "plt.figure(figsize=(6.5, 5))\n",
    "\n",
    "corr = corrcoef(infrastructure_features, method='spearman').fillna(0)\n",
    "\n",
    "sns.heatmap(corr, vmin=-1, cmap='coolwarm', square=True)\n",
    "\n",
    "plt.savefig('../figures/infrastructure_features_corr.pdf', transparent=True, bbox_inches='tight')"
   ]
  },
  {
   "cell_type": "code",
   "execution_count": 15,
   "metadata": {},
   "outputs": [
    {
     "data": {
      "text/plain": [
       "id\n",
       "0    601\n",
       "1    599\n",
       "Name: total, dtype: int64"
      ]
     },
     "execution_count": 15,
     "metadata": {},
     "output_type": "execute_result"
    }
   ],
   "source": [
    "total = infrastructure_features['total']\n",
    "\n",
    "total.head(2)"
   ]
  },
  {
   "cell_type": "code",
   "execution_count": 16,
   "metadata": {},
   "outputs": [
    {
     "data": {
      "text/plain": [
       "0.0       0\n",
       "0.3      25\n",
       "0.5      48\n",
       "0.8     103\n",
       "1.0    1254\n",
       "Name: total, dtype: int64"
      ]
     },
     "execution_count": 16,
     "metadata": {},
     "output_type": "execute_result"
    }
   ],
   "source": [
    "quantiles = total.quantile([0, 0.3, 0.5, 0.8, 1]).astype(int)\n",
    "quantiles"
   ]
  },
  {
   "cell_type": "code",
   "execution_count": 17,
   "metadata": {},
   "outputs": [
    {
     "data": {
      "text/plain": [
       "id\n",
       "0    4\n",
       "1    4\n",
       "Name: total, dtype: int64"
      ]
     },
     "execution_count": 17,
     "metadata": {},
     "output_type": "execute_result"
    }
   ],
   "source": [
    "def assign_size_cluster(value: float) -> str:\n",
    "    for i, q in enumerate(quantiles):\n",
    "        if value <= q:\n",
    "            return i\n",
    "\n",
    "size_clusters = total.apply(assign_size_cluster)\n",
    "\n",
    "size_clusters.head(2)"
   ]
  },
  {
   "cell_type": "code",
   "execution_count": 18,
   "metadata": {},
   "outputs": [
    {
     "data": {
      "text/plain": [
       "array([[30.3224152 , 59.85170995],\n",
       "       [30.28793738, 59.95020979],\n",
       "       [30.35401882, 59.95671589],\n",
       "       ...,\n",
       "       [30.3595223 , 59.9445053 ],\n",
       "       [30.2344264 , 59.94853172],\n",
       "       [30.21190075, 59.97198015]])"
      ]
     },
     "execution_count": 18,
     "metadata": {},
     "output_type": "execute_result"
    }
   ],
   "source": [
    "coords = supernodes[['lon', 'lat']].values\n",
    "\n",
    "coords"
   ]
  },
  {
   "cell_type": "code",
   "execution_count": 36,
   "metadata": {},
   "outputs": [
    {
     "data": {
      "image/png": "[encoded data removed]",
      "text/plain": [
       "<Figure size 360x360 with 1 Axes>"
      ]
     },
     "metadata": {},
     "output_type": "display_data"
    }
   ],
   "source": [
    "plt.figure(figsize=(5, 5))\n",
    "plt.axis('off')\n",
    "\n",
    "markers = ['.', '2', '+', 'x', '*']\n",
    "\n",
    "for i in sorted(size_clusters.unique()):\n",
    "    mask = (size_clusters == i)\n",
    "    \n",
    "    cluster_size = mask.sum()\n",
    "    cluster_coords = coords[mask]\n",
    "    cluster_marker = markers[i]\n",
    "    \n",
    "    if i == 0:\n",
    "        label = f'$N = {quantiles.iloc[i]}$ ({cluster_size} nodes)'\n",
    "    else:\n",
    "        label = f'${quantiles.iloc[i - 1]} < N \\\\leq {quantiles.iloc[i]}$ ({cluster_size} nodes)'\n",
    "        \n",
    "    plt.scatter(*cluster_coords.T, color=f'C{i}', marker=cluster_marker, s=1, label=label)\n",
    "\n",
    "plt.legend(loc='upper left', bbox_to_anchor=(0.65, 1))\n",
    "# plt.title('Nodes with different number of attached infrastructure objects')\n",
    "\n",
    "plt.savefig('../figures/number_infrastructure_objects.png', dpi=250, transparent=True, bbox_inches='tight')"
   ]
  },
  {
   "cell_type": "code",
   "execution_count": null,
   "metadata": {},
   "outputs": [],
   "source": []
  },
  {
   "cell_type": "markdown",
   "metadata": {},
   "source": [
    "## Graph features"
   ]
  },
  {
   "cell_type": "code",
   "execution_count": 20,
   "metadata": {},
   "outputs": [
    {
     "data": {
      "text/plain": [
       "[8, 9, 3185]"
      ]
     },
     "execution_count": 20,
     "metadata": {},
     "output_type": "execute_result"
    }
   ],
   "source": [
    "connected_components = sorted(nx.connected_components(pspace), key=len)\n",
    "\n",
    "[len(c) for c in connected_components]"
   ]
  },
  {
   "cell_type": "code",
   "execution_count": 21,
   "metadata": {},
   "outputs": [
    {
     "name": "stdout",
     "output_type": "stream",
     "text": [
      "{2916, 2917, 1807, 1808, 2033, 2034, 2035, 2036, 2037, 2038, 3090, 3091, 1809, 1810, 1811, 1812, 1813}\n"
     ]
    }
   ],
   "source": [
    "disconnected_nodes = connected_components[0].union(connected_components[1])\n",
    "\n",
    "print(disconnected_nodes)"
   ]
  },
  {
   "cell_type": "code",
   "execution_count": 22,
   "metadata": {},
   "outputs": [
    {
     "data": {
      "text/plain": [
       "1    3185\n",
       "0      17\n",
       "dtype: int64"
      ]
     },
     "execution_count": 22,
     "metadata": {},
     "output_type": "execute_result"
    }
   ],
   "source": [
    "connected = pd.Series({\n",
    "    node: int(node not in disconnected_nodes)\n",
    "    for node in pspace\n",
    "})\n",
    "\n",
    "connected.value_counts()"
   ]
  },
  {
   "cell_type": "code",
   "execution_count": 23,
   "metadata": {},
   "outputs": [],
   "source": [
    "degree_centrality = pd.Series(nx.degree_centrality(pspace))\n",
    "\n",
    "# degree_centrality.hist(bins=25)"
   ]
  },
  {
   "cell_type": "code",
   "execution_count": 24,
   "metadata": {},
   "outputs": [
    {
     "name": "stdout",
     "output_type": "stream",
     "text": [
      "CPU times: user 1.51 s, sys: 143 ms, total: 1.65 s\n",
      "Wall time: 1min 44s\n"
     ]
    }
   ],
   "source": [
    "%%time\n",
    "\n",
    "betweenness_centrality = pd.Series(betweenness_centrality_parallel(pspace, weight='weight'))\n",
    "\n",
    "# betweenness_centrality.hist(bins=25)"
   ]
  },
  {
   "cell_type": "raw",
   "metadata": {},
   "source": [
    "betweenness_centrality_nx = pd.Series(nx.betweenness_centrality(pspace, weight='weight'))\n",
    "\n",
    "(betweenness_centrality - betweenness_centrality_nx).abs().max()\n",
    "\n",
    "# out: 9.853229343548264e-16"
   ]
  },
  {
   "cell_type": "code",
   "execution_count": 25,
   "metadata": {},
   "outputs": [
    {
     "name": "stdout",
     "output_type": "stream",
     "text": [
      "CPU times: user 6.88 s, sys: 604 ms, total: 7.49 s\n",
      "Wall time: 1min 24s\n"
     ]
    }
   ],
   "source": [
    "%%time\n",
    "\n",
    "shortest_path_lengths = pd.DataFrame(shortest_path_lengths_parallel(pspace, weight='weight'))\n",
    "closeness_centrality_weight = closeness_centrality_parallel(shortest_path_lengths.T)\n",
    "\n",
    "# closeness_centrality_weight.hist(bins=25)"
   ]
  },
  {
   "cell_type": "raw",
   "metadata": {},
   "source": [
    "closeness_centrality_nx = pd.Series(nx.closeness_centrality(pspace, distance='weight'))\n",
    "\n",
    "(closeness_centrality_weight - closeness_centrality_nx).abs().mean()\n",
    "\n",
    "# out: 4.2057935910663724e-17"
   ]
  },
  {
   "cell_type": "code",
   "execution_count": 26,
   "metadata": {},
   "outputs": [
    {
     "name": "stdout",
     "output_type": "stream",
     "text": [
      "CPU times: user 7.06 s, sys: 532 ms, total: 7.59 s\n",
      "Wall time: 1min 7s\n"
     ]
    }
   ],
   "source": [
    "%%time\n",
    "\n",
    "shortest_path_lengths = pd.DataFrame(shortest_path_lengths_parallel(pspace, weight=None))\n",
    "closeness_centrality_hops = closeness_centrality_parallel(shortest_path_lengths.T)\n",
    "\n",
    "# closeness_centrality_hops.hist(bins=25)"
   ]
  },
  {
   "cell_type": "code",
   "execution_count": 27,
   "metadata": {},
   "outputs": [],
   "source": [
    "clustering = pd.Series(nx.clustering(pspace))\n",
    "\n",
    "# clustering.hist(bins=25)"
   ]
  },
  {
   "cell_type": "raw",
   "metadata": {},
   "source": [
    "eigenvector_centrality = pd.Series(nx.eigenvector_centrality(pspace))\n",
    "\n",
    "eigenvector_centrality.hist(bins=25)"
   ]
  },
  {
   "cell_type": "code",
   "execution_count": 28,
   "metadata": {},
   "outputs": [],
   "source": [
    "pagerank = pd.Series(nx.pagerank(pspace, weight=None))\n",
    "\n",
    "# pagerank.hist(bins=25)"
   ]
  },
  {
   "cell_type": "code",
   "execution_count": 29,
   "metadata": {},
   "outputs": [
    {
     "data": {
      "text/html": [
       "<div>\n",
       "<style scoped>\n",
       "    .dataframe tbody tr th:only-of-type {\n",
       "        vertical-align: middle;\n",
       "    }\n",
       "\n",
       "    .dataframe tbody tr th {\n",
       "        vertical-align: top;\n",
       "    }\n",
       "\n",
       "    .dataframe thead th {\n",
       "        text-align: right;\n",
       "    }\n",
       "</style>\n",
       "<table border=\"1\" class=\"dataframe\">\n",
       "  <thead>\n",
       "    <tr style=\"text-align: right;\">\n",
       "      <th></th>\n",
       "      <th>is connected</th>\n",
       "      <th>Betweenness centrality</th>\n",
       "      <th>Closeness centrality (weight)</th>\n",
       "      <th>Closeness centrality (hops)</th>\n",
       "      <th>Degree centrality</th>\n",
       "      <th>PageRank</th>\n",
       "      <th>Clustering</th>\n",
       "    </tr>\n",
       "    <tr>\n",
       "      <th>id</th>\n",
       "      <th></th>\n",
       "      <th></th>\n",
       "      <th></th>\n",
       "      <th></th>\n",
       "      <th></th>\n",
       "      <th></th>\n",
       "      <th></th>\n",
       "    </tr>\n",
       "  </thead>\n",
       "  <tbody>\n",
       "    <tr>\n",
       "      <th>0</th>\n",
       "      <td>1</td>\n",
       "      <td>0.097675</td>\n",
       "      <td>0.113412</td>\n",
       "      <td>0.455434</td>\n",
       "      <td>0.124024</td>\n",
       "      <td>0.001454</td>\n",
       "      <td>0.164644</td>\n",
       "    </tr>\n",
       "    <tr>\n",
       "      <th>1</th>\n",
       "      <td>1</td>\n",
       "      <td>0.012766</td>\n",
       "      <td>0.114061</td>\n",
       "      <td>0.401304</td>\n",
       "      <td>0.078101</td>\n",
       "      <td>0.000826</td>\n",
       "      <td>0.254800</td>\n",
       "    </tr>\n",
       "  </tbody>\n",
       "</table>\n",
       "</div>"
      ],
      "text/plain": [
       "    is connected  Betweenness centrality  Closeness centrality (weight)  \\\n",
       "id                                                                        \n",
       "0              1                0.097675                       0.113412   \n",
       "1              1                0.012766                       0.114061   \n",
       "\n",
       "    Closeness centrality (hops)  Degree centrality  PageRank  Clustering  \n",
       "id                                                                        \n",
       "0                      0.455434           0.124024  0.001454    0.164644  \n",
       "1                      0.401304           0.078101  0.000826    0.254800  "
      ]
     },
     "execution_count": 29,
     "metadata": {},
     "output_type": "execute_result"
    }
   ],
   "source": [
    "graph_features = pd.DataFrame({\n",
    "    'is connected': connected,\n",
    "    'Betweenness centrality': betweenness_centrality,\n",
    "    'Closeness centrality (weight)': closeness_centrality_weight,\n",
    "    'Closeness centrality (hops)': closeness_centrality_hops,\n",
    "    'Degree centrality': degree_centrality,\n",
    "    'PageRank': pagerank,\n",
    "    'Clustering': clustering,\n",
    "    # 'Eigenvector centrality': eigenvector_centrality,\n",
    "})\n",
    "\n",
    "graph_features.index.name = 'id'\n",
    "\n",
    "graph_features.head(2)"
   ]
  },
  {
   "cell_type": "code",
   "execution_count": 30,
   "metadata": {},
   "outputs": [
    {
     "data": {
      "text/plain": [
       "True"
      ]
     },
     "execution_count": 30,
     "metadata": {},
     "output_type": "execute_result"
    }
   ],
   "source": [
    "graph_features.notna().all().all()"
   ]
  },
  {
   "cell_type": "code",
   "execution_count": 31,
   "metadata": {},
   "outputs": [
    {
     "data": {
      "text/plain": [
       "{'id': 0,\n",
       " 'Betweenness centrality': 0.09767493085898474,\n",
       " 'Closeness centrality (hops)': 0.45543432330833483,\n",
       " 'Closeness centrality (weight)': 0.11341202902518127,\n",
       " 'Clustering': 0.1646439203114266,\n",
       " 'Degree centrality': 0.1240237425804436,\n",
       " 'PageRank': 0.0014543681525720465,\n",
       " 'is connected': 1.0}"
      ]
     },
     "execution_count": 31,
     "metadata": {},
     "output_type": "execute_result"
    }
   ],
   "source": [
    "graph_features_json = []\n",
    "\n",
    "for i, row in graph_features[sorted(graph_features.columns)].iterrows():\n",
    "    item = {'id': i}\n",
    "    item.update(row.to_dict())\n",
    "    \n",
    "    graph_features_json.append(item)\n",
    "    \n",
    "graph_features_json[0]"
   ]
  },
  {
   "cell_type": "code",
   "execution_count": 32,
   "metadata": {},
   "outputs": [],
   "source": [
    "save_json(graph_features_json, graph_features_fpath)"
   ]
  },
  {
   "cell_type": "code",
   "execution_count": 33,
   "metadata": {},
   "outputs": [
    {
     "data": {
      "text/html": [
       "<div>\n",
       "<style scoped>\n",
       "    .dataframe tbody tr th:only-of-type {\n",
       "        vertical-align: middle;\n",
       "    }\n",
       "\n",
       "    .dataframe tbody tr th {\n",
       "        vertical-align: top;\n",
       "    }\n",
       "\n",
       "    .dataframe thead th {\n",
       "        text-align: right;\n",
       "    }\n",
       "</style>\n",
       "<table border=\"1\" class=\"dataframe\">\n",
       "  <thead>\n",
       "    <tr style=\"text-align: right;\">\n",
       "      <th></th>\n",
       "      <th>Betweenness centrality</th>\n",
       "      <th>Closeness centrality (hops)</th>\n",
       "      <th>Closeness centrality (weight)</th>\n",
       "      <th>Clustering</th>\n",
       "      <th>Degree centrality</th>\n",
       "      <th>PageRank</th>\n",
       "      <th>is connected</th>\n",
       "    </tr>\n",
       "    <tr>\n",
       "      <th>id</th>\n",
       "      <th></th>\n",
       "      <th></th>\n",
       "      <th></th>\n",
       "      <th></th>\n",
       "      <th></th>\n",
       "      <th></th>\n",
       "      <th></th>\n",
       "    </tr>\n",
       "  </thead>\n",
       "  <tbody>\n",
       "    <tr>\n",
       "      <th>0</th>\n",
       "      <td>0.097675</td>\n",
       "      <td>0.455434</td>\n",
       "      <td>0.113412</td>\n",
       "      <td>0.164644</td>\n",
       "      <td>0.124024</td>\n",
       "      <td>0.001454</td>\n",
       "      <td>1</td>\n",
       "    </tr>\n",
       "    <tr>\n",
       "      <th>1</th>\n",
       "      <td>0.012766</td>\n",
       "      <td>0.401304</td>\n",
       "      <td>0.114061</td>\n",
       "      <td>0.254800</td>\n",
       "      <td>0.078101</td>\n",
       "      <td>0.000826</td>\n",
       "      <td>1</td>\n",
       "    </tr>\n",
       "  </tbody>\n",
       "</table>\n",
       "</div>"
      ],
      "text/plain": [
       "    Betweenness centrality  Closeness centrality (hops)  \\\n",
       "id                                                        \n",
       "0                 0.097675                     0.455434   \n",
       "1                 0.012766                     0.401304   \n",
       "\n",
       "    Closeness centrality (weight)  Clustering  Degree centrality  PageRank  \\\n",
       "id                                                                           \n",
       "0                        0.113412    0.164644           0.124024  0.001454   \n",
       "1                        0.114061    0.254800           0.078101  0.000826   \n",
       "\n",
       "    is connected  \n",
       "id                \n",
       "0              1  \n",
       "1              1  "
      ]
     },
     "execution_count": 33,
     "metadata": {},
     "output_type": "execute_result"
    }
   ],
   "source": [
    "graph_features = pd.read_json(graph_features_fpath, encoding='utf-8').set_index('id')\n",
    "\n",
    "graph_features.head(2)"
   ]
  },
  {
   "cell_type": "raw",
   "metadata": {},
   "source": [
    "distances = get_earth_distances(coords, coords)\n",
    "\n",
    "idx = np.arange(distances.shape[0])\n",
    "distances[idx, idx] = np.infty\n",
    "\n",
    "distances = pd.DataFrame(distances, index=supernodes.index, columns=supernodes.index)\n",
    "\n",
    "distances.head(2)"
   ]
  },
  {
   "cell_type": "raw",
   "metadata": {},
   "source": [
    "for col in list(graph_features.columns):\n",
    "    if col == 'connected':\n",
    "        continue\n",
    "    \n",
    "    values = graph_features[col]\n",
    "    \n",
    "    neighbour_mean = {}\n",
    "    area_mean = {}\n",
    "    \n",
    "    for node in pspace:\n",
    "        neighbours = set(pspace.neighbors(node))\n",
    "                \n",
    "        mean = values[neighbours].mean()\n",
    "        neighbour_mean[node] = mean\n",
    "        \n",
    "        area_mask = distances[node] < 0.5\n",
    "        area = set(distances.loc[area_mask, node].index.tolist())\n",
    "        \n",
    "        mean = values[area].mean()\n",
    "        area_mean[node] = mean\n",
    "    \n",
    "    neighbour_mean = pd.Series(neighbour_mean)    \n",
    "    neighbour_mean.index.name = 'id'\n",
    "    \n",
    "    graph_features[col + '_neighbour_mean'] = neighbour_mean\n",
    "    \n",
    "    area_mean = pd.Series(area_mean)\n",
    "    area_mean.index.name = 'id'\n",
    "    \n",
    "    # graph_features[col + '_area_mean'] = area_mean\n",
    "\n",
    "graph_features.notna().all().all()"
   ]
  },
  {
   "cell_type": "raw",
   "metadata": {},
   "source": [
    "graph_features.isna().sum()"
   ]
  },
  {
   "cell_type": "code",
   "execution_count": 34,
   "metadata": {},
   "outputs": [
    {
     "data": {
      "image/png": "[encoded data removed]",
      "text/plain": [
       "<Figure size 806.4x288 with 8 Axes>"
      ]
     },
     "metadata": {},
     "output_type": "display_data"
    }
   ],
   "source": [
    "n_features = graph_features.shape[1]\n",
    "\n",
    "ncols = 4\n",
    "nrows = n_features // ncols + int(n_features % ncols > 0)\n",
    "\n",
    "fig, axes = plt.subplots(nrows=nrows, ncols=ncols)\n",
    "fig.set_size_inches(2.8 * ncols, 2 * nrows)\n",
    "fig.subplots_adjust(wspace=0.35, hspace=0.45)\n",
    "axes = axes.flatten()\n",
    "\n",
    "for col, ax in zip(graph_features.columns, axes):\n",
    "    graph_features[col].hist(ax=ax, bins=20)\n",
    "    ax.set_title(col)\n",
    "    \n",
    "for i in range(n_features, len(axes)):\n",
    "    axes[i].axis('off')\n",
    "    \n",
    "plt.savefig('../figures/graph_feature_hists.pdf', transparent=True, bbox_inches='tight')"
   ]
  },
  {
   "cell_type": "code",
   "execution_count": 35,
   "metadata": {},
   "outputs": [
    {
     "data": {
      "image/png": "[encoded data removed]",
      "text/plain": [
       "<Figure size 288x216 with 2 Axes>"
      ]
     },
     "metadata": {},
     "output_type": "display_data"
    }
   ],
   "source": [
    "plt.figure(figsize=(4, 3))\n",
    "\n",
    "corr = corrcoef(graph_features, method='spearman').fillna(0)\n",
    "\n",
    "sns.heatmap(corr, square=True, vmin=-1, cmap='coolwarm')\n",
    "\n",
    "plt.savefig('../figures/graph_features_corr.pdf', transparent=True, bbox_inches='tight')"
   ]
  },
  {
   "cell_type": "code",
   "execution_count": 22,
   "metadata": {},
   "outputs": [],
   "source": [
    "infrastructure_features = pd.read_json(infrastructure_features_fpath, encoding='utf-8').set_index('id')\n",
    "graph_features = pd.read_json(graph_features_fpath, encoding='utf-8').set_index('id')"
   ]
  },
  {
   "cell_type": "code",
   "execution_count": 23,
   "metadata": {},
   "outputs": [
    {
     "data": {
      "text/html": [
       "<div>\n",
       "<style scoped>\n",
       "    .dataframe tbody tr th:only-of-type {\n",
       "        vertical-align: middle;\n",
       "    }\n",
       "\n",
       "    .dataframe tbody tr th {\n",
       "        vertical-align: top;\n",
       "    }\n",
       "\n",
       "    .dataframe thead th {\n",
       "        text-align: right;\n",
       "    }\n",
       "</style>\n",
       "<table border=\"1\" class=\"dataframe\">\n",
       "  <thead>\n",
       "    <tr style=\"text-align: right;\">\n",
       "      <th></th>\n",
       "      <th>Housing</th>\n",
       "      <th>Shopping</th>\n",
       "      <th>Restaurant</th>\n",
       "      <th>Services</th>\n",
       "      <th>Medicine</th>\n",
       "      <th>Education</th>\n",
       "      <th>Tourism</th>\n",
       "      <th>Fitness centre</th>\n",
       "      <th>Car service</th>\n",
       "      <th>Office building</th>\n",
       "      <th>...</th>\n",
       "      <th>Post office</th>\n",
       "      <th>Religion</th>\n",
       "      <th>Shopping centre</th>\n",
       "      <th>Theatre</th>\n",
       "      <th>Betweenness centrality</th>\n",
       "      <th>Closeness centrality (hops)</th>\n",
       "      <th>Closeness centrality (weight)</th>\n",
       "      <th>Clustering</th>\n",
       "      <th>Degree centrality</th>\n",
       "      <th>PageRank</th>\n",
       "    </tr>\n",
       "    <tr>\n",
       "      <th>id</th>\n",
       "      <th></th>\n",
       "      <th></th>\n",
       "      <th></th>\n",
       "      <th></th>\n",
       "      <th></th>\n",
       "      <th></th>\n",
       "      <th></th>\n",
       "      <th></th>\n",
       "      <th></th>\n",
       "      <th></th>\n",
       "      <th></th>\n",
       "      <th></th>\n",
       "      <th></th>\n",
       "      <th></th>\n",
       "      <th></th>\n",
       "      <th></th>\n",
       "      <th></th>\n",
       "      <th></th>\n",
       "      <th></th>\n",
       "      <th></th>\n",
       "      <th></th>\n",
       "    </tr>\n",
       "  </thead>\n",
       "  <tbody>\n",
       "    <tr>\n",
       "      <th>0</th>\n",
       "      <td>0.234609</td>\n",
       "      <td>0.247920</td>\n",
       "      <td>0.123128</td>\n",
       "      <td>0.071547</td>\n",
       "      <td>0.076539</td>\n",
       "      <td>0.034942</td>\n",
       "      <td>0.023295</td>\n",
       "      <td>0.054908</td>\n",
       "      <td>0.008319</td>\n",
       "      <td>0.008319</td>\n",
       "      <td>...</td>\n",
       "      <td>0.006656</td>\n",
       "      <td>0.000000</td>\n",
       "      <td>0.000000</td>\n",
       "      <td>0.0</td>\n",
       "      <td>0.097675</td>\n",
       "      <td>0.455434</td>\n",
       "      <td>0.113412</td>\n",
       "      <td>0.164644</td>\n",
       "      <td>0.124024</td>\n",
       "      <td>0.001454</td>\n",
       "    </tr>\n",
       "    <tr>\n",
       "      <th>1</th>\n",
       "      <td>0.185309</td>\n",
       "      <td>0.190317</td>\n",
       "      <td>0.180301</td>\n",
       "      <td>0.070117</td>\n",
       "      <td>0.085142</td>\n",
       "      <td>0.055092</td>\n",
       "      <td>0.068447</td>\n",
       "      <td>0.021703</td>\n",
       "      <td>0.010017</td>\n",
       "      <td>0.015025</td>\n",
       "      <td>...</td>\n",
       "      <td>0.006678</td>\n",
       "      <td>0.011686</td>\n",
       "      <td>0.001669</td>\n",
       "      <td>0.0</td>\n",
       "      <td>0.012766</td>\n",
       "      <td>0.401304</td>\n",
       "      <td>0.114061</td>\n",
       "      <td>0.254800</td>\n",
       "      <td>0.078101</td>\n",
       "      <td>0.000826</td>\n",
       "    </tr>\n",
       "  </tbody>\n",
       "</table>\n",
       "<p>2 rows × 26 columns</p>\n",
       "</div>"
      ],
      "text/plain": [
       "     Housing  Shopping  Restaurant  Services  Medicine  Education   Tourism  \\\n",
       "id                                                                            \n",
       "0   0.234609  0.247920    0.123128  0.071547  0.076539   0.034942  0.023295   \n",
       "1   0.185309  0.190317    0.180301  0.070117  0.085142   0.055092  0.068447   \n",
       "\n",
       "    Fitness centre  Car service  Office building  ...  Post office  Religion  \\\n",
       "id                                                ...                          \n",
       "0         0.054908     0.008319         0.008319  ...     0.006656  0.000000   \n",
       "1         0.021703     0.010017         0.015025  ...     0.006678  0.011686   \n",
       "\n",
       "    Shopping centre  Theatre  Betweenness centrality  \\\n",
       "id                                                     \n",
       "0          0.000000      0.0                0.097675   \n",
       "1          0.001669      0.0                0.012766   \n",
       "\n",
       "    Closeness centrality (hops)  Closeness centrality (weight)  Clustering  \\\n",
       "id                                                                           \n",
       "0                      0.455434                       0.113412    0.164644   \n",
       "1                      0.401304                       0.114061    0.254800   \n",
       "\n",
       "    Degree centrality  PageRank  \n",
       "id                               \n",
       "0            0.124024  0.001454  \n",
       "1            0.078101  0.000826  \n",
       "\n",
       "[2 rows x 26 columns]"
      ]
     },
     "execution_count": 23,
     "metadata": {},
     "output_type": "execute_result"
    }
   ],
   "source": [
    "all_features = pd.concat([infrastructure_features, graph_features], axis=1)\\\n",
    "    .drop(columns=['is connected', 'total'])\n",
    "\n",
    "all_features.head(2)"
   ]
  },
  {
   "cell_type": "code",
   "execution_count": 37,
   "metadata": {},
   "outputs": [
    {
     "data": {
      "image/png": "[encoded data removed]",
      "text/plain": [
       "<Figure size 504x396 with 2 Axes>"
      ]
     },
     "metadata": {},
     "output_type": "display_data"
    }
   ],
   "source": [
    "corr = corrcoef(all_features, method='spearman').fillna(0)\n",
    "\n",
    "plt.figure(figsize=(7, 5.5))\n",
    "\n",
    "sns.heatmap(corr, square=True, center=0, cmap='coolwarm')\n",
    "\n",
    "plt.savefig('../figures/all_features_corr.pdf', transparent=True, bbox_inches='tight')"
   ]
  },
  {
   "cell_type": "code",
   "execution_count": null,
   "metadata": {},
   "outputs": [],
   "source": []
  }
 ],
 "metadata": {
  "kernelspec": {
   "display_name": "Python 3",
   "language": "python",
   "name": "python3"
  },
  "language_info": {
   "codemirror_mode": {
    "name": "ipython",
    "version": 3
   },
   "file_extension": ".py",
   "mimetype": "text/x-python",
   "name": "python",
   "nbconvert_exporter": "python",
   "pygments_lexer": "ipython3",
   "version": "3.9.5"
  }
 },
 "nbformat": 4,
 "nbformat_minor": 4
}
